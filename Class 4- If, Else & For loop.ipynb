{
 "cells": [
  {
   "cell_type": "code",
   "execution_count": 1,
   "id": "aea62faf",
   "metadata": {},
   "outputs": [],
   "source": [
    "a = 10"
   ]
  },
  {
   "cell_type": "code",
   "execution_count": 2,
   "id": "044ff179",
   "metadata": {},
   "outputs": [
    {
     "name": "stdout",
     "output_type": "stream",
     "text": [
      "a is less then 15\n"
     ]
    }
   ],
   "source": [
    "if a < 15:\n",
    "    print('a is less then 15')\n",
    "# You can use code pass to just skip the loop"
   ]
  },
  {
   "cell_type": "code",
   "execution_count": 3,
   "id": "cf0dce68",
   "metadata": {},
   "outputs": [
    {
     "data": {
      "text/plain": [
       "True"
      ]
     },
     "execution_count": 3,
     "metadata": {},
     "output_type": "execute_result"
    }
   ],
   "source": [
    "a < 15"
   ]
  },
  {
   "cell_type": "code",
   "execution_count": 4,
   "id": "5379aa7d",
   "metadata": {},
   "outputs": [],
   "source": [
    "if a< 15:\n",
    "    pass"
   ]
  },
  {
   "cell_type": "code",
   "execution_count": 5,
   "id": "b7802830",
   "metadata": {},
   "outputs": [],
   "source": [
    "if 25 < 15:\n",
    "    print('a is less then 15')\n",
    "# the statment is False"
   ]
  },
  {
   "cell_type": "code",
   "execution_count": 6,
   "id": "56b5a88e",
   "metadata": {},
   "outputs": [],
   "source": [
    "# If statment is a block which exicutes the code.\n",
    "# If 3 if statments then 3 Blocks"
   ]
  },
  {
   "cell_type": "code",
   "execution_count": 7,
   "id": "b06ae162",
   "metadata": {},
   "outputs": [
    {
     "name": "stdout",
     "output_type": "stream",
     "text": [
      "10 is not less then 3\n"
     ]
    }
   ],
   "source": [
    "if 10 < 3:\n",
    "    print('10 is less then 3')\n",
    "else :\n",
    "    print('10 is not less then 3')"
   ]
  },
  {
   "cell_type": "code",
   "execution_count": 21,
   "id": "e82ddb03",
   "metadata": {},
   "outputs": [
    {
     "name": "stdout",
     "output_type": "stream",
     "text": [
      "Enter 1st number\n",
      "10\n",
      "Enter seond number\n",
      "5\n",
      "10  is not smaller then  5\n"
     ]
    }
   ],
   "source": [
    "print(\"Enter 1st number\")\n",
    "i = int(input())\n",
    "print(\"Enter seond number\")\n",
    "j = int(input())\n",
    "if i < j:\n",
    "    print(i,\" is smaller then \",j)\n",
    "else:\n",
    "    print(i,\" is not smaller then \",j)"
   ]
  },
  {
   "cell_type": "code",
   "execution_count": 20,
   "id": "64d723e1",
   "metadata": {},
   "outputs": [
    {
     "data": {
      "text/plain": [
       "str"
      ]
     },
     "execution_count": 20,
     "metadata": {},
     "output_type": "execute_result"
    }
   ],
   "source": [
    "type(i)\n",
    "# input function will always take data a string"
   ]
  },
  {
   "cell_type": "code",
   "execution_count": 22,
   "id": "8f6f2770",
   "metadata": {},
   "outputs": [
    {
     "name": "stdout",
     "output_type": "stream",
     "text": [
      "I won't be able to buy anything\n"
     ]
    }
   ],
   "source": [
    "income = 100\n",
    "if income < 50:\n",
    "    print(\"I will be able to by phone\")\n",
    "elif income < 70:\n",
    "    print(\"I will be ble to by car\")\n",
    "elif income <90:\n",
    "    print(\"I will be able to buy house\")\n",
    "else:\n",
    "    print(\"I won't be able to buy anything\")"
   ]
  },
  {
   "cell_type": "code",
   "execution_count": 27,
   "id": "ae6eab4f",
   "metadata": {},
   "outputs": [
    {
     "name": "stdout",
     "output_type": "stream",
     "text": [
      "5098\n",
      "Discount will be  254.9\n"
     ]
    }
   ],
   "source": [
    "Total_price = int(input())\n",
    "if Total_price > 20000:\n",
    "    discount = Total_price * 0.20\n",
    "    print(\"Discount will be \",discount)\n",
    "elif Total_price <= 7000:\n",
    "    discount = Total_price * 0.05\n",
    "    print('Discount will be ',discount)\n",
    "else:\n",
    "    print(\"There will be no discount\")"
   ]
  },
  {
   "cell_type": "code",
   "execution_count": 4,
   "id": "9707d8ad",
   "metadata": {},
   "outputs": [
    {
     "name": "stdout",
     "output_type": "stream",
     "text": [
      "please enter coupon code if any\n",
      "SUDHANSHU10\n",
      "Congrats! you have availed 10% discount\n",
      "Your tolat amount is  6300.0\n"
     ]
    }
   ],
   "source": [
    "Total_amount = 7000\n",
    "print(\"please enter coupon code if any\")\n",
    "coup = input()\n",
    "if coup == \"SUDHANSHU10\":\n",
    "    print(\"Congrats! you have availed 10% discount\")\n",
    "    paid_amount = Total_amount - Total_amount * 0.1\n",
    "    print(\"Your tolat amount is \",paid_amount)\n",
    "elif coup == '':\n",
    "    print(\"Your tolat amount is \",Total_amount)\n",
    "else:\n",
    "    print(\"Invalid coupon code\")\n",
    "    print(\"Your tolat amount is \",Total_amount)\n",
    "\n",
    "# '=' is used to assign a value to a variable\n",
    "# '==' is used to chech  whether the left side is equal to right"
   ]
  },
  {
   "cell_type": "code",
   "execution_count": 28,
   "id": "287a82f0",
   "metadata": {},
   "outputs": [
    {
     "data": {
      "text/plain": [
       "True"
      ]
     },
     "execution_count": 28,
     "metadata": {},
     "output_type": "execute_result"
    }
   ],
   "source": [
    "\"sudh\" == \"sudh\""
   ]
  },
  {
   "cell_type": "code",
   "execution_count": 30,
   "id": "99352483",
   "metadata": {},
   "outputs": [
    {
     "data": {
      "text/plain": [
       "False"
      ]
     },
     "execution_count": 30,
     "metadata": {},
     "output_type": "execute_result"
    }
   ],
   "source": [
    "'kush' == 'kash'"
   ]
  },
  {
   "cell_type": "code",
   "execution_count": 5,
   "id": "fa118542",
   "metadata": {},
   "outputs": [
    {
     "name": "stdout",
     "output_type": "stream",
     "text": [
      "2\n",
      "It may take 6 months to get a job\n"
     ]
    }
   ],
   "source": [
    "study_hour = int(input())\n",
    "if study_hour < 1:\n",
    "    print(\"It will take more then 8 month to get a job\")\n",
    "elif study_hour < 7 and study_hour > 1:\n",
    "    print('It may take 6 months to get a job')\n",
    "elif study_hour > 10:\n",
    "    print('It will take 3 months for the transition')\n",
    "else:\n",
    "    print(\"Just giveup\")\n",
    "    \n",
    "# there are 3 types of boolen operators n python\n",
    "# and, or & not operators"
   ]
  },
  {
   "cell_type": "code",
   "execution_count": 9,
   "id": "d46fa7dd",
   "metadata": {},
   "outputs": [
    {
     "name": "stdout",
     "output_type": "stream",
     "text": [
      "valid\n",
      "check\n"
     ]
    }
   ],
   "source": [
    "# these statement can be witen in a single line as well\n",
    "a = 9\n",
    "if a == 9: print('valid'), print('check')"
   ]
  },
  {
   "cell_type": "code",
   "execution_count": 3,
   "id": "c41e9e8f",
   "metadata": {},
   "outputs": [
    {
     "name": "stdout",
     "output_type": "stream",
     "text": [
      "Enter a string to start sdnnl\n",
      "invalid input: kindly contact our customer sucess team\n"
     ]
    }
   ],
   "source": [
    "s = input(\"Enter a string to start \")\n",
    "if s == \"oneneuron\":\n",
    "    course = input('Enter a course name ')\n",
    "    if course == \"DSA\":\n",
    "        print(\"Yes it is available in oneneuron with multiplt mode for job prepration\")\n",
    "    elif course == \"Blockchain\":\n",
    "        print(\"This course is not available, kindly raise a demand\")\n",
    "    elif course == \"FSDS\":\n",
    "        print(\"This course is available for purchase\")\n",
    "    else :\n",
    "        print(\"This course is not available, Kindly raise a demand\")\n",
    "elif s == \"oneneuronservice\":\n",
    "    service = input(\"Enter a service name \")\n",
    "    if service == \"courserequest\":\n",
    "        print(\"You can raise a demand related to any course and we will fulfill that in 60 days\")\n",
    "    elif service == \"module\" :\n",
    "        print(\"You can raise a demand related to any course module and we will fulfill that in 60 days\")\n",
    "    elif service == \"doubts\":\n",
    "        print(\"We will fulfill you doubt ession demand in 24 hours\")\n",
    "    elif service == \"workwithus\":\n",
    "        print(\"You can raise a demand to work with us, our HR will get in touch with you in 24 hours\")\n",
    "    else :\n",
    "        print(\"Kindly provide us your feedback\")\n",
    "else :\n",
    "    print(\"invalid input: kindly contact our customer sucess team\")"
   ]
  },
  {
   "cell_type": "code",
   "execution_count": 5,
   "id": "4c4f840d",
   "metadata": {},
   "outputs": [
    {
     "name": "stdout",
     "output_type": "stream",
     "text": [
      "1\n",
      "2\n",
      "3\n",
      "4\n",
      "5\n",
      "6\n",
      "7\n"
     ]
    }
   ],
   "source": [
    "l = [1,2,3,4,5,6,7]\n",
    "for i in l:\n",
    "    print(i)"
   ]
  },
  {
   "cell_type": "code",
   "execution_count": 6,
   "id": "54a5297a",
   "metadata": {},
   "outputs": [
    {
     "name": "stdout",
     "output_type": "stream",
     "text": [
      "o\n",
      "n\n",
      "e\n",
      "n\n",
      "e\n",
      "u\n",
      "r\n",
      "o\n",
      "n\n"
     ]
    }
   ],
   "source": [
    "for i in \"oneneuron\":\n",
    "    print(i)"
   ]
  },
  {
   "cell_type": "code",
   "execution_count": 7,
   "id": "e9e18dee",
   "metadata": {},
   "outputs": [
    {
     "name": "stdout",
     "output_type": "stream",
     "text": [
      "1\n",
      "2\n",
      "33\n",
      "4\n",
      "4\n",
      "5\n",
      "5\n",
      "6\n",
      "6\n",
      "6\n"
     ]
    }
   ],
   "source": [
    "t = (1,2,33,4,4,5,5,6,6,6)\n",
    "for i in t:\n",
    "    print(i)"
   ]
  },
  {
   "cell_type": "code",
   "execution_count": 10,
   "id": "52468ecf",
   "metadata": {},
   "outputs": [
    {
     "name": "stdout",
     "output_type": "stream",
     "text": [
      "type of  1  is  <class 'int'>\n",
      "type of  4  is  <class 'int'>\n",
      "type of  6.6  is  <class 'float'>\n",
      "type of  (8+5j)  is  <class 'complex'>\n",
      "type of  kush  is  <class 'str'>\n"
     ]
    }
   ],
   "source": [
    "l1 = [1, 4, 6.6, 8+5j, \"kush\"]\n",
    "for i in l1:\n",
    "    print(\"type of \",i, \" is \",type(i))"
   ]
  },
  {
   "cell_type": "code",
   "execution_count": 11,
   "id": "145dea4f",
   "metadata": {},
   "outputs": [
    {
     "name": "stdout",
     "output_type": "stream",
     "text": [
      "3\n",
      "6\n",
      "8.6\n",
      "10\n"
     ]
    }
   ],
   "source": [
    "l2 = [1, 4, 6.6, 8]\n",
    "for i in l2 :\n",
    "    print(i+2)"
   ]
  },
  {
   "cell_type": "code",
   "execution_count": 13,
   "id": "2075c154",
   "metadata": {},
   "outputs": [
    {
     "name": "stdout",
     "output_type": "stream",
     "text": [
      "[3, 6, 8.6, 10]\n"
     ]
    }
   ],
   "source": [
    "# To return a list  after the for loop\n",
    "l2 = [1, 4, 6.6, 8]\n",
    "l3 = []\n",
    "for i in l2 :\n",
    "    l3.append(i+2)\n",
    "print(l3)"
   ]
  },
  {
   "cell_type": "code",
   "execution_count": 21,
   "id": "d065fc1c",
   "metadata": {},
   "outputs": [
    {
     "name": "stdout",
     "output_type": "stream",
     "text": [
      "2\n",
      "4.7\n",
      "85\n",
      "20\n",
      "56\n",
      "39\n",
      "90\n",
      "[2, 4.7, 85, 20, 56, 39, 90]\n"
     ]
    }
   ],
   "source": [
    "# to check and print integers from the list\n",
    "l = [2,4.7,85,20, \"kush\" , 5+9j, True, [56,39,90,True]]\n",
    "v = []\n",
    "for i in l:\n",
    "    if type(i) == int or type(i) == float :\n",
    "        print(i)\n",
    "        v.append(i)\n",
    "# if fwe need the integers of the inner list also to be printed \n",
    "# have to adda nother statement\n",
    "    elif type(i) == list :\n",
    "        for j in i:\n",
    "            if type(j) == int:\n",
    "                print(j)\n",
    "                v.append(j)\n",
    "print(v)"
   ]
  },
  {
   "cell_type": "code",
   "execution_count": 18,
   "id": "534228b9",
   "metadata": {},
   "outputs": [
    {
     "data": {
      "text/plain": [
       "complex"
      ]
     },
     "execution_count": 18,
     "metadata": {},
     "output_type": "execute_result"
    }
   ],
   "source": [
    "type(4+5j)"
   ]
  },
  {
   "cell_type": "code",
   "execution_count": 22,
   "id": "c096dd9c",
   "metadata": {},
   "outputs": [
    {
     "data": {
      "text/plain": [
       "[2, 4.7, 85, 20, 'kush', (5+9j), True, [56, 39, 90, True]]"
      ]
     },
     "execution_count": 22,
     "metadata": {},
     "output_type": "execute_result"
    }
   ],
   "source": [
    "l = [2,4.7,85,20, \"kush\" , 5+9j, True, [56,39,90,True]]\n",
    "l"
   ]
  },
  {
   "cell_type": "code",
   "execution_count": 34,
   "id": "887e2407",
   "metadata": {},
   "outputs": [
    {
     "name": "stdout",
     "output_type": "stream",
     "text": [
      "Index of 2 is 0\n",
      "Index of 4.7 is 1\n",
      "Index of 85 is 2\n",
      "Index of 2 is 0\n",
      "Index of 85 is 2\n",
      "Index of 20 is 5\n",
      "Index of kush is 6\n",
      "Index of (5+9j) is 7\n",
      "Index of True is 8\n",
      "Index of [56, 39, 90, True] is 9\n"
     ]
    }
   ],
   "source": [
    "# Question 1: Try to print index of all the element\n",
    "l = [2,4.7,85,2,85,20, \"kush\" , 5+9j, True, [56,39,90,True]]\n",
    "for i in l:\n",
    "    print(\"Index of\",i,\"is\",l.index(i), sep=\" \", end = '\\n' )\n",
    "# inbulid index function is not advisable here because\n",
    "# in case of dupicated eliment it will print just the 1st index"
   ]
  },
  {
   "cell_type": "code",
   "execution_count": 11,
   "id": "27dc1819",
   "metadata": {},
   "outputs": [
    {
     "name": "stdout",
     "output_type": "stream",
     "text": [
      "['k', 'u', 's', 'h']\n"
     ]
    }
   ],
   "source": [
    "# Question 2: Try to extract all the list of char if the element is string\n",
    "l = [2,4.7,85,20, \"kush\" , 5+9j, True, [56,39,90,True,\"hellow world\"]]\n",
    "solve = []\n",
    "for i in l:\n",
    "    if type(i) == str:\n",
    "        for j in i:\n",
    "            solve.append(j)\n",
    "        print(solve)       "
   ]
  },
  {
   "cell_type": "code",
   "execution_count": 33,
   "id": "08700684",
   "metadata": {},
   "outputs": [
    {
     "name": "stdout",
     "output_type": "stream",
     "text": [
      "[4, 7225, 400]\n"
     ]
    }
   ],
   "source": [
    "# Question 3: Try to return a list after doing square of all the int elements\n",
    "l = [2,4.7,85,20, \"kush\" , 5+9j, True, [56,39,90,True,\"hellow world\"]]\n",
    "sol = []\n",
    "for i in l:\n",
    "    if type(i) == int:\n",
    "        sol.append(i*i)\n",
    "print(sol)"
   ]
  },
  {
   "cell_type": "code",
   "execution_count": 36,
   "id": "55cc3293",
   "metadata": {},
   "outputs": [
    {
     "name": "stdout",
     "output_type": "stream",
     "text": [
      "Index of element 2 is 0\n",
      "Index of element 4.7 is 1\n",
      "Index of element 85 is 2\n",
      "Index of element 2 is 3\n",
      "Index of element 85 is 4\n",
      "Index of element 20 is 5\n",
      "Index of element kush is 6\n",
      "Index of element (5+9j) is 7\n",
      "Index of element True is 8\n",
      "Index of element [56, 39, 90, True] is 9\n"
     ]
    }
   ],
   "source": [
    "# Question 1: Try to print index of all the element\n",
    "l = [2,4.7,85,2,85,20, \"kush\" , 5+9j, True, [56,39,90,True]]\n",
    "for i in range(len(l)):\n",
    "    print(\"Index of element\", l[i], \"is\" , i, sep=\" \")"
   ]
  },
  {
   "cell_type": "code",
   "execution_count": 37,
   "id": "566c2747",
   "metadata": {},
   "outputs": [
    {
     "name": "stdout",
     "output_type": "stream",
     "text": [
      "(0, 2)\n",
      "(1, 4.7)\n",
      "(2, 85)\n",
      "(3, 2)\n",
      "(4, 85)\n",
      "(5, 20)\n",
      "(6, 'kush')\n",
      "(7, (5+9j))\n",
      "(8, True)\n",
      "(9, [56, 39, 90, True])\n"
     ]
    }
   ],
   "source": [
    "# Question 1: Try to print index of all the element\n",
    "# Another way\n",
    "for i in enumerate(l):\n",
    "    print(i)\n",
    "\n",
    "# enumerate() will always return a tuple"
   ]
  },
  {
   "cell_type": "code",
   "execution_count": 3,
   "id": "7db4e983",
   "metadata": {},
   "outputs": [
    {
     "name": "stdout",
     "output_type": "stream",
     "text": [
      "(5, 2)\n",
      "(6, 4.7)\n",
      "(7, 85)\n",
      "(8, 2)\n",
      "(9, 85)\n",
      "(10, 20)\n",
      "(11, 'kush')\n",
      "(12, (5+9j))\n",
      "(13, True)\n",
      "(14, [56, 39, 90, True])\n"
     ]
    }
   ],
   "source": [
    "l = [2,4.7,85,2,85,20, \"kush\" , 5+9j, True, [56,39,90,True]]\n",
    "for i in enumerate(l,5):\n",
    "    print(i)\n",
    "\n",
    "# Enumerate(data, satrt no) function wil have the first data set \n",
    "# and then where the numbering has to start"
   ]
  },
  {
   "cell_type": "code",
   "execution_count": 6,
   "id": "28b60d71",
   "metadata": {},
   "outputs": [
    {
     "name": "stdout",
     "output_type": "stream",
     "text": [
      "0 2\n",
      "1 4.7\n",
      "2 85\n",
      "3 2\n",
      "4 85\n",
      "5 20\n",
      "6 kush\n",
      "7 (5+9j)\n",
      "8 True\n",
      "9 [56, 39, 90, True]\n"
     ]
    }
   ],
   "source": [
    "for i,j in enumerate(l):\n",
    "    print(i ,j)"
   ]
  },
  {
   "cell_type": "code",
   "execution_count": null,
   "id": "ed5e2040",
   "metadata": {},
   "outputs": [],
   "source": []
  }
 ],
 "metadata": {
  "kernelspec": {
   "display_name": "Python 3 (ipykernel)",
   "language": "python",
   "name": "python3"
  },
  "language_info": {
   "codemirror_mode": {
    "name": "ipython",
    "version": 3
   },
   "file_extension": ".py",
   "mimetype": "text/x-python",
   "name": "python",
   "nbconvert_exporter": "python",
   "pygments_lexer": "ipython3",
   "version": "3.9.13"
  }
 },
 "nbformat": 4,
 "nbformat_minor": 5
}

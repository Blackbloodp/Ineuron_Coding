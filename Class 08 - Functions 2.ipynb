{
 "cells": [
  {
   "cell_type": "code",
   "execution_count": 1,
   "id": "059e4ee3",
   "metadata": {},
   "outputs": [],
   "source": [
    "def test(a,b,c,d,e):\n",
    "    return a,b,c,d,e"
   ]
  },
  {
   "cell_type": "code",
   "execution_count": 2,
   "id": "967f712a",
   "metadata": {},
   "outputs": [
    {
     "data": {
      "text/plain": [
       "(34, 65, 'utset', 7568, 238)"
      ]
     },
     "execution_count": 2,
     "metadata": {},
     "output_type": "execute_result"
    }
   ],
   "source": [
    "test(34,65,\"utset\",7568,238)"
   ]
  },
  {
   "cell_type": "code",
   "execution_count": 3,
   "id": "3381e8b2",
   "metadata": {},
   "outputs": [],
   "source": [
    "# '*' used to pass multiple arguments from a function\n",
    "# without defining them\n",
    "\n",
    "def test1(*args):\n",
    "    return args"
   ]
  },
  {
   "cell_type": "code",
   "execution_count": 4,
   "id": "553d1613",
   "metadata": {},
   "outputs": [
    {
     "data": {
      "text/plain": [
       "(436, 74, 'kush', (5+7j), 47)"
      ]
     },
     "execution_count": 4,
     "metadata": {},
     "output_type": "execute_result"
    }
   ],
   "source": [
    "test1(436,74,\"kush\",5+7j,47)"
   ]
  },
  {
   "cell_type": "code",
   "execution_count": 5,
   "id": "d260c7d5",
   "metadata": {},
   "outputs": [
    {
     "data": {
      "text/plain": [
       "([1, 3, 56, 'ksd'], {3, 4, 6, 7}, 23, (5+8j), 'kush', ('hi', 34, 56))"
      ]
     },
     "execution_count": 5,
     "metadata": {},
     "output_type": "execute_result"
    }
   ],
   "source": [
    "test1([1,3,56,\"ksd\"], {3,4,6,7}, 23, 5+8j, \"kush\",(\"hi\",34,56))"
   ]
  },
  {
   "cell_type": "code",
   "execution_count": 6,
   "id": "505d8896",
   "metadata": {},
   "outputs": [],
   "source": [
    "# In *args 'args' is just a key used here\n",
    "# we can use any key work we want in place of that\n",
    "\n",
    "def test2(*kush):\n",
    "    return kush"
   ]
  },
  {
   "cell_type": "code",
   "execution_count": 7,
   "id": "20e7f1b2",
   "metadata": {},
   "outputs": [
    {
     "data": {
      "text/plain": [
       "(4, 5, 7, 9, 1, 5)"
      ]
     },
     "execution_count": 7,
     "metadata": {},
     "output_type": "execute_result"
    }
   ],
   "source": [
    "test2(4,5,7,9,1,5)"
   ]
  },
  {
   "cell_type": "code",
   "execution_count": 8,
   "id": "b90ec259",
   "metadata": {},
   "outputs": [],
   "source": [
    "def test3(*kush, a):\n",
    "    return kush, a"
   ]
  },
  {
   "cell_type": "code",
   "execution_count": 11,
   "id": "6a1b2a79",
   "metadata": {},
   "outputs": [
    {
     "ename": "TypeError",
     "evalue": "test3() missing 1 required keyword-only argument: 'a'",
     "output_type": "error",
     "traceback": [
      "\u001b[1;31m---------------------------------------------------------------------------\u001b[0m",
      "\u001b[1;31mTypeError\u001b[0m                                 Traceback (most recent call last)",
      "\u001b[1;32m~\\AppData\\Local\\Temp\\ipykernel_19856\\3573676244.py\u001b[0m in \u001b[0;36m<module>\u001b[1;34m\u001b[0m\n\u001b[1;32m----> 1\u001b[1;33m \u001b[0mtest3\u001b[0m\u001b[1;33m(\u001b[0m\u001b[1;36m34\u001b[0m\u001b[1;33m,\u001b[0m\u001b[1;36m45\u001b[0m\u001b[1;33m,\u001b[0m\u001b[1;36m465\u001b[0m\u001b[1;33m)\u001b[0m\u001b[1;33m\u001b[0m\u001b[1;33m\u001b[0m\u001b[0m\n\u001b[0m\u001b[0;32m      2\u001b[0m \u001b[1;31m#here we ahve cleary mentione the a value to solve this problem.\u001b[0m\u001b[1;33m\u001b[0m\u001b[1;33m\u001b[0m\u001b[0m\n",
      "\u001b[1;31mTypeError\u001b[0m: test3() missing 1 required keyword-only argument: 'a'"
     ]
    }
   ],
   "source": [
    "test3(34,45,465)\n",
    "# Python is not able to understand what is an argument and what is a"
   ]
  },
  {
   "cell_type": "code",
   "execution_count": 12,
   "id": "f6721c1c",
   "metadata": {},
   "outputs": [
    {
     "data": {
      "text/plain": [
       "((34, 45, 465), 28347)"
      ]
     },
     "execution_count": 12,
     "metadata": {},
     "output_type": "execute_result"
    }
   ],
   "source": [
    "test3(34,45,465, a = 28347)\n",
    "# here we ahve cleary mentione the a value to solve this problem. "
   ]
  },
  {
   "cell_type": "code",
   "execution_count": 14,
   "id": "689e842a",
   "metadata": {},
   "outputs": [],
   "source": [
    "# The same sinirio can be use d for multiple such variables\n",
    "def test4(*kush, a, b, c, d):\n",
    "    return kush, a, b, c, d"
   ]
  },
  {
   "cell_type": "code",
   "execution_count": 20,
   "id": "751ef1f5",
   "metadata": {},
   "outputs": [
    {
     "data": {
      "text/plain": [
       "((347, 42, 42, 4546, 'kusj'),\n",
       " {4, 5, 6, 7},\n",
       " ['sjdh', 5, 56],\n",
       " (5+8j),\n",
       " 'ahshjgdf')"
      ]
     },
     "execution_count": 20,
     "metadata": {},
     "output_type": "execute_result"
    }
   ],
   "source": [
    "test4(347, 42,42,4546, \"kusj\", a = {4,5,6,7}, b= [\"sjdh\",5,56], c = 5+8j, d = \"ahshjgdf\")"
   ]
  },
  {
   "cell_type": "code",
   "execution_count": 16,
   "id": "14fa06a6",
   "metadata": {},
   "outputs": [],
   "source": [
    "# Another situation\n",
    "def test5(a, *kush):\n",
    "    return a, kush"
   ]
  },
  {
   "cell_type": "code",
   "execution_count": 17,
   "id": "cbc11d1d",
   "metadata": {},
   "outputs": [
    {
     "ename": "TypeError",
     "evalue": "test5() got multiple values for argument 'a'",
     "output_type": "error",
     "traceback": [
      "\u001b[1;31m---------------------------------------------------------------------------\u001b[0m",
      "\u001b[1;31mTypeError\u001b[0m                                 Traceback (most recent call last)",
      "\u001b[1;32m~\\AppData\\Local\\Temp\\ipykernel_19856\\3488100208.py\u001b[0m in \u001b[0;36m<module>\u001b[1;34m\u001b[0m\n\u001b[1;32m----> 1\u001b[1;33m \u001b[0mtest5\u001b[0m\u001b[1;33m(\u001b[0m\u001b[1;34m\"jajdhdfkjh\"\u001b[0m\u001b[1;33m,\u001b[0m \u001b[1;36m23\u001b[0m\u001b[1;33m,\u001b[0m \u001b[1;36m35\u001b[0m\u001b[1;33m,\u001b[0m \u001b[0ma\u001b[0m\u001b[1;33m=\u001b[0m \u001b[1;36m2534\u001b[0m\u001b[1;33m)\u001b[0m\u001b[1;33m\u001b[0m\u001b[1;33m\u001b[0m\u001b[0m\n\u001b[0m",
      "\u001b[1;31mTypeError\u001b[0m: test5() got multiple values for argument 'a'"
     ]
    }
   ],
   "source": [
    "test5(\"jajdhdfkjh\", 23, 35, a= 2534)\n",
    "\n",
    "#gives an error"
   ]
  },
  {
   "cell_type": "code",
   "execution_count": 18,
   "id": "d9bdb280",
   "metadata": {},
   "outputs": [
    {
     "data": {
      "text/plain": [
       "('jajdhdfkjh', (23, 35))"
      ]
     },
     "execution_count": 18,
     "metadata": {},
     "output_type": "execute_result"
    }
   ],
   "source": [
    "# But it will work if we remove a while using that function\n",
    "test5(\"jajdhdfkjh\", 23, 35)"
   ]
  },
  {
   "cell_type": "code",
   "execution_count": 21,
   "id": "8992f597",
   "metadata": {},
   "outputs": [],
   "source": [
    "# when ever we define a funnction and five starting as variable\n",
    "# Python by default consideres the first input as the set variable. \n",
    "# in line 17 it considered \"jajdhfkjh\" as a by default\n",
    "# and then we defined a again so its an error."
   ]
  },
  {
   "cell_type": "code",
   "execution_count": 22,
   "id": "5e45dc21",
   "metadata": {},
   "outputs": [
    {
     "ename": "SyntaxError",
     "evalue": "positional argument follows keyword argument (1932320633.py, line 1)",
     "output_type": "error",
     "traceback": [
      "\u001b[1;36m  File \u001b[1;32m\"C:\\Users\\win\\AppData\\Local\\Temp\\ipykernel_19856\\1932320633.py\"\u001b[1;36m, line \u001b[1;32m1\u001b[0m\n\u001b[1;33m    test4(347, 42,42,4546, \"kusj\", a = {4,5,6,7}, b= [\"sjdh\",5,56], c = 5+8j, d = \"ahshjgdf\", 23646)\u001b[0m\n\u001b[1;37m                                                                                                   ^\u001b[0m\n\u001b[1;31mSyntaxError\u001b[0m\u001b[1;31m:\u001b[0m positional argument follows keyword argument\n"
     ]
    }
   ],
   "source": [
    "test4(347, 42,42,4546, \"kusj\", a = {4,5,6,7}, b= [\"sjdh\",5,56], c = 5+8j, d = \"ahshjgdf\", 23646)"
   ]
  },
  {
   "cell_type": "code",
   "execution_count": 23,
   "id": "8ed104be",
   "metadata": {},
   "outputs": [],
   "source": [
    "# above example is also the same. \n",
    "# At last we added another argument. "
   ]
  },
  {
   "cell_type": "code",
   "execution_count": 2,
   "id": "a22cf09f",
   "metadata": {},
   "outputs": [],
   "source": [
    "# Giving * for the multiple function is position sensitive \n",
    "def test6(a, *kush, b, c):\n",
    "    return a, kush, b , c"
   ]
  },
  {
   "cell_type": "code",
   "execution_count": 3,
   "id": "a3730f9f",
   "metadata": {},
   "outputs": [
    {
     "ename": "TypeError",
     "evalue": "test6() missing 2 required keyword-only arguments: 'b' and 'c'",
     "output_type": "error",
     "traceback": [
      "\u001b[1;31m---------------------------------------------------------------------------\u001b[0m",
      "\u001b[1;31mTypeError\u001b[0m                                 Traceback (most recent call last)",
      "\u001b[1;32m~\\AppData\\Local\\Temp\\ipykernel_15464\\995174440.py\u001b[0m in \u001b[0;36m<module>\u001b[1;34m\u001b[0m\n\u001b[1;32m----> 1\u001b[1;33m \u001b[0mtest6\u001b[0m\u001b[1;33m(\u001b[0m\u001b[1;34m\"ahjhfjh\"\u001b[0m\u001b[1;33m,\u001b[0m \u001b[1;34m\"aknfjkh\"\u001b[0m\u001b[1;33m,\u001b[0m \u001b[1;36m24875897\u001b[0m\u001b[1;33m,\u001b[0m \u001b[1;36m53\u001b[0m\u001b[1;33m,\u001b[0m \u001b[1;36m5\u001b[0m\u001b[1;33m,\u001b[0m\u001b[1;36m56\u001b[0m \u001b[1;33m,\u001b[0m\u001b[1;36m7\u001b[0m\u001b[1;33m)\u001b[0m\u001b[1;33m\u001b[0m\u001b[1;33m\u001b[0m\u001b[0m\n\u001b[0m\u001b[0;32m      2\u001b[0m \u001b[1;33m\u001b[0m\u001b[0m\n\u001b[0;32m      3\u001b[0m \u001b[1;31m# It will not work unless we define b and c variable.\u001b[0m\u001b[1;33m\u001b[0m\u001b[1;33m\u001b[0m\u001b[0m\n\u001b[0;32m      4\u001b[0m \u001b[1;31m# Because after the 1st variable python will consider all the other as arguments\u001b[0m\u001b[1;33m\u001b[0m\u001b[1;33m\u001b[0m\u001b[0m\n",
      "\u001b[1;31mTypeError\u001b[0m: test6() missing 2 required keyword-only arguments: 'b' and 'c'"
     ]
    }
   ],
   "source": [
    "test6(\"ahjhfjh\", \"aknfjkh\", 24875897, 53, 5,56 ,7)\n",
    "\n",
    "# It will not work unless we define b and c variable. \n",
    "# Because after the 1st variable python will consider all the other as arguments"
   ]
  },
  {
   "cell_type": "code",
   "execution_count": 4,
   "id": "ef6f4323",
   "metadata": {},
   "outputs": [
    {
     "data": {
      "text/plain": [
       "('ahjhfjh', ('aknfjkh', 24875897, 53, 5), 56, 7)"
      ]
     },
     "execution_count": 4,
     "metadata": {},
     "output_type": "execute_result"
    }
   ],
   "source": [
    "test6(\"ahjhfjh\", \"aknfjkh\", 24875897, 53, 5,b = 56 , c = 7)"
   ]
  },
  {
   "cell_type": "code",
   "execution_count": 5,
   "id": "c2d8984d",
   "metadata": {},
   "outputs": [],
   "source": [
    "def test7(*args):\n",
    "    for i in args:\n",
    "        if type(i) == list:\n",
    "            return i"
   ]
  },
  {
   "cell_type": "code",
   "execution_count": 6,
   "id": "dde5b5ed",
   "metadata": {},
   "outputs": [
    {
     "data": {
      "text/plain": [
       "[23423, 23, 545]"
      ]
     },
     "execution_count": 6,
     "metadata": {},
     "output_type": "execute_result"
    }
   ],
   "source": [
    "test7(3435,5,4534,57567,[23423,23,545])"
   ]
  },
  {
   "cell_type": "code",
   "execution_count": 8,
   "id": "e698b147",
   "metadata": {},
   "outputs": [
    {
     "data": {
      "text/plain": [
       "[12.34, 545, 324]"
      ]
     },
     "execution_count": 8,
     "metadata": {},
     "output_type": "execute_result"
    }
   ],
   "source": [
    "test7(234,4564,[12.34,545,324], [332,3545], \"2sdf\")\n",
    "\n",
    "#if in case you have 2 list inside the argument, then only one list will be returened. \n",
    "# we need to modify the formula. "
   ]
  },
  {
   "cell_type": "code",
   "execution_count": 9,
   "id": "13c6e967",
   "metadata": {},
   "outputs": [],
   "source": [
    "# Print will work but if will give a null type data. So not a solution"
   ]
  },
  {
   "cell_type": "code",
   "execution_count": 14,
   "id": "16c4d62b",
   "metadata": {},
   "outputs": [],
   "source": [
    "def test7(*args):\n",
    "    l = []\n",
    "    for i in args:\n",
    "        if type(i) == list:\n",
    "            l.append(i)\n",
    "    return l"
   ]
  },
  {
   "cell_type": "code",
   "execution_count": 15,
   "id": "417ca737",
   "metadata": {},
   "outputs": [
    {
     "data": {
      "text/plain": [
       "[[12.34, 545, 324], [332, 3545]]"
      ]
     },
     "execution_count": 15,
     "metadata": {},
     "output_type": "execute_result"
    }
   ],
   "source": [
    "#with the above function modified. We can get all the list\n",
    "test7(234,4564,[12.34,545,324], [332,3545], \"2sdf\")"
   ]
  },
  {
   "cell_type": "code",
   "execution_count": 16,
   "id": "6a21e975",
   "metadata": {},
   "outputs": [],
   "source": [
    "d = {\"a\" : [2,3,4,5,6], 6: [4,56,4,56,67,8]}"
   ]
  },
  {
   "cell_type": "code",
   "execution_count": 17,
   "id": "3b78945e",
   "metadata": {},
   "outputs": [
    {
     "data": {
      "text/plain": [
       "[2, 3, 4, 5, 6]"
      ]
     },
     "execution_count": 17,
     "metadata": {},
     "output_type": "execute_result"
    }
   ],
   "source": [
    "d[\"a\"]"
   ]
  },
  {
   "cell_type": "code",
   "execution_count": 18,
   "id": "f07f2873",
   "metadata": {},
   "outputs": [],
   "source": [
    "# ** are used to pass a key-value pair like a distionary\n",
    "def test8(**kwargs):\n",
    "    return kwargs"
   ]
  },
  {
   "cell_type": "code",
   "execution_count": 19,
   "id": "39be2a54",
   "metadata": {},
   "outputs": [
    {
     "ename": "TypeError",
     "evalue": "test8() takes 0 positional arguments but 6 were given",
     "output_type": "error",
     "traceback": [
      "\u001b[1;31m---------------------------------------------------------------------------\u001b[0m",
      "\u001b[1;31mTypeError\u001b[0m                                 Traceback (most recent call last)",
      "\u001b[1;32m~\\AppData\\Local\\Temp\\ipykernel_15464\\2838731114.py\u001b[0m in \u001b[0;36m<module>\u001b[1;34m\u001b[0m\n\u001b[1;32m----> 1\u001b[1;33m \u001b[0mtest8\u001b[0m\u001b[1;33m(\u001b[0m\u001b[1;36m23\u001b[0m\u001b[1;33m,\u001b[0m\u001b[1;36m345\u001b[0m\u001b[1;33m,\u001b[0m\u001b[1;36m466778\u001b[0m\u001b[1;33m,\u001b[0m\u001b[1;36m98\u001b[0m\u001b[1;33m,\u001b[0m\u001b[1;36m456\u001b[0m\u001b[1;33m,\u001b[0m\u001b[1;36m3\u001b[0m\u001b[1;33m)\u001b[0m\u001b[1;33m\u001b[0m\u001b[1;33m\u001b[0m\u001b[0m\n\u001b[0m\u001b[0;32m      2\u001b[0m \u001b[1;31m# will not work because we are not passing the value as key-value pair\u001b[0m\u001b[1;33m\u001b[0m\u001b[1;33m\u001b[0m\u001b[0m\n",
      "\u001b[1;31mTypeError\u001b[0m: test8() takes 0 positional arguments but 6 were given"
     ]
    }
   ],
   "source": [
    "test8(23,345,466778,98,456,3)\n",
    "# will not work because we are not passing the value as key-value pair"
   ]
  },
  {
   "cell_type": "code",
   "execution_count": 20,
   "id": "5d8a0afb",
   "metadata": {},
   "outputs": [
    {
     "data": {
      "text/plain": [
       "{'a': 34345, 'b': 2443, 'c': [4.5, 6, 7]}"
      ]
     },
     "execution_count": 20,
     "metadata": {},
     "output_type": "execute_result"
    }
   ],
   "source": [
    "test8(a=34345, b =2443, c = [4.5,6,7])\n",
    "# have to pass the values like this for ** arguments"
   ]
  },
  {
   "cell_type": "code",
   "execution_count": 22,
   "id": "1608c351",
   "metadata": {},
   "outputs": [],
   "source": [
    "def test9(**kush):\n",
    "    return kush"
   ]
  },
  {
   "cell_type": "code",
   "execution_count": 24,
   "id": "08dda6cf",
   "metadata": {},
   "outputs": [
    {
     "data": {
      "text/plain": [
       "{'Name': 'Kushagra',\n",
       " 'Age': '28',\n",
       " 'Phone_Number': '123456789',\n",
       " 'mail_id': 'skdjjf@ksdfk'}"
      ]
     },
     "execution_count": 24,
     "metadata": {},
     "output_type": "execute_result"
    }
   ],
   "source": [
    "test9(Name = \"Kushagra\", Age = \"28\", Phone_Number = \"123456789\", mail_id = \"skdjjf@ksdfk\")"
   ]
  },
  {
   "cell_type": "code",
   "execution_count": 25,
   "id": "bbc27d11",
   "metadata": {},
   "outputs": [],
   "source": [
    "### Note a \" \" will not work when we are giving a key\n",
    "# Example:- \"Phone_number\" This will be considered as a key \n",
    "# rather than \"Phone Number\""
   ]
  },
  {
   "cell_type": "code",
   "execution_count": 26,
   "id": "97cf2f8a",
   "metadata": {},
   "outputs": [],
   "source": [
    "# Now How to give a argumennt with key-value **s\n",
    "def test10(a, **kush):\n",
    "    return kush, a"
   ]
  },
  {
   "cell_type": "code",
   "execution_count": 27,
   "id": "53cb3bff",
   "metadata": {},
   "outputs": [
    {
     "ename": "TypeError",
     "evalue": "test10() takes 1 positional argument but 7 were given",
     "output_type": "error",
     "traceback": [
      "\u001b[1;31m---------------------------------------------------------------------------\u001b[0m",
      "\u001b[1;31mTypeError\u001b[0m                                 Traceback (most recent call last)",
      "\u001b[1;32m~\\AppData\\Local\\Temp\\ipykernel_15464\\388774354.py\u001b[0m in \u001b[0;36m<module>\u001b[1;34m\u001b[0m\n\u001b[1;32m----> 1\u001b[1;33m \u001b[0mtest10\u001b[0m\u001b[1;33m(\u001b[0m\u001b[1;36m34\u001b[0m\u001b[1;33m,\u001b[0m\u001b[1;36m45\u001b[0m\u001b[1;33m,\u001b[0m\u001b[1;36m567\u001b[0m\u001b[1;33m,\u001b[0m\u001b[1;36m23\u001b[0m\u001b[1;33m,\u001b[0m\u001b[1;36m544\u001b[0m\u001b[1;33m,\u001b[0m\u001b[1;36m3\u001b[0m\u001b[1;33m,\u001b[0m\u001b[1;36m5\u001b[0m\u001b[1;33m)\u001b[0m\u001b[1;33m\u001b[0m\u001b[1;33m\u001b[0m\u001b[0m\n\u001b[0m",
      "\u001b[1;31mTypeError\u001b[0m: test10() takes 1 positional argument but 7 were given"
     ]
    }
   ],
   "source": [
    "test10(34,45,567,23,544,3,5)"
   ]
  },
  {
   "cell_type": "code",
   "execution_count": 28,
   "id": "dd18ee1d",
   "metadata": {},
   "outputs": [
    {
     "data": {
      "text/plain": [
       "({'b': 12, 'c': 'kush'}, 12)"
      ]
     },
     "execution_count": 28,
     "metadata": {},
     "output_type": "execute_result"
    }
   ],
   "source": [
    "test10(12,b = 12, c = 'kush')"
   ]
  },
  {
   "cell_type": "code",
   "execution_count": 31,
   "id": "7704111b",
   "metadata": {},
   "outputs": [
    {
     "data": {
      "text/plain": [
       "({'b': 12, 'c': 'kush'}, 28)"
      ]
     },
     "execution_count": 31,
     "metadata": {},
     "output_type": "execute_result"
    }
   ],
   "source": [
    "test10(b = 12, c = 'kush',a = 28)"
   ]
  },
  {
   "cell_type": "code",
   "execution_count": 32,
   "id": "ee4fb41a",
   "metadata": {},
   "outputs": [
    {
     "ename": "SyntaxError",
     "evalue": "invalid syntax (2657202622.py, line 2)",
     "output_type": "error",
     "traceback": [
      "\u001b[1;36m  File \u001b[1;32m\"C:\\Users\\win\\AppData\\Local\\Temp\\ipykernel_15464\\2657202622.py\"\u001b[1;36m, line \u001b[1;32m2\u001b[0m\n\u001b[1;33m    def test11(a, **kush, *args):\u001b[0m\n\u001b[1;37m                          ^\u001b[0m\n\u001b[1;31mSyntaxError\u001b[0m\u001b[1;31m:\u001b[0m invalid syntax\n"
     ]
    }
   ],
   "source": [
    "# By combining all the 3 arguments\n",
    "def test11(a, **kush, *args):\n",
    "    return a, kush, args\n",
    "\n",
    "# This kind of function is not possible"
   ]
  },
  {
   "cell_type": "code",
   "execution_count": 37,
   "id": "79c0c922",
   "metadata": {},
   "outputs": [],
   "source": [
    "# But if we do it in the sequence like below It will work\n",
    "def test11(a, *kush, **kwargs):\n",
    "    return a, kush, kwargs"
   ]
  },
  {
   "cell_type": "code",
   "execution_count": 39,
   "id": "dcadd99e",
   "metadata": {},
   "outputs": [
    {
     "data": {
      "text/plain": [
       "(12, (43, 2, 4, 6, 7), {'g': 23, 'k': 'kjdhfjgh'})"
      ]
     },
     "execution_count": 39,
     "metadata": {},
     "output_type": "execute_result"
    }
   ],
   "source": [
    "test11(12,43,2,4,6,7, g = 23, k = \"kjdhfjgh\")\n",
    "\n",
    "# This takes all the key = value par in the **kwargs\n",
    "# and all the other in *kush arguments except the 1st value"
   ]
  },
  {
   "cell_type": "markdown",
   "id": "3ecb6da2",
   "metadata": {},
   "source": [
    "# Anonymous Function"
   ]
  },
  {
   "cell_type": "code",
   "execution_count": 4,
   "id": "96653784",
   "metadata": {},
   "outputs": [],
   "source": [
    "def test12(a,b):\n",
    "    return a*b"
   ]
  },
  {
   "cell_type": "code",
   "execution_count": 5,
   "id": "fe04392a",
   "metadata": {},
   "outputs": [
    {
     "data": {
      "text/plain": [
       "24"
      ]
     },
     "execution_count": 5,
     "metadata": {},
     "output_type": "execute_result"
    }
   ],
   "source": [
    "test12(4,6)"
   ]
  },
  {
   "cell_type": "code",
   "execution_count": 8,
   "id": "3de1b483",
   "metadata": {},
   "outputs": [],
   "source": [
    "# we use lambda for annonymous function\n",
    "\n",
    "f = lambda a,b : a*b"
   ]
  },
  {
   "cell_type": "code",
   "execution_count": 9,
   "id": "560a605f",
   "metadata": {},
   "outputs": [
    {
     "data": {
      "text/plain": [
       "1904"
      ]
     },
     "execution_count": 9,
     "metadata": {},
     "output_type": "execute_result"
    }
   ],
   "source": [
    "f(34,56)"
   ]
  },
  {
   "cell_type": "code",
   "execution_count": 10,
   "id": "b5906395",
   "metadata": {},
   "outputs": [],
   "source": [
    "# For retuening multiple outputs\n",
    "\n",
    "f = lambda a, b : (a*b, a+b, a-b)"
   ]
  },
  {
   "cell_type": "code",
   "execution_count": 11,
   "id": "896fb8ec",
   "metadata": {},
   "outputs": [
    {
     "data": {
      "text/plain": [
       "(1288, 79, -33)"
      ]
     },
     "execution_count": 11,
     "metadata": {},
     "output_type": "execute_result"
    }
   ],
   "source": [
    "f(23, 56)"
   ]
  },
  {
   "cell_type": "code",
   "execution_count": 12,
   "id": "cc8439cc",
   "metadata": {},
   "outputs": [],
   "source": [
    "# And for unlimited outputs and inputs\n",
    "\n",
    "f = lambda *a : a"
   ]
  },
  {
   "cell_type": "code",
   "execution_count": 14,
   "id": "2e5a4d0c",
   "metadata": {},
   "outputs": [
    {
     "data": {
      "text/plain": [
       "(23, 3, 465)"
      ]
     },
     "execution_count": 14,
     "metadata": {},
     "output_type": "execute_result"
    }
   ],
   "source": [
    "f(23,3, 465)"
   ]
  },
  {
   "cell_type": "code",
   "execution_count": 16,
   "id": "7f6b65e5",
   "metadata": {},
   "outputs": [],
   "source": [
    "f = lambda *a,b : (a*b, a+b)"
   ]
  },
  {
   "cell_type": "code",
   "execution_count": 17,
   "id": "3e45d206",
   "metadata": {},
   "outputs": [
    {
     "ename": "TypeError",
     "evalue": "can only concatenate tuple (not \"int\") to tuple",
     "output_type": "error",
     "traceback": [
      "\u001b[1;31m---------------------------------------------------------------------------\u001b[0m",
      "\u001b[1;31mTypeError\u001b[0m                                 Traceback (most recent call last)",
      "\u001b[1;32m~\\AppData\\Local\\Temp\\ipykernel_6680\\1436937708.py\u001b[0m in \u001b[0;36m<module>\u001b[1;34m\u001b[0m\n\u001b[1;32m----> 1\u001b[1;33m \u001b[0mf\u001b[0m\u001b[1;33m(\u001b[0m\u001b[1;36m12\u001b[0m\u001b[1;33m,\u001b[0m\u001b[1;36m434\u001b[0m\u001b[1;33m,\u001b[0m\u001b[1;36m56\u001b[0m\u001b[1;33m,\u001b[0m\u001b[0mb\u001b[0m\u001b[1;33m=\u001b[0m\u001b[1;36m3\u001b[0m\u001b[1;33m)\u001b[0m\u001b[1;33m\u001b[0m\u001b[1;33m\u001b[0m\u001b[0m\n\u001b[0m",
      "\u001b[1;32m~\\AppData\\Local\\Temp\\ipykernel_6680\\3856455897.py\u001b[0m in \u001b[0;36m<lambda>\u001b[1;34m(b, *a)\u001b[0m\n\u001b[1;32m----> 1\u001b[1;33m \u001b[0mf\u001b[0m \u001b[1;33m=\u001b[0m \u001b[1;32mlambda\u001b[0m \u001b[1;33m*\u001b[0m\u001b[0ma\u001b[0m\u001b[1;33m,\u001b[0m\u001b[0mb\u001b[0m \u001b[1;33m:\u001b[0m \u001b[1;33m(\u001b[0m\u001b[0ma\u001b[0m\u001b[1;33m*\u001b[0m\u001b[0mb\u001b[0m\u001b[1;33m,\u001b[0m \u001b[0ma\u001b[0m\u001b[1;33m+\u001b[0m\u001b[0mb\u001b[0m\u001b[1;33m)\u001b[0m\u001b[1;33m\u001b[0m\u001b[1;33m\u001b[0m\u001b[0m\n\u001b[0m",
      "\u001b[1;31mTypeError\u001b[0m: can only concatenate tuple (not \"int\") to tuple"
     ]
    }
   ],
   "source": [
    "f(12,434,56,b=3)"
   ]
  },
  {
   "cell_type": "code",
   "execution_count": 20,
   "id": "af30c8c3",
   "metadata": {},
   "outputs": [],
   "source": [
    "# For loop in lambda function\n",
    "\n",
    "x = lambda a : [i for i in a]\n",
    "y = lambda a : [print(i) for i in a]"
   ]
  },
  {
   "cell_type": "code",
   "execution_count": 21,
   "id": "6fd68bfd",
   "metadata": {},
   "outputs": [
    {
     "data": {
      "text/plain": [
       "[4, 5, 623, 4]"
      ]
     },
     "execution_count": 21,
     "metadata": {},
     "output_type": "execute_result"
    }
   ],
   "source": [
    "x([4,5,623,4])"
   ]
  },
  {
   "cell_type": "code",
   "execution_count": 22,
   "id": "564273bc",
   "metadata": {},
   "outputs": [
    {
     "name": "stdout",
     "output_type": "stream",
     "text": [
      "4\n",
      "5\n",
      "623\n",
      "4\n"
     ]
    },
    {
     "data": {
      "text/plain": [
       "[None, None, None, None]"
      ]
     },
     "execution_count": 22,
     "metadata": {},
     "output_type": "execute_result"
    }
   ],
   "source": [
    "y([4,5,623,4])"
   ]
  },
  {
   "cell_type": "markdown",
   "id": "449acc33",
   "metadata": {},
   "source": [
    "Comprehensive loop output"
   ]
  },
  {
   "cell_type": "code",
   "execution_count": 23,
   "id": "6a145e37",
   "metadata": {},
   "outputs": [],
   "source": [
    "l = [3,5,34,6,3,23]\n",
    "l1 = []\n",
    "for i in l:\n",
    "    l1.append(i)"
   ]
  },
  {
   "cell_type": "code",
   "execution_count": 24,
   "id": "5fca8f98",
   "metadata": {},
   "outputs": [
    {
     "data": {
      "text/plain": [
       "[3, 5, 34, 6, 3, 23]"
      ]
     },
     "execution_count": 24,
     "metadata": {},
     "output_type": "execute_result"
    }
   ],
   "source": [
    "l1"
   ]
  },
  {
   "cell_type": "code",
   "execution_count": 25,
   "id": "a93f6b6a",
   "metadata": {},
   "outputs": [
    {
     "data": {
      "text/plain": [
       "[3, 5, 34, 6, 3, 23]"
      ]
     },
     "execution_count": 25,
     "metadata": {},
     "output_type": "execute_result"
    }
   ],
   "source": [
    "# comprehensive way to wriet the same function\n",
    "\n",
    "[i for i in l]"
   ]
  },
  {
   "cell_type": "code",
   "execution_count": 26,
   "id": "ca1f2823",
   "metadata": {},
   "outputs": [
    {
     "data": {
      "text/plain": [
       "{'a': 23, 'b': 'sdf'}"
      ]
     },
     "execution_count": 26,
     "metadata": {},
     "output_type": "execute_result"
    }
   ],
   "source": [
    "## Returning key-value pair with lambda function\n",
    "\n",
    "x = lambda **kwargs : kwargs\n",
    "x(a= 23, b= \"sdf\")"
   ]
  },
  {
   "cell_type": "markdown",
   "id": "d6c3b7ed",
   "metadata": {},
   "source": [
    "Calling external values in a function"
   ]
  },
  {
   "cell_type": "code",
   "execution_count": 27,
   "id": "bba07918",
   "metadata": {},
   "outputs": [],
   "source": [
    "a = 10\n",
    "def test13(c,d):\n",
    "    a = 5\n",
    "    return c*d\n",
    "\n",
    "# here the function will not consider a = 5 because we are not using it anywhere, "
   ]
  },
  {
   "cell_type": "code",
   "execution_count": 28,
   "id": "6cf4a046",
   "metadata": {},
   "outputs": [
    {
     "data": {
      "text/plain": [
       "500"
      ]
     },
     "execution_count": 28,
     "metadata": {},
     "output_type": "execute_result"
    }
   ],
   "source": [
    "test13(a,50)"
   ]
  },
  {
   "cell_type": "code",
   "execution_count": 33,
   "id": "812b9963",
   "metadata": {},
   "outputs": [],
   "source": [
    "a = 10\n",
    "c = 10\n",
    "def test13(c,d):\n",
    "    a = 5\n",
    "    c = 5\n",
    "    return c*d\n",
    "\n",
    "# Here we are assigning the c value to 5 internally so the output will change"
   ]
  },
  {
   "cell_type": "code",
   "execution_count": 34,
   "id": "59c601d9",
   "metadata": {},
   "outputs": [
    {
     "data": {
      "text/plain": [
       "250"
      ]
     },
     "execution_count": 34,
     "metadata": {},
     "output_type": "execute_result"
    }
   ],
   "source": [
    "test13(a,50)"
   ]
  },
  {
   "cell_type": "code",
   "execution_count": 35,
   "id": "571d1e71",
   "metadata": {},
   "outputs": [
    {
     "data": {
      "text/plain": [
       "10"
      ]
     },
     "execution_count": 35,
     "metadata": {},
     "output_type": "execute_result"
    }
   ],
   "source": [
    "# In the previous sinario, c=10 and a= 10 are global diclarations. \n",
    "# So when we call c, it will give the global value only not the internal c local value\n",
    "\n",
    "# where as c= 5 in inside the function is a local value\n",
    "# scope of local c and a will be only inside the function\n",
    "a"
   ]
  },
  {
   "cell_type": "code",
   "execution_count": 36,
   "id": "212df2e5",
   "metadata": {},
   "outputs": [
    {
     "data": {
      "text/plain": [
       "10"
      ]
     },
     "execution_count": 36,
     "metadata": {},
     "output_type": "execute_result"
    }
   ],
   "source": [
    "c"
   ]
  },
  {
   "cell_type": "markdown",
   "id": "d5eb2d13",
   "metadata": {},
   "source": [
    "# Comprehension"
   ]
  },
  {
   "cell_type": "code",
   "execution_count": 38,
   "id": "b1492658",
   "metadata": {},
   "outputs": [],
   "source": [
    "l = [1,2,3,4,5,6,7,89,2]\n",
    "l1 = []\n",
    "for i in l:\n",
    "    l1.append(i+2)"
   ]
  },
  {
   "cell_type": "code",
   "execution_count": 39,
   "id": "94e34dd0",
   "metadata": {},
   "outputs": [
    {
     "data": {
      "text/plain": [
       "[3, 4, 5, 6, 7, 8, 9, 91, 4]"
      ]
     },
     "execution_count": 39,
     "metadata": {},
     "output_type": "execute_result"
    }
   ],
   "source": [
    "l1"
   ]
  },
  {
   "cell_type": "code",
   "execution_count": 40,
   "id": "0498cc93",
   "metadata": {},
   "outputs": [],
   "source": [
    "def test14(a):\n",
    "    l1 = []\n",
    "    for i in l:\n",
    "        l1.append(i+2)\n",
    "    return l1"
   ]
  },
  {
   "cell_type": "code",
   "execution_count": 41,
   "id": "0a713f00",
   "metadata": {},
   "outputs": [
    {
     "data": {
      "text/plain": [
       "[3, 4, 5, 6, 7, 8, 9, 91, 4]"
      ]
     },
     "execution_count": 41,
     "metadata": {},
     "output_type": "execute_result"
    }
   ],
   "source": [
    "test14(l)"
   ]
  },
  {
   "cell_type": "code",
   "execution_count": 43,
   "id": "33f9030b",
   "metadata": {},
   "outputs": [],
   "source": [
    "a = lambda a : [i+2 for i in a]"
   ]
  },
  {
   "cell_type": "code",
   "execution_count": 44,
   "id": "46c1b77f",
   "metadata": {},
   "outputs": [
    {
     "data": {
      "text/plain": [
       "[3, 4, 5, 6, 7, 8, 9, 91, 4]"
      ]
     },
     "execution_count": 44,
     "metadata": {},
     "output_type": "execute_result"
    }
   ],
   "source": [
    "a(l)"
   ]
  },
  {
   "cell_type": "code",
   "execution_count": 47,
   "id": "4f55a40b",
   "metadata": {},
   "outputs": [
    {
     "data": {
      "text/plain": [
       "[3, 4, 5, 6, 7, 8, 9, 91, 4]"
      ]
     },
     "execution_count": 47,
     "metadata": {},
     "output_type": "execute_result"
    }
   ],
   "source": [
    "# Same output can be obtained by comprehension\n",
    "\n",
    "[i+2 for i in l]"
   ]
  },
  {
   "cell_type": "code",
   "execution_count": 48,
   "id": "9210f0ea",
   "metadata": {},
   "outputs": [
    {
     "data": {
      "text/plain": [
       "[(3, 2), (4, 4), (5, 6), (6, 8), (7, 10), (8, 12), (9, 14), (91, 178), (4, 4)]"
      ]
     },
     "execution_count": 48,
     "metadata": {},
     "output_type": "execute_result"
    }
   ],
   "source": [
    "[(i+2, i +i) for i in l]"
   ]
  },
  {
   "cell_type": "code",
   "execution_count": 49,
   "id": "e252fac3",
   "metadata": {},
   "outputs": [],
   "source": [
    "# Multiple out put is also possible.\n",
    "# Just like the line 48"
   ]
  },
  {
   "cell_type": "code",
   "execution_count": 50,
   "id": "fe10d598",
   "metadata": {},
   "outputs": [
    {
     "data": {
      "text/plain": [
       "[(1, 2), (4, 4), (9, 6), (4, 4)]"
      ]
     },
     "execution_count": 50,
     "metadata": {},
     "output_type": "execute_result"
    }
   ],
   "source": [
    "# We can add conditiones in comprehensions as well. \n",
    "\n",
    "[(i**2, i+i) for i in l if i < 4]\n",
    "\n",
    "# here we are writing the condition if i < 4"
   ]
  },
  {
   "cell_type": "code",
   "execution_count": 52,
   "id": "27206972",
   "metadata": {},
   "outputs": [
    {
     "data": {
      "text/plain": [
       "[(4, 4), (9, 6), (4, 4)]"
      ]
     },
     "execution_count": 52,
     "metadata": {},
     "output_type": "execute_result"
    }
   ],
   "source": [
    "[(i**2, i+i) for i in l if i < 4 if i > 1]\n",
    "# multiple if conditions"
   ]
  },
  {
   "cell_type": "markdown",
   "id": "d1152ab9",
   "metadata": {},
   "source": [
    "Disctionary Comprehension"
   ]
  },
  {
   "cell_type": "code",
   "execution_count": 53,
   "id": "5b47e1ea",
   "metadata": {},
   "outputs": [],
   "source": [
    "d = {1:1, 2:4, 3:9}"
   ]
  },
  {
   "cell_type": "code",
   "execution_count": 54,
   "id": "ce6579d3",
   "metadata": {},
   "outputs": [
    {
     "data": {
      "text/plain": [
       "{0: 0, 1: 1, 2: 4, 3: 9, 4: 16, 5: 25, 6: 36, 7: 49, 8: 64, 9: 81}"
      ]
     },
     "execution_count": 54,
     "metadata": {},
     "output_type": "execute_result"
    }
   ],
   "source": [
    "{i:i**2 for i in range(10)}"
   ]
  },
  {
   "cell_type": "code",
   "execution_count": 59,
   "id": "b6fcc05c",
   "metadata": {},
   "outputs": [],
   "source": [
    "# doing same thing without comprehension\n",
    "\n",
    "d1 = {}\n",
    "for i in range(10):\n",
    "    d1[i]=i**2"
   ]
  },
  {
   "cell_type": "code",
   "execution_count": 60,
   "id": "847b0777",
   "metadata": {},
   "outputs": [
    {
     "data": {
      "text/plain": [
       "{0: 0, 1: 1, 2: 4, 3: 9, 4: 16, 5: 25, 6: 36, 7: 49, 8: 64, 9: 81}"
      ]
     },
     "execution_count": 60,
     "metadata": {},
     "output_type": "execute_result"
    }
   ],
   "source": [
    "d1"
   ]
  },
  {
   "cell_type": "markdown",
   "id": "ad39641f",
   "metadata": {},
   "source": [
    "Tuple Comprehension"
   ]
  },
  {
   "cell_type": "code",
   "execution_count": 63,
   "id": "94eae094",
   "metadata": {},
   "outputs": [
    {
     "data": {
      "text/plain": [
       "<generator object <genexpr> at 0x000002378A171270>"
      ]
     },
     "execution_count": 63,
     "metadata": {},
     "output_type": "execute_result"
    }
   ],
   "source": [
    "(i for i in range(10))\n",
    "# So here its giving a generator object "
   ]
  },
  {
   "cell_type": "code",
   "execution_count": 64,
   "id": "534adec8",
   "metadata": {},
   "outputs": [
    {
     "data": {
      "text/plain": [
       "(0, 1, 2, 3, 4, 5, 6, 7, 8, 9)"
      ]
     },
     "execution_count": 64,
     "metadata": {},
     "output_type": "execute_result"
    }
   ],
   "source": [
    "# To get the tuple value just add tuples in front\n",
    "\n",
    "tuple(i for i in range(10))"
   ]
  },
  {
   "cell_type": "markdown",
   "id": "c80e4b74",
   "metadata": {},
   "source": [
    "# Generator Object, Itrator Object & Itrable Object"
   ]
  },
  {
   "cell_type": "code",
   "execution_count": 66,
   "id": "0acaa5d6",
   "metadata": {},
   "outputs": [
    {
     "ename": "TypeError",
     "evalue": "'int' object is not iterable",
     "output_type": "error",
     "traceback": [
      "\u001b[1;31m---------------------------------------------------------------------------\u001b[0m",
      "\u001b[1;31mTypeError\u001b[0m                                 Traceback (most recent call last)",
      "\u001b[1;32m~\\AppData\\Local\\Temp\\ipykernel_6680\\2139902000.py\u001b[0m in \u001b[0;36m<module>\u001b[1;34m\u001b[0m\n\u001b[0;32m      1\u001b[0m \u001b[1;31m# Example\u001b[0m\u001b[1;33m\u001b[0m\u001b[1;33m\u001b[0m\u001b[0m\n\u001b[0;32m      2\u001b[0m \u001b[0ma\u001b[0m \u001b[1;33m=\u001b[0m \u001b[1;36m45\u001b[0m\u001b[1;33m\u001b[0m\u001b[1;33m\u001b[0m\u001b[0m\n\u001b[1;32m----> 3\u001b[1;33m \u001b[1;32mfor\u001b[0m \u001b[0mi\u001b[0m \u001b[1;32min\u001b[0m \u001b[0ma\u001b[0m\u001b[1;33m:\u001b[0m\u001b[1;33m\u001b[0m\u001b[1;33m\u001b[0m\u001b[0m\n\u001b[0m\u001b[0;32m      4\u001b[0m     \u001b[0mprint\u001b[0m\u001b[1;33m(\u001b[0m\u001b[0mi\u001b[0m\u001b[1;33m)\u001b[0m\u001b[1;33m\u001b[0m\u001b[1;33m\u001b[0m\u001b[0m\n",
      "\u001b[1;31mTypeError\u001b[0m: 'int' object is not iterable"
     ]
    }
   ],
   "source": [
    "# Example\n",
    "a = 45\n",
    "for i in a:\n",
    "    print(i)"
   ]
  },
  {
   "cell_type": "code",
   "execution_count": 67,
   "id": "8d971358",
   "metadata": {},
   "outputs": [],
   "source": [
    "# 'int' object is not iterable"
   ]
  },
  {
   "cell_type": "code",
   "execution_count": 69,
   "id": "02715cf0",
   "metadata": {},
   "outputs": [
    {
     "name": "stdout",
     "output_type": "stream",
     "text": [
      "s\n",
      "u\n",
      "d\n",
      "h\n"
     ]
    }
   ],
   "source": [
    "# Example\n",
    "\n",
    "s = \"sudh\"\n",
    "for i in s:\n",
    "    print(i)"
   ]
  },
  {
   "cell_type": "code",
   "execution_count": 70,
   "id": "e3494f36",
   "metadata": {},
   "outputs": [],
   "source": [
    "# Here \"str\" is an iterable object"
   ]
  },
  {
   "cell_type": "code",
   "execution_count": 71,
   "id": "7426c35d",
   "metadata": {},
   "outputs": [
    {
     "ename": "TypeError",
     "evalue": "'str' object is not an iterator",
     "output_type": "error",
     "traceback": [
      "\u001b[1;31m---------------------------------------------------------------------------\u001b[0m",
      "\u001b[1;31mTypeError\u001b[0m                                 Traceback (most recent call last)",
      "\u001b[1;32m~\\AppData\\Local\\Temp\\ipykernel_6680\\1709498512.py\u001b[0m in \u001b[0;36m<module>\u001b[1;34m\u001b[0m\n\u001b[0;32m      1\u001b[0m \u001b[1;31m# Example\u001b[0m\u001b[1;33m\u001b[0m\u001b[1;33m\u001b[0m\u001b[0m\n\u001b[1;32m----> 2\u001b[1;33m \u001b[0mnext\u001b[0m\u001b[1;33m(\u001b[0m\u001b[0ms\u001b[0m\u001b[1;33m)\u001b[0m\u001b[1;33m\u001b[0m\u001b[1;33m\u001b[0m\u001b[0m\n\u001b[0m",
      "\u001b[1;31mTypeError\u001b[0m: 'str' object is not an iterator"
     ]
    }
   ],
   "source": [
    "# Example\n",
    "next(s)"
   ]
  },
  {
   "cell_type": "code",
   "execution_count": 72,
   "id": "53879545",
   "metadata": {},
   "outputs": [],
   "source": [
    "# 'str' object is not an iterator"
   ]
  },
  {
   "cell_type": "markdown",
   "id": "787364de",
   "metadata": {},
   "source": [
    "What is the difference btw iterable and iterator"
   ]
  },
  {
   "cell_type": "code",
   "execution_count": 100,
   "id": "8d677dc0",
   "metadata": {},
   "outputs": [
    {
     "data": {
      "text/plain": [
       "'\\n1. If an object is holding values and if we are able to access it using index, that is a iterable object\\n2. But Its not necessary that will be an iterator object\\n'"
      ]
     },
     "execution_count": 100,
     "metadata": {},
     "output_type": "execute_result"
    }
   ],
   "source": [
    "\"\"\"\n",
    "1. If an object is holding values and if we are able to access it using index, that is a iterable object\n",
    "2. But Its not necessary that will be an iterator object\n",
    "3. list, tuple, str etc have to converted into iterator by iter()\n",
    "4. non iterable objects cannot be converted into iterable or iterator\n",
    "5. All iterable can be converted to iterator\n",
    "\"\"\""
   ]
  },
  {
   "cell_type": "code",
   "execution_count": 80,
   "id": "b47ffb72",
   "metadata": {},
   "outputs": [],
   "source": [
    "# How ro convert iterable into iterator\n",
    "# using iter()\n",
    "\n",
    "b = iter(s)"
   ]
  },
  {
   "cell_type": "code",
   "execution_count": 81,
   "id": "7e49a55b",
   "metadata": {},
   "outputs": [
    {
     "data": {
      "text/plain": [
       "<str_iterator at 0x2378a4a0430>"
      ]
     },
     "execution_count": 81,
     "metadata": {},
     "output_type": "execute_result"
    }
   ],
   "source": [
    "b"
   ]
  },
  {
   "cell_type": "code",
   "execution_count": 76,
   "id": "3fa92d2c",
   "metadata": {},
   "outputs": [
    {
     "data": {
      "text/plain": [
       "('s', 'u', 'd', 'h')"
      ]
     },
     "execution_count": 76,
     "metadata": {},
     "output_type": "execute_result"
    }
   ],
   "source": [
    "tuple(b)\n",
    "\n",
    "# tuple converted the b into a tuple.\n",
    "# for line 82 and lator I have to run line 81 again"
   ]
  },
  {
   "cell_type": "code",
   "execution_count": 82,
   "id": "0d125d8d",
   "metadata": {},
   "outputs": [
    {
     "data": {
      "text/plain": [
       "'s'"
      ]
     },
     "execution_count": 82,
     "metadata": {},
     "output_type": "execute_result"
    }
   ],
   "source": [
    "next(b)"
   ]
  },
  {
   "cell_type": "code",
   "execution_count": 83,
   "id": "2ef8c365",
   "metadata": {},
   "outputs": [
    {
     "data": {
      "text/plain": [
       "'u'"
      ]
     },
     "execution_count": 83,
     "metadata": {},
     "output_type": "execute_result"
    }
   ],
   "source": [
    "next(b)"
   ]
  },
  {
   "cell_type": "code",
   "execution_count": 90,
   "id": "b874da2f",
   "metadata": {},
   "outputs": [
    {
     "name": "stdout",
     "output_type": "stream",
     "text": [
      "k\n",
      "d\n",
      "s\n",
      "f\n",
      "h\n",
      "j\n"
     ]
    }
   ],
   "source": [
    "# So how for loop is working\n",
    "\n",
    "s= \"kdsfhj\"\n",
    "for i in s:\n",
    "    print(i)\n",
    "    \n",
    "# for loop is converting s into a itrator \n",
    "# and then its going one by one indixing it for the oprations"
   ]
  },
  {
   "cell_type": "code",
   "execution_count": 91,
   "id": "7aab90d9",
   "metadata": {},
   "outputs": [],
   "source": [
    "# We can do that without for loop as well \n",
    "# by using iter()\n",
    "\n",
    "s = iter(s)"
   ]
  },
  {
   "cell_type": "code",
   "execution_count": 92,
   "id": "83639978",
   "metadata": {},
   "outputs": [
    {
     "data": {
      "text/plain": [
       "'k'"
      ]
     },
     "execution_count": 92,
     "metadata": {},
     "output_type": "execute_result"
    }
   ],
   "source": [
    "next(s)"
   ]
  },
  {
   "cell_type": "code",
   "execution_count": 93,
   "id": "32a155d6",
   "metadata": {},
   "outputs": [
    {
     "data": {
      "text/plain": [
       "'d'"
      ]
     },
     "execution_count": 93,
     "metadata": {},
     "output_type": "execute_result"
    }
   ],
   "source": [
    "next(s)"
   ]
  },
  {
   "cell_type": "code",
   "execution_count": 94,
   "id": "7b519d5e",
   "metadata": {},
   "outputs": [
    {
     "data": {
      "text/plain": [
       "'s'"
      ]
     },
     "execution_count": 94,
     "metadata": {},
     "output_type": "execute_result"
    }
   ],
   "source": [
    "next(s)"
   ]
  },
  {
   "cell_type": "code",
   "execution_count": 95,
   "id": "5061b575",
   "metadata": {},
   "outputs": [
    {
     "data": {
      "text/plain": [
       "'f'"
      ]
     },
     "execution_count": 95,
     "metadata": {},
     "output_type": "execute_result"
    }
   ],
   "source": [
    "next(s)"
   ]
  },
  {
   "cell_type": "code",
   "execution_count": 96,
   "id": "f3090b9d",
   "metadata": {},
   "outputs": [
    {
     "data": {
      "text/plain": [
       "'h'"
      ]
     },
     "execution_count": 96,
     "metadata": {},
     "output_type": "execute_result"
    }
   ],
   "source": [
    "next(s)"
   ]
  },
  {
   "cell_type": "code",
   "execution_count": 97,
   "id": "c2ef3773",
   "metadata": {},
   "outputs": [
    {
     "data": {
      "text/plain": [
       "'j'"
      ]
     },
     "execution_count": 97,
     "metadata": {},
     "output_type": "execute_result"
    }
   ],
   "source": [
    "next(s)"
   ]
  },
  {
   "cell_type": "code",
   "execution_count": 98,
   "id": "b27e0b31",
   "metadata": {},
   "outputs": [
    {
     "ename": "StopIteration",
     "evalue": "",
     "output_type": "error",
     "traceback": [
      "\u001b[1;31m---------------------------------------------------------------------------\u001b[0m",
      "\u001b[1;31mStopIteration\u001b[0m                             Traceback (most recent call last)",
      "\u001b[1;32m~\\AppData\\Local\\Temp\\ipykernel_6680\\1977886155.py\u001b[0m in \u001b[0;36m<module>\u001b[1;34m\u001b[0m\n\u001b[1;32m----> 1\u001b[1;33m \u001b[0mnext\u001b[0m\u001b[1;33m(\u001b[0m\u001b[0ms\u001b[0m\u001b[1;33m)\u001b[0m\u001b[1;33m\u001b[0m\u001b[1;33m\u001b[0m\u001b[0m\n\u001b[0m",
      "\u001b[1;31mStopIteration\u001b[0m: "
     ]
    }
   ],
   "source": [
    "next(s)"
   ]
  },
  {
   "cell_type": "code",
   "execution_count": 99,
   "id": "1b4e5290",
   "metadata": {},
   "outputs": [],
   "source": [
    "# untill it exhaustes itself"
   ]
  },
  {
   "cell_type": "code",
   "execution_count": 101,
   "id": "2798c7c2",
   "metadata": {},
   "outputs": [],
   "source": [
    "l2 = [2,34,5,6,7]"
   ]
  },
  {
   "cell_type": "code",
   "execution_count": 102,
   "id": "068ac871",
   "metadata": {},
   "outputs": [
    {
     "ename": "TypeError",
     "evalue": "'list' object is not an iterator",
     "output_type": "error",
     "traceback": [
      "\u001b[1;31m---------------------------------------------------------------------------\u001b[0m",
      "\u001b[1;31mTypeError\u001b[0m                                 Traceback (most recent call last)",
      "\u001b[1;32m~\\AppData\\Local\\Temp\\ipykernel_6680\\1441700565.py\u001b[0m in \u001b[0;36m<module>\u001b[1;34m\u001b[0m\n\u001b[1;32m----> 1\u001b[1;33m \u001b[0mnext\u001b[0m\u001b[1;33m(\u001b[0m\u001b[0ml2\u001b[0m\u001b[1;33m)\u001b[0m\u001b[1;33m\u001b[0m\u001b[1;33m\u001b[0m\u001b[0m\n\u001b[0m",
      "\u001b[1;31mTypeError\u001b[0m: 'list' object is not an iterator"
     ]
    }
   ],
   "source": [
    "next(l2)\n",
    "# list is not iterator\n",
    "# have to convert it into iterable"
   ]
  },
  {
   "cell_type": "code",
   "execution_count": 103,
   "id": "3c1ba454",
   "metadata": {},
   "outputs": [
    {
     "ename": "TypeError",
     "evalue": "'int' object is not iterable",
     "output_type": "error",
     "traceback": [
      "\u001b[1;31m---------------------------------------------------------------------------\u001b[0m",
      "\u001b[1;31mTypeError\u001b[0m                                 Traceback (most recent call last)",
      "\u001b[1;32m~\\AppData\\Local\\Temp\\ipykernel_6680\\1695914561.py\u001b[0m in \u001b[0;36m<module>\u001b[1;34m\u001b[0m\n\u001b[1;32m----> 1\u001b[1;33m \u001b[0miter\u001b[0m\u001b[1;33m(\u001b[0m\u001b[1;36m45\u001b[0m\u001b[1;33m)\u001b[0m\u001b[1;33m\u001b[0m\u001b[1;33m\u001b[0m\u001b[0m\n\u001b[0m\u001b[0;32m      2\u001b[0m \u001b[1;33m\u001b[0m\u001b[0m\n\u001b[0;32m      3\u001b[0m \u001b[1;31m# 'int' is not a iterable\u001b[0m\u001b[1;33m\u001b[0m\u001b[1;33m\u001b[0m\u001b[0m\n",
      "\u001b[1;31mTypeError\u001b[0m: 'int' object is not iterable"
     ]
    }
   ],
   "source": [
    "iter(45)\n",
    "\n",
    "# 'int' is not a iterable"
   ]
  },
  {
   "cell_type": "code",
   "execution_count": 104,
   "id": "df425ac2",
   "metadata": {},
   "outputs": [],
   "source": [
    "l = iter(l2)"
   ]
  },
  {
   "cell_type": "code",
   "execution_count": 105,
   "id": "f28bf021",
   "metadata": {},
   "outputs": [
    {
     "data": {
      "text/plain": [
       "2"
      ]
     },
     "execution_count": 105,
     "metadata": {},
     "output_type": "execute_result"
    }
   ],
   "source": [
    "next(l)"
   ]
  },
  {
   "cell_type": "code",
   "execution_count": 106,
   "id": "679a7efb",
   "metadata": {},
   "outputs": [
    {
     "data": {
      "text/plain": [
       "34"
      ]
     },
     "execution_count": 106,
     "metadata": {},
     "output_type": "execute_result"
    }
   ],
   "source": [
    "next(l)"
   ]
  },
  {
   "cell_type": "code",
   "execution_count": 107,
   "id": "6b9c7618",
   "metadata": {},
   "outputs": [],
   "source": [
    "# untill the list is exhausted"
   ]
  },
  {
   "cell_type": "code",
   "execution_count": null,
   "id": "ff3565ac",
   "metadata": {},
   "outputs": [],
   "source": []
  }
 ],
 "metadata": {
  "kernelspec": {
   "display_name": "Python 3 (ipykernel)",
   "language": "python",
   "name": "python3"
  },
  "language_info": {
   "codemirror_mode": {
    "name": "ipython",
    "version": 3
   },
   "file_extension": ".py",
   "mimetype": "text/x-python",
   "name": "python",
   "nbconvert_exporter": "python",
   "pygments_lexer": "ipython3",
   "version": "3.11.4"
  }
 },
 "nbformat": 4,
 "nbformat_minor": 5
}

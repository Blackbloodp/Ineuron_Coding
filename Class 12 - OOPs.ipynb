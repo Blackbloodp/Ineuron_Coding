{
 "cells": [
  {
   "cell_type": "markdown",
   "id": "914e6fdf",
   "metadata": {},
   "source": [
    "# OOP:- Object-Oriented Programming"
   ]
  },
  {
   "cell_type": "code",
   "execution_count": 1,
   "id": "86fb1ae2",
   "metadata": {},
   "outputs": [],
   "source": [
    "class car:\n",
    "    # It is necessary to add somthing in the class\n",
    "    # We can write 'pass' to avoid error\n",
    "    def __init__(self, brand_name, fule_type, body_type):\n",
    "        # the attribute self can be anything used for initializing\n",
    "        # It acts as a pointer for the other attributes\n",
    "        # \"self\" is not a keyword, you can any char there\n",
    "        self.brand_name = brand_name\n",
    "        self.fule_type = fule_type\n",
    "        self.body_type = body_type\n",
    "        # self.body_type can also be written as self.a or any other char\n",
    "        # Its notspecific to the attribute name\n",
    "    \n",
    "    def desc_car(self):\n",
    "        print(self.brand_name, self.fule_type, self.body_type)"
   ]
  },
  {
   "cell_type": "code",
   "execution_count": null,
   "id": "00eb1f92",
   "metadata": {},
   "outputs": [],
   "source": [
    "\"\"\"\n",
    "__init__ is a special method (sometimes called a \"magic method\"\n",
    "or \"dunder method\") that is automatically called\n",
    "when an object of a class is created. \n",
    "It stands for \"initialize\" and is used to initialize\n",
    "the attributes (properties) of an object.\n",
    "\n",
    "It is not necessary to add this __init__ to satrt a class\n",
    "We can create a class without it as well. \n",
    "\n",
    "It calls for the input of the class\n",
    "Its a ' constructor'\n",
    "\n",
    "Defining __init__: In a class definition,\n",
    "you can include an __init__ method.\n",
    "This method takes at least one argument,\n",
    "conventionally named 'self',\n",
    "which refers to the instance of the object being created.\n",
    "\"\"\""
   ]
  },
  {
   "cell_type": "code",
   "execution_count": 2,
   "id": "a1ed1767",
   "metadata": {},
   "outputs": [
    {
     "ename": "TypeError",
     "evalue": "car.__init__() missing 3 required positional arguments: 'brand_name', 'fule_type', and 'body_type'",
     "output_type": "error",
     "traceback": [
      "\u001b[1;31m---------------------------------------------------------------------------\u001b[0m",
      "\u001b[1;31mTypeError\u001b[0m                                 Traceback (most recent call last)",
      "Cell \u001b[1;32mIn[2], line 1\u001b[0m\n\u001b[1;32m----> 1\u001b[0m innova \u001b[38;5;241m=\u001b[39m \u001b[43mcar\u001b[49m\u001b[43m(\u001b[49m\u001b[43m)\u001b[49m\n\u001b[0;32m      3\u001b[0m \u001b[38;5;66;03m# Here the the init needs 3 argument\u001b[39;00m\n\u001b[0;32m      4\u001b[0m \u001b[38;5;66;03m# brand_name, fule_type and brand_name \u001b[39;00m\n",
      "\u001b[1;31mTypeError\u001b[0m: car.__init__() missing 3 required positional arguments: 'brand_name', 'fule_type', and 'body_type'"
     ]
    }
   ],
   "source": [
    "innova = car()\n",
    "\n",
    "# Here the the init needs 3 argument\n",
    "# brand_name, fule_type and brand_name "
   ]
  },
  {
   "cell_type": "code",
   "execution_count": 3,
   "id": "5a79415b",
   "metadata": {},
   "outputs": [],
   "source": [
    "innova = car(\"toyota\", \"petrol\", \"suv\")"
   ]
  },
  {
   "cell_type": "code",
   "execution_count": 4,
   "id": "ae6a3d51",
   "metadata": {},
   "outputs": [
    {
     "name": "stdout",
     "output_type": "stream",
     "text": [
      "toyota petrol suv\n"
     ]
    }
   ],
   "source": [
    "innova.desc_car()\n",
    "# This calles a function in that class\n",
    "# That is why you have to add ()"
   ]
  },
  {
   "cell_type": "code",
   "execution_count": 5,
   "id": "82f1d9ec",
   "metadata": {},
   "outputs": [
    {
     "data": {
      "text/plain": [
       "'toyota'"
      ]
     },
     "execution_count": 5,
     "metadata": {},
     "output_type": "execute_result"
    }
   ],
   "source": [
    "innova.brand_name\n",
    "# But here you are calling an attribute so no need of ()"
   ]
  },
  {
   "cell_type": "code",
   "execution_count": 6,
   "id": "56f262d1",
   "metadata": {},
   "outputs": [],
   "source": [
    "innova = car(\"toyota\", \"petrol\", \"suv\")\n",
    "nexon = car(\"tata\", \"petrol\", \"hatchback\")\n",
    "fortuner = car(\"toyota\", \"desiel\", \"sedan\")"
   ]
  },
  {
   "cell_type": "code",
   "execution_count": 7,
   "id": "98f396ba",
   "metadata": {},
   "outputs": [
    {
     "name": "stdout",
     "output_type": "stream",
     "text": [
      "tata petrol hatchback\n"
     ]
    }
   ],
   "source": [
    "nexon.desc_car()"
   ]
  },
  {
   "cell_type": "code",
   "execution_count": 8,
   "id": "e22f2970",
   "metadata": {},
   "outputs": [
    {
     "data": {
      "text/plain": [
       "'sedan'"
      ]
     },
     "execution_count": 8,
     "metadata": {},
     "output_type": "execute_result"
    }
   ],
   "source": [
    "fortuner.body_type"
   ]
  },
  {
   "cell_type": "code",
   "execution_count": null,
   "id": "60bf237a",
   "metadata": {},
   "outputs": [],
   "source": [
    "# NOTE (VERY IMP)\n",
    "\n",
    "\"\"\"\n",
    "From the above few codes we can say that \n",
    "\"car\" is a class\n",
    "AND\n",
    "innova, nexon and fortuner are its objects\n",
    "\"\"\""
   ]
  },
  {
   "cell_type": "code",
   "execution_count": 9,
   "id": "5fa17904",
   "metadata": {},
   "outputs": [
    {
     "name": "stdout",
     "output_type": "stream",
     "text": [
      "<class '__main__.car'>\n"
     ]
    }
   ],
   "source": [
    "print(type(innova))"
   ]
  },
  {
   "cell_type": "code",
   "execution_count": null,
   "id": "441416fb",
   "metadata": {},
   "outputs": [],
   "source": [
    "\"\"\"\n",
    "Here '__main__' is a super class that we are creating in the python code\n",
    "If we import it from somewhere else it will be imported module. \n",
    "\n",
    "As you can see in the example below once the class is imported \n",
    "the type is mentioned as module not main\n",
    "\"\"\""
   ]
  },
  {
   "cell_type": "code",
   "execution_count": 25,
   "id": "0a8d870c",
   "metadata": {},
   "outputs": [
    {
     "name": "stdout",
     "output_type": "stream",
     "text": [
      "C:\\Users\\win\\Ineuron Classes\n",
      "<class 'module'>\n"
     ]
    }
   ],
   "source": [
    "import os\n",
    "a = os.getcwd()\n",
    "print(a)\n",
    "print(type(os))"
   ]
  },
  {
   "cell_type": "code",
   "execution_count": 12,
   "id": "dfaceab0",
   "metadata": {},
   "outputs": [
    {
     "name": "stdout",
     "output_type": "stream",
     "text": [
      "<class 'int'>\n"
     ]
    }
   ],
   "source": [
    "a = 4\n",
    "print(type(a))"
   ]
  },
  {
   "cell_type": "code",
   "execution_count": 13,
   "id": "6a626604",
   "metadata": {},
   "outputs": [],
   "source": [
    "# We can create a class without any function in it as well\n",
    "class test:\n",
    "    pass"
   ]
  },
  {
   "cell_type": "code",
   "execution_count": 17,
   "id": "37b84ddc",
   "metadata": {},
   "outputs": [],
   "source": [
    "# Or without the \"__init__\" function\n",
    "class test:\n",
    "    def test1(kush, b, c):\n",
    "        print('The 2 variables are %s and %s' % (b, c))"
   ]
  },
  {
   "cell_type": "code",
   "execution_count": 18,
   "id": "934b20f9",
   "metadata": {},
   "outputs": [],
   "source": [
    "x = test()"
   ]
  },
  {
   "cell_type": "code",
   "execution_count": 19,
   "id": "3ee81932",
   "metadata": {},
   "outputs": [
    {
     "name": "stdout",
     "output_type": "stream",
     "text": [
      "The 2 variables are 4 and 5\n"
     ]
    }
   ],
   "source": [
    "x.test1(4,5)"
   ]
  },
  {
   "cell_type": "code",
   "execution_count": 11,
   "id": "14194ffc",
   "metadata": {},
   "outputs": [
    {
     "name": "stdout",
     "output_type": "stream",
     "text": [
      "The 2 variables are 4 and 5\n",
      "The 2 variables are 4 and 5\n"
     ]
    }
   ],
   "source": [
    "b = 4\n",
    "c = 5\n",
    "print(\"The 2 variables are %s and %s\" % (b, c))\n",
    "# OR\n",
    "print(f\"The 2 variables are {b} and {c}\")"
   ]
  },
  {
   "cell_type": "code",
   "execution_count": 10,
   "id": "f95ad2bc",
   "metadata": {},
   "outputs": [],
   "source": [
    "# Note (VERY IMP)\n",
    "# We camn also use the pointer variable into other methods in a class\n",
    "# to use same input form \"__init__\" in every method\n",
    "\n",
    "class list_parser:\n",
    "    def __init__(self, list1):\n",
    "        self.l = list1\n",
    "        \n",
    "    def value(self):\n",
    "        if type(self.l) == list:\n",
    "            for i in self.l:\n",
    "                print(i)\n",
    "            \n",
    "    def reverse(self):\n",
    "        if type(self.l) == list:\n",
    "            return self.l[::-1]"
   ]
  },
  {
   "cell_type": "code",
   "execution_count": 11,
   "id": "fc579b8b",
   "metadata": {},
   "outputs": [],
   "source": [
    "c = list_parser([1,2,3,56,78,92,0])"
   ]
  },
  {
   "cell_type": "code",
   "execution_count": 12,
   "id": "9f3bc3f2",
   "metadata": {},
   "outputs": [
    {
     "name": "stdout",
     "output_type": "stream",
     "text": [
      "1\n",
      "2\n",
      "3\n",
      "56\n",
      "78\n",
      "92\n",
      "0\n"
     ]
    }
   ],
   "source": [
    "c.value()"
   ]
  },
  {
   "cell_type": "code",
   "execution_count": 13,
   "id": "44ed9ff9",
   "metadata": {},
   "outputs": [
    {
     "data": {
      "text/plain": [
       "[0, 92, 78, 56, 3, 2, 1]"
      ]
     },
     "execution_count": 13,
     "metadata": {},
     "output_type": "execute_result"
    }
   ],
   "source": [
    "c.reverse()"
   ]
  },
  {
   "cell_type": "code",
   "execution_count": 14,
   "id": "ea030db6",
   "metadata": {},
   "outputs": [
    {
     "data": {
      "text/plain": [
       "[1, 2, 3, 56, 78, 92, 0]"
      ]
     },
     "execution_count": 14,
     "metadata": {},
     "output_type": "execute_result"
    }
   ],
   "source": [
    "c.l"
   ]
  },
  {
   "cell_type": "code",
   "execution_count": 39,
   "id": "0c648d77",
   "metadata": {},
   "outputs": [],
   "source": [
    "class dic_parser:\n",
    "    def __init__(self, disc):\n",
    "        self.dic = disc\n",
    "    \n",
    "    def getkey(self):\n",
    "        if type(self.dic) == dict:\n",
    "            return self.dic.keys()\n",
    "        else:\n",
    "            raise Exception(f\"Invalid file format: {self.dic}\")\n",
    "            \n",
    "    def getvalue(self):\n",
    "        if type(self.dic) == dict:\n",
    "            return self.dic.values()\n",
    "        else:\n",
    "            raise Exception(f\"Invalid file format: {self.dic}\")\n",
    "            \n",
    "    def user_input_dict(self,key,value):\n",
    "        try:\n",
    "            self.dic = {}\n",
    "            self.dic[key] = value\n",
    "            return self.dic\n",
    "        except:\n",
    "            raise Exception(f\"Invalid file format: {key,value}\")\n",
    "\n",
    "# user input can also be done through eval function\n",
    "    def user_input_dict1(self):\n",
    "        try:\n",
    "            self.dic = eval(input(\"Enter an dictionary here: \"))\n",
    "            # eval() here will convert a dictionart input into dict\n",
    "            return self.getkey(), self.getvalue()\n",
    "            # Here we are using above mentioned methods\n",
    "            # to get the result for another method \n",
    "        except:\n",
    "            raise Exception(f\"Invalid file format: {self.dic}\")\n",
    "            \n",
    "# Alternate user input function for disctionary\n",
    "    def user_input_dict2(self):\n",
    "        self.dic = {}\n",
    "        while True:\n",
    "            key = input(\"Enter you key. Type 'exit' to exit: \")\n",
    "            value = input(\"Enter your value. Type 'exit' to exit: \")\n",
    "            if key == \"exit\" or value == \"exit\":\n",
    "                break\n",
    "            self.dic[key] = value\n",
    "        return self.dic\n",
    "    \n",
    "    def add_element(self,key,value):\n",
    "            self.dic[key] = value\n",
    "            if type(self.dic) == dict:\n",
    "                return self.dic\n",
    "            else:\n",
    "                raise Exception(f\"Invalid file format: {self.dic}\")"
   ]
  },
  {
   "cell_type": "code",
   "execution_count": 30,
   "id": "f8894947",
   "metadata": {},
   "outputs": [],
   "source": [
    "dict1 = dic_parser({\"key1\": 64, \"key2\": \"hi\", \"key3\": 56})"
   ]
  },
  {
   "cell_type": "code",
   "execution_count": 31,
   "id": "df03a925",
   "metadata": {},
   "outputs": [
    {
     "name": "stdout",
     "output_type": "stream",
     "text": [
      "dict_keys(['key1', 'key2', 'key3'])\n"
     ]
    }
   ],
   "source": [
    "a = dict1.getkey()\n",
    "print(a)"
   ]
  },
  {
   "cell_type": "code",
   "execution_count": 32,
   "id": "f51caf8a",
   "metadata": {},
   "outputs": [
    {
     "name": "stdout",
     "output_type": "stream",
     "text": [
      "{'key1': 64, 'key2': 'hi', 'key3': 56, 'kud': 57}\n"
     ]
    }
   ],
   "source": [
    "a = dict1.add_element(\"kud\",57)\n",
    "print(a)"
   ]
  },
  {
   "cell_type": "code",
   "execution_count": 33,
   "id": "35e6168c",
   "metadata": {},
   "outputs": [
    {
     "data": {
      "text/plain": [
       "{'kush': 45}"
      ]
     },
     "execution_count": 33,
     "metadata": {},
     "output_type": "execute_result"
    }
   ],
   "source": [
    "dict1.user_input_dict(\"kush\",45)"
   ]
  },
  {
   "cell_type": "code",
   "execution_count": 28,
   "id": "9aae8057",
   "metadata": {},
   "outputs": [
    {
     "name": "stdout",
     "output_type": "stream",
     "text": [
      "Enter an dictionary here: {\"key1\":45,\"key2\":\"hi\",\"key3\":5j+1}\n",
      "(dict_keys(['key1', 'key2', 'key3']), dict_values([45, 'hi', (1+5j)]))\n"
     ]
    }
   ],
   "source": [
    "a = dict1.user_input_dict1()\n",
    "print(a)"
   ]
  },
  {
   "cell_type": "code",
   "execution_count": 35,
   "id": "0ddab56e",
   "metadata": {},
   "outputs": [
    {
     "name": "stdout",
     "output_type": "stream",
     "text": [
      "Enter you key. Type 'exit' to exitkush\n",
      "Enter your value. Type 'exit' to exit45\n",
      "Enter you key. Type 'exit' to exitkey2\n",
      "Enter your value. Type 'exit' to exit5j+4\n",
      "Enter you key. Type 'exit' to exitkashyap\n",
      "Enter your value. Type 'exit' to exitexit\n"
     ]
    }
   ],
   "source": [
    "a = dict1.user_input_dict2()"
   ]
  },
  {
   "cell_type": "code",
   "execution_count": 36,
   "id": "01c0f699",
   "metadata": {},
   "outputs": [
    {
     "name": "stdout",
     "output_type": "stream",
     "text": [
      "{'kush': '45', 'key2': '5j+4'}\n"
     ]
    }
   ],
   "source": [
    "print(a)"
   ]
  },
  {
   "cell_type": "code",
   "execution_count": 37,
   "id": "062eb57f",
   "metadata": {},
   "outputs": [],
   "source": [
    "# We can also use recursion in the class methods\n",
    "\n",
    "class dic_parser1:\n",
    "    def __init__(self,d):\n",
    "        self.d = d\n",
    "    \n",
    "    # Defining a function to check dict\n",
    "    def notdict(self):\n",
    "        if type(self.d) != dict:\n",
    "            raise Exception(f\"Not a dictionary: {self.d}\")\n",
    "        else:\n",
    "            return 1 # returning True\n",
    "        \n",
    "    # Now using that same notdict() function for other functions\n",
    "    def getkeys(self):\n",
    "        if self.notdict():\n",
    "        # Here we are using the function defined above in a new function\n",
    "        # notdict() function can be defined below all the other \n",
    "        # functions as well. Not necessary it has to be at top\n",
    "            return list(self.d.keys)\n",
    "    \n",
    "    def getvalues(self):\n",
    "        if self.notdict():\n",
    "            return list(self.d.values)"
   ]
  },
  {
   "cell_type": "code",
   "execution_count": 38,
   "id": "d1747574",
   "metadata": {},
   "outputs": [
    {
     "data": {
      "text/plain": [
       "<_io.TextIOWrapper name='mydict.py' mode='w' encoding='cp1252'>"
      ]
     },
     "execution_count": 38,
     "metadata": {},
     "output_type": "execute_result"
    }
   ],
   "source": [
    "open(\"mydict.py\", \"w\")"
   ]
  },
  {
   "cell_type": "code",
   "execution_count": 40,
   "id": "43ebfa2b",
   "metadata": {},
   "outputs": [],
   "source": [
    "# Now I have changed the class name there\n",
    "# Copied the same 'dic_parser' class\n",
    "# Since its from same working directory. We can directly import\n",
    "import mydict"
   ]
  },
  {
   "cell_type": "code",
   "execution_count": 41,
   "id": "476315e3",
   "metadata": {},
   "outputs": [],
   "source": [
    "# Need to assign a object variable to call the class functions\n",
    "d = mydict.dict_parser({\"k1\": \"kush\", \"k2\": 5j+8, \"k3\": [2,4,6,78]})"
   ]
  },
  {
   "cell_type": "code",
   "execution_count": 42,
   "id": "66067cdc",
   "metadata": {},
   "outputs": [
    {
     "data": {
      "text/plain": [
       "dict_keys(['k1', 'k2', 'k3'])"
      ]
     },
     "execution_count": 42,
     "metadata": {},
     "output_type": "execute_result"
    }
   ],
   "source": [
    "# Now calling the funtions/methods form that class\n",
    "d.getkey()"
   ]
  },
  {
   "cell_type": "markdown",
   "id": "4698733f",
   "metadata": {},
   "source": [
    "# Inheritance"
   ]
  },
  {
   "cell_type": "code",
   "execution_count": null,
   "id": "e94fb832",
   "metadata": {},
   "outputs": [],
   "source": [
    "\"\"\"\n",
    "Inheritance is one of the fundamental concepts\n",
    "of object-oriented programming (OOP).\n",
    "It allows you to create a new class\n",
    "that is a modified version of an existing class. \n",
    "\n",
    "The existing class is referred to as the \"base class\" or \"parent class\",\n",
    "and the new class is referred to as the \"derived class\" or \"child class\".\n",
    "Inheritance enables code reuse and the creation of a hierarchy of classes.\n",
    "\"\"\""
   ]
  },
  {
   "cell_type": "code",
   "execution_count": 1,
   "id": "955068dd",
   "metadata": {},
   "outputs": [],
   "source": [
    "class xyz:\n",
    "    def __init__(self, a, b, c):\n",
    "        self.a = a\n",
    "        self.b = b\n",
    "        self.c = c\n",
    "    \n",
    "    def test(self):\n",
    "        print(\"This is my test inheritance\")\n",
    "        \n",
    "    def test1(self):\n",
    "        print(\"This is the 2nd base class function\")\n",
    "        \n",
    "    def test2(self):\n",
    "        print(\"This is my 3rd base class function\")\n"
   ]
  },
  {
   "cell_type": "code",
   "execution_count": 2,
   "id": "dd1778b4",
   "metadata": {},
   "outputs": [],
   "source": [
    "# Once we mention the base class inside ()\n",
    "# The new class will become child class of the base one\n",
    "class xyz1(xyz):\n",
    "    pass"
   ]
  },
  {
   "cell_type": "code",
   "execution_count": 3,
   "id": "3ec90735",
   "metadata": {},
   "outputs": [
    {
     "name": "stdout",
     "output_type": "stream",
     "text": [
      "This is the 2nd base class function\n"
     ]
    }
   ],
   "source": [
    "p = xyz(2,3,4)\n",
    "p.test1()"
   ]
  },
  {
   "cell_type": "code",
   "execution_count": 4,
   "id": "6d7bb5da",
   "metadata": {},
   "outputs": [
    {
     "ename": "TypeError",
     "evalue": "xyz.__init__() missing 3 required positional arguments: 'a', 'b', and 'c'",
     "output_type": "error",
     "traceback": [
      "\u001b[1;31m---------------------------------------------------------------------------\u001b[0m",
      "\u001b[1;31mTypeError\u001b[0m                                 Traceback (most recent call last)",
      "Cell \u001b[1;32mIn[4], line 1\u001b[0m\n\u001b[1;32m----> 1\u001b[0m q \u001b[38;5;241m=\u001b[39m \u001b[43mxyz1\u001b[49m\u001b[43m(\u001b[49m\u001b[43m)\u001b[49m\n\u001b[0;32m      3\u001b[0m \u001b[38;5;66;03m# you will observe here that even after giving 'pass' inside the class\u001b[39;00m\n\u001b[0;32m      4\u001b[0m \u001b[38;5;66;03m# It is asking for the 3 variables from the base/parent class\u001b[39;00m\n\u001b[0;32m      5\u001b[0m \u001b[38;5;66;03m# So here we have to pass the 3 variables here\u001b[39;00m\n",
      "\u001b[1;31mTypeError\u001b[0m: xyz.__init__() missing 3 required positional arguments: 'a', 'b', and 'c'"
     ]
    }
   ],
   "source": [
    "q = xyz1()\n",
    "\n",
    "# you will observe here that even after giving 'pass' inside the class\n",
    "# It is asking for the 3 variables from the base/parent class\n",
    "# So here we have to pass the 3 variables here"
   ]
  },
  {
   "cell_type": "code",
   "execution_count": 5,
   "id": "798a194f",
   "metadata": {},
   "outputs": [
    {
     "name": "stdout",
     "output_type": "stream",
     "text": [
      "This is my 3rd base class function\n"
     ]
    }
   ],
   "source": [
    "q = xyz1(3,4,5)\n",
    "q.test2()\n",
    "\n",
    "# Simillarly using functions/methods form the parent/base class"
   ]
  },
  {
   "cell_type": "code",
   "execution_count": 6,
   "id": "88370842",
   "metadata": {},
   "outputs": [
    {
     "name": "stdout",
     "output_type": "stream",
     "text": [
      "This is a overriden method/function form base class\n",
      "This is my test inheritance\n"
     ]
    }
   ],
   "source": [
    "class xyz1(xyz):\n",
    "    def test(self):\n",
    "        print(\"This is a overriden method/function form base class\")\n",
    "        \n",
    "q = xyz1( 4,5,6)\n",
    "q.test()        \n",
    "# So when we call a overriden function for the object of the child class\n",
    "# The new (overriden) function/method will be used\n",
    "p.test()\n",
    "# But for the object of the parent class\n",
    "# the previous function/method will still work"
   ]
  },
  {
   "cell_type": "markdown",
   "id": "07380434",
   "metadata": {},
   "source": [
    "# Multi-class Inheritance"
   ]
  },
  {
   "cell_type": "code",
   "execution_count": 22,
   "id": "a32206d3",
   "metadata": {},
   "outputs": [],
   "source": [
    "class xyz2:\n",
    "    def __init__(self, p, q, v):\n",
    "        self.p = p\n",
    "        self.q = q\n",
    "        self.v = v\n",
    "    \n",
    "    def test3(self):\n",
    "        print(\"This is another class for multi-class inhirantance \")\n",
    "        \n",
    "# The child class below is inheriting from 2 classes\n",
    "# That is called as \"multi-class inheritance\"\n",
    "class child(xyz, xyz2):\n",
    "    # So this class will inheritance properties and methods \n",
    "    # from both the parent class \n",
    "    pass"
   ]
  },
  {
   "cell_type": "code",
   "execution_count": 23,
   "id": "d7701c71",
   "metadata": {},
   "outputs": [
    {
     "ename": "TypeError",
     "evalue": "xyz.__init__() missing 3 required positional arguments: 'a', 'b', and 'c'",
     "output_type": "error",
     "traceback": [
      "\u001b[1;31m---------------------------------------------------------------------------\u001b[0m",
      "\u001b[1;31mTypeError\u001b[0m                                 Traceback (most recent call last)",
      "Cell \u001b[1;32mIn[23], line 1\u001b[0m\n\u001b[1;32m----> 1\u001b[0m n \u001b[38;5;241m=\u001b[39m \u001b[43mchild\u001b[49m\u001b[43m(\u001b[49m\u001b[43m)\u001b[49m\n\u001b[0;32m      2\u001b[0m \u001b[38;5;66;03m# It will give error for the atribute again form \"__init__\" finction\u001b[39;00m\n",
      "\u001b[1;31mTypeError\u001b[0m: xyz.__init__() missing 3 required positional arguments: 'a', 'b', and 'c'"
     ]
    }
   ],
   "source": [
    "n = child()\n",
    "# It will give error for the atribute again form \"__init__\" finction"
   ]
  },
  {
   "cell_type": "code",
   "execution_count": 24,
   "id": "c5e04c81",
   "metadata": {},
   "outputs": [],
   "source": [
    "n = child(4,5,7)\n",
    "\n",
    "# in case of multi-class inheritance\n",
    "# The child clss will inherite the variables of only the first base class\n",
    "# but it will inherite methods from all the base classes. "
   ]
  },
  {
   "cell_type": "code",
   "execution_count": 25,
   "id": "f28f0375",
   "metadata": {},
   "outputs": [
    {
     "name": "stdout",
     "output_type": "stream",
     "text": [
      "This is another class for multi-class inhirantance \n"
     ]
    }
   ],
   "source": [
    "n.test3()"
   ]
  },
  {
   "cell_type": "code",
   "execution_count": 26,
   "id": "98b81578",
   "metadata": {},
   "outputs": [],
   "source": [
    "# Now how to inherite variables form the other parent/base class as well\n",
    "# That is achived by using '*args'\n",
    "# '*args' represents multiple agruments\n",
    "\n",
    "# But for this to work we need to initialize the class\n",
    "# by mentioning all the parent/base classes with '*args' as well\n",
    "# as shown below\n",
    "\n",
    "class child1(xyz,xyz2):\n",
    "    def __init__(self, *args):\n",
    "        xyz.__init__(self, *args)\n",
    "        xyz2.__init__(self, *args)\n",
    "        \n",
    "# "
   ]
  },
  {
   "cell_type": "code",
   "execution_count": 27,
   "id": "79f360a0",
   "metadata": {},
   "outputs": [],
   "source": [
    "m = child1(5,6,7)\n",
    "# It will still ask for the 1st base class's varaibles\n",
    "# but for functions it will take all the variables"
   ]
  },
  {
   "cell_type": "code",
   "execution_count": 29,
   "id": "5e01d6d9",
   "metadata": {},
   "outputs": [
    {
     "data": {
      "text/plain": [
       "5"
      ]
     },
     "execution_count": 29,
     "metadata": {},
     "output_type": "execute_result"
    }
   ],
   "source": [
    "m.p"
   ]
  },
  {
   "cell_type": "code",
   "execution_count": 49,
   "id": "19850295",
   "metadata": {},
   "outputs": [],
   "source": [
    "class xyz3:\n",
    "    def __init__(self, x, y):\n",
    "        self.x = x\n",
    "        self.y = y\n",
    "        \n",
    "    def test4(self):\n",
    "        print(\"This is form the class with only 2 arguments\")\n",
    "        \n",
    "class child2(xyz,xyz3):\n",
    "    def __init__(self, *args, **kwargs):\n",
    "        xyz.__init__(self, *args)\n",
    "        xyz3.__init__(self, **kwargs)"
   ]
  },
  {
   "cell_type": "code",
   "execution_count": 50,
   "id": "8c189af7",
   "metadata": {},
   "outputs": [
    {
     "ename": "TypeError",
     "evalue": "xyz3.__init__() missing 2 required positional arguments: 'x' and 'y'",
     "output_type": "error",
     "traceback": [
      "\u001b[1;31m---------------------------------------------------------------------------\u001b[0m",
      "\u001b[1;31mTypeError\u001b[0m                                 Traceback (most recent call last)",
      "Cell \u001b[1;32mIn[50], line 1\u001b[0m\n\u001b[1;32m----> 1\u001b[0m o \u001b[38;5;241m=\u001b[39m \u001b[43mchild2\u001b[49m\u001b[43m(\u001b[49m\u001b[38;5;241;43m4\u001b[39;49m\u001b[43m,\u001b[49m\u001b[38;5;241;43m8\u001b[39;49m\u001b[43m,\u001b[49m\u001b[38;5;241;43m6\u001b[39;49m\u001b[43m)\u001b[49m\n\u001b[0;32m      2\u001b[0m \u001b[38;5;66;03m# this will be an error because we have to pass\u001b[39;00m\n\u001b[0;32m      3\u001b[0m \u001b[38;5;66;03m# Because now we have initialized the child class with 2 different \u001b[39;00m\n\u001b[0;32m      4\u001b[0m \u001b[38;5;66;03m# set of varaibles for the 2 different base classes\u001b[39;00m\n",
      "Cell \u001b[1;32mIn[49], line 12\u001b[0m, in \u001b[0;36mchild2.__init__\u001b[1;34m(self, *args, **kwargs)\u001b[0m\n\u001b[0;32m     10\u001b[0m \u001b[38;5;28;01mdef\u001b[39;00m \u001b[38;5;21m__init__\u001b[39m(\u001b[38;5;28mself\u001b[39m, \u001b[38;5;241m*\u001b[39margs, \u001b[38;5;241m*\u001b[39m\u001b[38;5;241m*\u001b[39mkwargs):\n\u001b[0;32m     11\u001b[0m     xyz\u001b[38;5;241m.\u001b[39m\u001b[38;5;21m__init__\u001b[39m(\u001b[38;5;28mself\u001b[39m, \u001b[38;5;241m*\u001b[39margs)\n\u001b[1;32m---> 12\u001b[0m     \u001b[43mxyz3\u001b[49m\u001b[38;5;241;43m.\u001b[39;49m\u001b[38;5;21;43m__init__\u001b[39;49m\u001b[43m(\u001b[49m\u001b[38;5;28;43mself\u001b[39;49m\u001b[43m,\u001b[49m\u001b[43m \u001b[49m\u001b[38;5;241;43m*\u001b[39;49m\u001b[38;5;241;43m*\u001b[39;49m\u001b[43mkwargs\u001b[49m\u001b[43m)\u001b[49m\n",
      "\u001b[1;31mTypeError\u001b[0m: xyz3.__init__() missing 2 required positional arguments: 'x' and 'y'"
     ]
    }
   ],
   "source": [
    "o = child2(4,8,6)\n",
    "# this will be an error because we have to pass\n",
    "# Because now we have initialized the child class with 2 different \n",
    "# set of varaibles for the 2 different base classes"
   ]
  },
  {
   "cell_type": "code",
   "execution_count": 52,
   "id": "b67268e4",
   "metadata": {},
   "outputs": [],
   "source": [
    "# For that we also have to define all the variables \n",
    "# of the other base class (which have 2 variables x and y)\n",
    "# and we have to do this by passing them as key-value pair\n",
    "o = child2(4,3,2,x = 5, y = 29)"
   ]
  },
  {
   "cell_type": "code",
   "execution_count": 53,
   "id": "56950701",
   "metadata": {},
   "outputs": [
    {
     "name": "stdout",
     "output_type": "stream",
     "text": [
      "This is form the class with only 2 arguments\n"
     ]
    }
   ],
   "source": [
    "o.test4()"
   ]
  },
  {
   "cell_type": "code",
   "execution_count": 54,
   "id": "b93a5fe3",
   "metadata": {},
   "outputs": [
    {
     "name": "stdout",
     "output_type": "stream",
     "text": [
      "5\n",
      "29\n"
     ]
    }
   ],
   "source": [
    "print(o.x)\n",
    "print(o.y)"
   ]
  },
  {
   "cell_type": "markdown",
   "id": "42ba6bbd",
   "metadata": {},
   "source": [
    "# Multi-Level Inheritance"
   ]
  },
  {
   "cell_type": "code",
   "execution_count": 58,
   "id": "ef0ebd98",
   "metadata": {},
   "outputs": [],
   "source": [
    "class xyz:\n",
    "    def __init__(self, a, b, c):\n",
    "        self.a = a\n",
    "        self.b = b\n",
    "        self.c = c\n",
    "    \n",
    "    def test(self):\n",
    "        print(\"This is my test inheritance\")\n",
    "        \n",
    "    def test1(self):\n",
    "        print(\"This is the 2nd base class function\")\n",
    "        \n",
    "    def test2(self):\n",
    "        print(\"This is my 3rd base class function\")\n",
    "        \n",
    "class xyz4(xyz):\n",
    "    def test3(self):\n",
    "        print(\"This is the 1st level of inheritance\")\n",
    "        \n",
    "class xyz5(xyz4):\n",
    "    def test4(self):\n",
    "        print(\"This is the 2nd level of inheritance\")"
   ]
  },
  {
   "cell_type": "code",
   "execution_count": 59,
   "id": "1b48d9b9",
   "metadata": {},
   "outputs": [
    {
     "ename": "TypeError",
     "evalue": "xyz.__init__() missing 3 required positional arguments: 'a', 'b', and 'c'",
     "output_type": "error",
     "traceback": [
      "\u001b[1;31m---------------------------------------------------------------------------\u001b[0m",
      "\u001b[1;31mTypeError\u001b[0m                                 Traceback (most recent call last)",
      "Cell \u001b[1;32mIn[59], line 1\u001b[0m\n\u001b[1;32m----> 1\u001b[0m v \u001b[38;5;241m=\u001b[39m \u001b[43mxyz5\u001b[49m\u001b[43m(\u001b[49m\u001b[43m)\u001b[49m\n",
      "\u001b[1;31mTypeError\u001b[0m: xyz.__init__() missing 3 required positional arguments: 'a', 'b', and 'c'"
     ]
    }
   ],
   "source": [
    "v = xyz5()\n",
    "# This will give error because its the 1st parent (Grand parents) \n",
    "# has variables a, b and c"
   ]
  },
  {
   "cell_type": "code",
   "execution_count": 60,
   "id": "cbc51952",
   "metadata": {},
   "outputs": [],
   "source": [
    "v = xyz5(4,7,8)"
   ]
  },
  {
   "cell_type": "code",
   "execution_count": 61,
   "id": "17a4ea2b",
   "metadata": {},
   "outputs": [
    {
     "name": "stdout",
     "output_type": "stream",
     "text": [
      "This is my test inheritance\n"
     ]
    }
   ],
   "source": [
    "v.test()\n",
    "# All the methods form all 3 levels are available"
   ]
  },
  {
   "cell_type": "code",
   "execution_count": 62,
   "id": "e99e232d",
   "metadata": {},
   "outputs": [],
   "source": [
    "# This can be doen for as many leves we want\n",
    "class xyz6(xyz5):\n",
    "    def test5(self):\n",
    "        print(\"This is the 3rd level of inheritance\")\n",
    "\n",
    "class xyz7(xyz6):\n",
    "    def test6(self):\n",
    "        print(\"This is the 4th level of inheritance\")"
   ]
  },
  {
   "cell_type": "code",
   "execution_count": 63,
   "id": "8b7b42fe",
   "metadata": {},
   "outputs": [],
   "source": [
    "u = xyz7(3,5,0)"
   ]
  },
  {
   "cell_type": "code",
   "execution_count": 64,
   "id": "b3e7bf2a",
   "metadata": {},
   "outputs": [
    {
     "name": "stdout",
     "output_type": "stream",
     "text": [
      "This is my 3rd base class function\n"
     ]
    }
   ],
   "source": [
    "u.test2()"
   ]
  },
  {
   "cell_type": "markdown",
   "id": "4918cf9e",
   "metadata": {},
   "source": [
    "Task 1: Create a file class for reading a data from respective file with a method name read and write.\n",
    "\n",
    "Task 2: Try to inherit read and write method from parent class to child class to perform read and write operation"
   ]
  },
  {
   "cell_type": "code",
   "execution_count": 77,
   "id": "30b34785",
   "metadata": {},
   "outputs": [],
   "source": [
    "# Tast 1\n",
    "import logging\n",
    "\n",
    "logging.basicConfig(filename = \"log1.log\", level = logging.DEBUG, format = '%(asctime)s : %(levelname)s : %(message)s')\n",
    "\n",
    "class file_modify:\n",
    "    def __init__(self, file_name):\n",
    "        logging.info(\"Initializing the class called file_modify\")\n",
    "        self.fn = file_name\n",
    "         \n",
    "    def read(self):\n",
    "        logging.info(\"Creating method for reading function as 'read'\")\n",
    "        try:\n",
    "            with open(f\"{self.fn}\", \"r\") as r:\n",
    "            # Starting the code with \"with\" will ensure\n",
    "            # That the file is opwn and closed automatically\n",
    "            # insuring proper file handeling\n",
    "                data = r.read()\n",
    "                return data\n",
    "        except Exception as e:\n",
    "            logging.error(\"Error occured: \")\n",
    "            logging.exception(\"The error was: \" + str(e))\n",
    "        \n",
    "    def write(self):\n",
    "        logging.info(\"Creating method for reading function as 'read'\")\n",
    "        try:\n",
    "            w = open(f\"{self.fn}\", \"w\")\n",
    "            content = input(\"Enter the content to write in the file: \")\n",
    "            data = w.write(content)\n",
    "            w.close()\n",
    "            return data\n",
    "        except Exception as e:\n",
    "            logging.error(\"Error occured: \")\n",
    "            logging.exception(\"The error was: \" + str(e))\n",
    "            \n",
    "class child_file_modify(file_modify):\n",
    "    pass"
   ]
  },
  {
   "cell_type": "code",
   "execution_count": 78,
   "id": "e0e9ec41",
   "metadata": {},
   "outputs": [],
   "source": [
    "a = child_file_modify(\"File_reading_class_test.txt\")"
   ]
  },
  {
   "cell_type": "code",
   "execution_count": 80,
   "id": "8a05d133",
   "metadata": {},
   "outputs": [
    {
     "name": "stdout",
     "output_type": "stream",
     "text": [
      "Enter the content to write in the file: Task 1: Create a file class for reading a data from respective file with a method name read and write.  Task 2: Try to inherit read and write method from parent class to child class to perform read and write operation\n"
     ]
    },
    {
     "data": {
      "text/plain": [
       "217"
      ]
     },
     "execution_count": 80,
     "metadata": {},
     "output_type": "execute_result"
    }
   ],
   "source": [
    "a.write()"
   ]
  },
  {
   "cell_type": "code",
   "execution_count": 81,
   "id": "477342dc",
   "metadata": {},
   "outputs": [
    {
     "data": {
      "text/plain": [
       "'Task 1: Create a file class for reading a data from respective file with a method name read and write.  Task 2: Try to inherit read and write method from parent class to child class to perform read and write operation'"
      ]
     },
     "execution_count": 81,
     "metadata": {},
     "output_type": "execute_result"
    }
   ],
   "source": [
    "a.read()"
   ]
  },
  {
   "cell_type": "code",
   "execution_count": null,
   "id": "5ff43040",
   "metadata": {},
   "outputs": [],
   "source": [
    "# NOTE (VERY IMPORTANT)\n",
    "# For \"with\" statment\n",
    "\n",
    "\"\"\"\n",
    "The with statement in Python\n",
    "is used for simplifying the management of resources,\n",
    "such as files, sockets, and database connections,\n",
    "by ensuring that they are properly initialized and cleaned up.\n",
    "It's often used as a context manager,\n",
    "which means it sets up a context in which you can work with the resource,\n",
    "and when you exit that context,\n",
    "it automatically handles cleanup operations,\n",
    "like closing files or releasing resources.\n",
    "\n",
    "This helps make your code cleaner and more reliable.\n",
    "\n",
    "Usecase for with statment are\n",
    "1. Working with Files:\n",
    "\n",
    "---\n",
    "# Opening and reading a file\n",
    "with open('example.txt', 'r') as file:\n",
    "    data = file.read()\n",
    "# 'file' is automatically closed when exiting the 'with' block\n",
    "---\n",
    "\n",
    "2. Working with Database Connections: used for SQL codes\n",
    "\n",
    "---\n",
    "import sqlite3\n",
    "\n",
    "# Creating a database connection\n",
    "with sqlite3.connect('mydatabase.db') as conn:\n",
    "    cursor = conn.cursor()\n",
    "    cursor.execute('SELECT * FROM mytable')\n",
    "    data = cursor.fetchall()\n",
    "# 'conn' and associated resources are automatically closed\n",
    "# upon exiting the 'with' block\n",
    "---\n",
    "\n",
    "3. Custom Context Manager:\n",
    "\n",
    "---\n",
    "class MyContextManager:\n",
    "    def __enter__(self):\n",
    "        print(\"Entering the context\")\n",
    "        return self  \n",
    "        # This is the value assigned to 'as' in the 'with' statement\n",
    "\n",
    "    def __exit__(self, exc_type, exc_value, traceback):\n",
    "        print(\"Exiting the context\")\n",
    "        # You can handle exceptions here if needed\n",
    "\n",
    "with MyContextManager() as cm:\n",
    "    print(\"Inside the context\")\n",
    "---\n",
    "\n",
    "4. Locking Resourses:\n",
    "\n",
    "---\n",
    "import threading\n",
    "\n",
    "lock = threading.Lock()\n",
    "\n",
    "def safe_update():\n",
    "    with lock:\n",
    "        # Critical section where only one thread can execute at a time\n",
    "        # Other threads will block until the lock is released\n",
    "        pass\n",
    "---\n",
    "\n",
    "etc\n",
    "\"\"\"\n",
    "Syntax:\n",
    "    with resource as alias:"
   ]
  },
  {
   "cell_type": "markdown",
   "id": "a8d780db",
   "metadata": {},
   "source": [
    "# Public, Private and Protected (Encapsulation)"
   ]
  },
  {
   "cell_type": "code",
   "execution_count": null,
   "id": "ed0c8531",
   "metadata": {},
   "outputs": [],
   "source": [
    "# In java we have keywords 'Public', 'Private' and 'Protected'\n",
    "# But in python we do not have any such keyword\n",
    "# In puthon we have \"notations\"\n",
    "\n",
    "\"\"\"\n",
    "We have done a lot of codeing w.r.t classes and objects\n",
    "In all the above cases. \n",
    "We were able to accesws the attributs and even modify them\n",
    "Even when we use inheritance.\n",
    "because when we call the child class\n",
    "we have to give those variavles (attributes) whic I can change\n",
    "\n",
    "So All the above conditions were considered as public\n",
    "because anyone can change the variable values\n",
    "\"\"\""
   ]
  },
  {
   "cell_type": "code",
   "execution_count": 82,
   "id": "ef14364d",
   "metadata": {},
   "outputs": [],
   "source": [
    "# Consedeting a different sinario\n",
    "\n",
    "class test:\n",
    "    def __init__(self):\n",
    "        # No attributes are assigned\n",
    "        self.a = 4\n",
    "        # but we are still passing the variable a for the class\n",
    "        \n",
    "# Child class\n",
    "class test1(test):\n",
    "    def __init__(self):\n",
    "        self.a = 7\n",
    "        # Heare I have changed the variables value to 7 "
   ]
  },
  {
   "cell_type": "code",
   "execution_count": 83,
   "id": "6d30ba1b",
   "metadata": {},
   "outputs": [
    {
     "data": {
      "text/plain": [
       "4"
      ]
     },
     "execution_count": 83,
     "metadata": {},
     "output_type": "execute_result"
    }
   ],
   "source": [
    "# Now lets create parent and child class objects\n",
    "u = test()\n",
    "u.a"
   ]
  },
  {
   "cell_type": "code",
   "execution_count": 84,
   "id": "67a31d67",
   "metadata": {},
   "outputs": [
    {
     "data": {
      "text/plain": [
       "7"
      ]
     },
     "execution_count": 84,
     "metadata": {},
     "output_type": "execute_result"
    }
   ],
   "source": [
    "v = test1()\n",
    "v.a"
   ]
  },
  {
   "cell_type": "code",
   "execution_count": null,
   "id": "1ea3dec2",
   "metadata": {},
   "outputs": [],
   "source": [
    "# The above 2 exaple as well works the same"
   ]
  },
  {
   "cell_type": "code",
   "execution_count": 93,
   "id": "e10c516f",
   "metadata": {},
   "outputs": [],
   "source": [
    "\"\"\"\n",
    "Public members: \n",
    "These members are accessible from anywhere. \n",
    "They do not have any prefix.\n",
    "\n",
    "Protected members: \n",
    "Members with a single underscore prefix (e.g., _protected_member) \n",
    "should be treated as non-public, \n",
    "but it's not enforced by the language.\n",
    "These variables will not show when you press 'tab' from your keyboard\n",
    "\n",
    "Private members: \n",
    "Members with a double underscore prefix (e.g., __private_member)\n",
    "are \"name-mangled\" to make them less accessible,\n",
    "but they can still be accessed if needed.\n",
    "These variables will also not show when you press 'tab' from your keyboard\n",
    "\"\"\"\n",
    "\n",
    "# So make the variables protected we need to add \"_\" and \"__\"\n",
    "# in fromnt of the variable\n",
    "# Example\n",
    "\n",
    "class test:\n",
    "    def __init__(self, a, b, c):\n",
    "        self.a = a\n",
    "        self._b = b\n",
    "        # single '_' means its an protected member/variable\n",
    "        self.__c = c\n",
    "        # double '__' means that its a Private member/variable\n",
    "\n",
    "class test1(test):\n",
    "    pass"
   ]
  },
  {
   "cell_type": "code",
   "execution_count": 94,
   "id": "561c2a6c",
   "metadata": {},
   "outputs": [
    {
     "name": "stdout",
     "output_type": "stream",
     "text": [
      "5\n",
      "7\n"
     ]
    }
   ],
   "source": [
    "v = test(4,5,6)\n",
    "u = test1(6,7,8)\n",
    "print(v._b)\n",
    "print(u._b)\n",
    "# We are able to access it even though its a protected variable \n",
    "# but if we do not know about the variable name\n",
    "# We will not be able to access it by pressing 'tab' from keyboard"
   ]
  },
  {
   "cell_type": "code",
   "execution_count": 95,
   "id": "a13961de",
   "metadata": {},
   "outputs": [
    {
     "ename": "AttributeError",
     "evalue": "'test' object has no attribute '__c'",
     "output_type": "error",
     "traceback": [
      "\u001b[1;31m---------------------------------------------------------------------------\u001b[0m",
      "\u001b[1;31mAttributeError\u001b[0m                            Traceback (most recent call last)",
      "Cell \u001b[1;32mIn[95], line 1\u001b[0m\n\u001b[1;32m----> 1\u001b[0m \u001b[43mv\u001b[49m\u001b[38;5;241;43m.\u001b[39;49m\u001b[43m__c\u001b[49m\n\u001b[0;32m      2\u001b[0m \u001b[38;5;66;03m# we will not be able to access ti at all\u001b[39;00m\n\u001b[0;32m      3\u001b[0m \u001b[38;5;66;03m# because its a private variable\u001b[39;00m\n",
      "\u001b[1;31mAttributeError\u001b[0m: 'test' object has no attribute '__c'"
     ]
    }
   ],
   "source": [
    "v.__c\n",
    "# we will not be able to access ti at all\n",
    "# because its a private variable"
   ]
  },
  {
   "cell_type": "code",
   "execution_count": 96,
   "id": "5e32735f",
   "metadata": {},
   "outputs": [
    {
     "data": {
      "text/plain": [
       "6"
      ]
     },
     "execution_count": 96,
     "metadata": {},
     "output_type": "execute_result"
    }
   ],
   "source": [
    "# The private variable/member can syill be accessed\n",
    "# But for that we have to run the code like below\n",
    "\n",
    "v._test__c"
   ]
  },
  {
   "cell_type": "code",
   "execution_count": 97,
   "id": "4c5b6189",
   "metadata": {},
   "outputs": [
    {
     "ename": "AttributeError",
     "evalue": "'test1' object has no attribute '_test1__c'",
     "output_type": "error",
     "traceback": [
      "\u001b[1;31m---------------------------------------------------------------------------\u001b[0m",
      "\u001b[1;31mAttributeError\u001b[0m                            Traceback (most recent call last)",
      "Cell \u001b[1;32mIn[97], line 1\u001b[0m\n\u001b[1;32m----> 1\u001b[0m \u001b[43mu\u001b[49m\u001b[38;5;241;43m.\u001b[39;49m\u001b[43m_test1__c\u001b[49m\n",
      "\u001b[1;31mAttributeError\u001b[0m: 'test1' object has no attribute '_test1__c'"
     ]
    }
   ],
   "source": [
    "u._test1__c\n",
    "\n",
    "# This way form the child class object\n",
    "# we will not be able to access the variable\n",
    "# these is a limitation"
   ]
  },
  {
   "cell_type": "code",
   "execution_count": 98,
   "id": "1933d943",
   "metadata": {},
   "outputs": [
    {
     "data": {
      "text/plain": [
       "8"
      ]
     },
     "execution_count": 98,
     "metadata": {},
     "output_type": "execute_result"
    }
   ],
   "source": [
    "# To access the variable for the child class\n",
    "# We have to use the parent class notation\n",
    "# This is a limitation for the private variables/members\n",
    "\n",
    "u._test__c"
   ]
  },
  {
   "cell_type": "code",
   "execution_count": 104,
   "id": "80394c81",
   "metadata": {},
   "outputs": [],
   "source": [
    "# Another Example\n",
    "# This is for bonus calculation \n",
    "# Managers will have the access to enter the emp_id and rating\n",
    "# the % bonus is calcualted form the code in the backend\n",
    "\n",
    "class bonuscalculator:\n",
    "    def __init__(self, emp_id, emp_rating):\n",
    "        self.emp_id = emp_id\n",
    "        self.emp_rating = emp_rating\n",
    "        self.__bonus_for_rating_A = \"70%\"\n",
    "        self.__bonus_for_rating_B = \"60%\"\n",
    "        self.__bonus_for_rating_C = \"40%\"\n",
    "    \n",
    "    def bonuscalculator(self):\n",
    "        if self.emp_rating == \"A\":\n",
    "            bonus = self.__bonus_for_rating_A\n",
    "            return bonus\n",
    "        elif self.emp_rating == \"B\":\n",
    "            bonus = self.__bonus_for_rating_B\n",
    "            return bonus\n",
    "        else: \n",
    "            bonus = self.__bonus_for_rating_C\n",
    "            return bonus"
   ]
  },
  {
   "cell_type": "code",
   "execution_count": 105,
   "id": "ede0e707",
   "metadata": {},
   "outputs": [],
   "source": [
    "emp1 = bonuscalculator(101, \"A\")\n",
    "emp2 = bonuscalculator(102, \"B\")\n",
    "emp3 = bonuscalculator(103, \"C\")"
   ]
  },
  {
   "cell_type": "code",
   "execution_count": 107,
   "id": "6ae8ae97",
   "metadata": {},
   "outputs": [
    {
     "name": "stdout",
     "output_type": "stream",
     "text": [
      "70%\n",
      "60%\n",
      "40%\n"
     ]
    }
   ],
   "source": [
    "print(emp1.bonuscalculator())\n",
    "print(emp2.bonuscalculator())\n",
    "print(emp3.bonuscalculator())"
   ]
  },
  {
   "cell_type": "code",
   "execution_count": 108,
   "id": "1abe210f",
   "metadata": {},
   "outputs": [
    {
     "name": "stdout",
     "output_type": "stream",
     "text": [
      "60%\n"
     ]
    }
   ],
   "source": [
    "# Now Lets overwrite the public variables\n",
    "emp1.emp_rating = \"B\"\n",
    "print(emp1.bonuscalculator())\n",
    "\n",
    "# As we can observe that the bonus % is changed to 60%\n",
    "# So by chanhing the public variable emp_rating\n",
    "# We changed the overall bonus that employee got\n",
    "# This is possible for the manager you can access the public variables"
   ]
  },
  {
   "cell_type": "code",
   "execution_count": 109,
   "id": "bb6710e5",
   "metadata": {},
   "outputs": [],
   "source": [
    "emp1.__bonus_for_rating_B = \"90\"\n",
    "# Its us attempting to change the bonus % for B rating\n",
    "# It will execute successfully"
   ]
  },
  {
   "cell_type": "code",
   "execution_count": 110,
   "id": "166ff59e",
   "metadata": {},
   "outputs": [
    {
     "data": {
      "text/plain": [
       "'60%'"
      ]
     },
     "execution_count": 110,
     "metadata": {},
     "output_type": "execute_result"
    }
   ],
   "source": [
    "# But if we call for the method again\n",
    "emp1.bonuscalculator()\n",
    "\n",
    "# It is still giving the previous % only (which is 60%)\n",
    "# this is happening because of the type of the variable (Private)\n"
   ]
  },
  {
   "cell_type": "code",
   "execution_count": 111,
   "id": "e6a0fbec",
   "metadata": {},
   "outputs": [
    {
     "data": {
      "text/plain": [
       "'90%'"
      ]
     },
     "execution_count": 111,
     "metadata": {},
     "output_type": "execute_result"
    }
   ],
   "source": [
    "# You can change the private variable if you want \n",
    "# By using the natation shaown in the previous example\n",
    "emp1._bonuscalculator__bonus_for_rating_B = \"90%\"\n",
    "emp1.bonuscalculator()\n",
    "# By this only the variable notation will change"
   ]
  },
  {
   "cell_type": "code",
   "execution_count": null,
   "id": "a0178e75",
   "metadata": {},
   "outputs": [],
   "source": [
    "# Note\n",
    "\n",
    "# Same case if there for the proceted variable as well. \n",
    "# We can change the variable by following the given notation\n",
    "# Like \n",
    "emp1._b = \"skdf\" \n",
    "# It will change the respective variable\n",
    "# It can only be done it the user is aware of the variables"
   ]
  },
  {
   "cell_type": "code",
   "execution_count": null,
   "id": "e0be32d0",
   "metadata": {},
   "outputs": [],
   "source": [
    "# NOTE\n",
    "\n",
    "# Python says that \n",
    "\n",
    "\"\"\"\n",
    "The user of these variables should be mature enough\n",
    "to use these variable the way (or for the process) it was defined.\n",
    "\n",
    "Private and Procted are just a convention in Python\n",
    "\"\"\""
   ]
  },
  {
   "cell_type": "markdown",
   "id": "ad2bc8f5",
   "metadata": {},
   "source": [
    "# Polymorphism"
   ]
  },
  {
   "cell_type": "code",
   "execution_count": null,
   "id": "36f4937c",
   "metadata": {},
   "outputs": [],
   "source": [
    "\"\"\"\n",
    "Polymorphism is one of the four fundamental principles\n",
    "of object-oriented programming (OOP),\n",
    "along with encapsulation, inheritance, and abstraction.\n",
    "\n",
    "It's a concept that allows objects of different classes\n",
    "to be treated as objects of a common superclass.\n",
    "\n",
    "Polymorphism enables you to write code\n",
    "that can work with objects of various types\n",
    "in a flexible and extensible manner.\n",
    "\n",
    "\n",
    "1. Compile-Time Polymorphism (Static Binding):\n",
    "\n",
    "This type of polymorphism is also known as method overloading\n",
    "or operator overloading.\n",
    "It involves using the same method or operator for different data types\n",
    "or a different number of parameters.\n",
    "However, Python does not natively support traditional method overloading\n",
    "based on the number or type of parameters,\n",
    "as some statically typed languages do.\n",
    "Instead, Python uses a form of polymorphism called \"duck typing\".\n",
    "\n",
    "2. Run-Time Polymorphism (Dynamic Binding): \n",
    "\n",
    "This type of polymorphism is also known as method overriding\n",
    "or late binding. \n",
    "It occurs when different classes have methods\n",
    "with the same name and signature (i.e., method name and parameters),\n",
    "and the specific method to be executed is determined at runtime\n",
    "based on the actual object type.\n",
    "Python supports run-time polymorphism through method overriding.\n",
    "\n",
    "\"\"\""
   ]
  },
  {
   "cell_type": "code",
   "execution_count": 1,
   "id": "a5ac7d7b",
   "metadata": {},
   "outputs": [
    {
     "name": "stdout",
     "output_type": "stream",
     "text": [
      "15\n",
      "Hello, World!\n"
     ]
    }
   ],
   "source": [
    "# Compile-Time Polymorphism Example\n",
    "# Duck typing example\n",
    "def add(a, b):\n",
    "    return a + b\n",
    "\n",
    "# Same function for different type of data\n",
    "print(add(5, 10))\n",
    "print(add(\"Hello, \", \"World!\"))"
   ]
  },
  {
   "cell_type": "code",
   "execution_count": 2,
   "id": "4ae31e13",
   "metadata": {},
   "outputs": [],
   "source": [
    "class insta:\n",
    "    def share_stories(self):\n",
    "        print(\"This will share my Insta stories\")\n",
    "        \n",
    "class facebook:\n",
    "    def share_stories(self):\n",
    "        print(\"This will share my Facebook stories\")"
   ]
  },
  {
   "cell_type": "code",
   "execution_count": 3,
   "id": "220b9d25",
   "metadata": {},
   "outputs": [],
   "source": [
    "def sharestories(app):\n",
    "    app.share_stories()"
   ]
  },
  {
   "cell_type": "code",
   "execution_count": 4,
   "id": "b06a787b",
   "metadata": {},
   "outputs": [],
   "source": [
    "i = insta()\n",
    "f = facebook()"
   ]
  },
  {
   "cell_type": "code",
   "execution_count": 6,
   "id": "e0db2cf6",
   "metadata": {},
   "outputs": [
    {
     "name": "stdout",
     "output_type": "stream",
     "text": [
      "This will share my Insta stories\n"
     ]
    }
   ],
   "source": [
    "sharestories(i)"
   ]
  },
  {
   "cell_type": "code",
   "execution_count": 7,
   "id": "07bb3bf8",
   "metadata": {},
   "outputs": [
    {
     "name": "stdout",
     "output_type": "stream",
     "text": [
      "This will share my Facebook stories\n"
     ]
    }
   ],
   "source": [
    "sharestories(f)"
   ]
  },
  {
   "cell_type": "code",
   "execution_count": null,
   "id": "1214443c",
   "metadata": {},
   "outputs": [],
   "source": [
    "# Above is Another example of Polymorphism\n",
    "# Where the output abd behiaviour will change based on the class. "
   ]
  },
  {
   "cell_type": "code",
   "execution_count": 8,
   "id": "dad97017",
   "metadata": {},
   "outputs": [],
   "source": [
    "# Run-Time Polymorphism Example\n",
    "# Overriding Example\n",
    "\n",
    "class social_media:\n",
    "    def share_stories(self):\n",
    "        print(\"share stories\")\n",
    "        \n",
    "    def Upload_pic(self):\n",
    "        print(\"This will help in uploading pics in the Social Media app\")\n",
    "        \n",
    "class facebook(social_media):\n",
    "    def share_stories(self):\n",
    "        print(\"This will help in sharing stories in facebook\")\n",
    "        \n",
    "class insta(social_media):\n",
    "    def share_stories(self):\n",
    "        print(\"This will help in sharing stories in insagram\")\n",
    "        "
   ]
  },
  {
   "cell_type": "code",
   "execution_count": 9,
   "id": "4fb56eea",
   "metadata": {},
   "outputs": [],
   "source": [
    "f = facebook()\n",
    "i = insta()"
   ]
  },
  {
   "cell_type": "code",
   "execution_count": 10,
   "id": "f7b95da9",
   "metadata": {},
   "outputs": [
    {
     "name": "stdout",
     "output_type": "stream",
     "text": [
      "This will help in sharing stories in facebook\n"
     ]
    }
   ],
   "source": [
    "f.share_stories()"
   ]
  },
  {
   "cell_type": "code",
   "execution_count": 11,
   "id": "096cca8c",
   "metadata": {},
   "outputs": [
    {
     "name": "stdout",
     "output_type": "stream",
     "text": [
      "This will help in sharing stories in insagram\n"
     ]
    }
   ],
   "source": [
    "i.share_stories()"
   ]
  },
  {
   "cell_type": "markdown",
   "id": "0265b24d",
   "metadata": {},
   "source": [
    "\"\"\"How to create a class to raise our own exception\"\"\""
   ]
  },
  {
   "cell_type": "code",
   "execution_count": 14,
   "id": "a574bae4",
   "metadata": {},
   "outputs": [],
   "source": [
    "class test(Exception):\n",
    "    def __init__(self, msg, extra):\n",
    "        self.msg = msg\n",
    "        self.extra = extra"
   ]
  },
  {
   "cell_type": "code",
   "execution_count": 15,
   "id": "9b988728",
   "metadata": {},
   "outputs": [
    {
     "name": "stdout",
     "output_type": "stream",
     "text": [
      "('This is a custom exception', 'More then 1 can be raised')\n"
     ]
    }
   ],
   "source": [
    "try:\n",
    "    raise(test(\"This is a custom exception\",\"More then 1 can be raised\"))\n",
    "except test as t:\n",
    "    print(t)"
   ]
  },
  {
   "cell_type": "code",
   "execution_count": 16,
   "id": "71201ace",
   "metadata": {},
   "outputs": [
    {
     "ename": "ZeroDivisionError",
     "evalue": "division by zero",
     "output_type": "error",
     "traceback": [
      "\u001b[1;31m---------------------------------------------------------------------------\u001b[0m",
      "\u001b[1;31mZeroDivisionError\u001b[0m                         Traceback (most recent call last)",
      "Cell \u001b[1;32mIn[16], line 3\u001b[0m\n\u001b[0;32m      1\u001b[0m \u001b[38;5;66;03m# This will not work if an exception is raised before the class method\u001b[39;00m\n\u001b[0;32m      2\u001b[0m \u001b[38;5;28;01mtry\u001b[39;00m:\n\u001b[1;32m----> 3\u001b[0m     \u001b[38;5;241;43m5\u001b[39;49m\u001b[38;5;241;43m/\u001b[39;49m\u001b[38;5;241;43m0\u001b[39;49m\n\u001b[0;32m      4\u001b[0m     \u001b[38;5;28;01mraise\u001b[39;00m(test(\u001b[38;5;124m\"\u001b[39m\u001b[38;5;124mThis is a custom exception\u001b[39m\u001b[38;5;124m\"\u001b[39m,\u001b[38;5;124m\"\u001b[39m\u001b[38;5;124mMore then 1 can be raised\u001b[39m\u001b[38;5;124m\"\u001b[39m))\n\u001b[0;32m      5\u001b[0m \u001b[38;5;28;01mexcept\u001b[39;00m test \u001b[38;5;28;01mas\u001b[39;00m t:\n",
      "\u001b[1;31mZeroDivisionError\u001b[0m: division by zero"
     ]
    }
   ],
   "source": [
    "# This will not work if an exception is raised before the class method\n",
    "try:\n",
    "    5/0\n",
    "    raise(test(\"This is a custom exception\",\"More then 1 can be raised\"))\n",
    "except test as t:\n",
    "    print(t)"
   ]
  },
  {
   "cell_type": "code",
   "execution_count": 17,
   "id": "cce6c53b",
   "metadata": {},
   "outputs": [
    {
     "name": "stdout",
     "output_type": "stream",
     "text": [
      "('This is a custom exception', 'More then 1 can be raised')\n"
     ]
    }
   ],
   "source": [
    "# Only work in the below case\n",
    "try:\n",
    "    raise(test(\"This is a custom exception\",\"More then 1 can be raised\"))\n",
    "    5/0\n",
    "except test as t:\n",
    "    print(t)"
   ]
  },
  {
   "cell_type": "markdown",
   "id": "75da19a6",
   "metadata": {},
   "source": [
    "Q1:- Create your own class to achive multiple and multi-level inheritance\n",
    "\n",
    "Q2:- Create your own class to represent polymorphism\n",
    "\n",
    "Q3:- Create a class for custome exception\n",
    "\n",
    "Q4:- Create a class to achive encaptulation\n",
    "\n",
    "Q5:- Create a class to achive method overloading and overriding"
   ]
  },
  {
   "cell_type": "code",
   "execution_count": 18,
   "id": "0fd53060",
   "metadata": {},
   "outputs": [],
   "source": [
    "# Q5 Overloading examples\n",
    "\n",
    "\"\"\"\n",
    "method overloading is a feature that allows a class\n",
    "to have multiple methods with the same name but different parameters\n",
    "or method signatures.\n",
    "The method that gets called depends on\n",
    "the number or types of arguments provided when the method is invoked.\n",
    "\n",
    "However, it's important to note that Python does not support\n",
    "traditional method overloading based on the number or types of parameters\n",
    "in the same way that statically typed languages do.\n",
    "Instead, Python uses a form of polymorphism called \"duck typing\"\n",
    "and allows for function and method overloading in a different way.\n",
    "\n",
    "1. Duck Typing: \n",
    "\n",
    "Python uses duck typing, \n",
    "which means that the type or class of an object is determined\n",
    "by its behavior (methods and attributes) rather than its explicit type.\n",
    "This makes Python very flexible,\n",
    "but it doesn't support method overloading based solely on parameter types.\n",
    "\n",
    "Examples for Duck Typing above\n",
    "\n",
    "\"\"\""
   ]
  },
  {
   "cell_type": "code",
   "execution_count": null,
   "id": "d5b63481",
   "metadata": {},
   "outputs": [],
   "source": [
    "\"\"\"\n",
    "Function and Method Overloading: \n",
    "\n",
    "Python allows you to define multiple functions or methods\n",
    "with the same name in the same class or module.\n",
    "However, only the most recently defined method\n",
    "with a given name will be recognized and callable.\n",
    "\"\"\""
   ]
  },
  {
   "cell_type": "code",
   "execution_count": 19,
   "id": "cbdd82bc",
   "metadata": {},
   "outputs": [
    {
     "ename": "IndentationError",
     "evalue": "unexpected indent (3379121884.py, line 2)",
     "output_type": "error",
     "traceback": [
      "\u001b[1;36m  Cell \u001b[1;32mIn[19], line 2\u001b[1;36m\u001b[0m\n\u001b[1;33m    def add(self, a, b):\u001b[0m\n\u001b[1;37m    ^\u001b[0m\n\u001b[1;31mIndentationError\u001b[0m\u001b[1;31m:\u001b[0m unexpected indent\n"
     ]
    }
   ],
   "source": [
    "# class Calculator:\n",
    "    def add(self, a, b):\n",
    "        return a + b\n",
    "\n",
    "    def add(self, a, b, c):\n",
    "        return a + b + c\n",
    "\n",
    "# Create an instance of the Calculator class\n",
    "calculator = Calculator()\n",
    "\n",
    "# The following line will result in an error \n",
    "# because only the second 'add' method is recognized.\n",
    "result = calculator.add(2, 3)"
   ]
  },
  {
   "cell_type": "code",
   "execution_count": 20,
   "id": "1f2d63f9",
   "metadata": {},
   "outputs": [
    {
     "name": "stdout",
     "output_type": "stream",
     "text": [
      "5\n",
      "9\n"
     ]
    }
   ],
   "source": [
    "# If you want to achieve behavior similar to \n",
    "# traditional method overloading, \n",
    "# you can use default values for parameters\n",
    "# and use conditional logic within the method to handle different cases:\n",
    "\n",
    "class Calculator:\n",
    "    def add(self, a, b, c=None):\n",
    "        # Here C is left as default as None\n",
    "        if c is None:\n",
    "            return a + b\n",
    "        else:\n",
    "            return a + b + c\n",
    "\n",
    "# Create an instance of the Calculator class\n",
    "calculator = Calculator()\n",
    "\n",
    "# Now, you can call the 'add' method with two or three arguments.\n",
    "result1 = calculator.add(2, 3)       \n",
    "result2 = calculator.add(2, 3, 4)   \n",
    "print(result1)\n",
    "print(result2)"
   ]
  },
  {
   "cell_type": "code",
   "execution_count": 54,
   "id": "34c13691",
   "metadata": {},
   "outputs": [],
   "source": [
    "# Overloading \"__str__\" function in a method for the object\n",
    "class test:\n",
    "    def fun(self):\n",
    "        print(\"This is a smaple class\")"
   ]
  },
  {
   "cell_type": "code",
   "execution_count": 55,
   "id": "ee320043",
   "metadata": {},
   "outputs": [
    {
     "name": "stdout",
     "output_type": "stream",
     "text": [
      "<__main__.test object at 0x000002906B2A7F50>\n"
     ]
    }
   ],
   "source": [
    "# Creating object for that class and printing the object\n",
    "t = test()\n",
    "print(t)\n",
    "\n",
    "# you can observe that the output is not ideal\n",
    "# and contains hexadecimal letters"
   ]
  },
  {
   "cell_type": "code",
   "execution_count": 56,
   "id": "5aa8efcc",
   "metadata": {},
   "outputs": [],
   "source": [
    "# We can print our own message\n",
    "# we can try overloading the \"__str__\" function\n",
    "class test:\n",
    "    def fun(self):\n",
    "        print(\"This is a smaple class\")\n",
    "        \n",
    "    def __str__(self):\n",
    "        return \"This is the output called at a time of object print\""
   ]
  },
  {
   "cell_type": "code",
   "execution_count": 57,
   "id": "bd0318ca",
   "metadata": {},
   "outputs": [
    {
     "name": "stdout",
     "output_type": "stream",
     "text": [
      "This is the output called at a time of object print\n"
     ]
    }
   ],
   "source": [
    "# Now sames steps. Creating object and ptint it\n",
    "t = test()\n",
    "print(t)\n",
    "\n",
    "# You can observe that the output now is the message we specified"
   ]
  },
  {
   "cell_type": "markdown",
   "id": "53e486b8",
   "metadata": {},
   "source": [
    "# Static Variable"
   ]
  },
  {
   "cell_type": "code",
   "execution_count": null,
   "id": "79a6ba43",
   "metadata": {},
   "outputs": [],
   "source": [
    "\"\"\"\n",
    "In Python, you can create class-level variables\n",
    "that are shared among all instances of a class.\n",
    "These are known as \"class variables\" or \"static variables\".\n",
    "Unlike instance variables, which are unique to each object,\n",
    "class variables are the same for all objects of the class.\n",
    "\n",
    "They are typically used to store data that\n",
    "should be shared among all instances of the class\n",
    "or configuration settings that should be common to all instances.\n",
    "\n",
    "To create a class variable, \n",
    "you can define it within the class but outside of any methods. \n",
    "You can access class variables using the class name\n",
    "or an instance of the class.\n",
    "\"\"\""
   ]
  },
  {
   "cell_type": "code",
   "execution_count": 25,
   "id": "4d21c488",
   "metadata": {},
   "outputs": [
    {
     "name": "stdout",
     "output_type": "stream",
     "text": [
      "Initially the number of instances are:  0\n",
      "Total instances created:  3\n",
      "Total instances created (via instance):  3\n"
     ]
    }
   ],
   "source": [
    "# Example for Static Variable\n",
    "\n",
    "class MyClass:\n",
    "    # Class variable shared among all instances\n",
    "    count = 0\n",
    "\n",
    "    def __init__(self, name):\n",
    "        self.name = name\n",
    "        # Increment the class variable 'count' when an instance is created\n",
    "        MyClass.count += 1\n",
    "\n",
    "# Initilly the static varioble value is\n",
    "m = MyClass.count\n",
    "# To access the class variable\n",
    "# we have to just call it like we call the instance variable\n",
    "# We can call it by the class name as well as the object name\n",
    "print(\"Initially the number of instances are: \", m)\n",
    "\n",
    "# Creating instances of MyClass\n",
    "obj1 = MyClass(\"Alice\")\n",
    "obj2 = MyClass(\"Bob\")\n",
    "obj3 = MyClass(\"Charlie\")\n",
    "\n",
    "# Accessing the class variable using the class name\n",
    "print(\"Total instances created: \", MyClass.count)  # Output: 3\n",
    "\n",
    "# Accessing the class variable using an instance (not recommended)\n",
    "print(\"Total instances created (via instance): \", obj1.count)  # Output: 3\n"
   ]
  },
  {
   "cell_type": "code",
   "execution_count": 26,
   "id": "31f9c080",
   "metadata": {},
   "outputs": [],
   "source": [
    "# We can also change the static variable \n",
    "# By calling it and assigning it the desired value\n",
    "MyClass.count = 9"
   ]
  },
  {
   "cell_type": "code",
   "execution_count": 29,
   "id": "5a08f8d9",
   "metadata": {},
   "outputs": [
    {
     "name": "stdout",
     "output_type": "stream",
     "text": [
      "9\n"
     ]
    }
   ],
   "source": [
    "m = MyClass.count\n",
    "print(m)"
   ]
  },
  {
   "cell_type": "code",
   "execution_count": 43,
   "id": "90ae3a5d",
   "metadata": {},
   "outputs": [
    {
     "ename": "SyntaxError",
     "evalue": "invalid syntax (1083014159.py, line 5)",
     "output_type": "error",
     "traceback": [
      "\u001b[1;36m  Cell \u001b[1;32mIn[43], line 5\u001b[1;36m\u001b[0m\n\u001b[1;33m    It will give us an error\u001b[0m\n\u001b[1;37m       ^\u001b[0m\n\u001b[1;31mSyntaxError\u001b[0m\u001b[1;31m:\u001b[0m invalid syntax\n"
     ]
    }
   ],
   "source": [
    "# Similarly for the instance variable \"name\"\n",
    "# We cannot access it with the class name\n",
    "MyClass.name\n",
    "\n",
    "# It will give us an error\n",
    "# Unless we create an object and try to call it by assigning \n",
    "# The instance variable"
   ]
  },
  {
   "cell_type": "code",
   "execution_count": null,
   "id": "ce269a73",
   "metadata": {},
   "outputs": [],
   "source": [
    "# If we want to change the static variable value using the object\n",
    "# it only changes for that particular object\n",
    "\n",
    "obj1.count = 6\n",
    "o = obj1.count\n",
    "print(\"The static variable for obj1 is: \",o)\n",
    "\n",
    "# For the class the static variable will remain the same\n",
    "m = MyClass.count\n",
    "print(\"The static variable for the class remains: \", m)\n",
    "\n",
    "# And for all the other objects\n",
    "# Static variable value be the same as the class static variable\n",
    "o2 = obj2.count\n",
    "print(\"The static variable for obj2 also remains: \",o2)"
   ]
  },
  {
   "cell_type": "code",
   "execution_count": 35,
   "id": "73b016f7",
   "metadata": {},
   "outputs": [
    {
     "name": "stdout",
     "output_type": "stream",
     "text": [
      "New value for the class Static variable is:  3\n",
      "The value for the obj1 (object with manually SV value chaneg) remains the same:  6\n"
     ]
    }
   ],
   "source": [
    "# The valuse of the Static variable for the object\n",
    "# where we have manually changed its value\n",
    "# Will remain same even though we change the class variable later\n",
    "\n",
    "MyClass.count = 3\n",
    "print(\"New value for the class Static variable is: \", MyClass.count)\n",
    "print(\"The value for the obj1 (object with manually SV value chaneg) remains the same: \", obj1.count)"
   ]
  },
  {
   "cell_type": "markdown",
   "id": "aa657748",
   "metadata": {},
   "source": [
    "# Static Function"
   ]
  },
  {
   "cell_type": "markdown",
   "id": "6ed0c1ac",
   "metadata": {},
   "source": [
    "Decorator"
   ]
  },
  {
   "cell_type": "code",
   "execution_count": null,
   "id": "3a09f288",
   "metadata": {},
   "outputs": [],
   "source": [
    "# We need to talk about Decorator first\n",
    "\"\"\"\n",
    "A decorator is a special type of function\n",
    "that can be used to modify or extend the behavior\n",
    "of other functions or methods.\n",
    "Decorators are often used to add functionality\n",
    "to functions or methods without modifying their source code directly.\n",
    "They are a powerful and flexible feature of the Python language,\n",
    "commonly used for tasks like logging, authentication,\n",
    "access control, and more.\n",
    "\n",
    "Syntax: \n",
    "@decorator_name\n",
    "Function/Method defination\n",
    "\n",
    "Decorators are typically applied using the @decorator_name syntax\n",
    "immediately before a function or method definition. \n",
    "Here's a basic example of a decorator in Python:\n",
    "\"\"\""
   ]
  },
  {
   "cell_type": "code",
   "execution_count": 36,
   "id": "5ab6ca1f",
   "metadata": {},
   "outputs": [
    {
     "name": "stdout",
     "output_type": "stream",
     "text": [
      "Something is happening before the function is called.\n",
      "Hello!\n",
      "Something is happening after the function is called.\n"
     ]
    }
   ],
   "source": [
    "# Example for Decorator\n",
    "# Here we are creating our own decorator\n",
    "\n",
    "# my_decorator is a decorator function \n",
    "# that takes another function func as its argument. \n",
    "def my_decorator(func):\n",
    "    \n",
    "    # It defines an inner function wrapper that wraps around func.\n",
    "    def wrapper():\n",
    "        print(\"Something is happening before the function is called.\")\n",
    "        func()\n",
    "        print(\"Something is happening after the function is called.\")\n",
    "        # The wrapper function performs some actions\n",
    "        # before and after calling the original say_hello function.\n",
    "    return wrapper\n",
    "\n",
    "# The @my_decorator decorator is applied to the say_hello function. \n",
    "# This means that when say_hello is called,\n",
    "# it's actually calling the wrapper function created by the decorator.\n",
    "@my_decorator\n",
    "def say_hello():\n",
    "    print(\"Hello!\")\n",
    "\n",
    "# Calling the decorated function\n",
    "say_hello()"
   ]
  },
  {
   "cell_type": "code",
   "execution_count": null,
   "id": "22b87602",
   "metadata": {},
   "outputs": [],
   "source": [
    "# Now Lets talk about Static Function\n",
    "\"\"\"\n",
    "A static method is a method that belongs to a class\n",
    "rather than an instance of the class. \n",
    "Unlike regular instance methods, \n",
    "static methods don't operate on instance-specific data \n",
    "and do not require access to instance attributes or methods.\n",
    "Instead, they work with class-level data\n",
    "and are often used for utility functions or operations\n",
    "that don't depend on the state of individual objects.\n",
    "\n",
    "Syntax:\n",
    "@staticmethod\n",
    "Function/Method defination (withour the 'self' instance variable)\n",
    "\n",
    "To define a static method in Python,\n",
    "you use the @staticmethod decorator before the method definition. \n",
    "The @staticmethod decorator tells Python \n",
    "that the method is intended to be a static method. \n",
    "Static methods can be called on the class itself\n",
    "without the need to create an instance of the class.\n",
    "\"\"\""
   ]
  },
  {
   "cell_type": "code",
   "execution_count": 38,
   "id": "67985c18",
   "metadata": {},
   "outputs": [
    {
     "name": "stdout",
     "output_type": "stream",
     "text": [
      "Sum: 8\n",
      "Product: 24\n"
     ]
    }
   ],
   "source": [
    "# Few examples for the Static function\n",
    "class MathUtils:\n",
    "    @staticmethod\n",
    "    def add(a, b):\n",
    "        return a + b\n",
    "\n",
    "    @staticmethod\n",
    "    def multiply(a, b):\n",
    "        return a * b\n",
    "\n",
    "# Calling static methods without creating instances\n",
    "# Can be called with Class and objects both\n",
    "sum_result = MathUtils.add(5, 3)\n",
    "product_result = MathUtils.multiply(4, 6)\n",
    "\n",
    "print(\"Sum:\", sum_result)\n",
    "print(\"Product:\", product_result)\n"
   ]
  },
  {
   "cell_type": "code",
   "execution_count": 49,
   "id": "715af155",
   "metadata": {},
   "outputs": [],
   "source": [
    "# Object for the class with Static function\n",
    "obj1 = MathUtils()"
   ]
  },
  {
   "cell_type": "code",
   "execution_count": 50,
   "id": "cad42baa",
   "metadata": {},
   "outputs": [
    {
     "data": {
      "text/plain": [
       "20"
      ]
     },
     "execution_count": 50,
     "metadata": {},
     "output_type": "execute_result"
    }
   ],
   "source": [
    "obj1.multiply(4,5)\n",
    "# Calling the Static function with object"
   ]
  },
  {
   "cell_type": "code",
   "execution_count": null,
   "id": "9c514493",
   "metadata": {},
   "outputs": [],
   "source": [
    "# Now lets try different senarios\n",
    "# Senario 1:- Nor calling rthe decorator @staticmethod\n",
    "\n",
    "class batch_number:\n",
    "    batchnumber = ''\n",
    "    def __init__(self, a, b, c):\n",
    "        self.a = a\n",
    "        self.b = b\n",
    "        self.c = c\n",
    "    \n",
    "    #@staticmethod\n",
    "    def batch():\n",
    "        print(self.batchnumber)\n",
    "        return self.batchnumber\n",
    "    \n",
    "# This will give error because there is not \"self\" instance\n",
    "# in the batch(function)"
   ]
  },
  {
   "cell_type": "code",
   "execution_count": 44,
   "id": "c4f3ec49",
   "metadata": {},
   "outputs": [],
   "source": [
    "# Senario 2:- using the 'self' in the static function\n",
    "\n",
    "class batch_number:\n",
    "    batchnumber = ''\n",
    "    def __init__(self, a, b, c):\n",
    "        self.a = a\n",
    "        self.b = b\n",
    "        self.c = c\n",
    "    \n",
    "    @staticmethod\n",
    "    def batch():\n",
    "        print(self.batchnumber)\n",
    "        return self.batchnumber\n",
    "    \n",
    "    # batch1() is an instance method/function (presence of self)\n",
    "    # Can only be accessed with an object\n",
    "    def batch1(self):\n",
    "        print(\"This is a instance method\")"
   ]
  },
  {
   "cell_type": "code",
   "execution_count": 45,
   "id": "a9278184",
   "metadata": {},
   "outputs": [],
   "source": [
    "bn = batch_number(2,3,4)"
   ]
  },
  {
   "cell_type": "code",
   "execution_count": 46,
   "id": "359a7f62",
   "metadata": {},
   "outputs": [
    {
     "ename": "NameError",
     "evalue": "name 'self' is not defined",
     "output_type": "error",
     "traceback": [
      "\u001b[1;31m---------------------------------------------------------------------------\u001b[0m",
      "\u001b[1;31mNameError\u001b[0m                                 Traceback (most recent call last)",
      "Cell \u001b[1;32mIn[46], line 1\u001b[0m\n\u001b[1;32m----> 1\u001b[0m \u001b[43mbn\u001b[49m\u001b[38;5;241;43m.\u001b[39;49m\u001b[43mbatch\u001b[49m\u001b[43m(\u001b[49m\u001b[43m)\u001b[49m\n\u001b[0;32m      3\u001b[0m \u001b[38;5;66;03m# Will give error because of the \"self\" instance\u001b[39;00m\n\u001b[0;32m      4\u001b[0m \u001b[38;5;66;03m# used in the Static Function\u001b[39;00m\n",
      "Cell \u001b[1;32mIn[44], line 12\u001b[0m, in \u001b[0;36mbatch_number.batch\u001b[1;34m()\u001b[0m\n\u001b[0;32m     10\u001b[0m \u001b[38;5;129m@staticmethod\u001b[39m\n\u001b[0;32m     11\u001b[0m \u001b[38;5;28;01mdef\u001b[39;00m \u001b[38;5;21mbatch\u001b[39m():\n\u001b[1;32m---> 12\u001b[0m     \u001b[38;5;28mprint\u001b[39m(\u001b[38;5;28;43mself\u001b[39;49m\u001b[38;5;241m.\u001b[39mbatchnumber)\n\u001b[0;32m     13\u001b[0m     \u001b[38;5;28;01mreturn\u001b[39;00m \u001b[38;5;28mself\u001b[39m\u001b[38;5;241m.\u001b[39mbatchnumber\n",
      "\u001b[1;31mNameError\u001b[0m: name 'self' is not defined"
     ]
    }
   ],
   "source": [
    "bn.batch()\n",
    "\n",
    "# Will give error because of the \"self\" instance\n",
    "# used in the Static Function"
   ]
  },
  {
   "cell_type": "code",
   "execution_count": 53,
   "id": "baa8d1b6",
   "metadata": {},
   "outputs": [
    {
     "name": "stdout",
     "output_type": "stream",
     "text": [
      "Account Number: 23456456456\n",
      "Balance: 1000\n"
     ]
    }
   ],
   "source": [
    "class BankAccount:\n",
    "    account_number = \"23456456456\"\n",
    "    def __init__(self, balance):\n",
    "        self.balance = balance\n",
    "\n",
    "    # Getter method\n",
    "    def get_balance(self):\n",
    "        return self.balance\n",
    "\n",
    "    # Setter method\n",
    "    def deposit(self, amount):\n",
    "        if amount > 0:\n",
    "            self.balance += amount\n",
    "\n",
    "    # Setter method\n",
    "    def withdraw(self, amount):\n",
    "        if amount > 0 and amount <= self.balance:\n",
    "            self.balance -= amount\n",
    "\n",
    "# Creating an instance of the class\n",
    "account = BankAccount(1000)\n",
    "\n",
    "# Accessing attributes using getter methods\n",
    "print(\"Account Number:\", BankAccount.account_number)\n",
    "print(\"Balance:\", account.get_balance())\n"
   ]
  },
  {
   "cell_type": "markdown",
   "id": "f3450623",
   "metadata": {},
   "source": [
    "# Abstraction"
   ]
  },
  {
   "cell_type": "code",
   "execution_count": null,
   "id": "bf895033",
   "metadata": {},
   "outputs": [],
   "source": [
    "\"\"\"\n",
    "Abstraction is one of the fundamental principles\n",
    "of object-oriented programming (OOP) and software design. \n",
    "It involves simplifying complex systems by breaking them down into smaller,\n",
    "more manageable parts,\n",
    "and focusing on the essential features\n",
    "while hiding the unnecessary details. \n",
    "Abstraction allows developers to work with high-level concepts\n",
    "and ignore low-level implementation details.\n",
    "\"\"\"\n",
    "\n",
    "\"\"\"\n",
    "Abstract Classes: \n",
    "\n",
    "An abstract class is a class that cannot be instantiated on its own\n",
    "and is meant to be subclassed. \n",
    "It may contain abstract methods (methods without implementation) \n",
    "that must be implemented by its subclasses. \n",
    "Abstract classes provide a blueprint for other classes.\n",
    "\n",
    "Abstract Methods: \n",
    "\n",
    "Abstract methods are methods declared in an abstract class\n",
    "that have no implementation in the abstract class itself. \n",
    "Subclasses of the abstract class must provide implementations\n",
    "for these methods.\n",
    "\"\"\""
   ]
  },
  {
   "cell_type": "code",
   "execution_count": null,
   "id": "356040de",
   "metadata": {},
   "outputs": [],
   "source": [
    "# Abstraction of a Class\n",
    "# Mens creating a blueprint\n",
    "\n",
    "from abc import abstractmethod\n",
    "# No need to import this. \n",
    "# But in case we want to use the decorator we need to import this\n",
    "\n",
    "class data_project:\n",
    "    \n",
    "    # The decorator imported from abc module\n",
    "    # Not necessary to use decorator here\n",
    "    # A blueprint can be created without it as well. \n",
    "    @abstractmethod\n",
    "    def read_file(self):\n",
    "        pass\n",
    "    \n",
    "    def validate_fine_name(self):\n",
    "        pass\n",
    "    \n",
    "    def validate_data_type(self):\n",
    "        pass\n",
    "    \n",
    "    def validate_db_connetion(self):\n",
    "        pass\n",
    "    \n",
    "    def create_connection(self):\n",
    "        pass\n",
    "    \n",
    "    def insert_date(self):\n",
    "        pass\n",
    "    \n",
    "    def delete_date(self):\n",
    "        pass\n",
    "    \n",
    "    def update_date(self):\n",
    "        pass\n",
    "    \n",
    "    def perform_stat_analysis(self):\n",
    "        pass\n",
    "    \n",
    "    def perform_eda(self):\n",
    "        pass\n",
    "    \n",
    "# This is created so the\n",
    "# we can assign the reight person to make the desired method"
   ]
  }
 ],
 "metadata": {
  "celltoolbar": "Raw Cell Format",
  "kernelspec": {
   "display_name": "Python 3 (ipykernel)",
   "language": "python",
   "name": "python3"
  },
  "language_info": {
   "codemirror_mode": {
    "name": "ipython",
    "version": 3
   },
   "file_extension": ".py",
   "mimetype": "text/x-python",
   "name": "python",
   "nbconvert_exporter": "python",
   "pygments_lexer": "ipython3",
   "version": "3.11.4"
  }
 },
 "nbformat": 4,
 "nbformat_minor": 5
}

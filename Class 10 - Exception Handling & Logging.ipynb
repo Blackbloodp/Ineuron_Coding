{
 "cells": [
  {
   "cell_type": "code",
   "execution_count": 2,
   "id": "118958c9",
   "metadata": {},
   "outputs": [],
   "source": [
    "import logging"
   ]
  },
  {
   "cell_type": "code",
   "execution_count": 3,
   "id": "14ef2db4",
   "metadata": {},
   "outputs": [],
   "source": [
    "logging.basicConfig(filename = \"test.log\")"
   ]
  },
  {
   "cell_type": "code",
   "execution_count": null,
   "id": "d1f7ae4c",
   "metadata": {},
   "outputs": [],
   "source": [
    "\"\"\"\n",
    "Signature: logging.basicConfig(**kwargs)\n",
    "Docstring:\n",
    "Do basic configuration for the logging system.\n",
    "\n",
    "This function does nothing if the root logger already has handlers\n",
    "configured, unless the keyword argument *force* is set to ``True``.\n",
    "It is a convenience method intended for use by simple scripts\n",
    "to do one-shot configuration of the logging package.\n",
    "\n",
    "The default behaviour is to create a StreamHandler which writes to\n",
    "sys.stderr, set a formatter using the BASIC_FORMAT format string, and\n",
    "add the handler to the root logger.\n",
    "\n",
    "A number of optional keyword arguments may be specified, which can alter\n",
    "the default behaviour.\n",
    "\n",
    "filename  Specifies that a FileHandler be created, using the specified\n",
    "          filename, rather than a StreamHandler.\n",
    "filemode  Specifies the mode to open the file, if filename is specified\n",
    "          (if filemode is unspecified, it defaults to 'a').\n",
    "format    Use the specified format string for the handler.\n",
    "datefmt   Use the specified date/time format.\n",
    "style     If a format string is specified, use this to specify the\n",
    "          type of format string (possible values '%', '{', '$', for\n",
    "          %-formatting, :meth:`str.format` and :class:`string.Template`\n",
    "          - defaults to '%').\n",
    "level     Set the root logger level to the specified level.\n",
    "stream    Use the specified stream to initialize the StreamHandler. Note\n",
    "          that this argument is incompatible with 'filename' - if both\n",
    "          are present, 'stream' is ignored.\n",
    "handlers  If specified, this should be an iterable of already created\n",
    "          handlers, which will be added to the root handler. Any handler\n",
    "          in the list which does not have a formatter assigned will be\n",
    "          assigned the formatter created in this function.\n",
    "force     If this keyword  is specified as true, any existing handlers\n",
    "          attached to the root logger are removed and closed, before\n",
    "          carrying out the configuration as specified by the other\n",
    "          arguments.\n",
    "encoding  If specified together with a filename, this encoding is passed to\n",
    "          the created FileHandler, causing it to be used when the file is\n",
    "          opened.\n",
    "errors    If specified together with a filename, this value is passed to the\n",
    "          created FileHandler, causing it to be used when the file is\n",
    "          opened in text mode. If not specified, the default value is\n",
    "          `backslashreplace`.\n",
    "\n",
    "Note that you could specify a stream created using open(filename, mode)\n",
    "rather than passing the filename and mode in. However, it should be\n",
    "remembered that StreamHandler does not close its stream (since it may be\n",
    "using sys.stdout or sys.stderr), whereas FileHandler closes its stream\n",
    "when the handler is closed.\n",
    "\n",
    ".. versionchanged:: 3.2\n",
    "   Added the ``style`` parameter.\n",
    "\n",
    ".. versionchanged:: 3.3\n",
    "   Added the ``handlers`` parameter. A ``ValueError`` is now thrown for\n",
    "   incompatible arguments (e.g. ``handlers`` specified together with\n",
    "   ``filename``/``filemode``, or ``filename``/``filemode`` specified\n",
    "   together with ``stream``, or ``handlers`` specified together with\n",
    "   ``stream``.\n",
    "\n",
    ".. versionchanged:: 3.8\n",
    "   Added the ``force`` parameter.\n",
    "\n",
    ".. versionchanged:: 3.9\n",
    "   Added the ``encoding`` and ``errors`` parameters.\n",
    "File:      c:\\users\\win\\anaconda3\\lib\\logging\\__init__.py\n",
    "Type:      function\n",
    "\"\"\""
   ]
  },
  {
   "cell_type": "code",
   "execution_count": null,
   "id": "f72b6a5b",
   "metadata": {},
   "outputs": [],
   "source": [
    "# Levels for logging\n",
    "\"\"\"\n",
    "Debug\n",
    "Info\n",
    "Warning\n",
    "Error\n",
    "Critical\n",
    "\n",
    "This is based on the priority from low to high\n",
    "\"\"\""
   ]
  },
  {
   "cell_type": "code",
   "execution_count": 5,
   "id": "6f9af088",
   "metadata": {},
   "outputs": [],
   "source": [
    "logging.info(\"This is an infor Log\")\n",
    "logging. warning(\"This is a warninhg log\")\n",
    "logging.error(\"This is my error log\")\n",
    "\n",
    "# Only the Warning and error logs are logged in the log file.\n",
    "# info log are nate present in the log file(test.log)"
   ]
  },
  {
   "cell_type": "code",
   "execution_count": 6,
   "id": "33262ed4",
   "metadata": {},
   "outputs": [],
   "source": [
    "# To shutdown the file\n",
    "logging.shutdown()"
   ]
  },
  {
   "cell_type": "code",
   "execution_count": 1,
   "id": "f6ae1cb5",
   "metadata": {},
   "outputs": [],
   "source": [
    "# If we want to lof the info file as well. \n",
    "# By specifing the level of the logging\n",
    "import logging\n",
    "\n",
    "logging.basicConfig(filename = \"test.log\", level = logging.INFO)"
   ]
  },
  {
   "cell_type": "code",
   "execution_count": 2,
   "id": "bb9a7fe4",
   "metadata": {},
   "outputs": [],
   "source": [
    "logging.info(\"This is an infor Log\")\n",
    "logging. warning(\"This is a warninhg log\")\n",
    "logging.error(\"This is my error log\")\n",
    "logging.shutdown()"
   ]
  },
  {
   "cell_type": "code",
   "execution_count": null,
   "id": "1b890e09",
   "metadata": {},
   "outputs": [],
   "source": [
    "# Note\n",
    "\"\"\"\n",
    "Sometimes the log files does not apper even after setting the level\n",
    "This is an issue with the jupyter notebook\n",
    "\n",
    "To fix this we need to restart the Kernel \n",
    "and then run the code again \n",
    "\"\"\""
   ]
  },
  {
   "cell_type": "code",
   "execution_count": 1,
   "id": "1b94bd3e",
   "metadata": {},
   "outputs": [],
   "source": [
    "import logging\n",
    "logging.basicConfig(filename = \"test1.log\", level = logging.DEBUG, format = '%(asctime)s %(message)s' )\n",
    "\n",
    "# Here in the code '%(acstime)s' is a keyword for logging time stamp\n",
    "# And '%(message)s' is keyword for logging a message\n",
    "# both are keywords in the logging module"
   ]
  },
  {
   "cell_type": "code",
   "execution_count": 2,
   "id": "28c3f1ac",
   "metadata": {},
   "outputs": [],
   "source": [
    "logging.info(\"This is an infor Log\")\n",
    "logging.warning(\"This is a warninhg log\")\n",
    "logging.debug(\"This is my error log\")"
   ]
  },
  {
   "cell_type": "code",
   "execution_count": 3,
   "id": "b890b3bf",
   "metadata": {},
   "outputs": [],
   "source": [
    "logging.shutdown()"
   ]
  },
  {
   "cell_type": "code",
   "execution_count": 1,
   "id": "cfc60a64",
   "metadata": {},
   "outputs": [],
   "source": [
    "import logging\n",
    "logging.basicConfig(filename = \"test1.log\", level = logging.DEBUG, format = '%(asctime)s %(levelname)s %(message)s' )\n",
    "\n",
    "# Here in the code '%(levelname)s' is a keyword for logging level name"
   ]
  },
  {
   "cell_type": "code",
   "execution_count": 2,
   "id": "cac8c693",
   "metadata": {},
   "outputs": [],
   "source": [
    "logging.info(\"This is an infor Log\")\n",
    "logging.warning(\"This is a warninhg log\")\n",
    "logging.debug(\"This is my error log\")\n",
    "logging.shutdown()"
   ]
  },
  {
   "cell_type": "code",
   "execution_count": 1,
   "id": "a92c8f88",
   "metadata": {},
   "outputs": [],
   "source": [
    "# Now in case of setting ERROR level\n",
    "\n",
    "import logging\n",
    "logging.basicConfig(filename = \"test1.log\", level = logging.ERROR, format = '%(asctime)s %(levelname)s %(message)s' )"
   ]
  },
  {
   "cell_type": "code",
   "execution_count": 2,
   "id": "83785934",
   "metadata": {},
   "outputs": [],
   "source": [
    "logging.info(\"This is an infor Log\")\n",
    "logging.warning(\"This is a warninhg log\")\n",
    "logging.debug(\"This is my error log\")"
   ]
  },
  {
   "cell_type": "code",
   "execution_count": null,
   "id": "0f979d4b",
   "metadata": {},
   "outputs": [],
   "source": [
    "# Note\n",
    "\"\"\"\n",
    "In this case the priority for ERROR is higher then all the other levels\n",
    "So no DEBUG, INFO and WARNING logs will be generated.\n",
    "only error logges will be mentioned in the logger file\n",
    "\n",
    "Simillarly if the level is INFO it will not log DEBUG.\n",
    "\"\"\""
   ]
  },
  {
   "cell_type": "code",
   "execution_count": 1,
   "id": "d6d93fd1",
   "metadata": {},
   "outputs": [],
   "source": [
    "# Example with coading\n",
    "\n",
    "import logging\n",
    "logging.basicConfig(filename = \"test2.log\", level = logging.DEBUG, format = '%(asctime)s %(levelname)s %(message)s' )"
   ]
  },
  {
   "cell_type": "code",
   "execution_count": 5,
   "id": "4a5b6311",
   "metadata": {},
   "outputs": [],
   "source": [
    "def div_by_0(a,b):\n",
    "    logging.info(\"Start of the coading and trying to enter %s and %s\", a, b)\n",
    "    try:\n",
    "        div = a/b\n",
    "        logging.info(\"Code executer successfully\")\n",
    "        return div\n",
    "    except Exception as e:\n",
    "        logging.error(\"Error occured in the code\")\n",
    "        logging.exception(\"Exception occured: \" + str(e))"
   ]
  },
  {
   "cell_type": "code",
   "execution_count": 6,
   "id": "f485a629",
   "metadata": {},
   "outputs": [
    {
     "data": {
      "text/plain": [
       "0.8"
      ]
     },
     "execution_count": 6,
     "metadata": {},
     "output_type": "execute_result"
    }
   ],
   "source": [
    "div_by_0(4,5)"
   ]
  },
  {
   "cell_type": "code",
   "execution_count": 7,
   "id": "58552656",
   "metadata": {},
   "outputs": [],
   "source": [
    "div_by_0(4,0)"
   ]
  },
  {
   "cell_type": "code",
   "execution_count": null,
   "id": "c7acd23d",
   "metadata": {},
   "outputs": [],
   "source": []
  }
 ],
 "metadata": {
  "kernelspec": {
   "display_name": "Python 3 (ipykernel)",
   "language": "python",
   "name": "python3"
  },
  "language_info": {
   "codemirror_mode": {
    "name": "ipython",
    "version": 3
   },
   "file_extension": ".py",
   "mimetype": "text/x-python",
   "name": "python",
   "nbconvert_exporter": "python",
   "pygments_lexer": "ipython3",
   "version": "3.11.4"
  }
 },
 "nbformat": 4,
 "nbformat_minor": 5
}

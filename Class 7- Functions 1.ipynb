{
 "cells": [
  {
   "cell_type": "code",
   "execution_count": 1,
   "id": "9d9b0bd4",
   "metadata": {},
   "outputs": [],
   "source": [
    "# To start writing an function enter keyword def\n",
    "def test():\n",
    "    pass\n",
    "# function should have a statement writen"
   ]
  },
  {
   "cell_type": "code",
   "execution_count": 4,
   "id": "b922ab2d",
   "metadata": {},
   "outputs": [],
   "source": [
    "def test1():\n",
    "    print(\"this is my fisrt function\")"
   ]
  },
  {
   "cell_type": "code",
   "execution_count": 5,
   "id": "368c2dc7",
   "metadata": {},
   "outputs": [
    {
     "name": "stdout",
     "output_type": "stream",
     "text": [
      "this is my fisrt function\n"
     ]
    }
   ],
   "source": [
    "test1()"
   ]
  },
  {
   "cell_type": "code",
   "execution_count": 6,
   "id": "fac0979f",
   "metadata": {},
   "outputs": [
    {
     "name": "stdout",
     "output_type": "stream",
     "text": [
      "this is my fisrt function\n"
     ]
    }
   ],
   "source": [
    "a = test1()"
   ]
  },
  {
   "cell_type": "code",
   "execution_count": 8,
   "id": "ee3b3406",
   "metadata": {},
   "outputs": [
    {
     "ename": "TypeError",
     "evalue": "unsupported operand type(s) for +: 'NoneType' and 'str'",
     "output_type": "error",
     "traceback": [
      "\u001b[1;31m---------------------------------------------------------------------------\u001b[0m",
      "\u001b[1;31mTypeError\u001b[0m                                 Traceback (most recent call last)",
      "\u001b[1;32m~\\AppData\\Local\\Temp\\ipykernel_1200\\1847741050.py\u001b[0m in \u001b[0;36m<module>\u001b[1;34m\u001b[0m\n\u001b[1;32m----> 1\u001b[1;33m \u001b[0ma\u001b[0m \u001b[1;33m+\u001b[0m \u001b[1;34m\"kush\"\u001b[0m\u001b[1;33m\u001b[0m\u001b[1;33m\u001b[0m\u001b[0m\n\u001b[0m",
      "\u001b[1;31mTypeError\u001b[0m: unsupported operand type(s) for +: 'NoneType' and 'str'"
     ]
    }
   ],
   "source": [
    "a + \"kush\"\n",
    "\n",
    "# By default the type of a function is NoneType"
   ]
  },
  {
   "cell_type": "code",
   "execution_count": 9,
   "id": "069eabaf",
   "metadata": {},
   "outputs": [
    {
     "name": "stdout",
     "output_type": "stream",
     "text": [
      "this is my fisrt function\n"
     ]
    },
    {
     "data": {
      "text/plain": [
       "NoneType"
      ]
     },
     "execution_count": 9,
     "metadata": {},
     "output_type": "execute_result"
    }
   ],
   "source": [
    "type(test1())"
   ]
  },
  {
   "cell_type": "code",
   "execution_count": 10,
   "id": "2cd2f7a4",
   "metadata": {},
   "outputs": [
    {
     "data": {
      "text/plain": [
       "'None'"
      ]
     },
     "execution_count": 10,
     "metadata": {},
     "output_type": "execute_result"
    }
   ],
   "source": [
    " str(a)"
   ]
  },
  {
   "cell_type": "code",
   "execution_count": 11,
   "id": "eb7443cd",
   "metadata": {},
   "outputs": [
    {
     "data": {
      "text/plain": [
       "str"
      ]
     },
     "execution_count": 11,
     "metadata": {},
     "output_type": "execute_result"
    }
   ],
   "source": [
    "type(str(a))"
   ]
  },
  {
   "cell_type": "code",
   "execution_count": 12,
   "id": "d0c5d2f5",
   "metadata": {},
   "outputs": [],
   "source": [
    " # Use return if a specific type of output is required\n",
    "def test2():\n",
    "    return \" kush\""
   ]
  },
  {
   "cell_type": "code",
   "execution_count": 13,
   "id": "1811d29d",
   "metadata": {},
   "outputs": [
    {
     "data": {
      "text/plain": [
       "str"
      ]
     },
     "execution_count": 13,
     "metadata": {},
     "output_type": "execute_result"
    }
   ],
   "source": [
    "type(test2())"
   ]
  },
  {
   "cell_type": "code",
   "execution_count": 14,
   "id": "ecd8cc09",
   "metadata": {},
   "outputs": [
    {
     "data": {
      "text/plain": [
       "'hi kush'"
      ]
     },
     "execution_count": 14,
     "metadata": {},
     "output_type": "execute_result"
    }
   ],
   "source": [
    "\"hi\" + test2()"
   ]
  },
  {
   "cell_type": "code",
   "execution_count": 15,
   "id": "f5b7b365",
   "metadata": {},
   "outputs": [],
   "source": [
    "#You can do trhe same with integers as well\n",
    "def test3():\n",
    "    return 27347"
   ]
  },
  {
   "cell_type": "code",
   "execution_count": 16,
   "id": "ebcc9c28",
   "metadata": {},
   "outputs": [
    {
     "data": {
      "text/plain": [
       "int"
      ]
     },
     "execution_count": 16,
     "metadata": {},
     "output_type": "execute_result"
    }
   ],
   "source": [
    "type(test3())"
   ]
  },
  {
   "cell_type": "code",
   "execution_count": 17,
   "id": "35298dcb",
   "metadata": {},
   "outputs": [],
   "source": [
    "# This will not work with print function\n",
    "# It works wity only return fucntion"
   ]
  },
  {
   "cell_type": "code",
   "execution_count": 18,
   "id": "8f1af676",
   "metadata": {},
   "outputs": [
    {
     "name": "stdout",
     "output_type": "stream",
     "text": [
      "Hi\n"
     ]
    }
   ],
   "source": [
    "a = print(\"Hi\")"
   ]
  },
  {
   "cell_type": "code",
   "execution_count": 19,
   "id": "fd5f8e5f",
   "metadata": {},
   "outputs": [
    {
     "data": {
      "text/plain": [
       "NoneType"
      ]
     },
     "execution_count": 19,
     "metadata": {},
     "output_type": "execute_result"
    }
   ],
   "source": [
    "type(a)"
   ]
  },
  {
   "cell_type": "code",
   "execution_count": 25,
   "id": "064f655a",
   "metadata": {},
   "outputs": [],
   "source": [
    "# It is possible to return multiple type of out as well\n",
    "def test4():\n",
    "    return 4, 9 , \"kush\", [1, 2, 3, 4], 5 + 6j"
   ]
  },
  {
   "cell_type": "code",
   "execution_count": 26,
   "id": "b2869736",
   "metadata": {},
   "outputs": [
    {
     "data": {
      "text/plain": [
       "(4, 9, 'kush', [1, 2, 3, 4], (5+6j))"
      ]
     },
     "execution_count": 26,
     "metadata": {},
     "output_type": "execute_result"
    }
   ],
   "source": [
    "test4()"
   ]
  },
  {
   "cell_type": "code",
   "execution_count": 27,
   "id": "d37bee13",
   "metadata": {},
   "outputs": [],
   "source": [
    "b = test4()"
   ]
  },
  {
   "cell_type": "code",
   "execution_count": 28,
   "id": "7173a5d4",
   "metadata": {},
   "outputs": [
    {
     "data": {
      "text/plain": [
       "9"
      ]
     },
     "execution_count": 28,
     "metadata": {},
     "output_type": "execute_result"
    }
   ],
   "source": [
    "b[1]"
   ]
  },
  {
   "cell_type": "code",
   "execution_count": 29,
   "id": "dd0765df",
   "metadata": {},
   "outputs": [],
   "source": [
    "w, x, y, z, i = test4()"
   ]
  },
  {
   "cell_type": "code",
   "execution_count": 30,
   "id": "969fb961",
   "metadata": {},
   "outputs": [
    {
     "data": {
      "text/plain": [
       "4"
      ]
     },
     "execution_count": 30,
     "metadata": {},
     "output_type": "execute_result"
    }
   ],
   "source": [
    "w"
   ]
  },
  {
   "cell_type": "code",
   "execution_count": 31,
   "id": "371d3025",
   "metadata": {},
   "outputs": [
    {
     "data": {
      "text/plain": [
       "9"
      ]
     },
     "execution_count": 31,
     "metadata": {},
     "output_type": "execute_result"
    }
   ],
   "source": [
    "x"
   ]
  },
  {
   "cell_type": "code",
   "execution_count": 32,
   "id": "d68e83f1",
   "metadata": {},
   "outputs": [
    {
     "data": {
      "text/plain": [
       "'kush'"
      ]
     },
     "execution_count": 32,
     "metadata": {},
     "output_type": "execute_result"
    }
   ],
   "source": [
    "y"
   ]
  },
  {
   "cell_type": "code",
   "execution_count": 33,
   "id": "9d8c3b59",
   "metadata": {},
   "outputs": [
    {
     "data": {
      "text/plain": [
       "[1, 2, 3, 4]"
      ]
     },
     "execution_count": 33,
     "metadata": {},
     "output_type": "execute_result"
    }
   ],
   "source": [
    "z"
   ]
  },
  {
   "cell_type": "code",
   "execution_count": 34,
   "id": "80901b6b",
   "metadata": {},
   "outputs": [
    {
     "data": {
      "text/plain": [
       "(5+6j)"
      ]
     },
     "execution_count": 34,
     "metadata": {},
     "output_type": "execute_result"
    }
   ],
   "source": [
    "i"
   ]
  },
  {
   "cell_type": "code",
   "execution_count": 37,
   "id": "c77fe784",
   "metadata": {},
   "outputs": [
    {
     "ename": "ValueError",
     "evalue": "too many values to unpack (expected 4)",
     "output_type": "error",
     "traceback": [
      "\u001b[1;31m---------------------------------------------------------------------------\u001b[0m",
      "\u001b[1;31mValueError\u001b[0m                                Traceback (most recent call last)",
      "\u001b[1;32m~\\AppData\\Local\\Temp\\ipykernel_1200\\2006653205.py\u001b[0m in \u001b[0;36m<module>\u001b[1;34m\u001b[0m\n\u001b[0;32m      1\u001b[0m \u001b[1;31m# You can assign all the output to a difefrent varaible\u001b[0m\u001b[1;33m\u001b[0m\u001b[1;33m\u001b[0m\u001b[0m\n\u001b[0;32m      2\u001b[0m \u001b[1;31m# note map the number of output to the variable\u001b[0m\u001b[1;33m\u001b[0m\u001b[1;33m\u001b[0m\u001b[0m\n\u001b[1;32m----> 3\u001b[1;33m \u001b[0mx\u001b[0m\u001b[1;33m,\u001b[0m \u001b[0my\u001b[0m\u001b[1;33m,\u001b[0m \u001b[0mz\u001b[0m\u001b[1;33m,\u001b[0m \u001b[0mi\u001b[0m \u001b[1;33m=\u001b[0m \u001b[0mtest4\u001b[0m\u001b[1;33m(\u001b[0m\u001b[1;33m)\u001b[0m\u001b[1;33m\u001b[0m\u001b[1;33m\u001b[0m\u001b[0m\n\u001b[0m\u001b[0;32m      4\u001b[0m \u001b[1;33m\u001b[0m\u001b[0m\n\u001b[0;32m      5\u001b[0m \u001b[1;31m#here there are 5 output but only 4 variables\u001b[0m\u001b[1;33m\u001b[0m\u001b[1;33m\u001b[0m\u001b[0m\n",
      "\u001b[1;31mValueError\u001b[0m: too many values to unpack (expected 4)"
     ]
    }
   ],
   "source": [
    "# You can assign all the output to a difefrent varaible\n",
    "# note map the number of output to the variable\n",
    "x, y, z, i = test4()\n",
    "\n",
    "#here there are 5 output but only 4 variables\n",
    "#hence error"
   ]
  },
  {
   "cell_type": "code",
   "execution_count": 39,
   "id": "ca745691",
   "metadata": {},
   "outputs": [],
   "source": [
    "def test5():\n",
    "    a = 8*9/2\n",
    "    return a"
   ]
  },
  {
   "cell_type": "code",
   "execution_count": 40,
   "id": "796f964d",
   "metadata": {},
   "outputs": [
    {
     "data": {
      "text/plain": [
       "36.0"
      ]
     },
     "execution_count": 40,
     "metadata": {},
     "output_type": "execute_result"
    }
   ],
   "source": [
    "test5()"
   ]
  },
  {
   "cell_type": "code",
   "execution_count": 52,
   "id": "aed7735b",
   "metadata": {},
   "outputs": [],
   "source": [
    "# Question write a function which will take a list as an input\n",
    "# and return a list after checking for only integers\n",
    "# and give an list as an output\n",
    "l = [2, 4, 5,23, \"kush\", [1, 2, 3, 4, 5, 6]]"
   ]
  },
  {
   "cell_type": "code",
   "execution_count": 57,
   "id": "12745e25",
   "metadata": {},
   "outputs": [
    {
     "name": "stdout",
     "output_type": "stream",
     "text": [
      "[2, 4, 5, 23]\n"
     ]
    }
   ],
   "source": [
    "# Solution\n",
    "def test6(a):\n",
    "    n = []\n",
    "    if type(a) == list:\n",
    "        for i in a:\n",
    "            if type(i) == int:\n",
    "                n.append(i)\n",
    "    return n\n",
    "print(test6(l))"
   ]
  },
  {
   "cell_type": "code",
   "execution_count": 61,
   "id": "3622c226",
   "metadata": {},
   "outputs": [],
   "source": [
    "# For an input as a dictionary and output as a list of keys\n",
    "def test8(c):\n",
    "    if type(c) == dict:\n",
    "        return c.keys()\n",
    "    else:\n",
    "        return \"You have not entered a dictionary\""
   ]
  },
  {
   "cell_type": "code",
   "execution_count": 62,
   "id": "5eac75c4",
   "metadata": {},
   "outputs": [
    {
     "data": {
      "text/plain": [
       "'You have not entered a dictionary'"
      ]
     },
     "execution_count": 62,
     "metadata": {},
     "output_type": "execute_result"
    }
   ],
   "source": [
    "test8(\"kjdf\")"
   ]
  },
  {
   "cell_type": "code",
   "execution_count": 63,
   "id": "21aa5680",
   "metadata": {},
   "outputs": [
    {
     "data": {
      "text/plain": [
       "dict_keys(['a', 'b', 'c'])"
      ]
     },
     "execution_count": 63,
     "metadata": {},
     "output_type": "execute_result"
    }
   ],
   "source": [
    "test8({\"a\" : \"ljdf\", \"b\" : 67328976, \"c\" : [43,5,213,897]})"
   ]
  },
  {
   "cell_type": "code",
   "execution_count": 71,
   "id": "713e378d",
   "metadata": {},
   "outputs": [],
   "source": [
    "# Question\n",
    "# A function that should take multuple inputs (in this eg list)\n",
    "# and should return a list combining those 2\n",
    "\n",
    "def test9(a,b):\n",
    "    if type(a) == list and type(b) == list:\n",
    "        a.extend(b)\n",
    "        return a\n",
    "    else:\n",
    "        return \"You have not entered list\""
   ]
  },
  {
   "cell_type": "code",
   "execution_count": 72,
   "id": "6255e9c2",
   "metadata": {},
   "outputs": [
    {
     "data": {
      "text/plain": [
       "'You have not entered list'"
      ]
     },
     "execution_count": 72,
     "metadata": {},
     "output_type": "execute_result"
    }
   ],
   "source": [
    "test9(23,\"khadh\")"
   ]
  },
  {
   "cell_type": "code",
   "execution_count": 73,
   "id": "9454a5ae",
   "metadata": {},
   "outputs": [
    {
     "data": {
      "text/plain": [
       "[2, 4, 6, 34, 9, 23, 5, 5, 'sdhfj']"
      ]
     },
     "execution_count": 73,
     "metadata": {},
     "output_type": "execute_result"
    }
   ],
   "source": [
    "test9([2,4,6,34,9],[23,5,5,\"sdhfj\"])"
   ]
  },
  {
   "cell_type": "code",
   "execution_count": 121,
   "id": "406686ee",
   "metadata": {},
   "outputs": [],
   "source": [
    "# Question\n",
    "# write a function that will ask for an row and columb input\n",
    "# and prints a triange as an output based on the rows and columbs\n",
    "\n",
    "def code(a,b):\n",
    "    \"\"\" \n",
    "    This code is for producing a right side triangle and based on the row it will stop there\n",
    "    The triengle will be created with *s\n",
    "    Where a is the number of rows\n",
    "    And b is the number of columbs\n",
    "    \"\"\"\n",
    "    for i in range(0,a):\n",
    "        if i <= b-1:\n",
    "            for j in range(0,i+1):\n",
    "                print(\"*\", end = \" \")\n",
    "            print(\"\\r\")\n",
    "# the code below is to continue the triangle code \n",
    "# with just the number of rows\n",
    "        else:\n",
    "            for j in range(0,b):\n",
    "                print(\"*\", end = \" \")\n",
    "            print(\"\\r\")"
   ]
  },
  {
   "cell_type": "code",
   "execution_count": 122,
   "id": "f5009a37",
   "metadata": {},
   "outputs": [
    {
     "name": "stdout",
     "output_type": "stream",
     "text": [
      "* \r\n",
      "* * \r\n",
      "* * * \r\n",
      "* * * * \r\n",
      "* * * * * \r\n",
      "* * * * * * \r\n",
      "* * * * * * * \r\n",
      "* * * * * * * * \r\n",
      "* * * * * * * * * \r\n",
      "* * * * * * * * * * \r\n"
     ]
    }
   ],
   "source": [
    "code(10,10)"
   ]
  },
  {
   "cell_type": "code",
   "execution_count": 123,
   "id": "4ded8505",
   "metadata": {},
   "outputs": [
    {
     "name": "stdout",
     "output_type": "stream",
     "text": [
      "* \r\n",
      "* * \r\n",
      "* * * \r\n",
      "* * * * \r\n",
      "* * * * * \r\n",
      "* * * * * * \r\n",
      "* * * * * * \r\n",
      "* * * * * * \r\n",
      "* * * * * * \r\n",
      "* * * * * * \r\n"
     ]
    }
   ],
   "source": [
    "code(10,6)"
   ]
  },
  {
   "cell_type": "code",
   "execution_count": 124,
   "id": "a85d9f53",
   "metadata": {},
   "outputs": [],
   "source": [
    "# triangle with a set number of rows\n",
    "\n",
    "def triangle(a):\n",
    "    for i in range(0,a):\n",
    "        for j in range(0,i+1):\n",
    "            print(\"*\", end = \" \")\n",
    "        print(\"\\r\")"
   ]
  },
  {
   "cell_type": "code",
   "execution_count": 125,
   "id": "63206fdf",
   "metadata": {},
   "outputs": [
    {
     "name": "stdout",
     "output_type": "stream",
     "text": [
      "* \r\n",
      "* * \r\n",
      "* * * \r\n",
      "* * * * \r\n",
      "* * * * * \r\n",
      "* * * * * * \r\n",
      "* * * * * * * \r\n",
      "* * * * * * * * \r\n",
      "* * * * * * * * * \r\n"
     ]
    }
   ],
   "source": [
    "triangle(9)"
   ]
  },
  {
   "cell_type": "code",
   "execution_count": 126,
   "id": "18762e72",
   "metadata": {},
   "outputs": [],
   "source": [
    "# code for another triangle\n",
    "def iso_triangle(r):\n",
    "    if type(r) == int:\n",
    "        k = r-1\n",
    "        for i in range(0,r):\n",
    "            for j in range(0,k):\n",
    "                print(end = \" \")  # so that the net itration does not go to the next line\n",
    "            k = k - 1\n",
    "            for j in range(0,i+1):\n",
    "                print(\"*\", end = \" \")\n",
    "            print(\"\\r\")"
   ]
  },
  {
   "cell_type": "code",
   "execution_count": 127,
   "id": "9e66e264",
   "metadata": {},
   "outputs": [
    {
     "name": "stdout",
     "output_type": "stream",
     "text": [
      "         * \r\n",
      "        * * \r\n",
      "       * * * \r\n",
      "      * * * * \r\n",
      "     * * * * * \r\n",
      "    * * * * * * \r\n",
      "   * * * * * * * \r\n",
      "  * * * * * * * * \r\n",
      " * * * * * * * * * \r\n",
      "* * * * * * * * * * \r\n"
     ]
    }
   ],
   "source": [
    "iso_triangle(10)"
   ]
  },
  {
   "cell_type": "code",
   "execution_count": 128,
   "id": "8aa7eb84",
   "metadata": {},
   "outputs": [],
   "source": [
    "# you can mention the discription of the function\n",
    "# just by writing comments below the def function\n",
    "# by using \"\"\"  \"\"\"\n",
    "\n",
    "def iso_triangle(r):\n",
    "    \"\"\" \n",
    "    This code is for producing a triangle with 2 equal sides\n",
    "    The triengle will be created with *s\n",
    "    Where r is the number of rows\n",
    "    \"\"\"\n",
    "    if type(r) == int:\n",
    "        k = r-1\n",
    "        for i in range(0,r):\n",
    "            for j in range(0,k):\n",
    "                print(end = \" \")  # so that the net itration does not go to the next line\n",
    "            k = k - 1\n",
    "            for j in range(0,i+1):\n",
    "                print(\"*\", end = \" \")\n",
    "            print(\"\\r\")"
   ]
  },
  {
   "cell_type": "code",
   "execution_count": 129,
   "id": "d7f76b36",
   "metadata": {},
   "outputs": [
    {
     "name": "stdout",
     "output_type": "stream",
     "text": [
      "    * \r\n",
      "   * * \r\n",
      "  * * * \r\n",
      " * * * * \r\n",
      "* * * * * \r\n"
     ]
    }
   ],
   "source": [
    "iso_triangle(5)"
   ]
  },
  {
   "cell_type": "code",
   "execution_count": 130,
   "id": "3f04c5a1",
   "metadata": {},
   "outputs": [
    {
     "name": "stdout",
     "output_type": "stream",
     "text": [
      "Help on function iso_triangle in module __main__:\n",
      "\n",
      "iso_triangle(r)\n",
      "    This code is for producing a triangle with 2 equal sides\n",
      "    The triengle will be created with *s\n",
      "    Where r is the number of rows\n",
      "\n"
     ]
    }
   ],
   "source": [
    "help(iso_triangle)"
   ]
  },
  {
   "cell_type": "code",
   "execution_count": 131,
   "id": "6d6dfedc",
   "metadata": {},
   "outputs": [
    {
     "name": "stdout",
     "output_type": "stream",
     "text": [
      "Help on function code in module __main__:\n",
      "\n",
      "code(a, b)\n",
      "    This code is for producing a right side triangle and based on the row it will stop there\n",
      "    The triengle will be created with *s\n",
      "    Where a is the number of rows\n",
      "    And b is the number of columbs\n",
      "\n"
     ]
    }
   ],
   "source": [
    "help(code)"
   ]
  },
  {
   "cell_type": "code",
   "execution_count": 132,
   "id": "9cce9c85",
   "metadata": {},
   "outputs": [
    {
     "name": "stdout",
     "output_type": "stream",
     "text": [
      "    * \r\n",
      "   * * \r\n",
      "  * * * \r\n",
      " * * * * \r\n",
      "* * * * * \r\n",
      "Help on NoneType object:\n",
      "\n",
      "class NoneType(object)\n",
      " |  Methods defined here:\n",
      " |  \n",
      " |  __bool__(self, /)\n",
      " |      True if self else False\n",
      " |  \n",
      " |  __repr__(self, /)\n",
      " |      Return repr(self).\n",
      " |  \n",
      " |  ----------------------------------------------------------------------\n",
      " |  Static methods defined here:\n",
      " |  \n",
      " |  __new__(*args, **kwargs) from builtins.type\n",
      " |      Create and return a new object.  See help(type) for accurate signature.\n",
      "\n"
     ]
    }
   ],
   "source": [
    "help(iso_triangle(5))"
   ]
  },
  {
   "cell_type": "code",
   "execution_count": 133,
   "id": "a857c812",
   "metadata": {},
   "outputs": [
    {
     "name": "stdout",
     "output_type": "stream",
     "text": [
      "* \r\n",
      "* * \r\n",
      "* * * \r\n",
      "* * * * \r\n",
      "* * * * * \r\n",
      "* * * * * * \r\n",
      "* * * * * * * \r\n",
      "* * * * * * * \r\n",
      "* * * * * * * \r\n",
      "* * * * * * * \r\n",
      "Help on NoneType object:\n",
      "\n",
      "class NoneType(object)\n",
      " |  Methods defined here:\n",
      " |  \n",
      " |  __bool__(self, /)\n",
      " |      True if self else False\n",
      " |  \n",
      " |  __repr__(self, /)\n",
      " |      Return repr(self).\n",
      " |  \n",
      " |  ----------------------------------------------------------------------\n",
      " |  Static methods defined here:\n",
      " |  \n",
      " |  __new__(*args, **kwargs) from builtins.type\n",
      " |      Create and return a new object.  See help(type) for accurate signature.\n",
      "\n"
     ]
    }
   ],
   "source": [
    "help(code(10,7))"
   ]
  },
  {
   "cell_type": "code",
   "execution_count": null,
   "id": "88c9b9b4",
   "metadata": {},
   "outputs": [],
   "source": [
    "\"\"\"\n",
    "Questions\n",
    "1. Write a function which will take a string \n",
    "and return the length of the string \n",
    "without using inbuild length function(len)\n",
    "\n",
    "2. Write a function which will be able to print \n",
    "an index of eatch and every element which you will pass\n",
    "\n",
    "3. Write a function which takes input as a dict \n",
    "and gives me an output as a list of all the values\n",
    "even in case of nested dictionary\n",
    "\n",
    "4. Write an function which will take another function as input\n",
    "and return an output \n",
    "\n",
    "5. Write a function which will take multiple list as input\n",
    "and return a concarnation of all the elements as a output\n",
    "\n",
    "6. Write a function which will take a list as an input\n",
    "and return a indux of each element like a inbult index function\n",
    "but even if we have repeatative elements it should return index\n",
    "\n",
    "7. Write a function which will return list of all the file name from a directory\n",
    "# you can use OS library for this\n",
    "\n",
    "8. Write a function which will be able to show you your system config\n",
    "\n",
    "9. Write a function which will show data and time\n",
    "\n",
    "10. Write a function which will be able to read an image file\n",
    "and show it to you\n",
    "\n",
    "11. Write a function which will be able to read a video file \n",
    "and play it for you\n",
    "\n",
    "12. Write a function which can move a file \n",
    "from one directory to another\n",
    "\n",
    "13. Write a function will be able to shutdown your system\n",
    "\n",
    "14. Write a function which will be able to access your email\n",
    "\n",
    "15. Write a function by which I can send an email to anyone\n",
    "\n",
    "16. Write a function to read complete PFD files\n",
    "\n",
    "17. Write a function that can read WORD files\n",
    "\n",
    "18. Write a function which can filter only WORD file from a directory\n",
    "\n",
    "19. Write a function which can print the IP address of your system\n",
    "\n",
    "20. Write a function by which you can append 2 PDF files\n",
    "\"\"\""
   ]
  }
 ],
 "metadata": {
  "kernelspec": {
   "display_name": "Python 3 (ipykernel)",
   "language": "python",
   "name": "python3"
  },
  "language_info": {
   "codemirror_mode": {
    "name": "ipython",
    "version": 3
   },
   "file_extension": ".py",
   "mimetype": "text/x-python",
   "name": "python",
   "nbconvert_exporter": "python",
   "pygments_lexer": "ipython3",
   "version": "3.9.13"
  }
 },
 "nbformat": 4,
 "nbformat_minor": 5
}

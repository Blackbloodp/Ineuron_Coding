{
 "cells": [
  {
   "cell_type": "code",
   "execution_count": 2,
   "id": "23177822",
   "metadata": {},
   "outputs": [
    {
     "name": "stdout",
     "output_type": "stream",
     "text": [
      "namekush\n",
      "emailkush\n",
      "phone no.kush\n",
      "addresskush\n"
     ]
    }
   ],
   "source": [
    "l = [\"name\", \"email\", \"phone no.\", \"address\"]\n",
    "for i in l:\n",
    "    print(i + \"kush\")"
   ]
  },
  {
   "cell_type": "code",
   "execution_count": 3,
   "id": "29896c30",
   "metadata": {},
   "outputs": [
    {
     "name": "stdout",
     "output_type": "stream",
     "text": [
      "K\n",
      "u\n",
      "s\n",
      "h\n",
      "a\n",
      "g\n",
      "r\n",
      "a\n"
     ]
    }
   ],
   "source": [
    "s = \"Kushagra\"\n",
    "for i in s:\n",
    "    print(i)"
   ]
  },
  {
   "cell_type": "code",
   "execution_count": 4,
   "id": "646146a8",
   "metadata": {},
   "outputs": [
    {
     "data": {
      "text/plain": [
       "['name', 'email', 'phone no.', 'address']"
      ]
     },
     "execution_count": 4,
     "metadata": {},
     "output_type": "execute_result"
    }
   ],
   "source": [
    "l"
   ]
  },
  {
   "cell_type": "code",
   "execution_count": 5,
   "id": "82ef446b",
   "metadata": {},
   "outputs": [
    {
     "name": "stdout",
     "output_type": "stream",
     "text": [
      "name\n",
      "email\n",
      "phone no.\n",
      "address\n",
      "if for loop is coing to complete itself then only it will come to else statement\n"
     ]
    }
   ],
   "source": [
    "for i in l:\n",
    "    print(i)\n",
    "else :\n",
    "    print(\"if for loop is coing to complete itself then only it will come to else statement\")"
   ]
  },
  {
   "cell_type": "code",
   "execution_count": 6,
   "id": "ef302266",
   "metadata": {},
   "outputs": [],
   "source": [
    "for i in l:\n",
    "    if i == \"email\":\n",
    "        break\n",
    "    print(i)\n",
    "else :\n",
    "    print(\"check this out\")\n",
    "\n",
    "# Break is a statement which breaks the loop\n",
    "# and come out of the statment"
   ]
  },
  {
   "cell_type": "code",
   "execution_count": 7,
   "id": "4a7210cc",
   "metadata": {},
   "outputs": [
    {
     "data": {
      "text/plain": [
       "'Kushagra'"
      ]
     },
     "execution_count": 7,
     "metadata": {},
     "output_type": "execute_result"
    }
   ],
   "source": [
    "s"
   ]
  },
  {
   "cell_type": "code",
   "execution_count": 10,
   "id": "bcfab11e",
   "metadata": {},
   "outputs": [
    {
     "name": "stdout",
     "output_type": "stream",
     "text": [
      "a\n"
     ]
    }
   ],
   "source": [
    "for i in s:\n",
    "    if i == \"a\" :\n",
    "        break\n",
    "else :\n",
    "    print(\"dont execute it unless it is not my name\")"
   ]
  },
  {
   "cell_type": "markdown",
   "id": "2d2dd0e3",
   "metadata": {},
   "source": [
    "While loop"
   ]
  },
  {
   "cell_type": "code",
   "execution_count": 11,
   "id": "305f7083",
   "metadata": {},
   "outputs": [
    {
     "name": "stdout",
     "output_type": "stream",
     "text": [
      "1\n",
      "2\n",
      "3\n",
      "4\n",
      "5\n"
     ]
    }
   ],
   "source": [
    "a = 1\n",
    "while a < 6 :\n",
    "    print(a)\n",
    "    a = a + 1\n",
    "\n",
    "# while loop will check a statement first and then create a loop for the statment\n",
    "# where as for loop does not check any condition"
   ]
  },
  {
   "cell_type": "code",
   "execution_count": 4,
   "id": "097a471d",
   "metadata": {},
   "outputs": [
    {
     "name": "stdout",
     "output_type": "stream",
     "text": [
      "1\n",
      "2\n",
      "3\n",
      "4\n"
     ]
    }
   ],
   "source": [
    "a = 1\n",
    "while a < 5:\n",
    "    print(a)\n",
    "    if a == 4:\n",
    "        break\n",
    "    a = a+1    "
   ]
  },
  {
   "cell_type": "code",
   "execution_count": 5,
   "id": "83061734",
   "metadata": {},
   "outputs": [
    {
     "name": "stdout",
     "output_type": "stream",
     "text": [
      "1\n",
      "2\n",
      "3\n",
      "3\n",
      "3\n",
      "3\n",
      "3\n",
      "3\n",
      "3\n",
      "3"
     ]
    },
    {
     "ename": "KeyboardInterrupt",
     "evalue": "",
     "output_type": "error",
     "traceback": [
      "\u001b[1;31m---------------------------------------------------------------------------\u001b[0m",
      "\u001b[1;31mKeyboardInterrupt\u001b[0m                         Traceback (most recent call last)",
      "\u001b[1;32m~\\AppData\\Local\\Temp\\ipykernel_21296\\1167978492.py\u001b[0m in \u001b[0;36m<module>\u001b[1;34m\u001b[0m\n\u001b[0;32m      1\u001b[0m \u001b[0ma\u001b[0m \u001b[1;33m=\u001b[0m \u001b[1;36m1\u001b[0m\u001b[1;33m\u001b[0m\u001b[1;33m\u001b[0m\u001b[0m\n\u001b[0;32m      2\u001b[0m \u001b[1;32mwhile\u001b[0m \u001b[0ma\u001b[0m\u001b[1;33m<\u001b[0m \u001b[1;36m5\u001b[0m\u001b[1;33m:\u001b[0m\u001b[1;33m\u001b[0m\u001b[1;33m\u001b[0m\u001b[0m\n\u001b[1;32m----> 3\u001b[1;33m     \u001b[0mprint\u001b[0m\u001b[1;33m(\u001b[0m\u001b[0ma\u001b[0m\u001b[1;33m)\u001b[0m\u001b[1;33m\u001b[0m\u001b[1;33m\u001b[0m\u001b[0m\n\u001b[0m\u001b[0;32m      4\u001b[0m     \u001b[1;32mif\u001b[0m \u001b[0ma\u001b[0m \u001b[1;33m==\u001b[0m \u001b[1;36m3\u001b[0m\u001b[1;33m:\u001b[0m\u001b[1;33m\u001b[0m\u001b[1;33m\u001b[0m\u001b[0m\n\u001b[0;32m      5\u001b[0m         \u001b[1;32mcontinue\u001b[0m\u001b[1;33m\u001b[0m\u001b[1;33m\u001b[0m\u001b[0m\n",
      "\u001b[1;32mC:\\ProgramData\\Anaconda3\\lib\\site-packages\\ipykernel\\iostream.py\u001b[0m in \u001b[0;36mwrite\u001b[1;34m(self, string)\u001b[0m\n\u001b[0;32m    543\u001b[0m             \u001b[1;31m# only touch the buffer in the IO thread to avoid races\u001b[0m\u001b[1;33m\u001b[0m\u001b[1;33m\u001b[0m\u001b[0m\n\u001b[0;32m    544\u001b[0m             \u001b[1;32mwith\u001b[0m \u001b[0mself\u001b[0m\u001b[1;33m.\u001b[0m\u001b[0m_buffer_lock\u001b[0m\u001b[1;33m:\u001b[0m\u001b[1;33m\u001b[0m\u001b[1;33m\u001b[0m\u001b[0m\n\u001b[1;32m--> 545\u001b[1;33m                 \u001b[0mself\u001b[0m\u001b[1;33m.\u001b[0m\u001b[0m_buffer\u001b[0m\u001b[1;33m.\u001b[0m\u001b[0mwrite\u001b[0m\u001b[1;33m(\u001b[0m\u001b[0mstring\u001b[0m\u001b[1;33m)\u001b[0m\u001b[1;33m\u001b[0m\u001b[1;33m\u001b[0m\u001b[0m\n\u001b[0m\u001b[0;32m    546\u001b[0m             \u001b[1;32mif\u001b[0m \u001b[0mis_child\u001b[0m\u001b[1;33m:\u001b[0m\u001b[1;33m\u001b[0m\u001b[1;33m\u001b[0m\u001b[0m\n\u001b[0;32m    547\u001b[0m                 \u001b[1;31m# mp.Pool cannot be trusted to flush promptly (or ever),\u001b[0m\u001b[1;33m\u001b[0m\u001b[1;33m\u001b[0m\u001b[0m\n",
      "\u001b[1;31mKeyboardInterrupt\u001b[0m: "
     ]
    }
   ],
   "source": [
    "a = 1\n",
    "while a< 5:\n",
    "    print(a)\n",
    "    if a == 3:\n",
    "        continue\n",
    "    a = a + 1\n",
    "# will result in an infinite loop"
   ]
  },
  {
   "cell_type": "code",
   "execution_count": 6,
   "id": "1bc92bff",
   "metadata": {},
   "outputs": [
    {
     "name": "stdout",
     "output_type": "stream",
     "text": [
      "1\n",
      "2\n",
      "3\n",
      "4\n"
     ]
    }
   ],
   "source": [
    "a = 1\n",
    "while a< 5:\n",
    "    print(a)\n",
    "    a = a + 1\n",
    "    if a == 3:\n",
    "        continue\n",
    "# this way you can utilise the continue statment"
   ]
  },
  {
   "cell_type": "code",
   "execution_count": 7,
   "id": "5bd751f5",
   "metadata": {},
   "outputs": [],
   "source": [
    " while a < 5:\n",
    "        pass\n",
    "#pass helps in skipping the statment without giving error"
   ]
  },
  {
   "cell_type": "code",
   "execution_count": 8,
   "id": "f175fa20",
   "metadata": {},
   "outputs": [],
   "source": [
    "if a > 5:\n",
    "    pass\n",
    "#pass helps in skipping the statment without giving error"
   ]
  },
  {
   "cell_type": "code",
   "execution_count": 10,
   "id": "46d7a0fa",
   "metadata": {},
   "outputs": [
    {
     "ename": "KeyboardInterrupt",
     "evalue": "",
     "output_type": "error",
     "traceback": [
      "\u001b[1;31m---------------------------------------------------------------------------\u001b[0m",
      "\u001b[1;31mKeyboardInterrupt\u001b[0m                         Traceback (most recent call last)",
      "\u001b[1;32m~\\AppData\\Local\\Temp\\ipykernel_21296\\3821415254.py\u001b[0m in \u001b[0;36m<module>\u001b[1;34m\u001b[0m\n\u001b[0;32m      1\u001b[0m \u001b[0ma\u001b[0m \u001b[1;33m=\u001b[0m \u001b[1;36m1\u001b[0m\u001b[1;33m\u001b[0m\u001b[1;33m\u001b[0m\u001b[0m\n\u001b[1;32m----> 2\u001b[1;33m \u001b[1;32mwhile\u001b[0m \u001b[0ma\u001b[0m \u001b[1;33m<\u001b[0m \u001b[1;36m4\u001b[0m \u001b[1;33m:\u001b[0m\u001b[1;33m\u001b[0m\u001b[1;33m\u001b[0m\u001b[0m\n\u001b[0m\u001b[0;32m      3\u001b[0m     \u001b[1;32mcontinue\u001b[0m\u001b[1;33m\u001b[0m\u001b[1;33m\u001b[0m\u001b[0m\n\u001b[0;32m      4\u001b[0m \u001b[1;31m# This results in an infinite loop\u001b[0m\u001b[1;33m\u001b[0m\u001b[1;33m\u001b[0m\u001b[0m\n\u001b[0;32m      5\u001b[0m \u001b[1;31m# you can see the In[*] symbol in the line\u001b[0m\u001b[1;33m\u001b[0m\u001b[1;33m\u001b[0m\u001b[0m\n",
      "\u001b[1;31mKeyboardInterrupt\u001b[0m: "
     ]
    }
   ],
   "source": [
    "a = 1\n",
    "while a < 4 :\n",
    "    continue\n",
    "# This results in an infinite loop\n",
    "# you can see the In[*] symbol in the line"
   ]
  },
  {
   "cell_type": "code",
   "execution_count": 11,
   "id": "6a302685",
   "metadata": {},
   "outputs": [
    {
     "data": {
      "text/plain": [
       "[0, 1, 2, 3, 4, 5, 6, 7]"
      ]
     },
     "execution_count": 11,
     "metadata": {},
     "output_type": "execute_result"
    }
   ],
   "source": [
    "list(range(8))"
   ]
  },
  {
   "cell_type": "code",
   "execution_count": 12,
   "id": "abdeea7e",
   "metadata": {},
   "outputs": [
    {
     "data": {
      "text/plain": [
       "[4, 5, 6, 7]"
      ]
     },
     "execution_count": 12,
     "metadata": {},
     "output_type": "execute_result"
    }
   ],
   "source": [
    "list(range(4,8))"
   ]
  },
  {
   "cell_type": "code",
   "execution_count": 13,
   "id": "5e204589",
   "metadata": {},
   "outputs": [
    {
     "data": {
      "text/plain": [
       "[3, 6, 9, 12, 15, 18, 21, 24, 27, 30, 33, 36, 39, 42, 45, 48]"
      ]
     },
     "execution_count": 13,
     "metadata": {},
     "output_type": "execute_result"
    }
   ],
   "source": [
    "list(range(3,50,3))"
   ]
  },
  {
   "cell_type": "code",
   "execution_count": 14,
   "id": "af6d0685",
   "metadata": {},
   "outputs": [
    {
     "data": {
      "text/plain": [
       "[10, 9, 8, 7, 6, 5, 4]"
      ]
     },
     "execution_count": 14,
     "metadata": {},
     "output_type": "execute_result"
    }
   ],
   "source": [
    "list(range(10,3,-1))"
   ]
  },
  {
   "cell_type": "code",
   "execution_count": 16,
   "id": "e9a79e40",
   "metadata": {},
   "outputs": [
    {
     "data": {
      "text/plain": [
       "[10, 8, 6, 4, 2, 0, -2, -4]"
      ]
     },
     "execution_count": 16,
     "metadata": {},
     "output_type": "execute_result"
    }
   ],
   "source": [
    "list(range(10,-5,-2))"
   ]
  },
  {
   "cell_type": "code",
   "execution_count": 18,
   "id": "91bd79ff",
   "metadata": {
    "scrolled": true
   },
   "outputs": [
    {
     "name": "stdout",
     "output_type": "stream",
     "text": [
      "10\n",
      "8\n",
      "6\n",
      "4\n",
      "2\n",
      "0\n",
      "-2\n",
      "-4\n"
     ]
    }
   ],
   "source": [
    "for i in range(10,-5,-2):\n",
    "    print(i)"
   ]
  },
  {
   "cell_type": "code",
   "execution_count": 25,
   "id": "bbd7d292",
   "metadata": {},
   "outputs": [
    {
     "name": "stdout",
     "output_type": "stream",
     "text": [
      "* \r\n",
      "* * \r\n",
      "* * * \r\n",
      "* * * * \r\n",
      "* * * * * \r\n"
     ]
    }
   ],
   "source": [
    "n = 5\n",
    "for i in range(0,n):\n",
    "    for j in range(0,i+1):\n",
    "        print(\"*\" , end = \" \")\n",
    "    print(\"\\r\")\n",
    "# the end = \" \" is to append and add space between the prints\n",
    "# by default in print() the end is end = \"\\n\" which is for next line\n",
    "# the print(\"\\r\") or \"\\n\" is to make sure the value get printed in next line\n",
    "# \"\\r\" will not have that much space than \"\\n\"\n",
    "# \"\\n\\n\\n\" will give 3 spaces for the next line"
   ]
  },
  {
   "cell_type": "code",
   "execution_count": 26,
   "id": "77926df3",
   "metadata": {},
   "outputs": [],
   "source": [
    "t = (3,4,5,5,6,6,7)"
   ]
  },
  {
   "cell_type": "code",
   "execution_count": 33,
   "id": "d597eba3",
   "metadata": {},
   "outputs": [
    {
     "name": "stdout",
     "output_type": "stream",
     "text": [
      "7\n",
      "6\n",
      "6\n",
      "5\n",
      "5\n",
      "4\n",
      "3\n"
     ]
    }
   ],
   "source": [
    "for i in (range(len(t)-1,-1,-1)):\n",
    "    print(t[i])\n",
    "# why len(t)-1\n",
    "# beacuse their is no 7th element in the tuple\n",
    "# so index of 7 is not possible. \n",
    "# because the index starts with 0\n",
    "# again -1 so that it can get the last element as well\n",
    "# if we replace it with 0 it will not print the last value"
   ]
  },
  {
   "cell_type": "code",
   "execution_count": 34,
   "id": "f60d14d8",
   "metadata": {},
   "outputs": [],
   "source": [
    "d = {\"a\" : \"password\", 344 : \"just a nomb\", 54+8j : \"fifty\", \"d\" : {3,5,7,True}}"
   ]
  },
  {
   "cell_type": "code",
   "execution_count": 35,
   "id": "f77dcc39",
   "metadata": {},
   "outputs": [
    {
     "data": {
      "text/plain": [
       "{'a': 'password', 344: 'just a nomb', (54+8j): 'fifty', 'd': {True, 3, 5, 7}}"
      ]
     },
     "execution_count": 35,
     "metadata": {},
     "output_type": "execute_result"
    }
   ],
   "source": [
    "d"
   ]
  },
  {
   "cell_type": "code",
   "execution_count": 41,
   "id": "d87971fd",
   "metadata": {},
   "outputs": [
    {
     "data": {
      "text/plain": [
       "dict"
      ]
     },
     "execution_count": 41,
     "metadata": {},
     "output_type": "execute_result"
    }
   ],
   "source": [
    "type(d)"
   ]
  },
  {
   "cell_type": "code",
   "execution_count": 36,
   "id": "9e2fe822",
   "metadata": {},
   "outputs": [
    {
     "data": {
      "text/plain": [
       "{True, 3, 5, 7}"
      ]
     },
     "execution_count": 36,
     "metadata": {},
     "output_type": "execute_result"
    }
   ],
   "source": [
    "d[\"d\"]"
   ]
  },
  {
   "cell_type": "code",
   "execution_count": 38,
   "id": "2b350ff2",
   "metadata": {},
   "outputs": [
    {
     "name": "stdout",
     "output_type": "stream",
     "text": [
      "a - password\n",
      "344 - just a nomb\n",
      "(54+8j) - fifty\n",
      "d - {True, 3, 5, 7}\n"
     ]
    }
   ],
   "source": [
    "for i in d:\n",
    "    print(i, \"-\", d[i])"
   ]
  },
  {
   "cell_type": "code",
   "execution_count": 39,
   "id": "294a7ebd",
   "metadata": {},
   "outputs": [
    {
     "data": {
      "text/plain": [
       "dict_items([('a', 'password'), (344, 'just a nomb'), ((54+8j), 'fifty'), ('d', {True, 3, 5, 7})])"
      ]
     },
     "execution_count": 39,
     "metadata": {},
     "output_type": "execute_result"
    }
   ],
   "source": [
    "d.items()"
   ]
  },
  {
   "cell_type": "code",
   "execution_count": 40,
   "id": "83d3702b",
   "metadata": {},
   "outputs": [
    {
     "name": "stdout",
     "output_type": "stream",
     "text": [
      "('a', 'password')\n",
      "(344, 'just a nomb')\n",
      "((54+8j), 'fifty')\n",
      "('d', {True, 3, 5, 7})\n"
     ]
    }
   ],
   "source": [
    "for i in d.items():\n",
    "    print(i)"
   ]
  },
  {
   "cell_type": "code",
   "execution_count": 42,
   "id": "943fccfc",
   "metadata": {},
   "outputs": [
    {
     "data": {
      "text/plain": [
       "{1, 2, 3, 5, 67, 76, 687, 6634}"
      ]
     },
     "execution_count": 42,
     "metadata": {},
     "output_type": "execute_result"
    }
   ],
   "source": [
    "s = {5,67,3,6634,2,5,76,3,1,687,3}\n",
    "s"
   ]
  },
  {
   "cell_type": "code",
   "execution_count": 48,
   "id": "540d51fb",
   "metadata": {},
   "outputs": [
    {
     "name": "stdout",
     "output_type": "stream",
     "text": [
      "1\n",
      "2\n",
      "67\n",
      "3\n",
      "5\n",
      "6634\n",
      "76\n",
      "687\n"
     ]
    }
   ],
   "source": [
    "for i in s:\n",
    "    print(i)"
   ]
  },
  {
   "cell_type": "code",
   "execution_count": 49,
   "id": "489fecd4",
   "metadata": {},
   "outputs": [
    {
     "data": {
      "text/plain": [
       "8"
      ]
     },
     "execution_count": 49,
     "metadata": {},
     "output_type": "execute_result"
    }
   ],
   "source": [
    "len(s)"
   ]
  },
  {
   "cell_type": "code",
   "execution_count": null,
   "id": "76cdbe69",
   "metadata": {},
   "outputs": [],
   "source": []
  }
 ],
 "metadata": {
  "kernelspec": {
   "display_name": "Python 3 (ipykernel)",
   "language": "python",
   "name": "python3"
  },
  "language_info": {
   "codemirror_mode": {
    "name": "ipython",
    "version": 3
   },
   "file_extension": ".py",
   "mimetype": "text/x-python",
   "name": "python",
   "nbconvert_exporter": "python",
   "pygments_lexer": "ipython3",
   "version": "3.9.13"
  }
 },
 "nbformat": 4,
 "nbformat_minor": 5
}

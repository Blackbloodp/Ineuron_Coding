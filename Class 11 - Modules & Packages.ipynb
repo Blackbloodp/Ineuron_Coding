{
 "cells": [
  {
   "cell_type": "markdown",
   "id": "a9bb6024",
   "metadata": {},
   "source": [
    "# How to create your own Modules. "
   ]
  },
  {
   "cell_type": "code",
   "execution_count": null,
   "id": "5feccc23",
   "metadata": {},
   "outputs": [],
   "source": [
    "\"\"\"\n",
    "Module:\n",
    "\n",
    "A module is a single Python file containing Python code.\n",
    "It can include variables, functions, and classes.\n",
    "Modules are used to logically organize related code into separate files.\n",
    "You can import modules using the import statement\n",
    "to access their functions and variables in other Python scripts.\n",
    "Python provides a standard library with many built-in modules\n",
    "for common tasks like file I/O, math operations, and more.\n",
    "\"\"\"\n"
   ]
  },
  {
   "cell_type": "code",
   "execution_count": null,
   "id": "89426e67",
   "metadata": {},
   "outputs": [],
   "source": [
    "# Note\n",
    "\n",
    "\"\"\"\n",
    "To create a custom module we need to create a '.py' file\n",
    "in the current working directory\n",
    "\n",
    "And we can write functions in that file and call theose \n",
    "functions in here in all the python files.\n",
    "\n",
    "This is for local use only\n",
    "\"\"\""
   ]
  },
  {
   "cell_type": "code",
   "execution_count": null,
   "id": "57847d7c",
   "metadata": {},
   "outputs": [],
   "source": [
    "\"\"\"\n",
    "\n",
    "Crated a '.py' files  with name 'Creating_Modules.py' \n",
    "and created a function named test1\n",
    "\n",
    "The module name will be the file name\n",
    "and the function name with be the functions defined in the file\n",
    "\"\"\""
   ]
  },
  {
   "cell_type": "code",
   "execution_count": 4,
   "id": "66674df6",
   "metadata": {},
   "outputs": [],
   "source": [
    "import Creating_Modules"
   ]
  },
  {
   "cell_type": "code",
   "execution_count": 2,
   "id": "02a1faf7",
   "metadata": {},
   "outputs": [
    {
     "data": {
      "text/plain": [
       "4"
      ]
     },
     "execution_count": 2,
     "metadata": {},
     "output_type": "execute_result"
    }
   ],
   "source": [
    "Creating_Modules.test1(1,3)"
   ]
  },
  {
   "cell_type": "code",
   "execution_count": 3,
   "id": "f6497675",
   "metadata": {},
   "outputs": [
    {
     "data": {
      "text/plain": [
       "20"
      ]
     },
     "execution_count": 3,
     "metadata": {},
     "output_type": "execute_result"
    }
   ],
   "source": [
    "Creating_Modules.test2(4,5)"
   ]
  },
  {
   "cell_type": "code",
   "execution_count": 4,
   "id": "2ee53f68",
   "metadata": {},
   "outputs": [
    {
     "data": {
      "text/plain": [
       "2.7083333333333335"
      ]
     },
     "execution_count": 4,
     "metadata": {},
     "output_type": "execute_result"
    }
   ],
   "source": [
    "Creating_Modules.test3(65,24)"
   ]
  },
  {
   "cell_type": "code",
   "execution_count": 5,
   "id": "df316ac4",
   "metadata": {},
   "outputs": [
    {
     "name": "stdout",
     "output_type": "stream",
     "text": [
      "This code is written for a module creating test\n"
     ]
    }
   ],
   "source": [
    "Creating_Modules.test4()"
   ]
  },
  {
   "cell_type": "code",
   "execution_count": 6,
   "id": "d20140fc",
   "metadata": {},
   "outputs": [],
   "source": [
    "# All the 4 codes writen in the .py file is working in here\n",
    "# If in case its no working or you have updated the .py file. \n",
    "# We need to resart the kenral and import module again"
   ]
  },
  {
   "cell_type": "code",
   "execution_count": 9,
   "id": "16141593",
   "metadata": {},
   "outputs": [],
   "source": [
    "# Another way to import \n",
    "# 1 function at a time\n",
    "\n",
    "from Creating_Modules import test3\n",
    "from Creating_Modules import *\n",
    "\n",
    "# After from mention the 'Module name'\n",
    "# And after the import mention the 'function name'\n",
    "# Here '*' means import everything"
   ]
  },
  {
   "cell_type": "code",
   "execution_count": 2,
   "id": "a3642c1e",
   "metadata": {},
   "outputs": [
    {
     "data": {
      "text/plain": [
       "0.8"
      ]
     },
     "execution_count": 2,
     "metadata": {},
     "output_type": "execute_result"
    }
   ],
   "source": [
    "import Creating_Modules\n",
    "Creating_Modules.test3(4,5)\n",
    "\n",
    "# Now added Doc Strings as well78"
   ]
  },
  {
   "cell_type": "code",
   "execution_count": 2,
   "id": "1de1e07b",
   "metadata": {},
   "outputs": [],
   "source": [
    "# Created another Module by name Mydict and calling it here \n",
    "# We have created class in it do we will see how to call that class here\n",
    "# We can do that by creating objects \n",
    "import mydict"
   ]
  },
  {
   "cell_type": "code",
   "execution_count": null,
   "id": "273bf545",
   "metadata": {},
   "outputs": [],
   "source": []
  },
  {
   "cell_type": "code",
   "execution_count": null,
   "id": "143cc7a6",
   "metadata": {},
   "outputs": [],
   "source": []
  },
  {
   "cell_type": "code",
   "execution_count": null,
   "id": "8071f971",
   "metadata": {},
   "outputs": [],
   "source": []
  },
  {
   "cell_type": "markdown",
   "id": "1a2f3385",
   "metadata": {},
   "source": [
    "# Packages"
   ]
  },
  {
   "cell_type": "code",
   "execution_count": null,
   "id": "0337c20d",
   "metadata": {},
   "outputs": [],
   "source": [
    "\"\"\"\n",
    "Package:\n",
    "\n",
    "A package is a directory that contains a collection of Python modules\n",
    "and an __init__.py file.\n",
    "Packages allow you to organize related modules\n",
    "into a hierarchical structure.\n",
    "They enable you to create namespaces and avoid naming conflicts.\n",
    "Packages can have sub-packages, forming a tree-like structure.\n",
    "You can use the import statement to access modules and sub-modules\n",
    "within packages.\n",
    "\"\"\"\n",
    "\n",
    "# Nothing but the collections of multiple modules in a folder"
   ]
  }
 ],
 "metadata": {
  "kernelspec": {
   "display_name": "Python 3 (ipykernel)",
   "language": "python",
   "name": "python3"
  },
  "language_info": {
   "codemirror_mode": {
    "name": "ipython",
    "version": 3
   },
   "file_extension": ".py",
   "mimetype": "text/x-python",
   "name": "python",
   "nbconvert_exporter": "python",
   "pygments_lexer": "ipython3",
   "version": "3.11.4"
  }
 },
 "nbformat": 4,
 "nbformat_minor": 5
}

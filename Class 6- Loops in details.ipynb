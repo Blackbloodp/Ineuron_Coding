{
 "cells": [
  {
   "cell_type": "code",
   "execution_count": 1,
   "id": "2499ed17",
   "metadata": {},
   "outputs": [
    {
     "data": {
      "text/plain": [
       "28"
      ]
     },
     "execution_count": 1,
     "metadata": {},
     "output_type": "execute_result"
    }
   ],
   "source": [
    "s = \"This is a basic Python class\"\n",
    "len(s)"
   ]
  },
  {
   "cell_type": "code",
   "execution_count": 2,
   "id": "5b259736",
   "metadata": {},
   "outputs": [
    {
     "name": "stdout",
     "output_type": "stream",
     "text": [
      "28\n"
     ]
    }
   ],
   "source": [
    "count = 0\n",
    "for i in s:\n",
    "    count = count + 1\n",
    "print(count)"
   ]
  },
  {
   "cell_type": "code",
   "execution_count": 3,
   "id": "b3c5f1ac",
   "metadata": {},
   "outputs": [
    {
     "name": "stdout",
     "output_type": "stream",
     "text": [
      "28\n"
     ]
    }
   ],
   "source": [
    "# Another way\n",
    "count = 0\n",
    "for i in s:\n",
    "    count += 1   # amother way of adding 1\n",
    "print(count)"
   ]
  },
  {
   "cell_type": "code",
   "execution_count": 4,
   "id": "55cfdec5",
   "metadata": {},
   "outputs": [
    {
     "name": "stdout",
     "output_type": "stream",
     "text": [
      "ssalc nohtyP cisab a si sihT"
     ]
    }
   ],
   "source": [
    "for i in range(len(s) - 1, -1, -1):\n",
    "    print(s[i], end = \"\")"
   ]
  },
  {
   "cell_type": "code",
   "execution_count": 5,
   "id": "2a5bf857",
   "metadata": {},
   "outputs": [
    {
     "name": "stdout",
     "output_type": "stream",
     "text": [
      "ssalc nohtyP cisab a si sihT"
     ]
    }
   ],
   "source": [
    "i = len(s)-1\n",
    "while i >= 0:\n",
    "    print(s[i], end = \"\")\n",
    "    i = i - 1"
   ]
  },
  {
   "cell_type": "code",
   "execution_count": 6,
   "id": "68a544ad",
   "metadata": {},
   "outputs": [
    {
     "ename": "NameError",
     "evalue": "name 'j' is not defined",
     "output_type": "error",
     "traceback": [
      "\u001b[1;31m---------------------------------------------------------------------------\u001b[0m",
      "\u001b[1;31mNameError\u001b[0m                                 Traceback (most recent call last)",
      "\u001b[1;32m~\\AppData\\Local\\Temp\\ipykernel_15444\\1015420810.py\u001b[0m in \u001b[0;36m<module>\u001b[1;34m\u001b[0m\n\u001b[0;32m      3\u001b[0m \u001b[1;32mfor\u001b[0m \u001b[0mi\u001b[0m \u001b[1;32min\u001b[0m \u001b[0ms\u001b[0m\u001b[1;33m:\u001b[0m\u001b[1;33m\u001b[0m\u001b[1;33m\u001b[0m\u001b[0m\n\u001b[0;32m      4\u001b[0m     \u001b[1;32mif\u001b[0m \u001b[0mi\u001b[0m \u001b[1;32min\u001b[0m \u001b[0mv\u001b[0m\u001b[1;33m:\u001b[0m\u001b[1;33m\u001b[0m\u001b[1;33m\u001b[0m\u001b[0m\n\u001b[1;32m----> 5\u001b[1;33m         \u001b[0mprint\u001b[0m\u001b[1;33m(\u001b[0m\u001b[1;34m\"Vovel in \"\u001b[0m\u001b[1;33m,\u001b[0m \u001b[0ms\u001b[0m \u001b[1;33m,\u001b[0m \u001b[1;34m\"are \"\u001b[0m\u001b[1;33m,\u001b[0m \u001b[0mj\u001b[0m\u001b[1;33m)\u001b[0m\u001b[1;33m\u001b[0m\u001b[1;33m\u001b[0m\u001b[0m\n\u001b[0m\u001b[0;32m      6\u001b[0m     \u001b[1;32melse\u001b[0m\u001b[1;33m:\u001b[0m\u001b[1;33m\u001b[0m\u001b[1;33m\u001b[0m\u001b[0m\n\u001b[0;32m      7\u001b[0m         \u001b[0mprint\u001b[0m \u001b[1;33m(\u001b[0m\u001b[1;34m\"Non vovel in \"\u001b[0m\u001b[1;33m,\u001b[0m \u001b[0ms\u001b[0m\u001b[1;33m,\u001b[0m \u001b[1;34m\"are\"\u001b[0m\u001b[1;33m,\u001b[0m \u001b[0mi\u001b[0m\u001b[1;33m)\u001b[0m\u001b[1;33m\u001b[0m\u001b[1;33m\u001b[0m\u001b[0m\n",
      "\u001b[1;31mNameError\u001b[0m: name 'j' is not defined"
     ]
    }
   ],
   "source": [
    "s = \"ineuron\"\n",
    "v = \"AaEeIiOoUu\"\n",
    "for i in s:\n",
    "    if i in v:\n",
    "        print(\"Vovel in \", s , \"are \", j)\n",
    "    else:\n",
    "        print (\"Non vovel in \", s, \"are\", i)"
   ]
  },
  {
   "cell_type": "code",
   "execution_count": 7,
   "id": "bb47708c",
   "metadata": {},
   "outputs": [
    {
     "name": "stdout",
     "output_type": "stream",
     "text": [
      "Vovels -  ['i', 'e', 'u', 'o']\n",
      "Non Vovels -  ['n', 'r', 'n']\n"
     ]
    }
   ],
   "source": [
    "s = \"ineuron\"\n",
    "v = \"AaEeIiOoUu\"\n",
    "vovel = []\n",
    "non_vovel = []\n",
    "for i in s:\n",
    "    if i in v:\n",
    "        vovel.append(i)\n",
    "    else:\n",
    "        non_vovel.append(i)\n",
    "print(\"Vovels - \", vovel)\n",
    "print(\"Non Vovels - \", non_vovel)"
   ]
  },
  {
   "cell_type": "code",
   "execution_count": 8,
   "id": "d096073d",
   "metadata": {},
   "outputs": [
    {
     "name": "stdout",
     "output_type": "stream",
     "text": [
      "Not a Pallindrom\n"
     ]
    }
   ],
   "source": [
    "p = \"hi\"\n",
    "if p == p[::-1]:\n",
    "    print(\"Pallindrom\")\n",
    "else:\n",
    "    print(\"Not a Pallindrom\")"
   ]
  },
  {
   "cell_type": "code",
   "execution_count": 9,
   "id": "dd32c220",
   "metadata": {},
   "outputs": [
    {
     "name": "stdout",
     "output_type": "stream",
     "text": [
      "tent is not a pallindrom\n"
     ]
    }
   ],
   "source": [
    "# another way for finding a pallindrom\n",
    "word = \"tent\"\n",
    "for i in range(len(word)):\n",
    "    if word[i] != word[len(word)-1-i]:\n",
    "        print(word, \"is not a pallindrom\")\n",
    "        break\n",
    "else:\n",
    "    print(word, \"is a pallindrom\")\n",
    "    "
   ]
  },
  {
   "cell_type": "code",
   "execution_count": 10,
   "id": "fee451e5",
   "metadata": {},
   "outputs": [
    {
     "name": "stdout",
     "output_type": "stream",
     "text": [
      "\n",
      " is a pallindrom\n"
     ]
    }
   ],
   "source": [
    "# another way for finding a pallindrom\n",
    "p = input()\n",
    "p_in = p[::-1]\n",
    "if p == p_in:\n",
    "    print(p, \"is a pallindrom\")\n",
    "else:\n",
    "    print(p, \"is not a pallindrom\")"
   ]
  },
  {
   "cell_type": "code",
   "execution_count": 11,
   "id": "ea99c7b0",
   "metadata": {},
   "outputs": [
    {
     "name": "stdout",
     "output_type": "stream",
     "text": [
      "\n",
      " is a pallindrom\n"
     ]
    }
   ],
   "source": [
    "# another way for finding a pallindrom\n",
    "s0 = input()\n",
    "s1 = s0.lower()\n",
    "s2 = \"\"\n",
    "i = len(s1) -1\n",
    "while i >= 0:\n",
    "    s2 = s2+s1[i]\n",
    "    i = i-1\n",
    "if s1 == s2:\n",
    "    print(s1, \"is a pallindrom\")\n",
    "else:\n",
    "    print(s1, \"is not a pallindrom\")\n"
   ]
  },
  {
   "cell_type": "code",
   "execution_count": 12,
   "id": "2e57e972",
   "metadata": {},
   "outputs": [
    {
     "name": "stdout",
     "output_type": "stream",
     "text": [
      "KUshagra\n"
     ]
    }
   ],
   "source": [
    "i = \"KUshagra\"\n",
    "i.lower()\n",
    "print(i)"
   ]
  },
  {
   "cell_type": "code",
   "execution_count": 13,
   "id": "85cd5162",
   "metadata": {},
   "outputs": [
    {
     "name": "stdout",
     "output_type": "stream",
     "text": [
      "tent is not a pallindrom\n"
     ]
    }
   ],
   "source": [
    "# another way for finding a pallindrom\n",
    "word = \"tent\"\n",
    "k = 0\n",
    "for i in range(len(word)):\n",
    "    if word[i] == word[len(word)-1-i]:\n",
    "        continue\n",
    "    else:\n",
    "        print(word, \"is not a pallindrom\")\n",
    "        k = 1\n",
    "        break\n",
    "if k == 0:\n",
    "    print(word, \"is a pallindrom\")"
   ]
  },
  {
   "cell_type": "code",
   "execution_count": 14,
   "id": "76804054",
   "metadata": {},
   "outputs": [],
   "source": [
    "d = {\"india\" : \"IN\",\n",
    "    \"canada\" : \"CA\",\n",
    "     \"china\" : \"CH\",\n",
    "     \"united states\" : \"US\"\n",
    "    }"
   ]
  },
  {
   "cell_type": "code",
   "execution_count": 15,
   "id": "f86a5772",
   "metadata": {},
   "outputs": [
    {
     "data": {
      "text/plain": [
       "{'india': 'IN', 'canada': 'CA', 'china': 'CH', 'united states': 'US'}"
      ]
     },
     "execution_count": 15,
     "metadata": {},
     "output_type": "execute_result"
    }
   ],
   "source": [
    "d"
   ]
  },
  {
   "cell_type": "code",
   "execution_count": 16,
   "id": "1c5d5037",
   "metadata": {},
   "outputs": [
    {
     "name": "stdout",
     "output_type": "stream",
     "text": [
      "The distinary contains key india\n"
     ]
    }
   ],
   "source": [
    "for i in d :\n",
    "    if \"india\" == i:\n",
    "        print(\"The distinary contains key india\")\n",
    "        break\n",
    "else:\n",
    "    print(\"The distinary d does not have key india\")"
   ]
  },
  {
   "cell_type": "code",
   "execution_count": 17,
   "id": "7fcb707f",
   "metadata": {},
   "outputs": [],
   "source": [
    "d1 = d.items()"
   ]
  },
  {
   "cell_type": "code",
   "execution_count": 18,
   "id": "b676844b",
   "metadata": {},
   "outputs": [
    {
     "data": {
      "text/plain": [
       "dict_items([('india', 'IN'), ('canada', 'CA'), ('china', 'CH'), ('united states', 'US')])"
      ]
     },
     "execution_count": 18,
     "metadata": {},
     "output_type": "execute_result"
    }
   ],
   "source": [
    "d1"
   ]
  },
  {
   "cell_type": "code",
   "execution_count": 19,
   "id": "9d5c4577",
   "metadata": {},
   "outputs": [],
   "source": [
    "# Question:\n",
    "# Get 2 list  \n",
    "# one with all the key whose length is greated then 5\n",
    "# and one list with the length of key less the 5"
   ]
  },
  {
   "cell_type": "code",
   "execution_count": 20,
   "id": "c4f8ac8f",
   "metadata": {},
   "outputs": [
    {
     "name": "stdout",
     "output_type": "stream",
     "text": [
      "more then 5 = ['canada', 'united states']\n",
      "less then 5 = ['india', 'china']\n"
     ]
    }
   ],
   "source": [
    "len_more_then_5 = []\n",
    "len_less_then_5 = []\n",
    "for i in d.keys() :\n",
    "    if len(i) > 5 :\n",
    "        len_more_then_5.append(i)\n",
    "    else:\n",
    "        len_less_then_5.append(i)\n",
    "print(\"more then 5 =\", len_more_then_5)\n",
    "print(\"less then 5 =\", len_less_then_5)"
   ]
  },
  {
   "cell_type": "code",
   "execution_count": 21,
   "id": "a54e57af",
   "metadata": {},
   "outputs": [],
   "source": [
    "# Question: Form the given Dictionary \n",
    "# find out the Max value in the nested loop\n",
    "d_1 = {\"ineuron\" : {\n",
    "                    \"a\" : 14,\n",
    "                    \"b\" : 10,\n",
    "                    \"c\" : 40,\n",
    "                    },\n",
    "       \"courses\" : {\n",
    "                    \"d\" : 45,\n",
    "                    \"e\" : 34,\n",
    "                    \"f\" :12\n",
    "                    },  \n",
    "       \"Apple\" : 20, \n",
    "       \"4th\" : {\"test 1\" : 29, \n",
    "               \"test 2\" : 98\n",
    "               }\n",
    "    }"
   ]
  },
  {
   "cell_type": "code",
   "execution_count": 22,
   "id": "76372e57",
   "metadata": {},
   "outputs": [
    {
     "data": {
      "text/plain": [
       "{'ineuron': {'a': 14, 'b': 10, 'c': 40},\n",
       " 'courses': {'d': 45, 'e': 34, 'f': 12},\n",
       " 'Apple': 20,\n",
       " '4th': {'test 1': 29, 'test 2': 98}}"
      ]
     },
     "execution_count": 22,
     "metadata": {},
     "output_type": "execute_result"
    }
   ],
   "source": [
    "d_1"
   ]
  },
  {
   "cell_type": "code",
   "execution_count": 23,
   "id": "f00231ae",
   "metadata": {},
   "outputs": [
    {
     "data": {
      "text/plain": [
       "dict_items([('ineuron', {'a': 14, 'b': 10, 'c': 40}), ('courses', {'d': 45, 'e': 34, 'f': 12}), ('Apple', 20), ('4th', {'test 1': 29, 'test 2': 98})])"
      ]
     },
     "execution_count": 23,
     "metadata": {},
     "output_type": "execute_result"
    }
   ],
   "source": [
    "d = d_1.items()\n",
    "d"
   ]
  },
  {
   "cell_type": "code",
   "execution_count": 24,
   "id": "4007e2b4",
   "metadata": {},
   "outputs": [],
   "source": [
    "d = d_1.values()"
   ]
  },
  {
   "cell_type": "code",
   "execution_count": 25,
   "id": "438a2a07",
   "metadata": {},
   "outputs": [
    {
     "data": {
      "text/plain": [
       "dict_values([{'a': 14, 'b': 10, 'c': 40}, {'d': 45, 'e': 34, 'f': 12}, 20, {'test 1': 29, 'test 2': 98}])"
      ]
     },
     "execution_count": 25,
     "metadata": {},
     "output_type": "execute_result"
    }
   ],
   "source": [
    "d"
   ]
  },
  {
   "cell_type": "code",
   "execution_count": 26,
   "id": "3c0617fb",
   "metadata": {},
   "outputs": [
    {
     "name": "stdout",
     "output_type": "stream",
     "text": [
      "40\n",
      "45\n"
     ]
    },
    {
     "ename": "AttributeError",
     "evalue": "'int' object has no attribute 'values'",
     "output_type": "error",
     "traceback": [
      "\u001b[1;31m---------------------------------------------------------------------------\u001b[0m",
      "\u001b[1;31mAttributeError\u001b[0m                            Traceback (most recent call last)",
      "\u001b[1;32m~\\AppData\\Local\\Temp\\ipykernel_15444\\309707592.py\u001b[0m in \u001b[0;36m<module>\u001b[1;34m\u001b[0m\n\u001b[0;32m      1\u001b[0m \u001b[0mlst\u001b[0m \u001b[1;33m=\u001b[0m \u001b[1;33m[\u001b[0m\u001b[1;33m]\u001b[0m\u001b[1;33m\u001b[0m\u001b[1;33m\u001b[0m\u001b[0m\n\u001b[0;32m      2\u001b[0m \u001b[1;32mfor\u001b[0m \u001b[0mi\u001b[0m \u001b[1;32min\u001b[0m \u001b[0md_1\u001b[0m\u001b[1;33m.\u001b[0m\u001b[0mvalues\u001b[0m\u001b[1;33m(\u001b[0m\u001b[1;33m)\u001b[0m\u001b[1;33m:\u001b[0m\u001b[1;33m\u001b[0m\u001b[1;33m\u001b[0m\u001b[0m\n\u001b[1;32m----> 3\u001b[1;33m     \u001b[1;32mfor\u001b[0m \u001b[0mj\u001b[0m \u001b[1;32min\u001b[0m \u001b[0mi\u001b[0m\u001b[1;33m.\u001b[0m\u001b[0mvalues\u001b[0m\u001b[1;33m(\u001b[0m\u001b[1;33m)\u001b[0m\u001b[1;33m:\u001b[0m\u001b[1;33m\u001b[0m\u001b[1;33m\u001b[0m\u001b[0m\n\u001b[0m\u001b[0;32m      4\u001b[0m         \u001b[0mlst\u001b[0m\u001b[1;33m.\u001b[0m\u001b[0mappend\u001b[0m\u001b[1;33m(\u001b[0m\u001b[0mj\u001b[0m\u001b[1;33m)\u001b[0m\u001b[1;33m\u001b[0m\u001b[1;33m\u001b[0m\u001b[0m\n\u001b[0;32m      5\u001b[0m     \u001b[0mprint\u001b[0m\u001b[1;33m(\u001b[0m\u001b[0mmax\u001b[0m\u001b[1;33m(\u001b[0m\u001b[0mlst\u001b[0m\u001b[1;33m)\u001b[0m\u001b[1;33m)\u001b[0m\u001b[1;33m\u001b[0m\u001b[1;33m\u001b[0m\u001b[0m\n",
      "\u001b[1;31mAttributeError\u001b[0m: 'int' object has no attribute 'values'"
     ]
    }
   ],
   "source": [
    "lst = []\n",
    "for i in d_1.values():\n",
    "    for j in i.values():\n",
    "        lst.append(j)\n",
    "    print(max(lst))\n",
    "    \n",
    "# Note here 3rd value is not an disctionary\n",
    "# So the program gives the output and then reflects the eror message\n",
    "# because the answer is given before it runs that loop"
   ]
  },
  {
   "cell_type": "code",
   "execution_count": 27,
   "id": "8a9c3425",
   "metadata": {},
   "outputs": [
    {
     "name": "stdout",
     "output_type": "stream",
     "text": [
      "40\n",
      "45\n",
      "98\n"
     ]
    }
   ],
   "source": [
    "for i in d_1.values():\n",
    "    if type(i) != dict:\n",
    "        pass\n",
    "    else:\n",
    "        a = 0\n",
    "        for j in i.values():\n",
    "            if a < j:\n",
    "                a = j\n",
    "        print(a)\n",
    "\n",
    "### That's why runing the line 2 to 4."
   ]
  },
  {
   "cell_type": "code",
   "execution_count": 28,
   "id": "37473318",
   "metadata": {},
   "outputs": [
    {
     "name": "stdout",
     "output_type": "stream",
     "text": [
      "40\n",
      "45\n",
      "20\n",
      "98\n"
     ]
    }
   ],
   "source": [
    "# More Simplest Solution\n",
    "\n",
    "for i in d_1.values():\n",
    "    if type(i) != dict:\n",
    "        print(i)\n",
    "    else:\n",
    "        print(max(i.values()))"
   ]
  },
  {
   "cell_type": "code",
   "execution_count": 51,
   "id": "0590e5de",
   "metadata": {},
   "outputs": [],
   "source": [
    "# Question: For the given dictionary find out the max int form all the values\n",
    "d_2 = {\"ineuron\" : {\"a\" : 14,\"b\" : 10,\"c\" : 40,},\n",
    "       \"courses\" : {\"d\" : 45,\"e\" : 34,\"f\" :8},  \n",
    "       \"Apple\" : 20, \n",
    "       \"3th\" : \"String1\",\n",
    "       \"4th\" : {\"test 1\" : 29,\"test 2\" : 98},\n",
    "       \"5th\" : [10, 90, 55, 87], \n",
    "       \"6th\" : (45, 60, 188, 109),\n",
    "       \"7th\" : \"String\"\n",
    "      } "
   ]
  },
  {
   "cell_type": "code",
   "execution_count": 52,
   "id": "f6115784",
   "metadata": {},
   "outputs": [
    {
     "data": {
      "text/plain": [
       "{'ineuron': {'a': 14, 'b': 10, 'c': 40},\n",
       " 'courses': {'d': 45, 'e': 34, 'f': 8},\n",
       " 'Apple': 20,\n",
       " '3th': 'String1',\n",
       " '4th': {'test 1': 29, 'test 2': 98},\n",
       " '5th': [10, 90, 55, 87],\n",
       " '6th': (45, 60, 188, 109),\n",
       " '7th': 'String'}"
      ]
     },
     "execution_count": 52,
     "metadata": {},
     "output_type": "execute_result"
    }
   ],
   "source": [
    "d_2"
   ]
  },
  {
   "cell_type": "code",
   "execution_count": 53,
   "id": "97ad1f5d",
   "metadata": {},
   "outputs": [
    {
     "name": "stdout",
     "output_type": "stream",
     "text": [
      "188\n"
     ]
    }
   ],
   "source": [
    "m = 0\n",
    "for i in d_2.values():\n",
    "    if type(i) == str:\n",
    "        continue\n",
    "    elif type(i) == int:\n",
    "        if m< i:\n",
    "            m = i\n",
    "    elif type(i) == dict:\n",
    "        if m < max(i.values()):\n",
    "            m = max(i.values())\n",
    "    elif m < max(i):\n",
    "        m = max(i)\n",
    "print(m)"
   ]
  },
  {
   "cell_type": "code",
   "execution_count": 57,
   "id": "add21619",
   "metadata": {},
   "outputs": [
    {
     "name": "stdout",
     "output_type": "stream",
     "text": [
      "188\n"
     ]
    }
   ],
   "source": [
    "# Another way to solve\n",
    "# with a list append option\n",
    "\n",
    "m = []\n",
    "for i in d_2.values():\n",
    "    if type(i) == str:\n",
    "        pass\n",
    "    elif type(i) == int:\n",
    "        m.append(i)\n",
    "    elif type(i) == dict:\n",
    "        m.append(max(i.values()))\n",
    "    else:\n",
    "        m.append(max(i))\n",
    "print(max(m))"
   ]
  },
  {
   "cell_type": "code",
   "execution_count": 74,
   "id": "b4208dff",
   "metadata": {},
   "outputs": [
    {
     "name": "stdout",
     "output_type": "stream",
     "text": [
      "not a Palindrome\n"
     ]
    }
   ],
   "source": [
    "a = 123\n",
    "b = str(a)\n",
    "if b[0] == b[-1]:\n",
    "    print(\"Palindrome\")\n",
    "else:\n",
    "    print(\"not a Palindrome\")"
   ]
  },
  {
   "cell_type": "code",
   "execution_count": null,
   "id": "f5d14560",
   "metadata": {},
   "outputs": [],
   "source": []
  }
 ],
 "metadata": {
  "kernelspec": {
   "display_name": "Python 3 (ipykernel)",
   "language": "python",
   "name": "python3"
  },
  "language_info": {
   "codemirror_mode": {
    "name": "ipython",
    "version": 3
   },
   "file_extension": ".py",
   "mimetype": "text/x-python",
   "name": "python",
   "nbconvert_exporter": "python",
   "pygments_lexer": "ipython3",
   "version": "3.9.13"
  }
 },
 "nbformat": 4,
 "nbformat_minor": 5
}

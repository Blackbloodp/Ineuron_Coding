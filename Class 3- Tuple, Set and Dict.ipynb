{
 "cells": [
  {
   "cell_type": "markdown",
   "id": "4f8dcc4e",
   "metadata": {},
   "source": [
    "TUPLES"
   ]
  },
  {
   "cell_type": "code",
   "execution_count": 1,
   "id": "70eb9719",
   "metadata": {},
   "outputs": [],
   "source": [
    "t = (1,2,3,4,5,6)"
   ]
  },
  {
   "cell_type": "code",
   "execution_count": 2,
   "id": "65e3bc53",
   "metadata": {},
   "outputs": [
    {
     "data": {
      "text/plain": [
       "tuple"
      ]
     },
     "execution_count": 2,
     "metadata": {},
     "output_type": "execute_result"
    }
   ],
   "source": [
    "type(t)"
   ]
  },
  {
   "cell_type": "code",
   "execution_count": 3,
   "id": "85e55edc",
   "metadata": {},
   "outputs": [],
   "source": [
    "t1 = ('sudh', 354, 35.89, 65+8j, True)"
   ]
  },
  {
   "cell_type": "code",
   "execution_count": 4,
   "id": "af7b6d05",
   "metadata": {},
   "outputs": [],
   "source": [
    "l1 = ['sudh', 354, 35.89, 65+8j, True]"
   ]
  },
  {
   "cell_type": "code",
   "execution_count": 5,
   "id": "30ea1f9d",
   "metadata": {},
   "outputs": [
    {
     "data": {
      "text/plain": [
       "tuple"
      ]
     },
     "execution_count": 5,
     "metadata": {},
     "output_type": "execute_result"
    }
   ],
   "source": [
    "type(t1)"
   ]
  },
  {
   "cell_type": "code",
   "execution_count": 6,
   "id": "a4a0213b",
   "metadata": {},
   "outputs": [
    {
     "data": {
      "text/plain": [
       "list"
      ]
     },
     "execution_count": 6,
     "metadata": {},
     "output_type": "execute_result"
    }
   ],
   "source": [
    "type(l1)"
   ]
  },
  {
   "cell_type": "code",
   "execution_count": 7,
   "id": "83b37859",
   "metadata": {},
   "outputs": [],
   "source": [
    "t2 = ()"
   ]
  },
  {
   "cell_type": "code",
   "execution_count": 8,
   "id": "f1cd9c85",
   "metadata": {},
   "outputs": [
    {
     "data": {
      "text/plain": [
       "tuple"
      ]
     },
     "execution_count": 8,
     "metadata": {},
     "output_type": "execute_result"
    }
   ],
   "source": [
    "type(t2)"
   ]
  },
  {
   "cell_type": "code",
   "execution_count": 9,
   "id": "4818d756",
   "metadata": {},
   "outputs": [
    {
     "data": {
      "text/plain": [
       "['sudh', 354]"
      ]
     },
     "execution_count": 9,
     "metadata": {},
     "output_type": "execute_result"
    }
   ],
   "source": [
    "l1[0:2]"
   ]
  },
  {
   "cell_type": "code",
   "execution_count": 10,
   "id": "578a60c1",
   "metadata": {},
   "outputs": [
    {
     "data": {
      "text/plain": [
       "(354, 35.89)"
      ]
     },
     "execution_count": 10,
     "metadata": {},
     "output_type": "execute_result"
    }
   ],
   "source": [
    "t1[1:3] \n",
    "# When we slice the data. we always use []  "
   ]
  },
  {
   "cell_type": "code",
   "execution_count": 11,
   "id": "803d3585",
   "metadata": {},
   "outputs": [
    {
     "data": {
      "text/plain": [
       "(True, (65+8j), 35.89, 354, 'sudh')"
      ]
     },
     "execution_count": 11,
     "metadata": {},
     "output_type": "execute_result"
    }
   ],
   "source": [
    "t1[::-1]"
   ]
  },
  {
   "cell_type": "code",
   "execution_count": 12,
   "id": "1994ff37",
   "metadata": {},
   "outputs": [
    {
     "data": {
      "text/plain": [
       "True"
      ]
     },
     "execution_count": 12,
     "metadata": {},
     "output_type": "execute_result"
    }
   ],
   "source": [
    "t1[-1]"
   ]
  },
  {
   "cell_type": "code",
   "execution_count": 13,
   "id": "f44e19ca",
   "metadata": {},
   "outputs": [
    {
     "data": {
      "text/plain": [
       "('sudh', 35.89, True)"
      ]
     },
     "execution_count": 13,
     "metadata": {},
     "output_type": "execute_result"
    }
   ],
   "source": [
    "t1[0::2]"
   ]
  },
  {
   "cell_type": "code",
   "execution_count": 14,
   "id": "caa1565c",
   "metadata": {},
   "outputs": [
    {
     "data": {
      "text/plain": [
       "['sudh', 354, 35.89, (65+8j), True]"
      ]
     },
     "execution_count": 14,
     "metadata": {},
     "output_type": "execute_result"
    }
   ],
   "source": [
    "l1[0] = 'sudh'\n",
    "l1"
   ]
  },
  {
   "cell_type": "code",
   "execution_count": 15,
   "id": "1327a2b4",
   "metadata": {},
   "outputs": [
    {
     "data": {
      "text/plain": [
       "('sudh', 354, 35.89, (65+8j), True)"
      ]
     },
     "execution_count": 15,
     "metadata": {},
     "output_type": "execute_result"
    }
   ],
   "source": [
    "# t1[1] = 'sud'\n",
    "# The code will give error because tuple is \n",
    "# a immutable data type \n",
    "t1"
   ]
  },
  {
   "cell_type": "code",
   "execution_count": 16,
   "id": "d545c745",
   "metadata": {},
   "outputs": [],
   "source": [
    "t2 = (38,58 +7j, 'stdr')"
   ]
  },
  {
   "cell_type": "code",
   "execution_count": 17,
   "id": "1e7193d7",
   "metadata": {},
   "outputs": [
    {
     "data": {
      "text/plain": [
       "('sudh', 354, 35.89, (65+8j), True, 38, (58+7j), 'stdr')"
      ]
     },
     "execution_count": 17,
     "metadata": {},
     "output_type": "execute_result"
    }
   ],
   "source": [
    "t3 = t1 + t2\n",
    "t3\n",
    "# append operations works for tuples"
   ]
  },
  {
   "cell_type": "code",
   "execution_count": 18,
   "id": "34656b48",
   "metadata": {},
   "outputs": [
    {
     "data": {
      "text/plain": [
       "('sudh', 354, 35.89, (65+8j), True, 'sudh', 354, 35.89, (65+8j), True)"
      ]
     },
     "execution_count": 18,
     "metadata": {},
     "output_type": "execute_result"
    }
   ],
   "source": [
    "t1*2"
   ]
  },
  {
   "cell_type": "code",
   "execution_count": 19,
   "id": "1e9a81df",
   "metadata": {},
   "outputs": [],
   "source": [
    "# Tuples have only 2 functions in it\n",
    "# count and index"
   ]
  },
  {
   "cell_type": "code",
   "execution_count": 20,
   "id": "6c80fccf",
   "metadata": {},
   "outputs": [
    {
     "data": {
      "text/plain": [
       "1"
      ]
     },
     "execution_count": 20,
     "metadata": {},
     "output_type": "execute_result"
    }
   ],
   "source": [
    "t1.count('sudh')"
   ]
  },
  {
   "cell_type": "code",
   "execution_count": 21,
   "id": "5a09f895",
   "metadata": {
    "scrolled": true
   },
   "outputs": [
    {
     "data": {
      "text/plain": [
       "4"
      ]
     },
     "execution_count": 21,
     "metadata": {},
     "output_type": "execute_result"
    }
   ],
   "source": [
    "t3.index(True)"
   ]
  },
  {
   "cell_type": "code",
   "execution_count": 22,
   "id": "e94036fb",
   "metadata": {},
   "outputs": [],
   "source": [
    "# t4 = t2 + (\"kush\")\n",
    "# ERROR: can only concatenate tuple (not \"str\") to tuple\n",
    "# The size of the tuple will not change\n",
    "# Can keep tuple inside a tuple "
   ]
  },
  {
   "cell_type": "code",
   "execution_count": 23,
   "id": "48ac437c",
   "metadata": {
    "scrolled": true
   },
   "outputs": [
    {
     "data": {
      "text/plain": [
       "(4, 'sudh', 75, (4, 'h', 98, (4+8j)), 89)"
      ]
     },
     "execution_count": 23,
     "metadata": {},
     "output_type": "execute_result"
    }
   ],
   "source": [
    "t4 = (4, 'sudh', 75, (4, 'h', 98, 4+8j), 89)\n",
    "t4"
   ]
  },
  {
   "cell_type": "code",
   "execution_count": 24,
   "id": "10406ffc",
   "metadata": {},
   "outputs": [
    {
     "data": {
      "text/plain": [
       "([3, (6+8j), True], 89, 'ksi', (4, False, 'srd'))"
      ]
     },
     "execution_count": 24,
     "metadata": {},
     "output_type": "execute_result"
    }
   ],
   "source": [
    "t5 = ([3,6+8j, True], 89, 'ksi', (4, False, 'srd'))\n",
    "t5"
   ]
  },
  {
   "cell_type": "code",
   "execution_count": 25,
   "id": "5451048f",
   "metadata": {},
   "outputs": [
    {
     "data": {
      "text/plain": [
       "([3, 'Hi change', True], 89, 'ksi', (4, False, 'srd'))"
      ]
     },
     "execution_count": 25,
     "metadata": {},
     "output_type": "execute_result"
    }
   ],
   "source": [
    "t5[0][1] = 'Hi change'\n",
    "t5"
   ]
  },
  {
   "cell_type": "code",
   "execution_count": 26,
   "id": "530ec686",
   "metadata": {},
   "outputs": [
    {
     "data": {
      "text/plain": [
       "'kvi'"
      ]
     },
     "execution_count": 26,
     "metadata": {},
     "output_type": "execute_result"
    }
   ],
   "source": [
    "t5[2].replace('s','v')"
   ]
  },
  {
   "cell_type": "code",
   "execution_count": 27,
   "id": "5f0d0b21",
   "metadata": {},
   "outputs": [
    {
     "data": {
      "text/plain": [
       "([3, 'Hi change', True], 89, 'ksi', (4, False, 'srd'))"
      ]
     },
     "execution_count": 27,
     "metadata": {},
     "output_type": "execute_result"
    }
   ],
   "source": [
    "t5"
   ]
  },
  {
   "cell_type": "code",
   "execution_count": 28,
   "id": "70735043",
   "metadata": {},
   "outputs": [
    {
     "data": {
      "text/plain": [
       "['sudh', 354, 35.89, (65+8j), True]"
      ]
     },
     "execution_count": 28,
     "metadata": {},
     "output_type": "execute_result"
    }
   ],
   "source": [
    "list(t1)\n",
    "# List to tuple and tupe to list is possible"
   ]
  },
  {
   "cell_type": "code",
   "execution_count": 29,
   "id": "151d77fe",
   "metadata": {},
   "outputs": [
    {
     "data": {
      "text/plain": [
       "('sudh', 354, 35.89, (65+8j), True)"
      ]
     },
     "execution_count": 29,
     "metadata": {},
     "output_type": "execute_result"
    }
   ],
   "source": [
    "tuple(l1)"
   ]
  },
  {
   "cell_type": "markdown",
   "id": "0e6f7e46",
   "metadata": {},
   "source": [
    "SET"
   ]
  },
  {
   "cell_type": "code",
   "execution_count": 30,
   "id": "8b39d84f",
   "metadata": {},
   "outputs": [],
   "source": [
    "l = [1,2,3,4,5,6,1,2,3,3,3,4,4,1,1,9,8,6,2,4,0,0.-1,-1,-6.5]"
   ]
  },
  {
   "cell_type": "code",
   "execution_count": 31,
   "id": "291ce766",
   "metadata": {},
   "outputs": [
    {
     "data": {
      "text/plain": [
       "[1, 2, 3, 4, 5, 6, 1, 2, 3, 3, 3, 4, 4, 1, 1, 9, 8, 6, 2, 4, 0, -1.0, -1, -6.5]"
      ]
     },
     "execution_count": 31,
     "metadata": {},
     "output_type": "execute_result"
    }
   ],
   "source": [
    "l"
   ]
  },
  {
   "cell_type": "code",
   "execution_count": 32,
   "id": "10e053aa",
   "metadata": {},
   "outputs": [
    {
     "data": {
      "text/plain": [
       "{-6.5, -1.0, 0, 1, 2, 3, 4, 5, 6, 8, 9}"
      ]
     },
     "execution_count": 32,
     "metadata": {},
     "output_type": "execute_result"
    }
   ],
   "source": [
    "set(l)\n",
    "# Set ill remove all the duplicate \n",
    "# and also reorder the element in assending"
   ]
  },
  {
   "cell_type": "code",
   "execution_count": 33,
   "id": "30245a5e",
   "metadata": {},
   "outputs": [],
   "source": [
    "s = {}"
   ]
  },
  {
   "cell_type": "code",
   "execution_count": 34,
   "id": "f2b6d6ab",
   "metadata": {},
   "outputs": [
    {
     "data": {
      "text/plain": [
       "dict"
      ]
     },
     "execution_count": 34,
     "metadata": {},
     "output_type": "execute_result"
    }
   ],
   "source": [
    "type(s)"
   ]
  },
  {
   "cell_type": "code",
   "execution_count": 35,
   "id": "7bc44be1",
   "metadata": {},
   "outputs": [],
   "source": [
    "s1 = {2, 2+3j, 'gsk'}"
   ]
  },
  {
   "cell_type": "code",
   "execution_count": 36,
   "id": "6f4ee832",
   "metadata": {},
   "outputs": [
    {
     "data": {
      "text/plain": [
       "set"
      ]
     },
     "execution_count": 36,
     "metadata": {},
     "output_type": "execute_result"
    }
   ],
   "source": [
    "type(s1)"
   ]
  },
  {
   "cell_type": "code",
   "execution_count": 37,
   "id": "4cfa9477",
   "metadata": {},
   "outputs": [
    {
     "data": {
      "text/plain": [
       "{(3+8j), 1, 2, 3, 'kust', 'sudh'}"
      ]
     },
     "execution_count": 37,
     "metadata": {},
     "output_type": "execute_result"
    }
   ],
   "source": [
    "s2 = {1,1,1,2,2,2,3,3,3+8j,'sudh','kust'}\n",
    "s2"
   ]
  },
  {
   "cell_type": "code",
   "execution_count": 38,
   "id": "e14ed1e0",
   "metadata": {},
   "outputs": [],
   "source": [
    "# s2[2]\n",
    "# set is an unordered collection\n",
    "# So we cannot perfor indexing on set"
   ]
  },
  {
   "cell_type": "code",
   "execution_count": 39,
   "id": "bf554d8f",
   "metadata": {},
   "outputs": [
    {
     "data": {
      "text/plain": [
       "[1, 2, 3, 'kust', (3+8j), 'sudh']"
      ]
     },
     "execution_count": 39,
     "metadata": {},
     "output_type": "execute_result"
    }
   ],
   "source": [
    "l2 = list(s2)\n",
    "l2"
   ]
  },
  {
   "cell_type": "code",
   "execution_count": 40,
   "id": "6276bbfa",
   "metadata": {},
   "outputs": [
    {
     "data": {
      "text/plain": [
       "3"
      ]
     },
     "execution_count": 40,
     "metadata": {},
     "output_type": "execute_result"
    }
   ],
   "source": [
    "list(s2)[2]"
   ]
  },
  {
   "cell_type": "code",
   "execution_count": 41,
   "id": "e400b111",
   "metadata": {},
   "outputs": [
    {
     "data": {
      "text/plain": [
       "{(3+8j), 1, 2, 3, 'kust', 'sudh'}"
      ]
     },
     "execution_count": 41,
     "metadata": {},
     "output_type": "execute_result"
    }
   ],
   "source": [
    " s2"
   ]
  },
  {
   "cell_type": "code",
   "execution_count": 42,
   "id": "07767365",
   "metadata": {},
   "outputs": [],
   "source": [
    "# s3 = {[1,2,True],('kush',89),5,False}\n",
    "# ERROR: unhashable type: 'list'\n",
    "# Set always holds a premitive data type like string, int, flot etc\n",
    "# we cannot store list inside set\n",
    "# but we can store immutable elements inside a set like tuple\n",
    "# Example line 81"
   ]
  },
  {
   "cell_type": "code",
   "execution_count": 43,
   "id": "43f795c7",
   "metadata": {},
   "outputs": [
    {
     "data": {
      "text/plain": [
       "{(3+8j), 1, 2, 3, 'kust', 'sudh'}"
      ]
     },
     "execution_count": 43,
     "metadata": {},
     "output_type": "execute_result"
    }
   ],
   "source": [
    "set(l2)"
   ]
  },
  {
   "cell_type": "code",
   "execution_count": 44,
   "id": "413f6e89",
   "metadata": {},
   "outputs": [],
   "source": [
    "s2.add('kush')"
   ]
  },
  {
   "cell_type": "code",
   "execution_count": 45,
   "id": "86a880d9",
   "metadata": {},
   "outputs": [
    {
     "data": {
      "text/plain": [
       "{(3+8j), 1, 2, 3, 'kush', 'kust', 'sudh'}"
      ]
     },
     "execution_count": 45,
     "metadata": {},
     "output_type": "execute_result"
    }
   ],
   "source": [
    "s2"
   ]
  },
  {
   "cell_type": "code",
   "execution_count": 46,
   "id": "df24e724",
   "metadata": {},
   "outputs": [],
   "source": [
    "# s2.add(['kush',78])\n",
    "# same as line 73 cannot store list inside set"
   ]
  },
  {
   "cell_type": "code",
   "execution_count": 47,
   "id": "bc929335",
   "metadata": {},
   "outputs": [
    {
     "data": {
      "text/plain": [
       "{(9, 7, 'kush'), 3, 4, 6, 8, 'kush'}"
      ]
     },
     "execution_count": 47,
     "metadata": {},
     "output_type": "execute_result"
    }
   ],
   "source": [
    "s4 = {(9,7,'kush'), 4,4,6,8,3,'kush'}\n",
    "s4"
   ]
  },
  {
   "cell_type": "code",
   "execution_count": 48,
   "id": "e2aa5488",
   "metadata": {},
   "outputs": [
    {
     "data": {
      "text/plain": [
       "{(9, 7, 'kush'), 3, 4, 6, 8, 'kush'}"
      ]
     },
     "execution_count": 48,
     "metadata": {},
     "output_type": "execute_result"
    }
   ],
   "source": [
    "s5 = {(9,7,'kush'),(9,7,'kush'), 4,4,6,8,3,'kush'}\n",
    "s5\n",
    "# it will also remove duplicate tuple"
   ]
  },
  {
   "cell_type": "code",
   "execution_count": 49,
   "id": "441da30d",
   "metadata": {},
   "outputs": [],
   "source": [
    "s5.remove(4)"
   ]
  },
  {
   "cell_type": "code",
   "execution_count": 50,
   "id": "082fea7a",
   "metadata": {},
   "outputs": [
    {
     "data": {
      "text/plain": [
       "{(9, 7, 'kush'), 3, 6, 8, 'kush'}"
      ]
     },
     "execution_count": 50,
     "metadata": {},
     "output_type": "execute_result"
    }
   ],
   "source": [
    "s5"
   ]
  },
  {
   "cell_type": "code",
   "execution_count": 51,
   "id": "d5df6631",
   "metadata": {},
   "outputs": [
    {
     "data": {
      "text/plain": [
       "set()"
      ]
     },
     "execution_count": 51,
     "metadata": {},
     "output_type": "execute_result"
    }
   ],
   "source": [
    "s5.clear()\n",
    "s5\n",
    "#clears the set"
   ]
  },
  {
   "cell_type": "code",
   "execution_count": 52,
   "id": "c67fd3b0",
   "metadata": {},
   "outputs": [
    {
     "data": {
      "text/plain": [
       "{(9, 7, 'kush'), 3, 4, 8, 'kush'}"
      ]
     },
     "execution_count": 52,
     "metadata": {},
     "output_type": "execute_result"
    }
   ],
   "source": [
    "s4.discard(6)\n",
    "s4"
   ]
  },
  {
   "cell_type": "code",
   "execution_count": 53,
   "id": "1d630e26",
   "metadata": {},
   "outputs": [
    {
     "data": {
      "text/plain": [
       "{(9, 7, 'kush'), 3, 4, 8, 'kush'}"
      ]
     },
     "execution_count": 53,
     "metadata": {},
     "output_type": "execute_result"
    }
   ],
   "source": [
    "s4.discard(45)\n",
    "s4\n",
    "# when we perform remove and the element is not in the set the code will give error\n",
    "# but in discard it will just returen the previous set"
   ]
  },
  {
   "cell_type": "code",
   "execution_count": 54,
   "id": "9987fbec",
   "metadata": {},
   "outputs": [
    {
     "data": {
      "text/plain": [
       "{'Kush', 'kush'}"
      ]
     },
     "execution_count": 54,
     "metadata": {},
     "output_type": "execute_result"
    }
   ],
   "source": [
    "{'Kush','kush'}\n",
    "# set is case sencetive"
   ]
  },
  {
   "cell_type": "markdown",
   "id": "2094b657",
   "metadata": {},
   "source": [
    "DICTIONARY"
   ]
  },
  {
   "cell_type": "code",
   "execution_count": 55,
   "id": "cd59cf5b",
   "metadata": {},
   "outputs": [
    {
     "data": {
      "text/plain": [
       "set"
      ]
     },
     "execution_count": 55,
     "metadata": {},
     "output_type": "execute_result"
    }
   ],
   "source": [
    "d = {2,4}\n",
    "type(d)"
   ]
  },
  {
   "cell_type": "code",
   "execution_count": 56,
   "id": "205d324f",
   "metadata": {},
   "outputs": [],
   "source": [
    "d = {4:'kush'}"
   ]
  },
  {
   "cell_type": "code",
   "execution_count": 57,
   "id": "1daefcb3",
   "metadata": {},
   "outputs": [],
   "source": [
    "d1 = {'k': 10, 'j' :7+8j, 45:True, False:[8,'kush',True]}"
   ]
  },
  {
   "cell_type": "code",
   "execution_count": 58,
   "id": "095c3301",
   "metadata": {},
   "outputs": [
    {
     "data": {
      "text/plain": [
       "{'k': 10, 'j': (7+8j), 45: True, False: [8, 'kush', True]}"
      ]
     },
     "execution_count": 58,
     "metadata": {},
     "output_type": "execute_result"
    }
   ],
   "source": [
    "d1"
   ]
  },
  {
   "cell_type": "code",
   "execution_count": 59,
   "id": "b7d8fcc3",
   "metadata": {},
   "outputs": [
    {
     "data": {
      "text/plain": [
       "10"
      ]
     },
     "execution_count": 59,
     "metadata": {},
     "output_type": "execute_result"
    }
   ],
   "source": [
    "d1['k']"
   ]
  },
  {
   "cell_type": "code",
   "execution_count": 60,
   "id": "2f9da215",
   "metadata": {},
   "outputs": [
    {
     "data": {
      "text/plain": [
       "[8, 'kush', True]"
      ]
     },
     "execution_count": 60,
     "metadata": {},
     "output_type": "execute_result"
    }
   ],
   "source": [
    "d1[False]"
   ]
  },
  {
   "cell_type": "code",
   "execution_count": 61,
   "id": "fabdaedf",
   "metadata": {},
   "outputs": [],
   "source": [
    "d1[False][1] = 'hi'"
   ]
  },
  {
   "cell_type": "code",
   "execution_count": 62,
   "id": "91c4abac",
   "metadata": {},
   "outputs": [
    {
     "data": {
      "text/plain": [
       "{'k': 10, 'j': (7+8j), 45: True, False: [8, 'hi', True]}"
      ]
     },
     "execution_count": 62,
     "metadata": {},
     "output_type": "execute_result"
    }
   ],
   "source": [
    "d1"
   ]
  },
  {
   "cell_type": "code",
   "execution_count": 63,
   "id": "1e9f004f",
   "metadata": {},
   "outputs": [],
   "source": [
    "d2 = {'Key':{3,4,True},9:(74,'hi')}"
   ]
  },
  {
   "cell_type": "code",
   "execution_count": 64,
   "id": "821e4fc0",
   "metadata": {},
   "outputs": [
    {
     "data": {
      "text/plain": [
       "{'Key': {True, 3, 4}, 9: (74, 'hi')}"
      ]
     },
     "execution_count": 64,
     "metadata": {},
     "output_type": "execute_result"
    }
   ],
   "source": [
    "d2"
   ]
  },
  {
   "cell_type": "code",
   "execution_count": 65,
   "id": "46cc4326",
   "metadata": {},
   "outputs": [],
   "source": [
    "d3 = {'key1':45,'key2':90,'key1':50}"
   ]
  },
  {
   "cell_type": "code",
   "execution_count": 66,
   "id": "a8823779",
   "metadata": {},
   "outputs": [
    {
     "data": {
      "text/plain": [
       "50"
      ]
     },
     "execution_count": 66,
     "metadata": {},
     "output_type": "execute_result"
    }
   ],
   "source": [
    "d3['key1']\n",
    "# It s like variable, if the key is repeated\n",
    "# the last value which is exicuted \n",
    "# will be stored in that key"
   ]
  },
  {
   "cell_type": "code",
   "execution_count": 67,
   "id": "231fdb3d",
   "metadata": {},
   "outputs": [],
   "source": [
    "# So you should alwasy assign unique keys to the data"
   ]
  },
  {
   "cell_type": "code",
   "execution_count": 68,
   "id": "d4442a2c",
   "metadata": {},
   "outputs": [],
   "source": [
    "d = {'name':\"kushagra\", 'mobile_no':7422209728,'email':'ineuron@gmail.com','key1':{1:'kush',2:'kash'},'key2':[1,2,True],'key3':(False,'Sudh',8794),'key4':{3,1,1,2,2,3,4,8,8+9j,4,8+9j}}"
   ]
  },
  {
   "cell_type": "code",
   "execution_count": 69,
   "id": "58ecdb8c",
   "metadata": {},
   "outputs": [
    {
     "data": {
      "text/plain": [
       "{'name': 'kushagra',\n",
       " 'mobile_no': 7422209728,\n",
       " 'email': 'ineuron@gmail.com',\n",
       " 'key1': {1: 'kush', 2: 'kash'},\n",
       " 'key2': [1, 2, True],\n",
       " 'key3': (False, 'Sudh', 8794),\n",
       " 'key4': {(8+9j), 1, 2, 3, 4, 8}}"
      ]
     },
     "execution_count": 69,
     "metadata": {},
     "output_type": "execute_result"
    }
   ],
   "source": [
    "d"
   ]
  },
  {
   "cell_type": "code",
   "execution_count": 70,
   "id": "a00eb059",
   "metadata": {},
   "outputs": [],
   "source": [
    "# d5 = {['hi',4]:30}\n",
    "# ERROR: unhashable type: 'list'\n",
    "# you cannot have a list as the key"
   ]
  },
  {
   "cell_type": "code",
   "execution_count": 71,
   "id": "b3df0cd1",
   "metadata": {},
   "outputs": [],
   "source": [
    "d5 = {('hi',4):30}"
   ]
  },
  {
   "cell_type": "code",
   "execution_count": 72,
   "id": "d3a81020",
   "metadata": {},
   "outputs": [
    {
     "data": {
      "text/plain": [
       "30"
      ]
     },
     "execution_count": 72,
     "metadata": {},
     "output_type": "execute_result"
    }
   ],
   "source": [
    "d5[('hi',4)]"
   ]
  },
  {
   "cell_type": "code",
   "execution_count": 73,
   "id": "69bb5a29",
   "metadata": {},
   "outputs": [],
   "source": [
    "# d5 = {{6,'ksu'}:98}\n",
    "# ERROR: unhashable type: 'set'\n",
    "# a tuple data can be kept as a key\n",
    "# all the immutable data types can be kept as key\n",
    "# example line 130\n",
    "# a set cannot be kept as a key"
   ]
  },
  {
   "cell_type": "code",
   "execution_count": 74,
   "id": "e2537ded",
   "metadata": {},
   "outputs": [
    {
     "data": {
      "text/plain": [
       "set"
      ]
     },
     "execution_count": 74,
     "metadata": {},
     "output_type": "execute_result"
    }
   ],
   "source": [
    "type(d['key4'])"
   ]
  },
  {
   "cell_type": "code",
   "execution_count": 75,
   "id": "c2b12e9a",
   "metadata": {},
   "outputs": [
    {
     "data": {
      "text/plain": [
       "True"
      ]
     },
     "execution_count": 75,
     "metadata": {},
     "output_type": "execute_result"
    }
   ],
   "source": [
    "d['key2'][2]"
   ]
  },
  {
   "cell_type": "code",
   "execution_count": 76,
   "id": "e60451c3",
   "metadata": {},
   "outputs": [
    {
     "data": {
      "text/plain": [
       "{'name': 'kushagra',\n",
       " 'mobile_no': 7422209728,\n",
       " 'email': 'ineuron@gmail.com',\n",
       " 'key1': {1: 'kush', 2: 'kash'},\n",
       " 'key2': [1, 2, False],\n",
       " 'key3': (False, 'Sudh', 8794),\n",
       " 'key4': {(8+9j), 1, 2, 3, 4, 8}}"
      ]
     },
     "execution_count": 76,
     "metadata": {},
     "output_type": "execute_result"
    }
   ],
   "source": [
    "d['key2'][2] = False\n",
    "d"
   ]
  },
  {
   "cell_type": "code",
   "execution_count": 77,
   "id": "8a3ce48b",
   "metadata": {},
   "outputs": [
    {
     "data": {
      "text/plain": [
       "dict_keys(['name', 'mobile_no', 'email', 'key1', 'key2', 'key3', 'key4'])"
      ]
     },
     "execution_count": 77,
     "metadata": {},
     "output_type": "execute_result"
    }
   ],
   "source": [
    "d.keys()"
   ]
  },
  {
   "cell_type": "code",
   "execution_count": 78,
   "id": "02cac68b",
   "metadata": {},
   "outputs": [
    {
     "data": {
      "text/plain": [
       "dict_values(['kushagra', 7422209728, 'ineuron@gmail.com', {1: 'kush', 2: 'kash'}, [1, 2, False], (False, 'Sudh', 8794), {1, 2, 3, 4, (8+9j), 8}])"
      ]
     },
     "execution_count": 78,
     "metadata": {},
     "output_type": "execute_result"
    }
   ],
   "source": [
    "d.values()"
   ]
  },
  {
   "cell_type": "code",
   "execution_count": 79,
   "id": "0f9a70bb",
   "metadata": {},
   "outputs": [
    {
     "data": {
      "text/plain": [
       "dict_items([('name', 'kushagra'), ('mobile_no', 7422209728), ('email', 'ineuron@gmail.com'), ('key1', {1: 'kush', 2: 'kash'}), ('key2', [1, 2, False]), ('key3', (False, 'Sudh', 8794)), ('key4', {1, 2, 3, 4, (8+9j), 8})])"
      ]
     },
     "execution_count": 79,
     "metadata": {},
     "output_type": "execute_result"
    }
   ],
   "source": [
    "d.items()\n",
    "# It will create a list of a tuple of all the key and the value as a tuple pair"
   ]
  },
  {
   "cell_type": "code",
   "execution_count": 80,
   "id": "983c25be",
   "metadata": {},
   "outputs": [
    {
     "data": {
      "text/plain": [
       "dict_items"
      ]
     },
     "execution_count": 80,
     "metadata": {},
     "output_type": "execute_result"
    }
   ],
   "source": [
    "type(d.items())"
   ]
  },
  {
   "cell_type": "code",
   "execution_count": 81,
   "id": "d5528467",
   "metadata": {
    "scrolled": true
   },
   "outputs": [
    {
     "data": {
      "text/plain": [
       "{'Key': {True, 3, 4}, 9: (74, 'hi')}"
      ]
     },
     "execution_count": 81,
     "metadata": {},
     "output_type": "execute_result"
    }
   ],
   "source": [
    "d2 "
   ]
  },
  {
   "cell_type": "code",
   "execution_count": 82,
   "id": "8ccc6770",
   "metadata": {},
   "outputs": [
    {
     "data": {
      "text/plain": [
       "{'Key': 'Kash', 9: (74, 'hi')}"
      ]
     },
     "execution_count": 82,
     "metadata": {},
     "output_type": "execute_result"
    }
   ],
   "source": [
    "d2['Key'] = 'Kash'\n",
    "d2\n",
    "# Replaces the value"
   ]
  },
  {
   "cell_type": "code",
   "execution_count": 83,
   "id": "391725ba",
   "metadata": {},
   "outputs": [],
   "source": [
    "d2['key10'] = 'not available'\n",
    "# n case the key you are mentioning is not aailable\n",
    "# it will add that key with the respective value"
   ]
  },
  {
   "cell_type": "code",
   "execution_count": 84,
   "id": "e520f429",
   "metadata": {},
   "outputs": [
    {
     "data": {
      "text/plain": [
       "{'Key': 'Kash', 9: (74, 'hi'), 'key10': 'not available'}"
      ]
     },
     "execution_count": 84,
     "metadata": {},
     "output_type": "execute_result"
    }
   ],
   "source": [
    "d2"
   ]
  },
  {
   "cell_type": "code",
   "execution_count": 85,
   "id": "f0c37976",
   "metadata": {},
   "outputs": [
    {
     "data": {
      "text/plain": [
       "{'Key': 'Kash', 9: (74, 'hi'), 'key10': 'not available', 4: {False, 'Hi'}}"
      ]
     },
     "execution_count": 85,
     "metadata": {},
     "output_type": "execute_result"
    }
   ],
   "source": [
    "# another example\n",
    "d2[4] = {'Hi', False}\n",
    "d2"
   ]
  },
  {
   "cell_type": "code",
   "execution_count": 86,
   "id": "7d5dfa54",
   "metadata": {},
   "outputs": [],
   "source": [
    "del d2[4]"
   ]
  },
  {
   "cell_type": "code",
   "execution_count": 87,
   "id": "f0d4829a",
   "metadata": {},
   "outputs": [
    {
     "data": {
      "text/plain": [
       "{'Key': 'Kash', 9: (74, 'hi'), 'key10': 'not available'}"
      ]
     },
     "execution_count": 87,
     "metadata": {},
     "output_type": "execute_result"
    }
   ],
   "source": [
    "d2"
   ]
  },
  {
   "cell_type": "code",
   "execution_count": 88,
   "id": "a6b15f87",
   "metadata": {},
   "outputs": [],
   "source": [
    "# You cannot rename the key but you can replace it\n",
    "# by using del function"
   ]
  },
  {
   "cell_type": "code",
   "execution_count": 89,
   "id": "a7d413d1",
   "metadata": {},
   "outputs": [],
   "source": [
    "del d2\n",
    "# Will delete the entire dictionary"
   ]
  },
  {
   "cell_type": "code",
   "execution_count": 90,
   "id": "3f4160a4",
   "metadata": {},
   "outputs": [],
   "source": [
    "# d2\n",
    "# NameError: name 'd2' is not defined\n",
    "# beacuse we deleated d2 in nline 157"
   ]
  },
  {
   "cell_type": "code",
   "execution_count": 91,
   "id": "c0ff2c8c",
   "metadata": {},
   "outputs": [
    {
     "data": {
      "text/plain": [
       "{1: 'kush', 2: 'kash'}"
      ]
     },
     "execution_count": 91,
     "metadata": {},
     "output_type": "execute_result"
    }
   ],
   "source": [
    "d.get('key1')"
   ]
  },
  {
   "cell_type": "code",
   "execution_count": 92,
   "id": "cb4bfe04",
   "metadata": {},
   "outputs": [],
   "source": [
    "d.get('jahsdjh')\n",
    "# if the key is not available then no error and no output\n",
    "# if the key is there then it will get the value of that key"
   ]
  },
  {
   "cell_type": "code",
   "execution_count": 93,
   "id": "3c626714",
   "metadata": {},
   "outputs": [
    {
     "data": {
      "text/plain": [
       "NoneType"
      ]
     },
     "execution_count": 93,
     "metadata": {},
     "output_type": "execute_result"
    }
   ],
   "source": [
    "type(d.get('jahsdjh'))"
   ]
  },
  {
   "cell_type": "code",
   "execution_count": 94,
   "id": "e174bb9b",
   "metadata": {},
   "outputs": [
    {
     "data": {
      "text/plain": [
       "{'Key': 'Kash', 9: (74, 'hi')}"
      ]
     },
     "execution_count": 94,
     "metadata": {},
     "output_type": "execute_result"
    }
   ],
   "source": [
    "d2 = {'Key': 'Kash', 9: (74, 'hi')}\n",
    "d2"
   ]
  },
  {
   "cell_type": "code",
   "execution_count": 95,
   "id": "47fd3c62",
   "metadata": {},
   "outputs": [
    {
     "data": {
      "text/plain": [
       "{'key 1': 'hi', 889: 'any'}"
      ]
     },
     "execution_count": 95,
     "metadata": {},
     "output_type": "execute_result"
    }
   ],
   "source": [
    "d3 = {'key 1' :'hi', 889: 'any'}\n",
    "d3"
   ]
  },
  {
   "cell_type": "code",
   "execution_count": 96,
   "id": "467d1003",
   "metadata": {},
   "outputs": [
    {
     "data": {
      "text/plain": [
       "{'key 1': 'hi', 889: 'any', 'Key': 'Kash', 9: (74, 'hi')}"
      ]
     },
     "execution_count": 96,
     "metadata": {},
     "output_type": "execute_result"
    }
   ],
   "source": [
    "d3.update(d2)\n",
    "d3\n",
    "# will append the d3 to d2"
   ]
  },
  {
   "cell_type": "code",
   "execution_count": 97,
   "id": "b922dcb4",
   "metadata": {},
   "outputs": [
    {
     "data": {
      "text/plain": [
       "{'Key': 'Kash', 9: (74, 'hi')}"
      ]
     },
     "execution_count": 97,
     "metadata": {},
     "output_type": "execute_result"
    }
   ],
   "source": [
    "d2"
   ]
  },
  {
   "cell_type": "code",
   "execution_count": 98,
   "id": "95d5ed7a",
   "metadata": {},
   "outputs": [],
   "source": [
    "# d2+d3\n",
    "# TypeError: unsupported operand type(s) for +: 'dict' and 'dict'\n",
    "# Why update() function is becuse concatination does not work for dictionary"
   ]
  },
  {
   "cell_type": "code",
   "execution_count": 99,
   "id": "90151b04",
   "metadata": {},
   "outputs": [
    {
     "data": {
      "text/plain": [
       "{'k': 10, 'j': (7+8j), 45: True, False: [8, 'hi', True]}"
      ]
     },
     "execution_count": 99,
     "metadata": {},
     "output_type": "execute_result"
    }
   ],
   "source": [
    "d1"
   ]
  },
  {
   "cell_type": "code",
   "execution_count": 100,
   "id": "a9fef10e",
   "metadata": {},
   "outputs": [],
   "source": [
    "key = (\"name\",'mobile_no', \"email_id\")\n",
    "value = (245,950,236)"
   ]
  },
  {
   "cell_type": "code",
   "execution_count": 101,
   "id": "2a913b91",
   "metadata": {},
   "outputs": [],
   "source": [
    "d0 = d2.fromkeys(key,value)"
   ]
  },
  {
   "cell_type": "code",
   "execution_count": 102,
   "id": "c24eb913",
   "metadata": {},
   "outputs": [
    {
     "data": {
      "text/plain": [
       "{'name': (245, 950, 236),\n",
       " 'mobile_no': (245, 950, 236),\n",
       " 'email_id': (245, 950, 236)}"
      ]
     },
     "execution_count": 102,
     "metadata": {},
     "output_type": "execute_result"
    }
   ],
   "source": [
    "d0"
   ]
  },
  {
   "cell_type": "code",
   "execution_count": 103,
   "id": "c6eefbfb",
   "metadata": {},
   "outputs": [],
   "source": [
    "value1 = 'hi'\n",
    "d0 = d2.fromkeys(key,value1)"
   ]
  },
  {
   "cell_type": "code",
   "execution_count": 104,
   "id": "2cf4e313",
   "metadata": {},
   "outputs": [
    {
     "data": {
      "text/plain": [
       "{'name': 'hi', 'mobile_no': 'hi', 'email_id': 'hi'}"
      ]
     },
     "execution_count": 104,
     "metadata": {},
     "output_type": "execute_result"
    }
   ],
   "source": [
    "d0"
   ]
  },
  {
   "cell_type": "code",
   "execution_count": 105,
   "id": "e00b19fc",
   "metadata": {},
   "outputs": [],
   "source": [
    "d0 = d.fromkeys(key,value1)"
   ]
  },
  {
   "cell_type": "code",
   "execution_count": 106,
   "id": "d4d3e8eb",
   "metadata": {},
   "outputs": [
    {
     "data": {
      "text/plain": [
       "{'name': 'hi', 'mobile_no': 'hi', 'email_id': 'hi'}"
      ]
     },
     "execution_count": 106,
     "metadata": {},
     "output_type": "execute_result"
    }
   ],
   "source": [
    "d0"
   ]
  },
  {
   "cell_type": "code",
   "execution_count": 107,
   "id": "72f30960",
   "metadata": {},
   "outputs": [
    {
     "data": {
      "text/plain": [
       "{'name': ['hi', 28], 'mobile_no': ['hi', 28], 'email_id': ['hi', 28]}"
      ]
     },
     "execution_count": 107,
     "metadata": {},
     "output_type": "execute_result"
    }
   ],
   "source": [
    "value1 = ['hi',28]\n",
    "d0 = d2.fromkeys(key,value1)\n",
    "d0"
   ]
  },
  {
   "cell_type": "code",
   "execution_count": null,
   "id": "cdfe4783",
   "metadata": {},
   "outputs": [],
   "source": []
  }
 ],
 "metadata": {
  "celltoolbar": "Raw Cell Format",
  "kernelspec": {
   "display_name": "Python 3 (ipykernel)",
   "language": "python",
   "name": "python3"
  },
  "language_info": {
   "codemirror_mode": {
    "name": "ipython",
    "version": 3
   },
   "file_extension": ".py",
   "mimetype": "text/x-python",
   "name": "python",
   "nbconvert_exporter": "python",
   "pygments_lexer": "ipython3",
   "version": "3.9.13"
  }
 },
 "nbformat": 4,
 "nbformat_minor": 5
}

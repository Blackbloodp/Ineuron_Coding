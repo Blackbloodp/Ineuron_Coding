{
 "cells": [
  {
   "cell_type": "code",
   "execution_count": 1,
   "id": "2d0938b4",
   "metadata": {},
   "outputs": [],
   "source": [
    "k = \"kashyap\""
   ]
  },
  {
   "cell_type": "code",
   "execution_count": 2,
   "id": "1407f1c6",
   "metadata": {},
   "outputs": [
    {
     "data": {
      "text/plain": [
       "str"
      ]
     },
     "execution_count": 2,
     "metadata": {},
     "output_type": "execute_result"
    }
   ],
   "source": [
    "type(k)"
   ]
  },
  {
   "cell_type": "code",
   "execution_count": 3,
   "id": "fecf4aab",
   "metadata": {},
   "outputs": [
    {
     "data": {
      "text/plain": [
       "'k'"
      ]
     },
     "execution_count": 3,
     "metadata": {},
     "output_type": "execute_result"
    }
   ],
   "source": [
    "k[-7]"
   ]
  },
  {
   "cell_type": "code",
   "execution_count": 4,
   "id": "6354f8c6",
   "metadata": {},
   "outputs": [],
   "source": [
    "a = \"i am good\""
   ]
  },
  {
   "cell_type": "code",
   "execution_count": 5,
   "id": "7916f434",
   "metadata": {},
   "outputs": [
    {
     "data": {
      "text/plain": [
       "'o'"
      ]
     },
     "execution_count": 5,
     "metadata": {},
     "output_type": "execute_result"
    }
   ],
   "source": [
    "a[-3]"
   ]
  },
  {
   "cell_type": "code",
   "execution_count": 6,
   "id": "b4beb339",
   "metadata": {},
   "outputs": [
    {
     "data": {
      "text/plain": [
       "' '"
      ]
     },
     "execution_count": 6,
     "metadata": {},
     "output_type": "execute_result"
    }
   ],
   "source": [
    "a[1]"
   ]
  },
  {
   "cell_type": "code",
   "execution_count": 7,
   "id": "4dfb7b80",
   "metadata": {},
   "outputs": [
    {
     "data": {
      "text/plain": [
       "'m good'"
      ]
     },
     "execution_count": 7,
     "metadata": {},
     "output_type": "execute_result"
    }
   ],
   "source": [
    "a[3:12]"
   ]
  },
  {
   "cell_type": "code",
   "execution_count": 8,
   "id": "f0026193",
   "metadata": {},
   "outputs": [
    {
     "data": {
      "text/plain": [
       "'go'"
      ]
     },
     "execution_count": 8,
     "metadata": {},
     "output_type": "execute_result"
    }
   ],
   "source": [
    "a[-4:-2]"
   ]
  },
  {
   "cell_type": "code",
   "execution_count": 9,
   "id": "14c14fd5",
   "metadata": {},
   "outputs": [
    {
     "data": {
      "text/plain": [
       "'do a'"
      ]
     },
     "execution_count": 9,
     "metadata": {},
     "output_type": "execute_result"
    }
   ],
   "source": [
    "a[100:0:-2]"
   ]
  },
  {
   "cell_type": "code",
   "execution_count": 10,
   "id": "a8e33aa6",
   "metadata": {},
   "outputs": [
    {
     "data": {
      "text/plain": [
       "'i am good'"
      ]
     },
     "execution_count": 10,
     "metadata": {},
     "output_type": "execute_result"
    }
   ],
   "source": [
    "a"
   ]
  },
  {
   "cell_type": "code",
   "execution_count": 11,
   "id": "d60febf4",
   "metadata": {},
   "outputs": [
    {
     "data": {
      "text/plain": [
       "'ia od'"
      ]
     },
     "execution_count": 11,
     "metadata": {},
     "output_type": "execute_result"
    }
   ],
   "source": [
    "a[::2]"
   ]
  },
  {
   "cell_type": "code",
   "execution_count": 12,
   "id": "bfe1a317",
   "metadata": {},
   "outputs": [
    {
     "data": {
      "text/plain": [
       "' od'"
      ]
     },
     "execution_count": 12,
     "metadata": {},
     "output_type": "execute_result"
    }
   ],
   "source": [
    "a[-5::2]"
   ]
  },
  {
   "cell_type": "code",
   "execution_count": 13,
   "id": "10904074",
   "metadata": {},
   "outputs": [
    {
     "data": {
      "text/plain": [
       "'doog ma i'"
      ]
     },
     "execution_count": 13,
     "metadata": {},
     "output_type": "execute_result"
    }
   ],
   "source": [
    "a[::-1]"
   ]
  },
  {
   "cell_type": "code",
   "execution_count": 14,
   "id": "c72fa9e8",
   "metadata": {},
   "outputs": [
    {
     "data": {
      "text/plain": [
       "' good'"
      ]
     },
     "execution_count": 14,
     "metadata": {},
     "output_type": "execute_result"
    }
   ],
   "source": [
    "a[-5:9]"
   ]
  },
  {
   "cell_type": "code",
   "execution_count": 15,
   "id": "c895524d",
   "metadata": {},
   "outputs": [
    {
     "data": {
      "text/plain": [
       "'i am goodi am goodi am good'"
      ]
     },
     "execution_count": 15,
     "metadata": {},
     "output_type": "execute_result"
    }
   ],
   "source": [
    "a*3"
   ]
  },
  {
   "cell_type": "code",
   "execution_count": 16,
   "id": "17328655",
   "metadata": {},
   "outputs": [
    {
     "data": {
      "text/plain": [
       "9"
      ]
     },
     "execution_count": 16,
     "metadata": {},
     "output_type": "execute_result"
    }
   ],
   "source": [
    "len(a)"
   ]
  },
  {
   "cell_type": "code",
   "execution_count": 17,
   "id": "6b3b2a14",
   "metadata": {},
   "outputs": [
    {
     "data": {
      "text/plain": [
       "-1"
      ]
     },
     "execution_count": 17,
     "metadata": {},
     "output_type": "execute_result"
    }
   ],
   "source": [
    "a.find(\"z\")"
   ]
  },
  {
   "cell_type": "code",
   "execution_count": 18,
   "id": "48f55aa5",
   "metadata": {},
   "outputs": [
    {
     "data": {
      "text/plain": [
       "1"
      ]
     },
     "execution_count": 18,
     "metadata": {},
     "output_type": "execute_result"
    }
   ],
   "source": [
    "a.find(\" \")"
   ]
  },
  {
   "cell_type": "code",
   "execution_count": 19,
   "id": "75faf672",
   "metadata": {},
   "outputs": [
    {
     "data": {
      "text/plain": [
       "2"
      ]
     },
     "execution_count": 19,
     "metadata": {},
     "output_type": "execute_result"
    }
   ],
   "source": [
    "a.count(' ')"
   ]
  },
  {
   "cell_type": "code",
   "execution_count": 20,
   "id": "5f63e9af",
   "metadata": {},
   "outputs": [],
   "source": [
    "z = a.split()"
   ]
  },
  {
   "cell_type": "code",
   "execution_count": 21,
   "id": "3ba0ff3b",
   "metadata": {},
   "outputs": [
    {
     "data": {
      "text/plain": [
       "'good'"
      ]
     },
     "execution_count": 21,
     "metadata": {},
     "output_type": "execute_result"
    }
   ],
   "source": [
    "z[2]"
   ]
  },
  {
   "cell_type": "code",
   "execution_count": 22,
   "id": "d89b5c2c",
   "metadata": {},
   "outputs": [
    {
     "data": {
      "text/plain": [
       "['good', 'am']"
      ]
     },
     "execution_count": 22,
     "metadata": {},
     "output_type": "execute_result"
    }
   ],
   "source": [
    "z[3:0:-1]"
   ]
  },
  {
   "cell_type": "code",
   "execution_count": 23,
   "id": "1188e342",
   "metadata": {},
   "outputs": [
    {
     "data": {
      "text/plain": [
       "list"
      ]
     },
     "execution_count": 23,
     "metadata": {},
     "output_type": "execute_result"
    }
   ],
   "source": [
    "type(z)"
   ]
  },
  {
   "cell_type": "code",
   "execution_count": 24,
   "id": "ac21d449",
   "metadata": {},
   "outputs": [],
   "source": [
    "b = \"I am working with a lot of difficult problems\""
   ]
  },
  {
   "cell_type": "code",
   "execution_count": 25,
   "id": "92fe0180",
   "metadata": {},
   "outputs": [
    {
     "data": {
      "text/plain": [
       "'i am good'"
      ]
     },
     "execution_count": 25,
     "metadata": {},
     "output_type": "execute_result"
    }
   ],
   "source": [
    "a"
   ]
  },
  {
   "cell_type": "code",
   "execution_count": 26,
   "id": "c32d11e7",
   "metadata": {},
   "outputs": [
    {
     "data": {
      "text/plain": [
       "['I am work', 'ng w', 'th a lot of d', 'ff', 'cult problems']"
      ]
     },
     "execution_count": 26,
     "metadata": {},
     "output_type": "execute_result"
    }
   ],
   "source": [
    "b.split(\"i\")"
   ]
  },
  {
   "cell_type": "code",
   "execution_count": 27,
   "id": "22d5f23a",
   "metadata": {},
   "outputs": [
    {
     "data": {
      "text/plain": [
       "'I AM WORKING WITH A LOT OF DIFFICULT PROBLEMS'"
      ]
     },
     "execution_count": 27,
     "metadata": {},
     "output_type": "execute_result"
    }
   ],
   "source": [
    "b.upper()"
   ]
  },
  {
   "cell_type": "code",
   "execution_count": 28,
   "id": "8b05c84a",
   "metadata": {},
   "outputs": [
    {
     "data": {
      "text/plain": [
       "'i am working with a lot of difficult problems'"
      ]
     },
     "execution_count": 28,
     "metadata": {},
     "output_type": "execute_result"
    }
   ],
   "source": [
    "b.lower()"
   ]
  },
  {
   "cell_type": "code",
   "execution_count": 29,
   "id": "9901321a",
   "metadata": {},
   "outputs": [],
   "source": [
    "c = 'Hi How are You'"
   ]
  },
  {
   "cell_type": "code",
   "execution_count": 30,
   "id": "7327555f",
   "metadata": {},
   "outputs": [
    {
     "data": {
      "text/plain": [
       "'hI hOW ARE yOU'"
      ]
     },
     "execution_count": 30,
     "metadata": {},
     "output_type": "execute_result"
    }
   ],
   "source": [
    "c.swapcase()"
   ]
  },
  {
   "cell_type": "code",
   "execution_count": 31,
   "id": "c85daf67",
   "metadata": {},
   "outputs": [
    {
     "data": {
      "text/plain": [
       "'Hi how are you'"
      ]
     },
     "execution_count": 31,
     "metadata": {},
     "output_type": "execute_result"
    }
   ],
   "source": [
    "c.capitalize()"
   ]
  },
  {
   "cell_type": "code",
   "execution_count": 32,
   "id": "e4ca4557",
   "metadata": {},
   "outputs": [
    {
     "data": {
      "text/plain": [
       "'Hi How Are You'"
      ]
     },
     "execution_count": 32,
     "metadata": {},
     "output_type": "execute_result"
    }
   ],
   "source": [
    "c.title()"
   ]
  },
  {
   "cell_type": "code",
   "execution_count": 33,
   "id": "46035ac5",
   "metadata": {},
   "outputs": [
    {
     "data": {
      "text/plain": [
       "'4'"
      ]
     },
     "execution_count": 33,
     "metadata": {},
     "output_type": "execute_result"
    }
   ],
   "source": [
    "b.join(\"4\")"
   ]
  },
  {
   "cell_type": "code",
   "execution_count": 34,
   "id": "85dc69a9",
   "metadata": {},
   "outputs": [],
   "source": [
    "d = 45"
   ]
  },
  {
   "cell_type": "code",
   "execution_count": 35,
   "id": "1a22ebc9",
   "metadata": {},
   "outputs": [
    {
     "data": {
      "text/plain": [
       "'Hi How are You'"
      ]
     },
     "execution_count": 35,
     "metadata": {},
     "output_type": "execute_result"
    }
   ],
   "source": [
    "c"
   ]
  },
  {
   "cell_type": "code",
   "execution_count": 36,
   "id": "1b641719",
   "metadata": {},
   "outputs": [
    {
     "data": {
      "text/plain": [
       "'Hi How are You'"
      ]
     },
     "execution_count": 36,
     "metadata": {},
     "output_type": "execute_result"
    }
   ],
   "source": [
    "c.rstrip()"
   ]
  },
  {
   "cell_type": "code",
   "execution_count": 37,
   "id": "3f8c6587",
   "metadata": {},
   "outputs": [],
   "source": [
    "c = \" Hi How are You \""
   ]
  },
  {
   "cell_type": "code",
   "execution_count": 38,
   "id": "46eda7c5",
   "metadata": {},
   "outputs": [
    {
     "data": {
      "text/plain": [
       "'Hi How are You'"
      ]
     },
     "execution_count": 38,
     "metadata": {},
     "output_type": "execute_result"
    }
   ],
   "source": [
    "c.strip()"
   ]
  },
  {
   "cell_type": "code",
   "execution_count": 39,
   "id": "547fc0d7",
   "metadata": {},
   "outputs": [
    {
     "data": {
      "text/plain": [
       "'/Hi/How/are/You/'"
      ]
     },
     "execution_count": 39,
     "metadata": {},
     "output_type": "execute_result"
    }
   ],
   "source": [
    "c.replace(\" \" , '/' , 10)"
   ]
  },
  {
   "cell_type": "code",
   "execution_count": 40,
   "id": "149b3dae",
   "metadata": {},
   "outputs": [
    {
     "data": {
      "text/plain": [
       "' Hi How are You '"
      ]
     },
     "execution_count": 40,
     "metadata": {},
     "output_type": "execute_result"
    }
   ],
   "source": [
    "c"
   ]
  },
  {
   "cell_type": "code",
   "execution_count": 41,
   "id": "9281a288",
   "metadata": {},
   "outputs": [
    {
     "data": {
      "text/plain": [
       "'Kushagra        Kashyap'"
      ]
     },
     "execution_count": 41,
     "metadata": {},
     "output_type": "execute_result"
    }
   ],
   "source": [
    "\"Kushagra\\tKashyap\".expandtabs()"
   ]
  },
  {
   "cell_type": "code",
   "execution_count": 42,
   "id": "05d88a5c",
   "metadata": {},
   "outputs": [
    {
     "data": {
      "text/plain": [
       "'$$I am working with a lot of difficult problems$$$'"
      ]
     },
     "execution_count": 42,
     "metadata": {},
     "output_type": "execute_result"
    }
   ],
   "source": [
    "b.center(50,'$')"
   ]
  },
  {
   "cell_type": "code",
   "execution_count": 43,
   "id": "3373e2e7",
   "metadata": {},
   "outputs": [
    {
     "data": {
      "text/plain": [
       "False"
      ]
     },
     "execution_count": 43,
     "metadata": {},
     "output_type": "execute_result"
    }
   ],
   "source": [
    "b.islower()"
   ]
  },
  {
   "cell_type": "code",
   "execution_count": 44,
   "id": "f0c16527",
   "metadata": {},
   "outputs": [
    {
     "data": {
      "text/plain": [
       "False"
      ]
     },
     "execution_count": 44,
     "metadata": {},
     "output_type": "execute_result"
    }
   ],
   "source": [
    "b.isspace()"
   ]
  },
  {
   "cell_type": "code",
   "execution_count": 45,
   "id": "1bbf1576",
   "metadata": {},
   "outputs": [
    {
     "data": {
      "text/plain": [
       "False"
      ]
     },
     "execution_count": 45,
     "metadata": {},
     "output_type": "execute_result"
    }
   ],
   "source": [
    "b.istitle()"
   ]
  },
  {
   "cell_type": "code",
   "execution_count": 46,
   "id": "9b009256",
   "metadata": {},
   "outputs": [
    {
     "data": {
      "text/plain": [
       "True"
      ]
     },
     "execution_count": 46,
     "metadata": {},
     "output_type": "execute_result"
    }
   ],
   "source": [
    "e = \"2345\"\n",
    "e.isnumeric()"
   ]
  },
  {
   "cell_type": "code",
   "execution_count": 47,
   "id": "e96994a2",
   "metadata": {},
   "outputs": [
    {
     "data": {
      "text/plain": [
       "True"
      ]
     },
     "execution_count": 47,
     "metadata": {},
     "output_type": "execute_result"
    }
   ],
   "source": [
    "e.isdigit()"
   ]
  },
  {
   "cell_type": "code",
   "execution_count": 48,
   "id": "ecae6ace",
   "metadata": {},
   "outputs": [
    {
     "data": {
      "text/plain": [
       "True"
      ]
     },
     "execution_count": 48,
     "metadata": {},
     "output_type": "execute_result"
    }
   ],
   "source": [
    "e.startswith(\"2\")"
   ]
  },
  {
   "cell_type": "code",
   "execution_count": 49,
   "id": "486d3de9",
   "metadata": {},
   "outputs": [
    {
     "data": {
      "text/plain": [
       "True"
      ]
     },
     "execution_count": 49,
     "metadata": {},
     "output_type": "execute_result"
    }
   ],
   "source": [
    "b.endswith('ems')"
   ]
  },
  {
   "cell_type": "code",
   "execution_count": 50,
   "id": "fba93992",
   "metadata": {},
   "outputs": [],
   "source": [
    "f = b.title()"
   ]
  },
  {
   "cell_type": "code",
   "execution_count": 51,
   "id": "a4b5bb0a",
   "metadata": {},
   "outputs": [
    {
     "data": {
      "text/plain": [
       "'I Am Working With A Lot Of Difficult Problems'"
      ]
     },
     "execution_count": 51,
     "metadata": {},
     "output_type": "execute_result"
    }
   ],
   "source": [
    "f"
   ]
  },
  {
   "cell_type": "code",
   "execution_count": 52,
   "id": "d1d451ce",
   "metadata": {},
   "outputs": [
    {
     "data": {
      "text/plain": [
       "True"
      ]
     },
     "execution_count": 52,
     "metadata": {},
     "output_type": "execute_result"
    }
   ],
   "source": [
    "f.istitle()"
   ]
  },
  {
   "cell_type": "code",
   "execution_count": 53,
   "id": "ab5917c3",
   "metadata": {},
   "outputs": [
    {
     "data": {
      "text/plain": [
       "False"
      ]
     },
     "execution_count": 53,
     "metadata": {},
     "output_type": "execute_result"
    }
   ],
   "source": [
    "g = 'FAULT '\n",
    "g.isalpha()"
   ]
  },
  {
   "cell_type": "code",
   "execution_count": 54,
   "id": "2701d06a",
   "metadata": {},
   "outputs": [
    {
     "data": {
      "text/plain": [
       "b'I am working with a lot of difficult problems'"
      ]
     },
     "execution_count": 54,
     "metadata": {},
     "output_type": "execute_result"
    }
   ],
   "source": [
    "b.encode()"
   ]
  },
  {
   "cell_type": "code",
   "execution_count": 55,
   "id": "2ff7afc1",
   "metadata": {},
   "outputs": [],
   "source": [
    "list1 = [\"Kashyap\" , \"Kushagra\" , 873864 , 5+6j]"
   ]
  },
  {
   "cell_type": "code",
   "execution_count": 56,
   "id": "acd70354",
   "metadata": {},
   "outputs": [
    {
     "data": {
      "text/plain": [
       "list"
      ]
     },
     "execution_count": 56,
     "metadata": {},
     "output_type": "execute_result"
    }
   ],
   "source": [
    "type(list1)"
   ]
  },
  {
   "cell_type": "code",
   "execution_count": 57,
   "id": "2cfb43f7",
   "metadata": {},
   "outputs": [
    {
     "data": {
      "text/plain": [
       "['Kushagra', 873864]"
      ]
     },
     "execution_count": 57,
     "metadata": {},
     "output_type": "execute_result"
    }
   ],
   "source": [
    "list1[1:3]"
   ]
  },
  {
   "cell_type": "code",
   "execution_count": 58,
   "id": "ddf6d80f",
   "metadata": {},
   "outputs": [
    {
     "data": {
      "text/plain": [
       "[(5+6j)]"
      ]
     },
     "execution_count": 58,
     "metadata": {},
     "output_type": "execute_result"
    }
   ],
   "source": [
    "list1[-1:10]"
   ]
  },
  {
   "cell_type": "code",
   "execution_count": 59,
   "id": "eeedf4b5",
   "metadata": {},
   "outputs": [
    {
     "data": {
      "text/plain": [
       "'s'"
      ]
     },
     "execution_count": 59,
     "metadata": {},
     "output_type": "execute_result"
    }
   ],
   "source": [
    "list1[0][2]"
   ]
  },
  {
   "cell_type": "code",
   "execution_count": 60,
   "id": "e83893a8",
   "metadata": {},
   "outputs": [
    {
     "data": {
      "text/plain": [
       "5.0"
      ]
     },
     "execution_count": 60,
     "metadata": {},
     "output_type": "execute_result"
    }
   ],
   "source": [
    "list1[3].real"
   ]
  },
  {
   "cell_type": "code",
   "execution_count": 61,
   "id": "a8d7b098",
   "metadata": {},
   "outputs": [
    {
     "data": {
      "text/plain": [
       "6.0"
      ]
     },
     "execution_count": 61,
     "metadata": {},
     "output_type": "execute_result"
    }
   ],
   "source": [
    "list1[3].imag"
   ]
  },
  {
   "cell_type": "code",
   "execution_count": 62,
   "id": "39d31ef8",
   "metadata": {},
   "outputs": [
    {
     "data": {
      "text/plain": [
       "False"
      ]
     },
     "execution_count": 62,
     "metadata": {},
     "output_type": "execute_result"
    }
   ],
   "source": [
    "list1[1].isdigit()"
   ]
  },
  {
   "cell_type": "code",
   "execution_count": 63,
   "id": "57b6ad5a",
   "metadata": {},
   "outputs": [],
   "source": [
    "l1 = [\"kash\" , \"kush\" , 50+9j]\n",
    "l2 = [\"hi\" , \"how\" , 5083.07]"
   ]
  },
  {
   "cell_type": "code",
   "execution_count": 64,
   "id": "239785a8",
   "metadata": {},
   "outputs": [
    {
     "data": {
      "text/plain": [
       "['kash', 'kush', (50+9j), 'hi', 'how', 5083.07]"
      ]
     },
     "execution_count": 64,
     "metadata": {},
     "output_type": "execute_result"
    }
   ],
   "source": [
    "l1+l2"
   ]
  },
  {
   "cell_type": "code",
   "execution_count": 65,
   "id": "5e01c361",
   "metadata": {},
   "outputs": [
    {
     "data": {
      "text/plain": [
       "['kash', 'kush', (50+9j), 'this becloes a list']"
      ]
     },
     "execution_count": 65,
     "metadata": {},
     "output_type": "execute_result"
    }
   ],
   "source": [
    "l1 + [\"this becloes a list\"]"
   ]
  },
  {
   "cell_type": "code",
   "execution_count": 66,
   "id": "e1c152d1",
   "metadata": {},
   "outputs": [
    {
     "data": {
      "text/plain": [
       "['kash',\n",
       " 'kush',\n",
       " (50+9j),\n",
       " 'kash',\n",
       " 'kush',\n",
       " (50+9j),\n",
       " 'hi',\n",
       " 'how',\n",
       " 5083.07,\n",
       " 'hi',\n",
       " 'how',\n",
       " 5083.07,\n",
       " 'hi',\n",
       " 'how',\n",
       " 5083.07]"
      ]
     },
     "execution_count": 66,
     "metadata": {},
     "output_type": "execute_result"
    }
   ],
   "source": [
    "l1*2+l2*3"
   ]
  },
  {
   "cell_type": "code",
   "execution_count": 67,
   "id": "8ece91ab",
   "metadata": {},
   "outputs": [
    {
     "data": {
      "text/plain": [
       "['replaces the oblect', 'kush', (50+9j)]"
      ]
     },
     "execution_count": 67,
     "metadata": {},
     "output_type": "execute_result"
    }
   ],
   "source": [
    "l1[0] = \"replaces the oblect\" # list is a mutatable element\n",
    "l1 # string is a unmutatable element"
   ]
  },
  {
   "cell_type": "code",
   "execution_count": 68,
   "id": "a0ad05eb",
   "metadata": {},
   "outputs": [
    {
     "data": {
      "text/plain": [
       "['replaces the oblect', 'kush', (50+9j)]"
      ]
     },
     "execution_count": 68,
     "metadata": {},
     "output_type": "execute_result"
    }
   ],
   "source": [
    "l1"
   ]
  },
  {
   "cell_type": "code",
   "execution_count": 69,
   "id": "2be7d155",
   "metadata": {},
   "outputs": [
    {
     "data": {
      "text/plain": [
       "'dush'"
      ]
     },
     "execution_count": 69,
     "metadata": {},
     "output_type": "execute_result"
    }
   ],
   "source": [
    "l1[1].replace('k', 'd')"
   ]
  },
  {
   "cell_type": "code",
   "execution_count": 70,
   "id": "24c46d23",
   "metadata": {},
   "outputs": [
    {
     "data": {
      "text/plain": [
       "['replaces the oblect', 'kush', (50+9j)]"
      ]
     },
     "execution_count": 70,
     "metadata": {},
     "output_type": "execute_result"
    }
   ],
   "source": [
    "l1"
   ]
  },
  {
   "cell_type": "code",
   "execution_count": 71,
   "id": "fac9c67c",
   "metadata": {},
   "outputs": [
    {
     "data": {
      "text/plain": [
       "3"
      ]
     },
     "execution_count": 71,
     "metadata": {},
     "output_type": "execute_result"
    }
   ],
   "source": [
    "len(l1)"
   ]
  },
  {
   "cell_type": "code",
   "execution_count": 72,
   "id": "cd7e7a15",
   "metadata": {},
   "outputs": [
    {
     "data": {
      "text/plain": [
       "True"
      ]
     },
     "execution_count": 72,
     "metadata": {},
     "output_type": "execute_result"
    }
   ],
   "source": [
    "\"kush\" in l1"
   ]
  },
  {
   "cell_type": "code",
   "execution_count": 73,
   "id": "89a88657",
   "metadata": {},
   "outputs": [
    {
     "data": {
      "text/plain": [
       "False"
      ]
     },
     "execution_count": 73,
     "metadata": {},
     "output_type": "execute_result"
    }
   ],
   "source": [
    "5 in l1"
   ]
  },
  {
   "cell_type": "code",
   "execution_count": 74,
   "id": "190ace54",
   "metadata": {},
   "outputs": [],
   "source": [
    "l2.append('kush') # Append will add emelemt at last"
   ]
  },
  {
   "cell_type": "code",
   "execution_count": 75,
   "id": "ea220c73",
   "metadata": {},
   "outputs": [
    {
     "data": {
      "text/plain": [
       "['hi', 'how', 5083.07, 'kush']"
      ]
     },
     "execution_count": 75,
     "metadata": {},
     "output_type": "execute_result"
    }
   ],
   "source": [
    "l2"
   ]
  },
  {
   "cell_type": "code",
   "execution_count": 76,
   "id": "67f98c5a",
   "metadata": {},
   "outputs": [
    {
     "data": {
      "text/plain": [
       "'kush'"
      ]
     },
     "execution_count": 76,
     "metadata": {},
     "output_type": "execute_result"
    }
   ],
   "source": [
    "l2.pop() # Will remove the last element (-1) by default"
   ]
  },
  {
   "cell_type": "code",
   "execution_count": 77,
   "id": "8cfd0ceb",
   "metadata": {},
   "outputs": [
    {
     "data": {
      "text/plain": [
       "5083.07"
      ]
     },
     "execution_count": 77,
     "metadata": {},
     "output_type": "execute_result"
    }
   ],
   "source": [
    "l2.pop(2) # will remove the 2nd element"
   ]
  },
  {
   "cell_type": "code",
   "execution_count": 80,
   "id": "c27d7c87",
   "metadata": {},
   "outputs": [
    {
     "data": {
      "text/plain": [
       "(50+9j)"
      ]
     },
     "execution_count": 80,
     "metadata": {},
     "output_type": "execute_result"
    }
   ],
   "source": [
    "l1.pop(2)"
   ]
  },
  {
   "cell_type": "code",
   "execution_count": 81,
   "id": "564d777c",
   "metadata": {},
   "outputs": [
    {
     "data": {
      "text/plain": [
       "['replaces the oblect', 'kush']"
      ]
     },
     "execution_count": 81,
     "metadata": {},
     "output_type": "execute_result"
    }
   ],
   "source": [
    "l1"
   ]
  },
  {
   "cell_type": "code",
   "execution_count": 83,
   "id": "12c1d93b",
   "metadata": {},
   "outputs": [],
   "source": [
    "l1.insert(1,'hi') # incert() function can add objects inside a list. "
   ]
  },
  {
   "cell_type": "code",
   "execution_count": 84,
   "id": "4d695823",
   "metadata": {},
   "outputs": [
    {
     "data": {
      "text/plain": [
       "['replaces the oblect', 'hi', 'kush']"
      ]
     },
     "execution_count": 84,
     "metadata": {},
     "output_type": "execute_result"
    }
   ],
   "source": [
    "l1"
   ]
  },
  {
   "cell_type": "code",
   "execution_count": 86,
   "id": "3903e034",
   "metadata": {},
   "outputs": [],
   "source": [
    "# we can also add list inside a list\n",
    "l1.insert(2,[2,'mou',56+8j,86])"
   ]
  },
  {
   "cell_type": "code",
   "execution_count": 87,
   "id": "d04aa2e8",
   "metadata": {},
   "outputs": [
    {
     "data": {
      "text/plain": [
       "['replaces the oblect', 'hi', [2, 'mou', (56+8j), 86], 'kush']"
      ]
     },
     "execution_count": 87,
     "metadata": {},
     "output_type": "execute_result"
    }
   ],
   "source": [
    "l1"
   ]
  },
  {
   "cell_type": "code",
   "execution_count": 88,
   "id": "8c132065",
   "metadata": {},
   "outputs": [
    {
     "data": {
      "text/plain": [
       "['kush', [2, 'mou', (56+8j), 86], 'hi', 'replaces the oblect']"
      ]
     },
     "execution_count": 88,
     "metadata": {},
     "output_type": "execute_result"
    }
   ],
   "source": [
    "# We cann reverse the list by reverse() function\n",
    "\n",
    "l1[::-1]"
   ]
  },
  {
   "cell_type": "code",
   "execution_count": 90,
   "id": "f3460c97",
   "metadata": {},
   "outputs": [
    {
     "data": {
      "text/plain": [
       "['replaces the oblect', 'hi', [2, 'mou', (56+8j), 86], 'kush']"
      ]
     },
     "execution_count": 90,
     "metadata": {},
     "output_type": "execute_result"
    }
   ],
   "source": [
    "l1.reverse()\n",
    "l1"
   ]
  },
  {
   "cell_type": "code",
   "execution_count": 91,
   "id": "3be1d307",
   "metadata": {},
   "outputs": [
    {
     "data": {
      "text/plain": [
       "'u'"
      ]
     },
     "execution_count": 91,
     "metadata": {},
     "output_type": "execute_result"
    }
   ],
   "source": [
    "l1[2][1][2]"
   ]
  },
  {
   "cell_type": "code",
   "execution_count": 92,
   "id": "a67c9af8",
   "metadata": {},
   "outputs": [
    {
     "data": {
      "text/plain": [
       "1"
      ]
     },
     "execution_count": 92,
     "metadata": {},
     "output_type": "execute_result"
    }
   ],
   "source": [
    "l1.count('hi')"
   ]
  },
  {
   "cell_type": "code",
   "execution_count": 96,
   "id": "09250b97",
   "metadata": {},
   "outputs": [],
   "source": [
    "l1.extend([8,8+5j,'kash', '@'])\n",
    "# extend() function will add the list data given inside the given list as a psrt of that list. \n",
    "#instread of creating it as a separate list\n",
    "# example below"
   ]
  },
  {
   "cell_type": "code",
   "execution_count": 97,
   "id": "e53fe2d7",
   "metadata": {},
   "outputs": [
    {
     "data": {
      "text/plain": [
       "['replaces the oblect',\n",
       " 'hi',\n",
       " [2, 'mou', (56+8j), 86],\n",
       " 'kush',\n",
       " 8,\n",
       " (8+5j),\n",
       " 'kash',\n",
       " '@',\n",
       " 8,\n",
       " (8+5j),\n",
       " 'kash',\n",
       " '@']"
      ]
     },
     "execution_count": 97,
     "metadata": {},
     "output_type": "execute_result"
    }
   ],
   "source": [
    "l1"
   ]
  },
  {
   "cell_type": "code",
   "execution_count": 99,
   "id": "d676a028",
   "metadata": {},
   "outputs": [
    {
     "data": {
      "text/plain": [
       "['hi', 'how', 's', 'k', 'a', 'l', 's']"
      ]
     },
     "execution_count": 99,
     "metadata": {},
     "output_type": "execute_result"
    }
   ],
   "source": [
    "l2.extend('skals')  # extend function will not add int elements\n",
    "# but it will add string element as separate entities of the list\n",
    "l2"
   ]
  },
  {
   "cell_type": "code",
   "execution_count": null,
   "id": "c9a28537",
   "metadata": {},
   "outputs": [],
   "source": []
  }
 ],
 "metadata": {
  "kernelspec": {
   "display_name": "Python 3 (ipykernel)",
   "language": "python",
   "name": "python3"
  },
  "language_info": {
   "codemirror_mode": {
    "name": "ipython",
    "version": 3
   },
   "file_extension": ".py",
   "mimetype": "text/x-python",
   "name": "python",
   "nbconvert_exporter": "python",
   "pygments_lexer": "ipython3",
   "version": "3.9.13"
  }
 },
 "nbformat": 4,
 "nbformat_minor": 5
}

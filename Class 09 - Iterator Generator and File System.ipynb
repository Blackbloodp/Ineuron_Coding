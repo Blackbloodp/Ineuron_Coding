{
 "cells": [
  {
   "cell_type": "code",
   "execution_count": 1,
   "id": "b9f2ef4c",
   "metadata": {},
   "outputs": [
    {
     "ename": "TypeError",
     "evalue": "'list' object is not an iterator",
     "output_type": "error",
     "traceback": [
      "\u001b[1;31m---------------------------------------------------------------------------\u001b[0m",
      "\u001b[1;31mTypeError\u001b[0m                                 Traceback (most recent call last)",
      "Cell \u001b[1;32mIn[1], line 2\u001b[0m\n\u001b[0;32m      1\u001b[0m l \u001b[38;5;241m=\u001b[39m [\u001b[38;5;241m1\u001b[39m,\u001b[38;5;241m2\u001b[39m,\u001b[38;5;241m3\u001b[39m,\u001b[38;5;241m4\u001b[39m,\u001b[38;5;241m5\u001b[39m]\n\u001b[1;32m----> 2\u001b[0m \u001b[38;5;28;43mnext\u001b[39;49m\u001b[43m(\u001b[49m\u001b[43ml\u001b[49m\u001b[43m)\u001b[49m\n",
      "\u001b[1;31mTypeError\u001b[0m: 'list' object is not an iterator"
     ]
    }
   ],
   "source": [
    "l = [1,2,3,4,5]\n",
    "next(l)"
   ]
  },
  {
   "cell_type": "code",
   "execution_count": 3,
   "id": "3105168f",
   "metadata": {},
   "outputs": [
    {
     "data": {
      "text/plain": [
       "1"
      ]
     },
     "execution_count": 3,
     "metadata": {},
     "output_type": "execute_result"
    }
   ],
   "source": [
    "l1 = iter(l)\n",
    "next(l1)"
   ]
  },
  {
   "cell_type": "code",
   "execution_count": 4,
   "id": "b882a2cc",
   "metadata": {},
   "outputs": [
    {
     "data": {
      "text/plain": [
       "2"
      ]
     },
     "execution_count": 4,
     "metadata": {},
     "output_type": "execute_result"
    }
   ],
   "source": [
    "next(l1)"
   ]
  },
  {
   "cell_type": "code",
   "execution_count": 5,
   "id": "30c0c888",
   "metadata": {},
   "outputs": [
    {
     "data": {
      "text/plain": [
       "3"
      ]
     },
     "execution_count": 5,
     "metadata": {},
     "output_type": "execute_result"
    }
   ],
   "source": [
    "next(l1)"
   ]
  },
  {
   "cell_type": "code",
   "execution_count": 6,
   "id": "04921cb7",
   "metadata": {},
   "outputs": [
    {
     "data": {
      "text/plain": [
       "4"
      ]
     },
     "execution_count": 6,
     "metadata": {},
     "output_type": "execute_result"
    }
   ],
   "source": [
    "# Next function does not have any limt to stop. \n",
    "next(l1)"
   ]
  },
  {
   "cell_type": "code",
   "execution_count": 7,
   "id": "b07bd322",
   "metadata": {},
   "outputs": [
    {
     "data": {
      "text/plain": [
       "5"
      ]
     },
     "execution_count": 7,
     "metadata": {},
     "output_type": "execute_result"
    }
   ],
   "source": [
    "next(l1)"
   ]
  },
  {
   "cell_type": "code",
   "execution_count": 8,
   "id": "5ccacb8a",
   "metadata": {},
   "outputs": [
    {
     "ename": "StopIteration",
     "evalue": "",
     "output_type": "error",
     "traceback": [
      "\u001b[1;31m---------------------------------------------------------------------------\u001b[0m",
      "\u001b[1;31mStopIteration\u001b[0m                             Traceback (most recent call last)",
      "Cell \u001b[1;32mIn[8], line 1\u001b[0m\n\u001b[1;32m----> 1\u001b[0m \u001b[38;5;28;43mnext\u001b[39;49m\u001b[43m(\u001b[49m\u001b[43ml1\u001b[49m\u001b[43m)\u001b[49m\n",
      "\u001b[1;31mStopIteration\u001b[0m: "
     ]
    }
   ],
   "source": [
    "next(l1)\n",
    "\n",
    "# StopIteration: \n",
    "# This will come in the end of the iterator object"
   ]
  },
  {
   "cell_type": "code",
   "execution_count": 9,
   "id": "024b97a1",
   "metadata": {},
   "outputs": [],
   "source": [
    "# So For loop works with he iter() and the next() function inside"
   ]
  },
  {
   "cell_type": "code",
   "execution_count": 10,
   "id": "6d7d8b64",
   "metadata": {},
   "outputs": [],
   "source": [
    "r = range(6)\n",
    "# same for range() and Tuples etc as well"
   ]
  },
  {
   "cell_type": "code",
   "execution_count": 11,
   "id": "f81946c2",
   "metadata": {},
   "outputs": [],
   "source": [
    "r = iter(r)"
   ]
  },
  {
   "cell_type": "code",
   "execution_count": 12,
   "id": "237a3c27",
   "metadata": {},
   "outputs": [
    {
     "data": {
      "text/plain": [
       "0"
      ]
     },
     "execution_count": 12,
     "metadata": {},
     "output_type": "execute_result"
    }
   ],
   "source": [
    "next(r)"
   ]
  },
  {
   "cell_type": "markdown",
   "id": "ab5d1e22",
   "metadata": {},
   "source": [
    "# Generator"
   ]
  },
  {
   "cell_type": "code",
   "execution_count": null,
   "id": "b3dbf5d4",
   "metadata": {},
   "outputs": [],
   "source": [
    "\"\"\"\n",
    "Grnerator is an object which allowes you\n",
    "to hold an information/data about a previous data set that we have generated\n",
    "and a logic for generating the previous data set\n",
    "So that we can generate nex set of data/information\n",
    "\"\"\""
   ]
  },
  {
   "cell_type": "code",
   "execution_count": 16,
   "id": "b097b04c",
   "metadata": {},
   "outputs": [
    {
     "data": {
      "text/plain": [
       "[0, 3, 6, 9, 12, 15, 18, 21, 24, 27, 30, 33, 36, 39, 42]"
      ]
     },
     "execution_count": 16,
     "metadata": {},
     "output_type": "execute_result"
    }
   ],
   "source": [
    "list(range(0,45,3))\n",
    "# example of generating a data set"
   ]
  },
  {
   "cell_type": "code",
   "execution_count": null,
   "id": "d2f28998",
   "metadata": {},
   "outputs": [],
   "source": [
    "\"\"\"\n",
    "Generator does not remember wthat the data we have generated before\n",
    "nor it uses that information to generate the next set of data\n",
    "because for a very large data set \n",
    "the computing power required will be very high\n",
    "\n",
    "So, Generator stores the logic of how that data was generated \n",
    "and uses that to generate the next set\n",
    "\"\"\""
   ]
  },
  {
   "cell_type": "code",
   "execution_count": 9,
   "id": "16e9b49e",
   "metadata": {},
   "outputs": [],
   "source": [
    "# To generate a cube\n",
    "\n",
    "def gencube(n):\n",
    "    l = []\n",
    "    for i in range(n):\n",
    "        l.append(i**3)\n",
    "    return l"
   ]
  },
  {
   "cell_type": "code",
   "execution_count": 25,
   "id": "3b90092a",
   "metadata": {},
   "outputs": [
    {
     "data": {
      "text/plain": [
       "[0, 1, 8, 27, 64, 125]"
      ]
     },
     "execution_count": 25,
     "metadata": {},
     "output_type": "execute_result"
    }
   ],
   "source": [
    "gencube(6)"
   ]
  },
  {
   "cell_type": "code",
   "execution_count": null,
   "id": "c7e43db1",
   "metadata": {},
   "outputs": [],
   "source": [
    "\"\"\"\n",
    "If we give a big number in case of n\n",
    "then Python takes a lot of time and memory to give results\n",
    "to avoide that. we need to use Yield function\n",
    "\n",
    "yield keyword will help the code to generate one 1 thing at a time\n",
    "rather then remembering all things together and then giving an output.\n",
    "It Gives the output and then goes for the next set\n",
    "\"\"\""
   ]
  },
  {
   "cell_type": "code",
   "execution_count": 11,
   "id": "ed962150",
   "metadata": {},
   "outputs": [],
   "source": [
    "def gencube1(n):\n",
    "    for i in range(n):\n",
    "        yield i**3\n",
    "\n",
    "# Note that the yield statment has replaced the return statment"
   ]
  },
  {
   "cell_type": "code",
   "execution_count": 12,
   "id": "8daa3f3b",
   "metadata": {},
   "outputs": [
    {
     "data": {
      "text/plain": [
       "<generator object gencube1 at 0x000001959C151A40>"
      ]
     },
     "execution_count": 12,
     "metadata": {},
     "output_type": "execute_result"
    }
   ],
   "source": [
    "gencube1(100)"
   ]
  },
  {
   "cell_type": "code",
   "execution_count": null,
   "id": "9b3a32c8",
   "metadata": {},
   "outputs": [],
   "source": [
    "\"\"\"\n",
    "From the above example you can see that we have created a range() function like function\n",
    "Now sae way we have to run this function in a loop for each output\n",
    "\"\"\""
   ]
  },
  {
   "cell_type": "code",
   "execution_count": 24,
   "id": "bdbfb433",
   "metadata": {},
   "outputs": [
    {
     "name": "stdout",
     "output_type": "stream",
     "text": [
      "0\n",
      "1\n",
      "8\n",
      "27\n",
      "64\n",
      "125\n",
      "216\n",
      "343\n",
      "512\n"
     ]
    }
   ],
   "source": [
    "for i in gencube1(9):\n",
    "    print(i)"
   ]
  },
  {
   "cell_type": "code",
   "execution_count": 20,
   "id": "2c596eac",
   "metadata": {},
   "outputs": [],
   "source": [
    "\"\"\"\n",
    "The yield operator/keyword made the program a generator \n",
    "That remembers only 1 think at a time. \n",
    "\n",
    "yield remembers few things\n",
    "1. What was the last element of the data \n",
    "2. Logic behind the data generation\n",
    "3. And where to stop\n",
    "\"\"\""
   ]
  },
  {
   "cell_type": "code",
   "execution_count": 26,
   "id": "d203fd87",
   "metadata": {},
   "outputs": [],
   "source": [
    "def fib(n):\n",
    "    a = 0\n",
    "    b = 1\n",
    "    for i in range(n):\n",
    "        yield a\n",
    "        a,b = b, a+b"
   ]
  },
  {
   "cell_type": "code",
   "execution_count": 28,
   "id": "821f6ae0",
   "metadata": {},
   "outputs": [
    {
     "name": "stdout",
     "output_type": "stream",
     "text": [
      "0\n",
      "1\n",
      "1\n",
      "2\n",
      "3\n",
      "5\n",
      "8\n",
      "13\n",
      "21\n",
      "34\n",
      "55\n",
      "89\n"
     ]
    }
   ],
   "source": [
    "for i in fib(12):\n",
    "    print(i)"
   ]
  },
  {
   "cell_type": "code",
   "execution_count": 29,
   "id": "3ae718ea",
   "metadata": {},
   "outputs": [
    {
     "data": {
      "text/plain": [
       "<generator object fib at 0x000001959C1E8B80>"
      ]
     },
     "execution_count": 29,
     "metadata": {},
     "output_type": "execute_result"
    }
   ],
   "source": [
    "t = fib(12)\n",
    "t\n",
    "# we are not able to print the function/generator"
   ]
  },
  {
   "cell_type": "code",
   "execution_count": 30,
   "id": "d9895855",
   "metadata": {},
   "outputs": [
    {
     "name": "stdout",
     "output_type": "stream",
     "text": [
      "<generator object fib at 0x000001959BBC3B50>\n"
     ]
    }
   ],
   "source": [
    "print(fib(12))"
   ]
  },
  {
   "cell_type": "markdown",
   "id": "f697767a",
   "metadata": {},
   "source": [
    "# File System (Basic)"
   ]
  },
  {
   "cell_type": "code",
   "execution_count": 31,
   "id": "e6b4c542",
   "metadata": {},
   "outputs": [],
   "source": [
    "# Whatever out comes generally is stored in this Python file only\n",
    "# Not to store it outside of the python file\n",
    "# We use the File System where the output can be from Python to different files types"
   ]
  },
  {
   "cell_type": "code",
   "execution_count": 41,
   "id": "986bbb62",
   "metadata": {},
   "outputs": [],
   "source": [
    "\"\"\"\n",
    "Open() is a comand to create a new file\n",
    "\"\"\"\n",
    "f = open(\"test.txt\",\"w\")"
   ]
  },
  {
   "cell_type": "code",
   "execution_count": null,
   "id": "a901ced9",
   "metadata": {},
   "outputs": [],
   "source": [
    "\"\"\"\n",
    "Signature:\n",
    "open(\n",
    "    file,\n",
    "    mode='r',\n",
    "    buffering=-1,\n",
    "    encoding=None,\n",
    "    errors=None,\n",
    "    newline=None,\n",
    "    closefd=True,\n",
    "    opener=None,\n",
    ")\n",
    "\n",
    "Docstring:\n",
    "Open file and return a stream.  Raise OSError upon failure.\n",
    "\n",
    "file is either a text or byte string giving the name (and the path\n",
    "if the file isn't in the current working directory) of the file to\n",
    "be opened or an integer file descriptor of the file to be\n",
    "wrapped. (If a file descriptor is given, it is closed when the\n",
    "returned I/O object is closed, unless closefd is set to False.)\n",
    "\n",
    "mode is an optional string that specifies the mode in which the file\n",
    "is opened. It defaults to 'r' which means open for reading in text\n",
    "mode.  Other common values are 'w' for writing (truncating the file if\n",
    "it already exists), 'x' for creating and writing to a new file, and\n",
    "'a' for appending (which on some Unix systems, means that all writes\n",
    "append to the end of the file regardless of the current seek position).\n",
    "In text mode, if encoding is not specified the encoding used is platform\n",
    "dependent: locale.getencoding() is called to get the current locale encoding.\n",
    "(For reading and writing raw bytes use binary mode and leave encoding\n",
    "unspecified.) The available modes are:\n",
    "\n",
    "========= ===============================================================\n",
    "Character Meaning\n",
    "--------- ---------------------------------------------------------------\n",
    "'r'       open for reading (default)\n",
    "'w'       open for writing, truncating the file first\n",
    "'x'       create a new file and open it for writing\n",
    "'a'       open for writing, appending to the end of the file if it exists\n",
    "'b'       binary mode\n",
    "'t'       text mode (default)\n",
    "'+'       open a disk file for updating (reading and writing)\n",
    "========= ===============================================================\n",
    "\n",
    "The default mode is 'rt' (open for reading text). For binary random\n",
    "access, the mode 'w+b' opens and truncates the file to 0 bytes, while\n",
    "'r+b' opens the file without truncation. The 'x' mode implies 'w' and\n",
    "raises an `FileExistsError` if the file already exists.\n",
    "\n",
    "Python distinguishes between files opened in binary and text modes,\n",
    "even when the underlying operating system doesn't. Files opened in\n",
    "binary mode (appending 'b' to the mode argument) return contents as\n",
    "bytes objects without any decoding. In text mode (the default, or when\n",
    "'t' is appended to the mode argument), the contents of the file are\n",
    "returned as strings, the bytes having been first decoded using a\n",
    "platform-dependent encoding or using the specified encoding if given.\n",
    "\n",
    "buffering is an optional integer used to set the buffering policy.\n",
    "Pass 0 to switch buffering off (only allowed in binary mode), 1 to select\n",
    "line buffering (only usable in text mode), and an integer > 1 to indicate\n",
    "the size of a fixed-size chunk buffer.  When no buffering argument is\n",
    "given, the default buffering policy works as follows:\n",
    "\n",
    "* Binary files are buffered in fixed-size chunks; the size of the buffer\n",
    "  is chosen using a heuristic trying to determine the underlying device's\n",
    "  \"block size\" and falling back on `io.DEFAULT_BUFFER_SIZE`.\n",
    "  On many systems, the buffer will typically be 4096 or 8192 bytes long.\n",
    "\n",
    "* \"Interactive\" text files (files for which isatty() returns True)\n",
    "  use line buffering.  Other text files use the policy described above\n",
    "  for binary files.\n",
    "\n",
    "encoding is the name of the encoding used to decode or encode the\n",
    "file. This should only be used in text mode. The default encoding is\n",
    "platform dependent, but any encoding supported by Python can be\n",
    "passed.  See the codecs module for the list of supported encodings.\n",
    "\n",
    "errors is an optional string that specifies how encoding errors are to\n",
    "be handled---this argument should not be used in binary mode. Pass\n",
    "'strict' to raise a ValueError exception if there is an encoding error\n",
    "(the default of None has the same effect), or pass 'ignore' to ignore\n",
    "errors. (Note that ignoring encoding errors can lead to data loss.)\n",
    "See the documentation for codecs.register or run 'help(codecs.Codec)'\n",
    "for a list of the permitted encoding error strings.\n",
    "\n",
    "newline controls how universal newlines works (it only applies to text\n",
    "mode). It can be None, '', '\\n', '\\r', and '\\r\\n'.  It works as\n",
    "follows:\n",
    "\n",
    "* On input, if newline is None, universal newlines mode is\n",
    "  enabled. Lines in the input can end in '\\n', '\\r', or '\\r\\n', and\n",
    "  these are translated into '\\n' before being returned to the\n",
    "  caller. If it is '', universal newline mode is enabled, but line\n",
    "  endings are returned to the caller untranslated. If it has any of\n",
    "  the other legal values, input lines are only terminated by the given\n",
    "  string, and the line ending is returned to the caller untranslated.\n",
    "\n",
    "* On output, if newline is None, any '\\n' characters written are\n",
    "  translated to the system default line separator, os.linesep. If\n",
    "  newline is '' or '\\n', no translation takes place. If newline is any\n",
    "  of the other legal values, any '\\n' characters written are translated\n",
    "  to the given string.\n",
    "\n",
    "If closefd is False, the underlying file descriptor will be kept open\n",
    "when the file is closed. This does not work when a file name is given\n",
    "and must be True in that case.\n",
    "\n",
    "A custom opener can be used by passing a callable as *opener*. The\n",
    "underlying file descriptor for the file object is then obtained by\n",
    "calling *opener* with (*file*, *flags*). *opener* must return an open\n",
    "file descriptor (passing os.open as *opener* results in functionality\n",
    "similar to passing None).\n",
    "\n",
    "open() returns a file object whose type depends on the mode, and\n",
    "through which the standard file operations such as reading and writing\n",
    "are performed. When open() is used to open a file in a text mode ('w',\n",
    "'r', 'wt', 'rt', etc.), it returns a TextIOWrapper. When used to open\n",
    "a file in a binary mode, the returned class varies: in read binary\n",
    "mode, it returns a BufferedReader; in write binary and append binary\n",
    "modes, it returns a BufferedWriter, and in read/write mode, it returns\n",
    "a BufferedRandom.\n",
    "\n",
    "It is also possible to use a string or bytearray as a file for both\n",
    "reading and writing. For strings StringIO can be used like a file\n",
    "opened in a text mode, and for bytes a BytesIO can be used like a file\n",
    "opened in a binary mode.\n",
    "Type:      function\n",
    "\"\"\""
   ]
  },
  {
   "cell_type": "code",
   "execution_count": 34,
   "id": "0d7ef09e",
   "metadata": {},
   "outputs": [
    {
     "ename": "NameError",
     "evalue": "name 'pwd' is not defined",
     "output_type": "error",
     "traceback": [
      "\u001b[1;31m---------------------------------------------------------------------------\u001b[0m",
      "\u001b[1;31mNameError\u001b[0m                                 Traceback (most recent call last)",
      "Cell \u001b[1;32mIn[34], line 2\u001b[0m\n\u001b[0;32m      1\u001b[0m \u001b[38;5;66;03m# For present directory\u001b[39;00m\n\u001b[1;32m----> 2\u001b[0m \u001b[43mpwd\u001b[49m()\n",
      "\u001b[1;31mNameError\u001b[0m: name 'pwd' is not defined"
     ]
    }
   ],
   "source": [
    "# For present directory\n",
    "pwd()"
   ]
  },
  {
   "cell_type": "code",
   "execution_count": 59,
   "id": "e7ae87cf",
   "metadata": {},
   "outputs": [
    {
     "name": "stdout",
     "output_type": "stream",
     "text": [
      " Volume in drive C has no label.\n",
      " Volume Serial Number is 6A09-6524\n",
      "\n",
      " Directory of C:\\Users\\win\\Ineuron Classes\n",
      "\n",
      "06-09-2023  21:47    <DIR>          .\n",
      "28-08-2023  23:31    <DIR>          ..\n",
      "05-09-2023  17:27    <DIR>          .ipynb_checkpoints\n",
      "06-12-2022  21:39             5,497 Class 1.ipynb\n",
      "09-12-2022  22:47            24,947 Class 2.ipynb\n",
      "24-12-2022  00:11            35,844 Class 3- Tuple, Set and Dict.ipynb\n",
      "24-12-2022  00:25            18,225 Class 4- If, Else & For loop.ipynb\n",
      "12-03-2023  22:30            17,480 Class 5- For-else and while loop.ipynb\n",
      "11-03-2023  22:51            19,426 Class 6- Loops in details.ipynb\n",
      "12-03-2023  23:55            25,172 Class 7- Functions 1.ipynb\n",
      "19-05-2023  19:21            49,761 Class 8 - Functions 2.ipynb\n",
      "06-09-2023  21:47            23,887 Class 9 - Iterator Generator and File System.ipynb\n",
      "18-03-2023  11:22             5,935 Homework.ipynb\n",
      "27-11-2022  23:27             5,784 Intro.ipynb\n",
      "06-09-2023  21:37                60 test.txt\n",
      "              12 File(s)        232,018 bytes\n",
      "               3 Dir(s)  77,958,336,512 bytes free\n"
     ]
    }
   ],
   "source": [
    "%ls"
   ]
  },
  {
   "cell_type": "code",
   "execution_count": 37,
   "id": "ca6e934c",
   "metadata": {},
   "outputs": [
    {
     "name": "stdout",
     "output_type": "stream",
     "text": [
      "C:\\Users\\win\\Ineuron Classes\n"
     ]
    }
   ],
   "source": [
    "import os\n",
    "print(os.getcwd())"
   ]
  },
  {
   "cell_type": "code",
   "execution_count": 44,
   "id": "16e98901",
   "metadata": {},
   "outputs": [
    {
     "data": {
      "text/plain": [
       "60"
      ]
     },
     "execution_count": 44,
     "metadata": {},
     "output_type": "execute_result"
    }
   ],
   "source": [
    "f.write(\"this is my first file operation to write in my test.txt file\")"
   ]
  },
  {
   "cell_type": "code",
   "execution_count": 46,
   "id": "ff725733",
   "metadata": {},
   "outputs": [],
   "source": [
    "f.close()"
   ]
  },
  {
   "cell_type": "code",
   "execution_count": 50,
   "id": "03ee19eb",
   "metadata": {},
   "outputs": [],
   "source": [
    "f = open(\"test.txt\",\"w\",-1,None,None,\"\\n\")"
   ]
  },
  {
   "cell_type": "code",
   "execution_count": 51,
   "id": "4cef2622",
   "metadata": {},
   "outputs": [
    {
     "data": {
      "text/plain": [
       "60"
      ]
     },
     "execution_count": 51,
     "metadata": {},
     "output_type": "execute_result"
    }
   ],
   "source": [
    "f.write(\"this is my first file operation to write in my test.txt file\")"
   ]
  },
  {
   "cell_type": "code",
   "execution_count": 52,
   "id": "822cf45a",
   "metadata": {},
   "outputs": [],
   "source": [
    "f.close()"
   ]
  },
  {
   "cell_type": "code",
   "execution_count": 57,
   "id": "fd6f3b8b",
   "metadata": {},
   "outputs": [
    {
     "ename": "SyntaxError",
     "evalue": "invalid syntax (3386811901.py, line 3)",
     "output_type": "error",
     "traceback": [
      "\u001b[1;36m  Cell \u001b[1;32mIn[57], line 3\u001b[1;36m\u001b[0m\n\u001b[1;33m    This is another way of storing data in a new file\u001b[0m\n\u001b[1;37m                    ^\u001b[0m\n\u001b[1;31mSyntaxError\u001b[0m\u001b[1;31m:\u001b[0m invalid syntax\n"
     ]
    }
   ],
   "source": [
    "# Another way to create and write a file\n",
    "\n",
    "%%writefile test2.txt\n",
    "This is another way of storing data in a new file"
   ]
  },
  {
   "cell_type": "code",
   "execution_count": 61,
   "id": "fabcbb0d",
   "metadata": {},
   "outputs": [],
   "source": [
    "# For reading a file\n",
    "f = open(\"test.txt\",\"r\")"
   ]
  },
  {
   "cell_type": "code",
   "execution_count": 62,
   "id": "3291cfc6",
   "metadata": {},
   "outputs": [
    {
     "data": {
      "text/plain": [
       "'this is my first file operation to write in my test.txt file'"
      ]
     },
     "execution_count": 62,
     "metadata": {},
     "output_type": "execute_result"
    }
   ],
   "source": [
    "f.read()"
   ]
  },
  {
   "cell_type": "code",
   "execution_count": 63,
   "id": "9d6f8206",
   "metadata": {},
   "outputs": [
    {
     "ename": "UnsupportedOperation",
     "evalue": "not writable",
     "output_type": "error",
     "traceback": [
      "\u001b[1;31m---------------------------------------------------------------------------\u001b[0m",
      "\u001b[1;31mUnsupportedOperation\u001b[0m                      Traceback (most recent call last)",
      "Cell \u001b[1;32mIn[63], line 3\u001b[0m\n\u001b[0;32m      1\u001b[0m \u001b[38;5;66;03m# Once the file is opened in read mode \u001b[39;00m\n\u001b[0;32m      2\u001b[0m \u001b[38;5;66;03m# If we try to write, It will give error\u001b[39;00m\n\u001b[1;32m----> 3\u001b[0m \u001b[43mf\u001b[49m\u001b[38;5;241;43m.\u001b[39;49m\u001b[43mwrite\u001b[49m\u001b[43m(\u001b[49m\u001b[38;5;124;43m\"\u001b[39;49m\u001b[38;5;124;43mksjchd\u001b[39;49m\u001b[38;5;124;43m\"\u001b[39;49m\u001b[43m)\u001b[49m\n",
      "\u001b[1;31mUnsupportedOperation\u001b[0m: not writable"
     ]
    }
   ],
   "source": [
    "# Once the file is opened in read mode \n",
    "# If we try to write, It will give error\n",
    "f.write(\"ksjchd\")"
   ]
  },
  {
   "cell_type": "code",
   "execution_count": 64,
   "id": "82fe867b",
   "metadata": {},
   "outputs": [
    {
     "data": {
      "text/plain": [
       "''"
      ]
     },
     "execution_count": 64,
     "metadata": {},
     "output_type": "execute_result"
    }
   ],
   "source": [
    "# now if we will try to read the data again after reading once\n",
    "# the file will result in blank\n",
    "\n",
    "f.read()\n",
    "\n",
    "# because it is now trying to read the data after the previous data\n",
    "# where there is no data available"
   ]
  },
  {
   "cell_type": "code",
   "execution_count": 67,
   "id": "f8a73215",
   "metadata": {},
   "outputs": [
    {
     "data": {
      "text/plain": [
       "'this is my first file operation to write in my test.txt file'"
      ]
     },
     "execution_count": 67,
     "metadata": {},
     "output_type": "execute_result"
    }
   ],
   "source": [
    "# To read the file once again we need to reset the curser\n",
    "# and set it back again\n",
    "# How to do that is by seek() function\n",
    "f.seek(0) # Cursor is at the starting position\n",
    "f.read()"
   ]
  },
  {
   "cell_type": "code",
   "execution_count": 68,
   "id": "0b01c6fe",
   "metadata": {},
   "outputs": [
    {
     "data": {
      "text/plain": [
       "5"
      ]
     },
     "execution_count": 68,
     "metadata": {},
     "output_type": "execute_result"
    }
   ],
   "source": [
    "f.seek(5)\n",
    "# the curser moved to 5th position"
   ]
  },
  {
   "cell_type": "code",
   "execution_count": 69,
   "id": "f3ca2c13",
   "metadata": {},
   "outputs": [
    {
     "data": {
      "text/plain": [
       "'is my first file operation to write in my test.txt file'"
      ]
     },
     "execution_count": 69,
     "metadata": {},
     "output_type": "execute_result"
    }
   ],
   "source": [
    "f.read()"
   ]
  },
  {
   "cell_type": "code",
   "execution_count": 70,
   "id": "cdcecd87",
   "metadata": {},
   "outputs": [
    {
     "data": {
      "text/plain": [
       "60"
      ]
     },
     "execution_count": 70,
     "metadata": {},
     "output_type": "execute_result"
    }
   ],
   "source": [
    "# To know at what position my cursor is by tell() function\n",
    "f.tell()"
   ]
  },
  {
   "cell_type": "code",
   "execution_count": 71,
   "id": "4cafba9d",
   "metadata": {},
   "outputs": [
    {
     "data": {
      "text/plain": [
       "20"
      ]
     },
     "execution_count": 71,
     "metadata": {},
     "output_type": "execute_result"
    }
   ],
   "source": [
    "f.seek(20)\n",
    "f.tell()"
   ]
  },
  {
   "cell_type": "code",
   "execution_count": 72,
   "id": "fb3256bf",
   "metadata": {},
   "outputs": [],
   "source": [
    "f.close()"
   ]
  },
  {
   "cell_type": "code",
   "execution_count": 2,
   "id": "0cfc09e1",
   "metadata": {},
   "outputs": [],
   "source": [
    "f = open(\"test.txt\",\"r+\")"
   ]
  },
  {
   "cell_type": "code",
   "execution_count": 74,
   "id": "6b5f2d06",
   "metadata": {},
   "outputs": [
    {
     "data": {
      "text/plain": [
       "'this is my first file operation to write in my test.txt file\\nopen() returns a file object whose type depends on the mode, and\\nthrough which the standard file operations such as reading and writing'"
      ]
     },
     "execution_count": 74,
     "metadata": {},
     "output_type": "execute_result"
    }
   ],
   "source": [
    "# Now I have added multiple lines in the text file\n",
    "f.read()"
   ]
  },
  {
   "cell_type": "code",
   "execution_count": 75,
   "id": "8865a428",
   "metadata": {},
   "outputs": [
    {
     "data": {
      "text/plain": [
       "'this is my first file operation to write in my test.txt file\\n'"
      ]
     },
     "execution_count": 75,
     "metadata": {},
     "output_type": "execute_result"
    }
   ],
   "source": [
    "f.seek(0)\n",
    "f.readline()"
   ]
  },
  {
   "cell_type": "code",
   "execution_count": 76,
   "id": "927845bd",
   "metadata": {},
   "outputs": [
    {
     "data": {
      "text/plain": [
       "'o'"
      ]
     },
     "execution_count": 76,
     "metadata": {},
     "output_type": "execute_result"
    }
   ],
   "source": [
    "# readline() function reads the currect line only, not the whole function\n",
    "# It reads the line where the cursor is present\n",
    "f.readline(1)\n",
    "\n",
    "# Here 1 insde the () means read the 1st word of the line"
   ]
  },
  {
   "cell_type": "code",
   "execution_count": 77,
   "id": "08bfdafc",
   "metadata": {},
   "outputs": [
    {
     "data": {
      "text/plain": [
       "'pen() returns a file object whose type depends on the mode, and\\n'"
      ]
     },
     "execution_count": 77,
     "metadata": {},
     "output_type": "execute_result"
    }
   ],
   "source": [
    "f.readline()"
   ]
  },
  {
   "cell_type": "code",
   "execution_count": 1,
   "id": "1467017b",
   "metadata": {},
   "outputs": [
    {
     "name": "stdout",
     "output_type": "stream",
     "text": [
      " Volume in drive C has no label.\n",
      " Volume Serial Number is 6A09-6524\n",
      "\n",
      " Directory of C:\\Users\\win\\Ineuron Classes\n",
      "\n",
      "06-09-2023  22:19    <DIR>          .\n",
      "28-08-2023  23:31    <DIR>          ..\n",
      "05-09-2023  17:27    <DIR>          .ipynb_checkpoints\n",
      "06-12-2022  21:39             5,497 Class 1.ipynb\n",
      "09-12-2022  22:47            24,947 Class 2.ipynb\n",
      "24-12-2022  00:11            35,844 Class 3- Tuple, Set and Dict.ipynb\n",
      "24-12-2022  00:25            18,225 Class 4- If, Else & For loop.ipynb\n",
      "12-03-2023  22:30            17,480 Class 5- For-else and while loop.ipynb\n",
      "11-03-2023  22:51            19,426 Class 6- Loops in details.ipynb\n",
      "12-03-2023  23:55            25,172 Class 7- Functions 1.ipynb\n",
      "19-05-2023  19:21            49,761 Class 8 - Functions 2.ipynb\n",
      "06-09-2023  22:19            30,546 Class 9 - Iterator Generator and File System.ipynb\n",
      "18-03-2023  11:22             5,935 Homework.ipynb\n",
      "27-11-2022  23:27             5,784 Intro.ipynb\n",
      "06-09-2023  22:14               198 test.txt\n",
      "              12 File(s)        238,815 bytes\n",
      "               3 Dir(s)  82,644,369,408 bytes free\n"
     ]
    }
   ],
   "source": [
    "%ls"
   ]
  },
  {
   "cell_type": "code",
   "execution_count": 3,
   "id": "67dcac2f",
   "metadata": {},
   "outputs": [
    {
     "name": "stdout",
     "output_type": "stream",
     "text": [
      "this is my first file operation to write in my test.txt file\n",
      "open() returns a file object whose type depends on the mode, and\n",
      "through which the standard file operations such as reading and writing"
     ]
    }
   ],
   "source": [
    "for line in f:\n",
    "    print(line, end = \"\")\n",
    "\n",
    "# For preperly printing the line by line txt withour \\n\n",
    "# we use the above for loop\n"
   ]
  },
  {
   "cell_type": "code",
   "execution_count": 9,
   "id": "6a94a4e0",
   "metadata": {},
   "outputs": [
    {
     "data": {
      "text/plain": [
       "116"
      ]
     },
     "execution_count": 9,
     "metadata": {},
     "output_type": "execute_result"
    }
   ],
   "source": [
    "# With 'r+' mode can also write content\n",
    "f.write(\"readline function reads the currect line only, not the whole function. It reads the line where the cursor is present\")"
   ]
  },
  {
   "cell_type": "code",
   "execution_count": 10,
   "id": "f4f7984d",
   "metadata": {},
   "outputs": [],
   "source": [
    "f.close()"
   ]
  },
  {
   "cell_type": "code",
   "execution_count": 11,
   "id": "89c587c1",
   "metadata": {},
   "outputs": [],
   "source": [
    "f  = open(\"test.txt\",\"r+\")"
   ]
  },
  {
   "cell_type": "code",
   "execution_count": 12,
   "id": "76b65b40",
   "metadata": {},
   "outputs": [
    {
     "data": {
      "text/plain": [
       "5"
      ]
     },
     "execution_count": 12,
     "metadata": {},
     "output_type": "execute_result"
    }
   ],
   "source": [
    "# Writing after moving the crsor to 5th place\n",
    "f.seek(5)"
   ]
  },
  {
   "cell_type": "code",
   "execution_count": 13,
   "id": "4e459186",
   "metadata": {},
   "outputs": [
    {
     "data": {
      "text/plain": [
       "26"
      ]
     },
     "execution_count": 13,
     "metadata": {},
     "output_type": "execute_result"
    }
   ],
   "source": [
    "f.write(\" This is the 5th location \")"
   ]
  },
  {
   "cell_type": "code",
   "execution_count": 14,
   "id": "f4fba2f1",
   "metadata": {},
   "outputs": [],
   "source": [
    "f.close()"
   ]
  },
  {
   "cell_type": "code",
   "execution_count": 15,
   "id": "72585cad",
   "metadata": {},
   "outputs": [],
   "source": [
    "f  = open(\"test.txt\",\"r+\")"
   ]
  },
  {
   "cell_type": "code",
   "execution_count": 18,
   "id": "365077ea",
   "metadata": {},
   "outputs": [
    {
     "data": {
      "text/plain": [
       "['this  This is the 5th location  to write in my test.txt file\\n',\n",
       " 'open() returns a file object whose type depends on the mode, and\\n',\n",
       " 'through which the standard file operations such as reading and writingreadline function reads the currect line only, not the whole function. It reads the line where the cursor is present']"
      ]
     },
     "execution_count": 18,
     "metadata": {},
     "output_type": "execute_result"
    }
   ],
   "source": [
    "f.seek(0)\n",
    "f.readlines()\n",
    "\n",
    "# read lines function will give a \n",
    "# list of all the characters in a line as 1 single element "
   ]
  },
  {
   "cell_type": "code",
   "execution_count": 19,
   "id": "e8fe4840",
   "metadata": {},
   "outputs": [
    {
     "data": {
      "text/plain": [
       "3"
      ]
     },
     "execution_count": 19,
     "metadata": {},
     "output_type": "execute_result"
    }
   ],
   "source": [
    "f.seek(0)\n",
    "len(f.readlines())"
   ]
  },
  {
   "cell_type": "code",
   "execution_count": 24,
   "id": "a3d2435a",
   "metadata": {},
   "outputs": [
    {
     "data": {
      "text/plain": [
       "['this',\n",
       " 'This',\n",
       " 'is',\n",
       " 'the',\n",
       " '5th',\n",
       " 'location',\n",
       " 'to',\n",
       " 'write',\n",
       " 'in',\n",
       " 'my',\n",
       " 'test.txt',\n",
       " 'file']"
      ]
     },
     "execution_count": 24,
     "metadata": {},
     "output_type": "execute_result"
    }
   ],
   "source": [
    "# Getting list of all the words in the first line\n",
    "f.seek(0)\n",
    "l = f.readlines()\n",
    "l[0].split()\n",
    "\n",
    "# Split will split all the elements by \" \" by default"
   ]
  },
  {
   "cell_type": "code",
   "execution_count": 26,
   "id": "3bf3ff24",
   "metadata": {},
   "outputs": [
    {
     "data": {
      "text/plain": [
       "['t', 'T', 'i', 't', '5', 'l', 't', 'w', 'i', 'm', 't', 'f']"
      ]
     },
     "execution_count": 26,
     "metadata": {},
     "output_type": "execute_result"
    }
   ],
   "source": [
    "l1 = []\n",
    "for i in l[0].split():\n",
    "    l1.append(i[0])\n",
    "    \n",
    "l1"
   ]
  },
  {
   "cell_type": "code",
   "execution_count": 33,
   "id": "896370ea",
   "metadata": {},
   "outputs": [],
   "source": [
    "f  = open(\"test.txt\",\"r+\")"
   ]
  },
  {
   "cell_type": "code",
   "execution_count": 28,
   "id": "811fc9d0",
   "metadata": {},
   "outputs": [
    {
     "data": {
      "text/plain": [
       "'test.txt'"
      ]
     },
     "execution_count": 28,
     "metadata": {},
     "output_type": "execute_result"
    }
   ],
   "source": [
    "f.name"
   ]
  },
  {
   "cell_type": "code",
   "execution_count": 35,
   "id": "ccc8150a",
   "metadata": {},
   "outputs": [],
   "source": [
    "l = [\"Line 1\",\"Line 2\",\"Line3\",\"Line 4\"]"
   ]
  },
  {
   "cell_type": "code",
   "execution_count": 30,
   "id": "aa69b9cc",
   "metadata": {},
   "outputs": [
    {
     "data": {
      "text/plain": [
       "36"
      ]
     },
     "execution_count": 30,
     "metadata": {},
     "output_type": "execute_result"
    }
   ],
   "source": [
    "f.write(\"I can write lines at current cursor \")"
   ]
  },
  {
   "cell_type": "code",
   "execution_count": 31,
   "id": "4f79bdf0",
   "metadata": {},
   "outputs": [],
   "source": [
    "# To write muliple line in the data\n",
    "# We use writelines() command and pass a list through it\n",
    "f.writelines(l)"
   ]
  },
  {
   "cell_type": "code",
   "execution_count": 32,
   "id": "f17a8a08",
   "metadata": {},
   "outputs": [],
   "source": [
    "f.close()"
   ]
  },
  {
   "cell_type": "code",
   "execution_count": 34,
   "id": "ca778ab2",
   "metadata": {},
   "outputs": [
    {
     "data": {
      "text/plain": [
       "'I can write lines at current cursor Line 1line 2Line3Line 4e\\nopen() returns a file object whose type depends on the mode, and\\nthrough which the standard file operations such as reading and writingreadline function reads the currect line only, not the whole function. It reads the line where the cursor is present'"
      ]
     },
     "execution_count": 34,
     "metadata": {},
     "output_type": "execute_result"
    }
   ],
   "source": [
    "f.read()"
   ]
  },
  {
   "cell_type": "code",
   "execution_count": 36,
   "id": "daf117e9",
   "metadata": {},
   "outputs": [],
   "source": [
    "f.writelines(l)"
   ]
  },
  {
   "cell_type": "code",
   "execution_count": 39,
   "id": "23f85394",
   "metadata": {},
   "outputs": [
    {
     "data": {
      "text/plain": [
       "4"
      ]
     },
     "execution_count": 39,
     "metadata": {},
     "output_type": "execute_result"
    }
   ],
   "source": [
    "# to know which number is your file at in current directory\n",
    "# for that we can use fileno() function\n",
    "f.fileno()"
   ]
  },
  {
   "cell_type": "code",
   "execution_count": 38,
   "id": "f26ad9f4",
   "metadata": {},
   "outputs": [
    {
     "name": "stdout",
     "output_type": "stream",
     "text": [
      " Volume in drive C has no label.\n",
      " Volume Serial Number is 6A09-6524\n",
      "\n",
      " Directory of C:\\Users\\win\\Ineuron Classes\n",
      "\n",
      "17-09-2023  02:35    <DIR>          .\n",
      "28-08-2023  23:31    <DIR>          ..\n",
      "05-09-2023  17:27    <DIR>          .ipynb_checkpoints\n",
      "06-12-2022  21:39             5,497 Class 1.ipynb\n",
      "09-12-2022  22:47            24,947 Class 2.ipynb\n",
      "24-12-2022  00:11            35,844 Class 3- Tuple, Set and Dict.ipynb\n",
      "24-12-2022  00:25            18,225 Class 4- If, Else & For loop.ipynb\n",
      "12-03-2023  22:30            17,480 Class 5- For-else and while loop.ipynb\n",
      "11-03-2023  22:51            19,426 Class 6- Loops in details.ipynb\n",
      "12-03-2023  23:55            25,172 Class 7- Functions 1.ipynb\n",
      "19-05-2023  19:21            49,761 Class 8 - Functions 2.ipynb\n",
      "17-09-2023  02:35            39,663 Class 9 - Iterator Generator and File System.ipynb\n",
      "18-03-2023  11:22             5,935 Homework.ipynb\n",
      "27-11-2022  23:27             5,784 Intro.ipynb\n",
      "17-09-2023  02:29               314 test.txt\n",
      "              12 File(s)        248,048 bytes\n",
      "               3 Dir(s)  82,707,668,992 bytes free\n"
     ]
    }
   ],
   "source": [
    "%ls"
   ]
  },
  {
   "cell_type": "code",
   "execution_count": 40,
   "id": "9c63d191",
   "metadata": {},
   "outputs": [],
   "source": [
    "f.close()"
   ]
  },
  {
   "cell_type": "code",
   "execution_count": 41,
   "id": "b4fa5c43",
   "metadata": {},
   "outputs": [
    {
     "data": {
      "text/plain": [
       "'C:\\\\Users\\\\win\\\\Ineuron Classes'"
      ]
     },
     "execution_count": 41,
     "metadata": {},
     "output_type": "execute_result"
    }
   ],
   "source": [
    "pwd"
   ]
  },
  {
   "cell_type": "code",
   "execution_count": 42,
   "id": "593f9e67",
   "metadata": {},
   "outputs": [
    {
     "data": {
      "text/plain": [
       "['.ipynb_checkpoints',\n",
       " 'Class 1.ipynb',\n",
       " 'Class 2.ipynb',\n",
       " 'Class 3- Tuple, Set and Dict.ipynb',\n",
       " 'Class 4- If, Else & For loop.ipynb',\n",
       " 'Class 5- For-else and while loop.ipynb',\n",
       " 'Class 6- Loops in details.ipynb',\n",
       " 'Class 7- Functions 1.ipynb',\n",
       " 'Class 8 - Functions 2.ipynb',\n",
       " 'Class 9 - Iterator Generator and File System.ipynb',\n",
       " 'Homework.ipynb',\n",
       " 'Intro.ipynb',\n",
       " 'test.txt']"
      ]
     },
     "execution_count": 42,
     "metadata": {},
     "output_type": "execute_result"
    }
   ],
   "source": [
    "import os\n",
    "os.listdir()"
   ]
  },
  {
   "cell_type": "code",
   "execution_count": 46,
   "id": "d7cfd507",
   "metadata": {},
   "outputs": [
    {
     "data": {
      "text/plain": [
       "<function TextIOWrapper.close()>"
      ]
     },
     "execution_count": 46,
     "metadata": {},
     "output_type": "execute_result"
    }
   ],
   "source": [
    "# Code to search for the .txt file in the current directory\n",
    "# and then reading and combing all the data in a new .txt file\n",
    "\n",
    "dir1 = os.listdir()\n",
    "list1 = []\n",
    "for i in dir1:\n",
    "    if \".txt\" in i:\n",
    "        f = open(i, \"r+\")\n",
    "        list1.append(f.read())\n",
    "        f.close()\n",
    "f = open(\"Text_append.txt\", \"w\")\n",
    "f.writelines(list1)\n",
    "f.close()"
   ]
  },
  {
   "cell_type": "code",
   "execution_count": 47,
   "id": "48cff87a",
   "metadata": {},
   "outputs": [],
   "source": [
    "f.close()"
   ]
  }
 ],
 "metadata": {
  "kernelspec": {
   "display_name": "Python 3 (ipykernel)",
   "language": "python",
   "name": "python3"
  },
  "language_info": {
   "codemirror_mode": {
    "name": "ipython",
    "version": 3
   },
   "file_extension": ".py",
   "mimetype": "text/x-python",
   "name": "python",
   "nbconvert_exporter": "python",
   "pygments_lexer": "ipython3",
   "version": "3.11.4"
  }
 },
 "nbformat": 4,
 "nbformat_minor": 5
}

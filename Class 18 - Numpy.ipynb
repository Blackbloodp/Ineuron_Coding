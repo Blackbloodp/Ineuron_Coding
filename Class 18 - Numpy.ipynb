{
 "cells": [
  {
   "cell_type": "code",
   "execution_count": 1,
   "id": "d419c6d4",
   "metadata": {},
   "outputs": [],
   "source": [
    "import pandas as pd\n",
    "import numpy as np"
   ]
  },
  {
   "cell_type": "code",
   "execution_count": 2,
   "id": "c80fc76b",
   "metadata": {},
   "outputs": [],
   "source": [
    " df = pd.read_csv(\"https://raw.githubusercontent.com/datasciencedojo/datasets/master/titanic.csv\")"
   ]
  },
  {
   "cell_type": "code",
   "execution_count": 3,
   "id": "cc5176b4",
   "metadata": {},
   "outputs": [
    {
     "data": {
      "text/html": [
       "<div>\n",
       "<style scoped>\n",
       "    .dataframe tbody tr th:only-of-type {\n",
       "        vertical-align: middle;\n",
       "    }\n",
       "\n",
       "    .dataframe tbody tr th {\n",
       "        vertical-align: top;\n",
       "    }\n",
       "\n",
       "    .dataframe thead th {\n",
       "        text-align: right;\n",
       "    }\n",
       "</style>\n",
       "<table border=\"1\" class=\"dataframe\">\n",
       "  <thead>\n",
       "    <tr style=\"text-align: right;\">\n",
       "      <th></th>\n",
       "      <th>PassengerId</th>\n",
       "      <th>Survived</th>\n",
       "      <th>Pclass</th>\n",
       "      <th>Name</th>\n",
       "      <th>Sex</th>\n",
       "      <th>Age</th>\n",
       "      <th>SibSp</th>\n",
       "      <th>Parch</th>\n",
       "      <th>Ticket</th>\n",
       "      <th>Fare</th>\n",
       "      <th>Cabin</th>\n",
       "      <th>Embarked</th>\n",
       "    </tr>\n",
       "  </thead>\n",
       "  <tbody>\n",
       "    <tr>\n",
       "      <th>0</th>\n",
       "      <td>1</td>\n",
       "      <td>0</td>\n",
       "      <td>3</td>\n",
       "      <td>Braund, Mr. Owen Harris</td>\n",
       "      <td>male</td>\n",
       "      <td>22.0</td>\n",
       "      <td>1</td>\n",
       "      <td>0</td>\n",
       "      <td>A/5 21171</td>\n",
       "      <td>7.2500</td>\n",
       "      <td>NaN</td>\n",
       "      <td>S</td>\n",
       "    </tr>\n",
       "    <tr>\n",
       "      <th>1</th>\n",
       "      <td>2</td>\n",
       "      <td>1</td>\n",
       "      <td>1</td>\n",
       "      <td>Cumings, Mrs. John Bradley (Florence Briggs Th...</td>\n",
       "      <td>female</td>\n",
       "      <td>38.0</td>\n",
       "      <td>1</td>\n",
       "      <td>0</td>\n",
       "      <td>PC 17599</td>\n",
       "      <td>71.2833</td>\n",
       "      <td>C85</td>\n",
       "      <td>C</td>\n",
       "    </tr>\n",
       "    <tr>\n",
       "      <th>2</th>\n",
       "      <td>3</td>\n",
       "      <td>1</td>\n",
       "      <td>3</td>\n",
       "      <td>Heikkinen, Miss. Laina</td>\n",
       "      <td>female</td>\n",
       "      <td>26.0</td>\n",
       "      <td>0</td>\n",
       "      <td>0</td>\n",
       "      <td>STON/O2. 3101282</td>\n",
       "      <td>7.9250</td>\n",
       "      <td>NaN</td>\n",
       "      <td>S</td>\n",
       "    </tr>\n",
       "    <tr>\n",
       "      <th>3</th>\n",
       "      <td>4</td>\n",
       "      <td>1</td>\n",
       "      <td>1</td>\n",
       "      <td>Futrelle, Mrs. Jacques Heath (Lily May Peel)</td>\n",
       "      <td>female</td>\n",
       "      <td>35.0</td>\n",
       "      <td>1</td>\n",
       "      <td>0</td>\n",
       "      <td>113803</td>\n",
       "      <td>53.1000</td>\n",
       "      <td>C123</td>\n",
       "      <td>S</td>\n",
       "    </tr>\n",
       "    <tr>\n",
       "      <th>4</th>\n",
       "      <td>5</td>\n",
       "      <td>0</td>\n",
       "      <td>3</td>\n",
       "      <td>Allen, Mr. William Henry</td>\n",
       "      <td>male</td>\n",
       "      <td>35.0</td>\n",
       "      <td>0</td>\n",
       "      <td>0</td>\n",
       "      <td>373450</td>\n",
       "      <td>8.0500</td>\n",
       "      <td>NaN</td>\n",
       "      <td>S</td>\n",
       "    </tr>\n",
       "    <tr>\n",
       "      <th>...</th>\n",
       "      <td>...</td>\n",
       "      <td>...</td>\n",
       "      <td>...</td>\n",
       "      <td>...</td>\n",
       "      <td>...</td>\n",
       "      <td>...</td>\n",
       "      <td>...</td>\n",
       "      <td>...</td>\n",
       "      <td>...</td>\n",
       "      <td>...</td>\n",
       "      <td>...</td>\n",
       "      <td>...</td>\n",
       "    </tr>\n",
       "    <tr>\n",
       "      <th>886</th>\n",
       "      <td>887</td>\n",
       "      <td>0</td>\n",
       "      <td>2</td>\n",
       "      <td>Montvila, Rev. Juozas</td>\n",
       "      <td>male</td>\n",
       "      <td>27.0</td>\n",
       "      <td>0</td>\n",
       "      <td>0</td>\n",
       "      <td>211536</td>\n",
       "      <td>13.0000</td>\n",
       "      <td>NaN</td>\n",
       "      <td>S</td>\n",
       "    </tr>\n",
       "    <tr>\n",
       "      <th>887</th>\n",
       "      <td>888</td>\n",
       "      <td>1</td>\n",
       "      <td>1</td>\n",
       "      <td>Graham, Miss. Margaret Edith</td>\n",
       "      <td>female</td>\n",
       "      <td>19.0</td>\n",
       "      <td>0</td>\n",
       "      <td>0</td>\n",
       "      <td>112053</td>\n",
       "      <td>30.0000</td>\n",
       "      <td>B42</td>\n",
       "      <td>S</td>\n",
       "    </tr>\n",
       "    <tr>\n",
       "      <th>888</th>\n",
       "      <td>889</td>\n",
       "      <td>0</td>\n",
       "      <td>3</td>\n",
       "      <td>Johnston, Miss. Catherine Helen \"Carrie\"</td>\n",
       "      <td>female</td>\n",
       "      <td>NaN</td>\n",
       "      <td>1</td>\n",
       "      <td>2</td>\n",
       "      <td>W./C. 6607</td>\n",
       "      <td>23.4500</td>\n",
       "      <td>NaN</td>\n",
       "      <td>S</td>\n",
       "    </tr>\n",
       "    <tr>\n",
       "      <th>889</th>\n",
       "      <td>890</td>\n",
       "      <td>1</td>\n",
       "      <td>1</td>\n",
       "      <td>Behr, Mr. Karl Howell</td>\n",
       "      <td>male</td>\n",
       "      <td>26.0</td>\n",
       "      <td>0</td>\n",
       "      <td>0</td>\n",
       "      <td>111369</td>\n",
       "      <td>30.0000</td>\n",
       "      <td>C148</td>\n",
       "      <td>C</td>\n",
       "    </tr>\n",
       "    <tr>\n",
       "      <th>890</th>\n",
       "      <td>891</td>\n",
       "      <td>0</td>\n",
       "      <td>3</td>\n",
       "      <td>Dooley, Mr. Patrick</td>\n",
       "      <td>male</td>\n",
       "      <td>32.0</td>\n",
       "      <td>0</td>\n",
       "      <td>0</td>\n",
       "      <td>370376</td>\n",
       "      <td>7.7500</td>\n",
       "      <td>NaN</td>\n",
       "      <td>Q</td>\n",
       "    </tr>\n",
       "  </tbody>\n",
       "</table>\n",
       "<p>891 rows × 12 columns</p>\n",
       "</div>"
      ],
      "text/plain": [
       "     PassengerId  Survived  Pclass  \\\n",
       "0              1         0       3   \n",
       "1              2         1       1   \n",
       "2              3         1       3   \n",
       "3              4         1       1   \n",
       "4              5         0       3   \n",
       "..           ...       ...     ...   \n",
       "886          887         0       2   \n",
       "887          888         1       1   \n",
       "888          889         0       3   \n",
       "889          890         1       1   \n",
       "890          891         0       3   \n",
       "\n",
       "                                                  Name     Sex   Age  SibSp  \\\n",
       "0                              Braund, Mr. Owen Harris    male  22.0      1   \n",
       "1    Cumings, Mrs. John Bradley (Florence Briggs Th...  female  38.0      1   \n",
       "2                               Heikkinen, Miss. Laina  female  26.0      0   \n",
       "3         Futrelle, Mrs. Jacques Heath (Lily May Peel)  female  35.0      1   \n",
       "4                             Allen, Mr. William Henry    male  35.0      0   \n",
       "..                                                 ...     ...   ...    ...   \n",
       "886                              Montvila, Rev. Juozas    male  27.0      0   \n",
       "887                       Graham, Miss. Margaret Edith  female  19.0      0   \n",
       "888           Johnston, Miss. Catherine Helen \"Carrie\"  female   NaN      1   \n",
       "889                              Behr, Mr. Karl Howell    male  26.0      0   \n",
       "890                                Dooley, Mr. Patrick    male  32.0      0   \n",
       "\n",
       "     Parch            Ticket     Fare Cabin Embarked  \n",
       "0        0         A/5 21171   7.2500   NaN        S  \n",
       "1        0          PC 17599  71.2833   C85        C  \n",
       "2        0  STON/O2. 3101282   7.9250   NaN        S  \n",
       "3        0            113803  53.1000  C123        S  \n",
       "4        0            373450   8.0500   NaN        S  \n",
       "..     ...               ...      ...   ...      ...  \n",
       "886      0            211536  13.0000   NaN        S  \n",
       "887      0            112053  30.0000   B42        S  \n",
       "888      2        W./C. 6607  23.4500   NaN        S  \n",
       "889      0            111369  30.0000  C148        C  \n",
       "890      0            370376   7.7500   NaN        Q  \n",
       "\n",
       "[891 rows x 12 columns]"
      ]
     },
     "execution_count": 3,
     "metadata": {},
     "output_type": "execute_result"
    }
   ],
   "source": [
    "df"
   ]
  },
  {
   "cell_type": "code",
   "execution_count": null,
   "id": "b455494c",
   "metadata": {},
   "outputs": [],
   "source": [
    " \"\"\"\n",
    " Numpy\n",
    " \n",
    " NumPy is a powerful library in Python \n",
    " for numerical operations. \n",
    " It provides support for large, \n",
    " multi-dimensional arrays and matrices, \n",
    " along with a collection of mathematical functions \n",
    " to operate on these elements.\n",
    " \"\"\""
   ]
  },
  {
   "cell_type": "code",
   "execution_count": null,
   "id": "f5e7fe86",
   "metadata": {},
   "outputs": [],
   "source": []
  },
  {
   "cell_type": "code",
   "execution_count": null,
   "id": "4f9c2479",
   "metadata": {},
   "outputs": [],
   "source": []
  },
  {
   "cell_type": "markdown",
   "id": "98c5d194",
   "metadata": {},
   "source": [
    "ARRAY"
   ]
  },
  {
   "cell_type": "code",
   "execution_count": 4,
   "id": "fc34aeeb",
   "metadata": {},
   "outputs": [],
   "source": [
    "l = [\"kush\", 1, 2, 3, 4]"
   ]
  },
  {
   "cell_type": "code",
   "execution_count": 5,
   "id": "f7b1a305",
   "metadata": {},
   "outputs": [
    {
     "data": {
      "text/plain": [
       "list"
      ]
     },
     "execution_count": 5,
     "metadata": {},
     "output_type": "execute_result"
    }
   ],
   "source": [
    "type(l)"
   ]
  },
  {
   "cell_type": "code",
   "execution_count": 6,
   "id": "6ff653ae",
   "metadata": {},
   "outputs": [
    {
     "data": {
      "text/plain": [
       "array(['kush', '1', '2', '3', '4'], dtype='<U11')"
      ]
     },
     "execution_count": 6,
     "metadata": {},
     "output_type": "execute_result"
    }
   ],
   "source": [
    "np.array(l)"
   ]
  },
  {
   "cell_type": "code",
   "execution_count": null,
   "id": "1cfff935",
   "metadata": {},
   "outputs": [],
   "source": [
    "\"\"\"\n",
    "An array is a data structure that \n",
    "stores elements of the same data type \n",
    "in contiguous memory locations. \n",
    "The elements in an array can be accessed \n",
    "using an index or a key. \n",
    "Arrays are widely used in programming \n",
    "and are essential for various algorithms \n",
    "and data manipulation tasks.\n",
    "\n",
    "\n",
    "In the context of programming languages \n",
    "like Python and NumPy (as mentioned earlier), \n",
    "arrays are often used to represent collections of values, \n",
    "particularly when those values need to be accessed \n",
    "or manipulated in a systematic way.\n",
    "\n",
    "For example, in Python, \n",
    "a simple list can be considered an array:\n",
    "\"\"\"\n",
    "my_list = [1, 2, 3, 4, 5]\n",
    "\n",
    "\"\"\"\n",
    "In this list, each element is accessed by an index \n",
    "(position in the list). \n",
    "In Python, indexing starts at 0, \n",
    "so my_list[0] would give you the first element, \n",
    "my_list[1] would give you the second element, and so on.\n",
    "\n",
    "\n",
    "NumPy arrays, as mentioned earlier, \n",
    "provide a more powerful and efficient way to work with arrays \n",
    "for numerical operations in Python. \n",
    "They are homogeneous, \n",
    "meaning all elements must be of the same data type, \n",
    "and they support operations that are performed element-wise.\n",
    "\n",
    "\"\"\""
   ]
  },
  {
   "cell_type": "code",
   "execution_count": 7,
   "id": "f7a981ed",
   "metadata": {},
   "outputs": [
    {
     "data": {
      "text/plain": [
       "numpy.ndarray"
      ]
     },
     "execution_count": 7,
     "metadata": {},
     "output_type": "execute_result"
    }
   ],
   "source": [
    "type(np.array(l))\n",
    "\n",
    "# Here the 'ndarray' type means\n",
    "# \"n dimentional array\""
   ]
  },
  {
   "cell_type": "code",
   "execution_count": 8,
   "id": "0a4848ef",
   "metadata": {},
   "outputs": [
    {
     "data": {
      "text/plain": [
       "array([3., 4., 5., 6., 4.])"
      ]
     },
     "execution_count": 8,
     "metadata": {},
     "output_type": "execute_result"
    }
   ],
   "source": [
    "a1 = np.array([3,4,5,6,4.0])\n",
    "a1\n",
    "\n",
    "# As we can observe here that \n",
    "# Because of 1 floting point element\n",
    "# The entire array was converted as \n",
    "# a array with all flot elements\n",
    "\n",
    "# So its kind of typecasting on all the elements"
   ]
  },
  {
   "cell_type": "code",
   "execution_count": 9,
   "id": "27ee19f7",
   "metadata": {},
   "outputs": [
    {
     "data": {
      "text/plain": [
       "array([[1, 2],\n",
       "       [3, 4]])"
      ]
     },
     "execution_count": 9,
     "metadata": {},
     "output_type": "execute_result"
    }
   ],
   "source": [
    "# Simillarly\n",
    "a = np.array([[1,2], [3,4]])\n",
    "a\n",
    "\n",
    "# We can observe here that it automatically\n",
    "# Set the 2 lists vertically \n",
    "# Just like a matrix"
   ]
  },
  {
   "cell_type": "code",
   "execution_count": 10,
   "id": "a483310b",
   "metadata": {},
   "outputs": [
    {
     "data": {
      "text/plain": [
       "4"
      ]
     },
     "execution_count": 10,
     "metadata": {},
     "output_type": "execute_result"
    }
   ],
   "source": [
    "# Requirement:\n",
    "# we want to pull 4 from the above 'a' variable\n",
    "\n",
    "a[1][1]\n",
    "\n",
    "# Works just like extracting data from a list"
   ]
  },
  {
   "cell_type": "code",
   "execution_count": 11,
   "id": "7e2a63fa",
   "metadata": {},
   "outputs": [
    {
     "data": {
      "text/plain": [
       "array([3., 4., 5., 6., 4.])"
      ]
     },
     "execution_count": 11,
     "metadata": {},
     "output_type": "execute_result"
    }
   ],
   "source": [
    "a1"
   ]
  },
  {
   "cell_type": "code",
   "execution_count": 12,
   "id": "323c1b12",
   "metadata": {},
   "outputs": [
    {
     "data": {
      "text/plain": [
       "4.0"
      ]
     },
     "execution_count": 12,
     "metadata": {},
     "output_type": "execute_result"
    }
   ],
   "source": [
    "a1[1]"
   ]
  },
  {
   "cell_type": "code",
   "execution_count": 69,
   "id": "9e7ac122",
   "metadata": {},
   "outputs": [
    {
     "data": {
      "text/plain": [
       "array([4., 5.])"
      ]
     },
     "execution_count": 69,
     "metadata": {},
     "output_type": "execute_result"
    }
   ],
   "source": [
    "# Slicing options works the same as the list\n",
    "\n",
    "a1[1:3]"
   ]
  },
  {
   "cell_type": "code",
   "execution_count": null,
   "id": "74525702",
   "metadata": {},
   "outputs": [],
   "source": [
    "\"\"\"\n",
    "np.array() syntax and docstring\n",
    "\n",
    "Docstring:\n",
    "array(object, dtype=None, *, copy=True, order='K', subok=False, ndmin=0,\n",
    "      like=None)\n",
    "\n",
    "Create an array.\n",
    "\"\"\"\n",
    "\n",
    "\n",
    "\"\"\"\n",
    "Parameters\n",
    "----------\n",
    "object : array_like\n",
    "    An array, any object exposing the array interface, an object whose\n",
    "    __array__ method returns an array, or any (nested) sequence.\n",
    "    If object is a scalar, a 0-dimensional array containing object is\n",
    "    returned.\n",
    "dtype : data-type, optional\n",
    "    The desired data-type for the array.  If not given, then the type will\n",
    "    be determined as the minimum type required to hold the objects in the\n",
    "    sequence.\n",
    "copy : bool, optional\n",
    "    If true (default), then the object is copied.  Otherwise, a copy will\n",
    "    only be made if __array__ returns a copy, if obj is a nested sequence,\n",
    "    or if a copy is needed to satisfy any of the other requirements\n",
    "    (`dtype`, `order`, etc.).\n",
    "order : {'K', 'A', 'C', 'F'}, optional\n",
    "    Specify the memory layout of the array. If object is not an array, the\n",
    "    newly created array will be in C order (row major) unless 'F' is\n",
    "    specified, in which case it will be in Fortran order (column major).\n",
    "    If object is an array the following holds.\n",
    "\n",
    "    ===== ========= ===================================================\n",
    "    order  no copy                     copy=True\n",
    "    ===== ========= ===================================================\n",
    "    'K'   unchanged F & C order preserved, otherwise most similar order\n",
    "    'A'   unchanged F order if input is F and not C, otherwise C order\n",
    "    'C'   C order   C order\n",
    "    'F'   F order   F order\n",
    "    ===== ========= ===================================================\n",
    "\n",
    "    When ``copy=False`` and a copy is made for other reasons, the result is\n",
    "    the same as if ``copy=True``, with some exceptions for 'A', see the\n",
    "    Notes section. The default order is 'K'.\n",
    "subok : bool, optional\n",
    "    If True, then sub-classes will be passed-through, otherwise\n",
    "    the returned array will be forced to be a base-class array (default).\n",
    "ndmin : int, optional\n",
    "    Specifies the minimum number of dimensions that the resulting\n",
    "    array should have.  Ones will be prepended to the shape as\n",
    "    needed to meet this requirement.\n",
    "like : array_like, optional\n",
    "    Reference object to allow the creation of arrays which are not\n",
    "    NumPy arrays. If an array-like passed in as ``like`` supports\n",
    "    the ``__array_function__`` protocol, the result will be defined\n",
    "    by it. In this case, it ensures the creation of an array object\n",
    "    compatible with that passed in via this argument.\n",
    "\n",
    "    .. versionadded:: 1.20.0\n",
    "\"\"\"\n",
    "\n",
    "\n",
    "\"\"\"\n",
    "Returns\n",
    "-------\n",
    "out : ndarray\n",
    "    An array object satisfying the specified requirements.\n",
    "\"\"\"\n",
    "\n",
    "\n",
    "\"\"\"\n",
    "See Also\n",
    "--------\n",
    "empty_like : Return an empty array with shape and type of input.\n",
    "ones_like : Return an array of ones with shape and type of input.\n",
    "zeros_like : Return an array of zeros with shape and type of input.\n",
    "full_like : Return a new array with shape of input filled with value.\n",
    "empty : Return a new uninitialized array.\n",
    "ones : Return a new array setting values to one.\n",
    "zeros : Return a new array setting values to zero.\n",
    "full : Return a new array of given shape filled with value.\n",
    "\n",
    "\"\"\"\n",
    "\n",
    "\n",
    "\"\"\"\n",
    "Notes\n",
    "-----\n",
    "When order is 'A' and `object` is an array in neither 'C' nor 'F' order,\n",
    "and a copy is forced by a change in dtype, then the order of the result is\n",
    "not necessarily 'C' as expected. This is likely a bug.\n",
    "\n",
    "\"\"\""
   ]
  },
  {
   "cell_type": "code",
   "execution_count": 13,
   "id": "d6fd27e4",
   "metadata": {},
   "outputs": [
    {
     "data": {
      "text/plain": [
       "array([1, 2, 3, 4])"
      ]
     },
     "execution_count": 13,
     "metadata": {},
     "output_type": "execute_result"
    }
   ],
   "source": [
    "# NOTE:\n",
    "# There is a parameter \"ndmin\"\n",
    "# Which indicated dimention for that array\n",
    "# Examples below\n",
    "np.array([1,2,3,4], ndmin= 0)\n",
    "\n",
    "# Nothing changes"
   ]
  },
  {
   "cell_type": "code",
   "execution_count": 14,
   "id": "197e803c",
   "metadata": {},
   "outputs": [
    {
     "data": {
      "text/plain": [
       "array([1, 2, 3, 4])"
      ]
     },
     "execution_count": 14,
     "metadata": {},
     "output_type": "execute_result"
    }
   ],
   "source": [
    "np.array([1,2,3,4], ndmin= 1)\n",
    "\n",
    "# Again Nothing changes"
   ]
  },
  {
   "cell_type": "code",
   "execution_count": 15,
   "id": "5af2bd42",
   "metadata": {},
   "outputs": [
    {
     "data": {
      "text/plain": [
       "array([[1, 2, 3, 4]])"
      ]
     },
     "execution_count": 15,
     "metadata": {},
     "output_type": "execute_result"
    }
   ],
   "source": [
    "# But as soon as we go further to 'ndmin' as 2\n",
    "# We can spot changes\n",
    "\n",
    "np.array([1,2,3,4], ndmin= 2)\n",
    "\n",
    "# As we can observe that the number of '[]' increased"
   ]
  },
  {
   "cell_type": "code",
   "execution_count": 16,
   "id": "957ac6c2",
   "metadata": {},
   "outputs": [
    {
     "data": {
      "text/plain": [
       "array([[[1, 2, 3, 4]]])"
      ]
     },
     "execution_count": 16,
     "metadata": {},
     "output_type": "execute_result"
    }
   ],
   "source": [
    "np.array([1,2,3,4], ndmin= 3)\n",
    "\n",
    "# Now the number of '[]' increased to 3"
   ]
  },
  {
   "cell_type": "code",
   "execution_count": 17,
   "id": "336cbd95",
   "metadata": {},
   "outputs": [
    {
     "data": {
      "text/plain": [
       "array([[[[1, 2, 3, 4]]]])"
      ]
     },
     "execution_count": 17,
     "metadata": {},
     "output_type": "execute_result"
    }
   ],
   "source": [
    "a2 = np.array([1,2,3,4], ndmin= 4)\n",
    "a2\n",
    "# Now the number of '[]' increased to 4"
   ]
  },
  {
   "cell_type": "code",
   "execution_count": 18,
   "id": "ba57712d",
   "metadata": {},
   "outputs": [],
   "source": [
    "# SO basically the dimention mans that \n",
    "# how nested the array is.\n",
    "\n",
    "# If we have arrays nested inside an array \n",
    "# Then the dimention of that array increases."
   ]
  },
  {
   "cell_type": "code",
   "execution_count": 19,
   "id": "75e9e6a7",
   "metadata": {},
   "outputs": [
    {
     "data": {
      "text/plain": [
       "array([[[1, 2, 3, 4]]])"
      ]
     },
     "execution_count": 19,
     "metadata": {},
     "output_type": "execute_result"
    }
   ],
   "source": [
    "# Now if we want to extract the value. \n",
    "a2[0]\n",
    "\n",
    "# a2[0] will only go 1 dimention inside"
   ]
  },
  {
   "cell_type": "code",
   "execution_count": 20,
   "id": "a92e011d",
   "metadata": {},
   "outputs": [
    {
     "data": {
      "text/plain": [
       "1"
      ]
     },
     "execution_count": 20,
     "metadata": {},
     "output_type": "execute_result"
    }
   ],
   "source": [
    "# to get 1 from the array 'a2'\n",
    "\n",
    "a2[0][0][0][0]\n",
    "\n",
    "# So here we have drilled down to the \n",
    "# inner most nested array to fetch 1"
   ]
  },
  {
   "cell_type": "code",
   "execution_count": 21,
   "id": "3b522150",
   "metadata": {},
   "outputs": [
    {
     "data": {
      "text/plain": [
       "array([[1, 2],\n",
       "       [3, 4]])"
      ]
     },
     "execution_count": 21,
     "metadata": {},
     "output_type": "execute_result"
    }
   ],
   "source": [
    "# We can also say that array\n",
    "a\n",
    "\n",
    "# has 2 dimentions"
   ]
  },
  {
   "cell_type": "code",
   "execution_count": null,
   "id": "9e3a0a80",
   "metadata": {},
   "outputs": [],
   "source": []
  },
  {
   "cell_type": "code",
   "execution_count": 22,
   "id": "4ef51626",
   "metadata": {},
   "outputs": [
    {
     "data": {
      "text/plain": [
       "array([1, 2, 3, 4, 5])"
      ]
     },
     "execution_count": 22,
     "metadata": {},
     "output_type": "execute_result"
    }
   ],
   "source": [
    "# Simillarly we also have \n",
    "# \"np.asarray()\" and 'np.asanyarray()'\n",
    "\n",
    "np.asarray([1, 2, 3, 4, 5])"
   ]
  },
  {
   "cell_type": "code",
   "execution_count": 23,
   "id": "5a019a8a",
   "metadata": {},
   "outputs": [
    {
     "data": {
      "text/plain": [
       "array([1, 2, 3, 4, 5, 6])"
      ]
     },
     "execution_count": 23,
     "metadata": {},
     "output_type": "execute_result"
    }
   ],
   "source": [
    "np.asanyarray([1, 2, 3, 4, 5, 6])\n",
    "\n",
    "# Both gives same results"
   ]
  },
  {
   "cell_type": "code",
   "execution_count": null,
   "id": "4a8aeaa6",
   "metadata": {},
   "outputs": [],
   "source": []
  },
  {
   "cell_type": "code",
   "execution_count": null,
   "id": "a65d7078",
   "metadata": {},
   "outputs": [],
   "source": []
  },
  {
   "cell_type": "markdown",
   "id": "f8e38021",
   "metadata": {},
   "source": [
    "MATRIX Data type"
   ]
  },
  {
   "cell_type": "code",
   "execution_count": 24,
   "id": "7e313677",
   "metadata": {},
   "outputs": [
    {
     "data": {
      "text/plain": [
       "matrix([[1, 2, 3, 4, 5]])"
      ]
     },
     "execution_count": 24,
     "metadata": {},
     "output_type": "execute_result"
    }
   ],
   "source": [
    "np.mat([1, 2, 3, 4, 5])\n",
    "\n",
    "# As we can observe here that \n",
    "# Matrixes are by default '2D elements'"
   ]
  },
  {
   "cell_type": "code",
   "execution_count": null,
   "id": "11b3bed3",
   "metadata": {},
   "outputs": [],
   "source": [
    "\"\"\"\n",
    "In NumPy, a matrix is a specialized 2-dimensional array. \n",
    "NumPy provides the numpy.matrix class, \n",
    "\n",
    "which is similar to the numpy.ndarray class \n",
    "but with additional matrix-specific functionality. \n",
    "\n",
    "You can create matrices using the matrix function \n",
    "or by directly using the numpy.matrix class.\n",
    "\"\"\""
   ]
  },
  {
   "cell_type": "code",
   "execution_count": null,
   "id": "046f2009",
   "metadata": {},
   "outputs": [],
   "source": []
  },
  {
   "cell_type": "markdown",
   "id": "18ef8426",
   "metadata": {},
   "source": [
    "More DATA Extraction"
   ]
  },
  {
   "cell_type": "code",
   "execution_count": 25,
   "id": "dd9e9126",
   "metadata": {},
   "outputs": [
    {
     "data": {
      "text/plain": [
       "array([[ True, False, False],\n",
       "       [False,  True, False],\n",
       "       [False, False,  True]])"
      ]
     },
     "execution_count": 25,
     "metadata": {},
     "output_type": "execute_result"
    }
   ],
   "source": [
    "np.fromfunction(lambda i, j: i == j, (3,3))\n",
    "\n",
    "# In this example 'lambda i, j: i == j' is teh function\n",
    "# And '(3,3)' is the matrix/arrays \n",
    "# rows and column values. \n",
    "\n",
    "# Here J is column and i is rows. \n",
    "# And the function is trying to check the index of i and j\n",
    "# And if both the index is equal\n",
    "# It will pass true. else false"
   ]
  },
  {
   "cell_type": "code",
   "execution_count": 26,
   "id": "557048ef",
   "metadata": {},
   "outputs": [
    {
     "data": {
      "text/plain": [
       "array([[0., 0., 0., 0.],\n",
       "       [0., 1., 2., 3.],\n",
       "       [0., 2., 4., 6.],\n",
       "       [0., 3., 6., 9.]])"
      ]
     },
     "execution_count": 26,
     "metadata": {},
     "output_type": "execute_result"
    }
   ],
   "source": [
    "np.fromfunction(lambda i, j: i*j, (4,4))\n",
    "\n",
    "# This example explains the above explanation properly\n",
    "# Here we can see that its multiplying the i and j \n",
    "# indexes and giving the results accordingly.\n",
    "\n",
    "# NOTE:\n",
    "# numpy module will always return \n",
    "# Floting point numbers by default in case of \n",
    "# Multiplication, Division and cast operations\n",
    "# unless specified. "
   ]
  },
  {
   "cell_type": "code",
   "execution_count": 27,
   "id": "348324df",
   "metadata": {},
   "outputs": [
    {
     "data": {
      "text/plain": [
       "array([[0, 0, 0, 0],\n",
       "       [0, 1, 2, 3],\n",
       "       [0, 2, 4, 6],\n",
       "       [0, 3, 6, 9]])"
      ]
     },
     "execution_count": 27,
     "metadata": {},
     "output_type": "execute_result"
    }
   ],
   "source": [
    "# In case you want to have only int type \n",
    "# Then you have to use parameter 'dtype'\n",
    "\n",
    "np.fromfunction(lambda i, j: i*j, (4,4), dtype = int)"
   ]
  },
  {
   "cell_type": "code",
   "execution_count": 28,
   "id": "46221b10",
   "metadata": {},
   "outputs": [
    {
     "data": {
      "text/plain": [
       "matrix([[0, 0, 0, 0],\n",
       "        [0, 1, 2, 3],\n",
       "        [0, 2, 4, 6],\n",
       "        [0, 3, 6, 9]])"
      ]
     },
     "execution_count": 28,
     "metadata": {},
     "output_type": "execute_result"
    }
   ],
   "source": [
    "# NOTE:\n",
    "# By default it will give the values ad array only\n",
    "# In case you want it to be matrix\n",
    "# You have to convert them into matrix\n",
    "\n",
    "np.mat(np.fromfunction(lambda i, j: i*j, (4,4), dtype= int))"
   ]
  },
  {
   "cell_type": "code",
   "execution_count": null,
   "id": "a0ca1c06",
   "metadata": {},
   "outputs": [],
   "source": []
  },
  {
   "cell_type": "code",
   "execution_count": null,
   "id": "6b608d32",
   "metadata": {},
   "outputs": [],
   "source": []
  },
  {
   "cell_type": "markdown",
   "id": "9ba53aaf",
   "metadata": {},
   "source": [
    "FromFunction, Shape and Size functions"
   ]
  },
  {
   "cell_type": "code",
   "execution_count": 29,
   "id": "e00355c0",
   "metadata": {},
   "outputs": [
    {
     "ename": "ValueError",
     "evalue": "shape too large to be a matrix.",
     "output_type": "error",
     "traceback": [
      "\u001b[1;31m---------------------------------------------------------------------------\u001b[0m",
      "\u001b[1;31mValueError\u001b[0m                                Traceback (most recent call last)",
      "Cell \u001b[1;32mIn[29], line 5\u001b[0m\n\u001b[0;32m      1\u001b[0m \u001b[38;5;66;03m# Now lets try somting different\u001b[39;00m\n\u001b[0;32m      2\u001b[0m \u001b[38;5;66;03m# We can try to create a 3D matrix \u001b[39;00m\n\u001b[0;32m      3\u001b[0m \u001b[38;5;66;03m# Which in itself in possible\u001b[39;00m\n\u001b[1;32m----> 5\u001b[0m \u001b[43mnp\u001b[49m\u001b[38;5;241;43m.\u001b[39;49m\u001b[43mmat\u001b[49m\u001b[43m(\u001b[49m\u001b[43mnp\u001b[49m\u001b[38;5;241;43m.\u001b[39;49m\u001b[43mfromfunction\u001b[49m\u001b[43m(\u001b[49m\u001b[38;5;28;43;01mlambda\u001b[39;49;00m\u001b[43m \u001b[49m\u001b[43mi\u001b[49m\u001b[43m,\u001b[49m\u001b[43m \u001b[49m\u001b[43mj\u001b[49m\u001b[43m,\u001b[49m\u001b[43m \u001b[49m\u001b[43mz\u001b[49m\u001b[43m:\u001b[49m\u001b[43m \u001b[49m\u001b[43mi\u001b[49m\u001b[38;5;241;43m*\u001b[39;49m\u001b[43mj\u001b[49m\u001b[38;5;241;43m*\u001b[39;49m\u001b[43mz\u001b[49m\u001b[43m,\u001b[49m\u001b[43m \u001b[49m\u001b[43m(\u001b[49m\u001b[38;5;241;43m3\u001b[39;49m\u001b[43m,\u001b[49m\u001b[38;5;241;43m3\u001b[39;49m\u001b[43m,\u001b[49m\u001b[38;5;241;43m3\u001b[39;49m\u001b[43m)\u001b[49m\u001b[43m)\u001b[49m\u001b[43m)\u001b[49m\n",
      "File \u001b[1;32m~\\anaconda3\\Lib\\site-packages\\numpy\\matrixlib\\defmatrix.py:69\u001b[0m, in \u001b[0;36masmatrix\u001b[1;34m(data, dtype)\u001b[0m\n\u001b[0;32m     36\u001b[0m \u001b[38;5;129m@set_module\u001b[39m(\u001b[38;5;124m'\u001b[39m\u001b[38;5;124mnumpy\u001b[39m\u001b[38;5;124m'\u001b[39m)\n\u001b[0;32m     37\u001b[0m \u001b[38;5;28;01mdef\u001b[39;00m \u001b[38;5;21masmatrix\u001b[39m(data, dtype\u001b[38;5;241m=\u001b[39m\u001b[38;5;28;01mNone\u001b[39;00m):\n\u001b[0;32m     38\u001b[0m \u001b[38;5;250m    \u001b[39m\u001b[38;5;124;03m\"\"\"\u001b[39;00m\n\u001b[0;32m     39\u001b[0m \u001b[38;5;124;03m    Interpret the input as a matrix.\u001b[39;00m\n\u001b[0;32m     40\u001b[0m \n\u001b[1;32m   (...)\u001b[0m\n\u001b[0;32m     67\u001b[0m \n\u001b[0;32m     68\u001b[0m \u001b[38;5;124;03m    \"\"\"\u001b[39;00m\n\u001b[1;32m---> 69\u001b[0m     \u001b[38;5;28;01mreturn\u001b[39;00m \u001b[43mmatrix\u001b[49m\u001b[43m(\u001b[49m\u001b[43mdata\u001b[49m\u001b[43m,\u001b[49m\u001b[43m \u001b[49m\u001b[43mdtype\u001b[49m\u001b[38;5;241;43m=\u001b[39;49m\u001b[43mdtype\u001b[49m\u001b[43m,\u001b[49m\u001b[43m \u001b[49m\u001b[43mcopy\u001b[49m\u001b[38;5;241;43m=\u001b[39;49m\u001b[38;5;28;43;01mFalse\u001b[39;49;00m\u001b[43m)\u001b[49m\n",
      "File \u001b[1;32m~\\anaconda3\\Lib\\site-packages\\numpy\\matrixlib\\defmatrix.py:135\u001b[0m, in \u001b[0;36mmatrix.__new__\u001b[1;34m(subtype, data, dtype, copy)\u001b[0m\n\u001b[0;32m    133\u001b[0m \u001b[38;5;28;01melse\u001b[39;00m:\n\u001b[0;32m    134\u001b[0m     intype \u001b[38;5;241m=\u001b[39m N\u001b[38;5;241m.\u001b[39mdtype(dtype)\n\u001b[1;32m--> 135\u001b[0m new \u001b[38;5;241m=\u001b[39m \u001b[43mdata\u001b[49m\u001b[38;5;241;43m.\u001b[39;49m\u001b[43mview\u001b[49m\u001b[43m(\u001b[49m\u001b[43msubtype\u001b[49m\u001b[43m)\u001b[49m\n\u001b[0;32m    136\u001b[0m \u001b[38;5;28;01mif\u001b[39;00m intype \u001b[38;5;241m!=\u001b[39m data\u001b[38;5;241m.\u001b[39mdtype:\n\u001b[0;32m    137\u001b[0m     \u001b[38;5;28;01mreturn\u001b[39;00m new\u001b[38;5;241m.\u001b[39mastype(intype)\n",
      "File \u001b[1;32m~\\anaconda3\\Lib\\site-packages\\numpy\\matrixlib\\defmatrix.py:180\u001b[0m, in \u001b[0;36mmatrix.__array_finalize__\u001b[1;34m(self, obj)\u001b[0m\n\u001b[0;32m    178\u001b[0m         \u001b[38;5;28;01mreturn\u001b[39;00m\n\u001b[0;32m    179\u001b[0m     \u001b[38;5;28;01melif\u001b[39;00m (ndim \u001b[38;5;241m>\u001b[39m \u001b[38;5;241m2\u001b[39m):\n\u001b[1;32m--> 180\u001b[0m         \u001b[38;5;28;01mraise\u001b[39;00m \u001b[38;5;167;01mValueError\u001b[39;00m(\u001b[38;5;124m\"\u001b[39m\u001b[38;5;124mshape too large to be a matrix.\u001b[39m\u001b[38;5;124m\"\u001b[39m)\n\u001b[0;32m    181\u001b[0m \u001b[38;5;28;01melse\u001b[39;00m:\n\u001b[0;32m    182\u001b[0m     newshape \u001b[38;5;241m=\u001b[39m \u001b[38;5;28mself\u001b[39m\u001b[38;5;241m.\u001b[39mshape\n",
      "\u001b[1;31mValueError\u001b[0m: shape too large to be a matrix."
     ]
    }
   ],
   "source": [
    "# Now lets try somting different\n",
    "# We can try to create a 3D matrix \n",
    "# Which in itself in possible\n",
    "\n",
    "np.mat(np.fromfunction(lambda i, j, z: i*j*z, (3,3,3)))"
   ]
  },
  {
   "cell_type": "code",
   "execution_count": 30,
   "id": "67f458c9",
   "metadata": {},
   "outputs": [
    {
     "data": {
      "text/plain": [
       "array([[[0, 0],\n",
       "        [0, 0],\n",
       "        [0, 0]],\n",
       "\n",
       "       [[0, 0],\n",
       "        [0, 1],\n",
       "        [0, 2]],\n",
       "\n",
       "       [[0, 0],\n",
       "        [0, 2],\n",
       "        [0, 4]]])"
      ]
     },
     "execution_count": 30,
     "metadata": {},
     "output_type": "execute_result"
    }
   ],
   "source": [
    "# But we can create an array with 3 dimentions\n",
    "\n",
    "np.fromfunction(lambda i, j, z: i*j*z, (3,3,2), dtype= int)\n",
    "\n",
    "# IMPORTANT\n",
    "# In the above example we have mentioned \"(3,3,2)\"\n",
    "# in which \n",
    "# 1st 3 means: we need 3 matrixes/arrays which is 'i'\n",
    "# And the later (3,2) means: \n",
    "# we need array with those cross-section\n",
    "# 3 rows and 3 columns which is '(j,z)'\n",
    "\n",
    "# In a nutshell it means we need 3 matrixes/arrays\n",
    "# of (3,2) cross-section\n",
    "\n",
    "# If we explin the values in the matrix\n",
    "# 'i' for the 1st matrix is '0'\n",
    "# that is why all the values of that array have 0 value\n",
    "\n",
    "# 'i' for the 2nd matrix/array is '1' \n",
    "# That is why you have 1 and 2 value at the end \n",
    "\n",
    "# simillarly 'i' for the last matrix/array is '2'\n",
    "# that's why we have 2 and 4 at the end\n",
    "# its the double of the 2nd matrix"
   ]
  },
  {
   "cell_type": "code",
   "execution_count": 31,
   "id": "e7f0ece1",
   "metadata": {},
   "outputs": [
    {
     "data": {
      "text/plain": [
       "array([[[[ 0,  0],\n",
       "         [ 0,  0],\n",
       "         [ 0,  0]],\n",
       "\n",
       "        [[ 0,  0],\n",
       "         [ 0,  0],\n",
       "         [ 0,  0]],\n",
       "\n",
       "        [[ 0,  0],\n",
       "         [ 0,  0],\n",
       "         [ 0,  0]]],\n",
       "\n",
       "\n",
       "       [[[ 0,  0],\n",
       "         [ 0,  0],\n",
       "         [ 0,  0]],\n",
       "\n",
       "        [[ 0,  0],\n",
       "         [ 0,  1],\n",
       "         [ 0,  2]],\n",
       "\n",
       "        [[ 0,  0],\n",
       "         [ 0,  2],\n",
       "         [ 0,  4]]],\n",
       "\n",
       "\n",
       "       [[[ 0,  0],\n",
       "         [ 0,  0],\n",
       "         [ 0,  0]],\n",
       "\n",
       "        [[ 0,  0],\n",
       "         [ 0,  2],\n",
       "         [ 0,  4]],\n",
       "\n",
       "        [[ 0,  0],\n",
       "         [ 0,  4],\n",
       "         [ 0,  8]]],\n",
       "\n",
       "\n",
       "       [[[ 0,  0],\n",
       "         [ 0,  0],\n",
       "         [ 0,  0]],\n",
       "\n",
       "        [[ 0,  0],\n",
       "         [ 0,  3],\n",
       "         [ 0,  6]],\n",
       "\n",
       "        [[ 0,  0],\n",
       "         [ 0,  6],\n",
       "         [ 0, 12]]]])"
      ]
     },
     "execution_count": 31,
     "metadata": {},
     "output_type": "execute_result"
    }
   ],
   "source": [
    "# Now from the above understanding. \n",
    "# If we want to create a 4D array\n",
    "\n",
    "np.fromfunction(lambda i, j, z, p: i*j*z*p, (4,3,3,2), dtype= int)\n",
    "\n",
    "# This gives us an 4 dimention array"
   ]
  },
  {
   "cell_type": "code",
   "execution_count": 33,
   "id": "c71ade2c",
   "metadata": {},
   "outputs": [
    {
     "data": {
      "text/plain": [
       "3"
      ]
     },
     "execution_count": 33,
     "metadata": {},
     "output_type": "execute_result"
    }
   ],
   "source": [
    "# To know the dimention of the array\n",
    "# We can use \"ndim\" function\n",
    "\n",
    "a3 = np.fromfunction(lambda i, j, z: i*j*z, (4,3,2), dtype= int)\n",
    "a3.ndim"
   ]
  },
  {
   "cell_type": "code",
   "execution_count": 34,
   "id": "77f49fd9",
   "metadata": {},
   "outputs": [
    {
     "data": {
      "text/plain": [
       "24"
      ]
     },
     "execution_count": 34,
     "metadata": {},
     "output_type": "execute_result"
    }
   ],
   "source": [
    "# Here the \"size\" function we tell us \n",
    "# How many elements are there in the array\n",
    "a3.size\n",
    "\n",
    "# Which is in this situation 4*3*2 = 24"
   ]
  },
  {
   "cell_type": "code",
   "execution_count": 35,
   "id": "ae9a0dd6",
   "metadata": {},
   "outputs": [
    {
     "data": {
      "text/plain": [
       "(4, 3, 2)"
      ]
     },
     "execution_count": 35,
     "metadata": {},
     "output_type": "execute_result"
    }
   ],
   "source": [
    "a3.shape\n",
    "\n",
    "# \"shape\" function will give you the dimentions \n",
    "# in details as shown in the output"
   ]
  },
  {
   "cell_type": "code",
   "execution_count": 36,
   "id": "1c6e4ff1",
   "metadata": {},
   "outputs": [
    {
     "data": {
      "text/plain": [
       "dtype('int32')"
      ]
     },
     "execution_count": 36,
     "metadata": {},
     "output_type": "execute_result"
    }
   ],
   "source": [
    "a3.dtype\n",
    "\n",
    "# Here dtype \"int32\" means \n",
    "# It has a capacity of 32bits to store int values"
   ]
  },
  {
   "cell_type": "code",
   "execution_count": null,
   "id": "ac95484c",
   "metadata": {},
   "outputs": [],
   "source": []
  },
  {
   "cell_type": "code",
   "execution_count": null,
   "id": "76713465",
   "metadata": {},
   "outputs": [],
   "source": []
  },
  {
   "cell_type": "markdown",
   "id": "fb348007",
   "metadata": {},
   "source": [
    "DataFrame with numpy"
   ]
  },
  {
   "cell_type": "code",
   "execution_count": 37,
   "id": "a626414d",
   "metadata": {},
   "outputs": [
    {
     "ename": "ValueError",
     "evalue": "Must pass 2-d input. shape=(4, 3, 2)",
     "output_type": "error",
     "traceback": [
      "\u001b[1;31m---------------------------------------------------------------------------\u001b[0m",
      "\u001b[1;31mValueError\u001b[0m                                Traceback (most recent call last)",
      "Cell \u001b[1;32mIn[37], line 5\u001b[0m\n\u001b[0;32m      1\u001b[0m \u001b[38;5;66;03m# TO convert an array into a dataframe\u001b[39;00m\n\u001b[0;32m      2\u001b[0m \u001b[38;5;66;03m# we can use the 'dataframe' function \u001b[39;00m\n\u001b[0;32m      3\u001b[0m \u001b[38;5;66;03m# form the pandas module\u001b[39;00m\n\u001b[1;32m----> 5\u001b[0m \u001b[43mpd\u001b[49m\u001b[38;5;241;43m.\u001b[39;49m\u001b[43mDataFrame\u001b[49m\u001b[43m(\u001b[49m\u001b[43ma3\u001b[49m\u001b[43m)\u001b[49m\n\u001b[0;32m      8\u001b[0m \u001b[38;5;66;03m# To convert an array into a dataframe\u001b[39;00m\n\u001b[0;32m      9\u001b[0m \u001b[38;5;66;03m# The array must be an 2D array\u001b[39;00m\n\u001b[0;32m     10\u001b[0m \u001b[38;5;66;03m# Otherwise it gives an error\u001b[39;00m\n",
      "File \u001b[1;32m~\\anaconda3\\Lib\\site-packages\\pandas\\core\\frame.py:722\u001b[0m, in \u001b[0;36mDataFrame.__init__\u001b[1;34m(self, data, index, columns, dtype, copy)\u001b[0m\n\u001b[0;32m    712\u001b[0m         mgr \u001b[38;5;241m=\u001b[39m dict_to_mgr(\n\u001b[0;32m    713\u001b[0m             \u001b[38;5;66;03m# error: Item \"ndarray\" of \"Union[ndarray, Series, Index]\" has no\u001b[39;00m\n\u001b[0;32m    714\u001b[0m             \u001b[38;5;66;03m# attribute \"name\"\u001b[39;00m\n\u001b[1;32m   (...)\u001b[0m\n\u001b[0;32m    719\u001b[0m             typ\u001b[38;5;241m=\u001b[39mmanager,\n\u001b[0;32m    720\u001b[0m         )\n\u001b[0;32m    721\u001b[0m     \u001b[38;5;28;01melse\u001b[39;00m:\n\u001b[1;32m--> 722\u001b[0m         mgr \u001b[38;5;241m=\u001b[39m \u001b[43mndarray_to_mgr\u001b[49m\u001b[43m(\u001b[49m\n\u001b[0;32m    723\u001b[0m \u001b[43m            \u001b[49m\u001b[43mdata\u001b[49m\u001b[43m,\u001b[49m\n\u001b[0;32m    724\u001b[0m \u001b[43m            \u001b[49m\u001b[43mindex\u001b[49m\u001b[43m,\u001b[49m\n\u001b[0;32m    725\u001b[0m \u001b[43m            \u001b[49m\u001b[43mcolumns\u001b[49m\u001b[43m,\u001b[49m\n\u001b[0;32m    726\u001b[0m \u001b[43m            \u001b[49m\u001b[43mdtype\u001b[49m\u001b[38;5;241;43m=\u001b[39;49m\u001b[43mdtype\u001b[49m\u001b[43m,\u001b[49m\n\u001b[0;32m    727\u001b[0m \u001b[43m            \u001b[49m\u001b[43mcopy\u001b[49m\u001b[38;5;241;43m=\u001b[39;49m\u001b[43mcopy\u001b[49m\u001b[43m,\u001b[49m\n\u001b[0;32m    728\u001b[0m \u001b[43m            \u001b[49m\u001b[43mtyp\u001b[49m\u001b[38;5;241;43m=\u001b[39;49m\u001b[43mmanager\u001b[49m\u001b[43m,\u001b[49m\n\u001b[0;32m    729\u001b[0m \u001b[43m        \u001b[49m\u001b[43m)\u001b[49m\n\u001b[0;32m    731\u001b[0m \u001b[38;5;66;03m# For data is list-like, or Iterable (will consume into list)\u001b[39;00m\n\u001b[0;32m    732\u001b[0m \u001b[38;5;28;01melif\u001b[39;00m is_list_like(data):\n",
      "File \u001b[1;32m~\\anaconda3\\Lib\\site-packages\\pandas\\core\\internals\\construction.py:329\u001b[0m, in \u001b[0;36mndarray_to_mgr\u001b[1;34m(values, index, columns, dtype, copy, typ)\u001b[0m\n\u001b[0;32m    324\u001b[0m         values \u001b[38;5;241m=\u001b[39m values\u001b[38;5;241m.\u001b[39mreshape(\u001b[38;5;241m-\u001b[39m\u001b[38;5;241m1\u001b[39m, \u001b[38;5;241m1\u001b[39m)\n\u001b[0;32m    326\u001b[0m \u001b[38;5;28;01melse\u001b[39;00m:\n\u001b[0;32m    327\u001b[0m     \u001b[38;5;66;03m# by definition an array here\u001b[39;00m\n\u001b[0;32m    328\u001b[0m     \u001b[38;5;66;03m# the dtypes will be coerced to a single dtype\u001b[39;00m\n\u001b[1;32m--> 329\u001b[0m     values \u001b[38;5;241m=\u001b[39m \u001b[43m_prep_ndarraylike\u001b[49m\u001b[43m(\u001b[49m\u001b[43mvalues\u001b[49m\u001b[43m,\u001b[49m\u001b[43m \u001b[49m\u001b[43mcopy\u001b[49m\u001b[38;5;241;43m=\u001b[39;49m\u001b[43mcopy_on_sanitize\u001b[49m\u001b[43m)\u001b[49m\n\u001b[0;32m    331\u001b[0m \u001b[38;5;28;01mif\u001b[39;00m dtype \u001b[38;5;129;01mis\u001b[39;00m \u001b[38;5;129;01mnot\u001b[39;00m \u001b[38;5;28;01mNone\u001b[39;00m \u001b[38;5;129;01mand\u001b[39;00m \u001b[38;5;129;01mnot\u001b[39;00m is_dtype_equal(values\u001b[38;5;241m.\u001b[39mdtype, dtype):\n\u001b[0;32m    332\u001b[0m     \u001b[38;5;66;03m# GH#40110 see similar check inside sanitize_array\u001b[39;00m\n\u001b[0;32m    333\u001b[0m     rcf \u001b[38;5;241m=\u001b[39m \u001b[38;5;129;01mnot\u001b[39;00m (is_integer_dtype(dtype) \u001b[38;5;129;01mand\u001b[39;00m values\u001b[38;5;241m.\u001b[39mdtype\u001b[38;5;241m.\u001b[39mkind \u001b[38;5;241m==\u001b[39m \u001b[38;5;124m\"\u001b[39m\u001b[38;5;124mf\u001b[39m\u001b[38;5;124m\"\u001b[39m)\n",
      "File \u001b[1;32m~\\anaconda3\\Lib\\site-packages\\pandas\\core\\internals\\construction.py:583\u001b[0m, in \u001b[0;36m_prep_ndarraylike\u001b[1;34m(values, copy)\u001b[0m\n\u001b[0;32m    581\u001b[0m     values \u001b[38;5;241m=\u001b[39m values\u001b[38;5;241m.\u001b[39mreshape((values\u001b[38;5;241m.\u001b[39mshape[\u001b[38;5;241m0\u001b[39m], \u001b[38;5;241m1\u001b[39m))\n\u001b[0;32m    582\u001b[0m \u001b[38;5;28;01melif\u001b[39;00m values\u001b[38;5;241m.\u001b[39mndim \u001b[38;5;241m!=\u001b[39m \u001b[38;5;241m2\u001b[39m:\n\u001b[1;32m--> 583\u001b[0m     \u001b[38;5;28;01mraise\u001b[39;00m \u001b[38;5;167;01mValueError\u001b[39;00m(\u001b[38;5;124mf\u001b[39m\u001b[38;5;124m\"\u001b[39m\u001b[38;5;124mMust pass 2-d input. shape=\u001b[39m\u001b[38;5;132;01m{\u001b[39;00mvalues\u001b[38;5;241m.\u001b[39mshape\u001b[38;5;132;01m}\u001b[39;00m\u001b[38;5;124m\"\u001b[39m)\n\u001b[0;32m    585\u001b[0m \u001b[38;5;28;01mreturn\u001b[39;00m values\n",
      "\u001b[1;31mValueError\u001b[0m: Must pass 2-d input. shape=(4, 3, 2)"
     ]
    }
   ],
   "source": [
    "# TO convert an array into a dataframe\n",
    "# we can use the 'dataframe' function \n",
    "# form the pandas module\n",
    "\n",
    "pd.DataFrame(a3)\n",
    "\n",
    "# To convert an array into a dataframe\n",
    "# The array must be an 2D array\n",
    "# Otherwise it gives an error"
   ]
  },
  {
   "cell_type": "code",
   "execution_count": 38,
   "id": "d2e51239",
   "metadata": {},
   "outputs": [
    {
     "data": {
      "text/html": [
       "<div>\n",
       "<style scoped>\n",
       "    .dataframe tbody tr th:only-of-type {\n",
       "        vertical-align: middle;\n",
       "    }\n",
       "\n",
       "    .dataframe tbody tr th {\n",
       "        vertical-align: top;\n",
       "    }\n",
       "\n",
       "    .dataframe thead th {\n",
       "        text-align: right;\n",
       "    }\n",
       "</style>\n",
       "<table border=\"1\" class=\"dataframe\">\n",
       "  <thead>\n",
       "    <tr style=\"text-align: right;\">\n",
       "      <th></th>\n",
       "      <th>0</th>\n",
       "      <th>1</th>\n",
       "      <th>2</th>\n",
       "    </tr>\n",
       "  </thead>\n",
       "  <tbody>\n",
       "    <tr>\n",
       "      <th>0</th>\n",
       "      <td>0</td>\n",
       "      <td>0</td>\n",
       "      <td>0</td>\n",
       "    </tr>\n",
       "    <tr>\n",
       "      <th>1</th>\n",
       "      <td>0</td>\n",
       "      <td>1</td>\n",
       "      <td>2</td>\n",
       "    </tr>\n",
       "    <tr>\n",
       "      <th>2</th>\n",
       "      <td>0</td>\n",
       "      <td>2</td>\n",
       "      <td>4</td>\n",
       "    </tr>\n",
       "    <tr>\n",
       "      <th>3</th>\n",
       "      <td>0</td>\n",
       "      <td>3</td>\n",
       "      <td>6</td>\n",
       "    </tr>\n",
       "  </tbody>\n",
       "</table>\n",
       "</div>"
      ],
      "text/plain": [
       "   0  1  2\n",
       "0  0  0  0\n",
       "1  0  1  2\n",
       "2  0  2  4\n",
       "3  0  3  6"
      ]
     },
     "execution_count": 38,
     "metadata": {},
     "output_type": "execute_result"
    }
   ],
   "source": [
    "# To rectify this \n",
    "# first think is to pass an 2D array\n",
    "\n",
    "a4 = np.fromfunction(lambda i, j: i*j, (4,3), dtype= int)\n",
    "pd.DataFrame(a4)\n",
    "\n",
    "# It works without an error\n",
    "# There are other ways to convery a 3D or more dimention\n",
    "# array to dataframe. That we will learn later"
   ]
  },
  {
   "cell_type": "code",
   "execution_count": 39,
   "id": "e115f3ee",
   "metadata": {},
   "outputs": [
    {
     "data": {
      "text/html": [
       "<div>\n",
       "<style scoped>\n",
       "    .dataframe tbody tr th:only-of-type {\n",
       "        vertical-align: middle;\n",
       "    }\n",
       "\n",
       "    .dataframe tbody tr th {\n",
       "        vertical-align: top;\n",
       "    }\n",
       "\n",
       "    .dataframe thead th {\n",
       "        text-align: right;\n",
       "    }\n",
       "</style>\n",
       "<table border=\"1\" class=\"dataframe\">\n",
       "  <thead>\n",
       "    <tr style=\"text-align: right;\">\n",
       "      <th></th>\n",
       "      <th>0</th>\n",
       "      <th>1</th>\n",
       "      <th>2</th>\n",
       "      <th>3</th>\n",
       "      <th>4</th>\n",
       "      <th>5</th>\n",
       "      <th>6</th>\n",
       "      <th>7</th>\n",
       "      <th>8</th>\n",
       "      <th>9</th>\n",
       "      <th>...</th>\n",
       "      <th>290</th>\n",
       "      <th>291</th>\n",
       "      <th>292</th>\n",
       "      <th>293</th>\n",
       "      <th>294</th>\n",
       "      <th>295</th>\n",
       "      <th>296</th>\n",
       "      <th>297</th>\n",
       "      <th>298</th>\n",
       "      <th>299</th>\n",
       "    </tr>\n",
       "  </thead>\n",
       "  <tbody>\n",
       "    <tr>\n",
       "      <th>0</th>\n",
       "      <td>0</td>\n",
       "      <td>0</td>\n",
       "      <td>0</td>\n",
       "      <td>0</td>\n",
       "      <td>0</td>\n",
       "      <td>0</td>\n",
       "      <td>0</td>\n",
       "      <td>0</td>\n",
       "      <td>0</td>\n",
       "      <td>0</td>\n",
       "      <td>...</td>\n",
       "      <td>0</td>\n",
       "      <td>0</td>\n",
       "      <td>0</td>\n",
       "      <td>0</td>\n",
       "      <td>0</td>\n",
       "      <td>0</td>\n",
       "      <td>0</td>\n",
       "      <td>0</td>\n",
       "      <td>0</td>\n",
       "      <td>0</td>\n",
       "    </tr>\n",
       "    <tr>\n",
       "      <th>1</th>\n",
       "      <td>0</td>\n",
       "      <td>1</td>\n",
       "      <td>2</td>\n",
       "      <td>3</td>\n",
       "      <td>4</td>\n",
       "      <td>5</td>\n",
       "      <td>6</td>\n",
       "      <td>7</td>\n",
       "      <td>8</td>\n",
       "      <td>9</td>\n",
       "      <td>...</td>\n",
       "      <td>290</td>\n",
       "      <td>291</td>\n",
       "      <td>292</td>\n",
       "      <td>293</td>\n",
       "      <td>294</td>\n",
       "      <td>295</td>\n",
       "      <td>296</td>\n",
       "      <td>297</td>\n",
       "      <td>298</td>\n",
       "      <td>299</td>\n",
       "    </tr>\n",
       "    <tr>\n",
       "      <th>2</th>\n",
       "      <td>0</td>\n",
       "      <td>2</td>\n",
       "      <td>4</td>\n",
       "      <td>6</td>\n",
       "      <td>8</td>\n",
       "      <td>10</td>\n",
       "      <td>12</td>\n",
       "      <td>14</td>\n",
       "      <td>16</td>\n",
       "      <td>18</td>\n",
       "      <td>...</td>\n",
       "      <td>580</td>\n",
       "      <td>582</td>\n",
       "      <td>584</td>\n",
       "      <td>586</td>\n",
       "      <td>588</td>\n",
       "      <td>590</td>\n",
       "      <td>592</td>\n",
       "      <td>594</td>\n",
       "      <td>596</td>\n",
       "      <td>598</td>\n",
       "    </tr>\n",
       "    <tr>\n",
       "      <th>3</th>\n",
       "      <td>0</td>\n",
       "      <td>3</td>\n",
       "      <td>6</td>\n",
       "      <td>9</td>\n",
       "      <td>12</td>\n",
       "      <td>15</td>\n",
       "      <td>18</td>\n",
       "      <td>21</td>\n",
       "      <td>24</td>\n",
       "      <td>27</td>\n",
       "      <td>...</td>\n",
       "      <td>870</td>\n",
       "      <td>873</td>\n",
       "      <td>876</td>\n",
       "      <td>879</td>\n",
       "      <td>882</td>\n",
       "      <td>885</td>\n",
       "      <td>888</td>\n",
       "      <td>891</td>\n",
       "      <td>894</td>\n",
       "      <td>897</td>\n",
       "    </tr>\n",
       "    <tr>\n",
       "      <th>4</th>\n",
       "      <td>0</td>\n",
       "      <td>4</td>\n",
       "      <td>8</td>\n",
       "      <td>12</td>\n",
       "      <td>16</td>\n",
       "      <td>20</td>\n",
       "      <td>24</td>\n",
       "      <td>28</td>\n",
       "      <td>32</td>\n",
       "      <td>36</td>\n",
       "      <td>...</td>\n",
       "      <td>1160</td>\n",
       "      <td>1164</td>\n",
       "      <td>1168</td>\n",
       "      <td>1172</td>\n",
       "      <td>1176</td>\n",
       "      <td>1180</td>\n",
       "      <td>1184</td>\n",
       "      <td>1188</td>\n",
       "      <td>1192</td>\n",
       "      <td>1196</td>\n",
       "    </tr>\n",
       "    <tr>\n",
       "      <th>...</th>\n",
       "      <td>...</td>\n",
       "      <td>...</td>\n",
       "      <td>...</td>\n",
       "      <td>...</td>\n",
       "      <td>...</td>\n",
       "      <td>...</td>\n",
       "      <td>...</td>\n",
       "      <td>...</td>\n",
       "      <td>...</td>\n",
       "      <td>...</td>\n",
       "      <td>...</td>\n",
       "      <td>...</td>\n",
       "      <td>...</td>\n",
       "      <td>...</td>\n",
       "      <td>...</td>\n",
       "      <td>...</td>\n",
       "      <td>...</td>\n",
       "      <td>...</td>\n",
       "      <td>...</td>\n",
       "      <td>...</td>\n",
       "      <td>...</td>\n",
       "    </tr>\n",
       "    <tr>\n",
       "      <th>395</th>\n",
       "      <td>0</td>\n",
       "      <td>395</td>\n",
       "      <td>790</td>\n",
       "      <td>1185</td>\n",
       "      <td>1580</td>\n",
       "      <td>1975</td>\n",
       "      <td>2370</td>\n",
       "      <td>2765</td>\n",
       "      <td>3160</td>\n",
       "      <td>3555</td>\n",
       "      <td>...</td>\n",
       "      <td>114550</td>\n",
       "      <td>114945</td>\n",
       "      <td>115340</td>\n",
       "      <td>115735</td>\n",
       "      <td>116130</td>\n",
       "      <td>116525</td>\n",
       "      <td>116920</td>\n",
       "      <td>117315</td>\n",
       "      <td>117710</td>\n",
       "      <td>118105</td>\n",
       "    </tr>\n",
       "    <tr>\n",
       "      <th>396</th>\n",
       "      <td>0</td>\n",
       "      <td>396</td>\n",
       "      <td>792</td>\n",
       "      <td>1188</td>\n",
       "      <td>1584</td>\n",
       "      <td>1980</td>\n",
       "      <td>2376</td>\n",
       "      <td>2772</td>\n",
       "      <td>3168</td>\n",
       "      <td>3564</td>\n",
       "      <td>...</td>\n",
       "      <td>114840</td>\n",
       "      <td>115236</td>\n",
       "      <td>115632</td>\n",
       "      <td>116028</td>\n",
       "      <td>116424</td>\n",
       "      <td>116820</td>\n",
       "      <td>117216</td>\n",
       "      <td>117612</td>\n",
       "      <td>118008</td>\n",
       "      <td>118404</td>\n",
       "    </tr>\n",
       "    <tr>\n",
       "      <th>397</th>\n",
       "      <td>0</td>\n",
       "      <td>397</td>\n",
       "      <td>794</td>\n",
       "      <td>1191</td>\n",
       "      <td>1588</td>\n",
       "      <td>1985</td>\n",
       "      <td>2382</td>\n",
       "      <td>2779</td>\n",
       "      <td>3176</td>\n",
       "      <td>3573</td>\n",
       "      <td>...</td>\n",
       "      <td>115130</td>\n",
       "      <td>115527</td>\n",
       "      <td>115924</td>\n",
       "      <td>116321</td>\n",
       "      <td>116718</td>\n",
       "      <td>117115</td>\n",
       "      <td>117512</td>\n",
       "      <td>117909</td>\n",
       "      <td>118306</td>\n",
       "      <td>118703</td>\n",
       "    </tr>\n",
       "    <tr>\n",
       "      <th>398</th>\n",
       "      <td>0</td>\n",
       "      <td>398</td>\n",
       "      <td>796</td>\n",
       "      <td>1194</td>\n",
       "      <td>1592</td>\n",
       "      <td>1990</td>\n",
       "      <td>2388</td>\n",
       "      <td>2786</td>\n",
       "      <td>3184</td>\n",
       "      <td>3582</td>\n",
       "      <td>...</td>\n",
       "      <td>115420</td>\n",
       "      <td>115818</td>\n",
       "      <td>116216</td>\n",
       "      <td>116614</td>\n",
       "      <td>117012</td>\n",
       "      <td>117410</td>\n",
       "      <td>117808</td>\n",
       "      <td>118206</td>\n",
       "      <td>118604</td>\n",
       "      <td>119002</td>\n",
       "    </tr>\n",
       "    <tr>\n",
       "      <th>399</th>\n",
       "      <td>0</td>\n",
       "      <td>399</td>\n",
       "      <td>798</td>\n",
       "      <td>1197</td>\n",
       "      <td>1596</td>\n",
       "      <td>1995</td>\n",
       "      <td>2394</td>\n",
       "      <td>2793</td>\n",
       "      <td>3192</td>\n",
       "      <td>3591</td>\n",
       "      <td>...</td>\n",
       "      <td>115710</td>\n",
       "      <td>116109</td>\n",
       "      <td>116508</td>\n",
       "      <td>116907</td>\n",
       "      <td>117306</td>\n",
       "      <td>117705</td>\n",
       "      <td>118104</td>\n",
       "      <td>118503</td>\n",
       "      <td>118902</td>\n",
       "      <td>119301</td>\n",
       "    </tr>\n",
       "  </tbody>\n",
       "</table>\n",
       "<p>400 rows × 300 columns</p>\n",
       "</div>"
      ],
      "text/plain": [
       "     0    1    2     3     4     5     6     7     8     9    ...     290  \\\n",
       "0      0    0    0     0     0     0     0     0     0     0  ...       0   \n",
       "1      0    1    2     3     4     5     6     7     8     9  ...     290   \n",
       "2      0    2    4     6     8    10    12    14    16    18  ...     580   \n",
       "3      0    3    6     9    12    15    18    21    24    27  ...     870   \n",
       "4      0    4    8    12    16    20    24    28    32    36  ...    1160   \n",
       "..   ...  ...  ...   ...   ...   ...   ...   ...   ...   ...  ...     ...   \n",
       "395    0  395  790  1185  1580  1975  2370  2765  3160  3555  ...  114550   \n",
       "396    0  396  792  1188  1584  1980  2376  2772  3168  3564  ...  114840   \n",
       "397    0  397  794  1191  1588  1985  2382  2779  3176  3573  ...  115130   \n",
       "398    0  398  796  1194  1592  1990  2388  2786  3184  3582  ...  115420   \n",
       "399    0  399  798  1197  1596  1995  2394  2793  3192  3591  ...  115710   \n",
       "\n",
       "        291     292     293     294     295     296     297     298     299  \n",
       "0         0       0       0       0       0       0       0       0       0  \n",
       "1       291     292     293     294     295     296     297     298     299  \n",
       "2       582     584     586     588     590     592     594     596     598  \n",
       "3       873     876     879     882     885     888     891     894     897  \n",
       "4      1164    1168    1172    1176    1180    1184    1188    1192    1196  \n",
       "..      ...     ...     ...     ...     ...     ...     ...     ...     ...  \n",
       "395  114945  115340  115735  116130  116525  116920  117315  117710  118105  \n",
       "396  115236  115632  116028  116424  116820  117216  117612  118008  118404  \n",
       "397  115527  115924  116321  116718  117115  117512  117909  118306  118703  \n",
       "398  115818  116216  116614  117012  117410  117808  118206  118604  119002  \n",
       "399  116109  116508  116907  117306  117705  118104  118503  118902  119301  \n",
       "\n",
       "[400 rows x 300 columns]"
      ]
     },
     "execution_count": 39,
     "metadata": {},
     "output_type": "execute_result"
    }
   ],
   "source": [
    "# Its very convineant \n",
    "# to create large dataframe with this\n",
    "\n",
    "a4 = np.fromfunction(lambda i, j: i*j, (400,300), dtype= int)\n",
    "pd.DataFrame(a4)"
   ]
  },
  {
   "cell_type": "code",
   "execution_count": null,
   "id": "67e69fae",
   "metadata": {},
   "outputs": [],
   "source": []
  },
  {
   "cell_type": "code",
   "execution_count": null,
   "id": "33814380",
   "metadata": {},
   "outputs": [],
   "source": []
  },
  {
   "cell_type": "markdown",
   "id": "95020f37",
   "metadata": {},
   "source": [
    "Random Function in Numpy"
   ]
  },
  {
   "cell_type": "code",
   "execution_count": 40,
   "id": "32cdac91",
   "metadata": {},
   "outputs": [
    {
     "data": {
      "text/plain": [
       "array([[0.83949424, 0.93299658, 0.35261306, 0.56743967],\n",
       "       [0.34363995, 0.40924488, 0.45480493, 0.11271153],\n",
       "       [0.41280134, 0.19849535, 0.02933007, 0.46477811],\n",
       "       [0.21745494, 0.26711131, 0.91499793, 0.83831783],\n",
       "       [0.38267693, 0.39859483, 0.25419258, 0.43860829],\n",
       "       [0.98664309, 0.71819627, 0.79074384, 0.1893419 ],\n",
       "       [0.5763398 , 0.95599649, 0.11838882, 0.06342606],\n",
       "       [0.55390509, 0.38782017, 0.04300797, 0.79838592],\n",
       "       [0.58526229, 0.83625515, 0.80041746, 0.05022619],\n",
       "       [0.24623947, 0.06593697, 0.29164937, 0.60036936],\n",
       "       [0.72507195, 0.59432133, 0.48034269, 0.64301017],\n",
       "       [0.08531399, 0.8952282 , 0.89694896, 0.96541997],\n",
       "       [0.71628718, 0.1873299 , 0.2802168 , 0.10035538],\n",
       "       [0.231509  , 0.08826838, 0.6444394 , 0.83597093],\n",
       "       [0.22652679, 0.20216428, 0.4554476 , 0.73987198],\n",
       "       [0.69298967, 0.43981688, 0.6742296 , 0.61717638],\n",
       "       [0.46002464, 0.21983798, 0.60640009, 0.42680272],\n",
       "       [0.8523368 , 0.23586033, 0.79079744, 0.31162248],\n",
       "       [0.66171621, 0.1809822 , 0.66747373, 0.52260737],\n",
       "       [0.9301814 , 0.13755711, 0.69613336, 0.39836009],\n",
       "       [0.86704049, 0.51126806, 0.24416551, 0.9655073 ],\n",
       "       [0.68349145, 0.99581854, 0.37705977, 0.08037953],\n",
       "       [0.21047983, 0.89627919, 0.23337307, 0.51142657],\n",
       "       [0.5953833 , 0.63095892, 0.02437907, 0.1323661 ],\n",
       "       [0.43753797, 0.77474163, 0.27688838, 0.12141598],\n",
       "       [0.92097183, 0.99212612, 0.45936721, 0.9325402 ],\n",
       "       [0.42809655, 0.12971185, 0.03517904, 0.50965299],\n",
       "       [0.40807292, 0.21608019, 0.46584117, 0.32765201],\n",
       "       [0.75049527, 0.30412408, 0.76062907, 0.20794992],\n",
       "       [0.06196527, 0.82097438, 0.3664756 , 0.84505998],\n",
       "       [0.31881602, 0.89752639, 0.25403824, 0.99650217],\n",
       "       [0.69083553, 0.60064205, 0.44269725, 0.07889265],\n",
       "       [0.07636526, 0.40826334, 0.58712734, 0.98995218],\n",
       "       [0.93650148, 0.79308894, 0.58527761, 0.18982103],\n",
       "       [0.88367297, 0.54155832, 0.78009653, 0.18464087],\n",
       "       [0.12128537, 0.25757958, 0.73886723, 0.52196041],\n",
       "       [0.3182122 , 0.62819772, 0.63556996, 0.00248844],\n",
       "       [0.12413094, 0.42029713, 0.88801992, 0.28728699],\n",
       "       [0.03685207, 0.35299077, 0.19366607, 0.84801676],\n",
       "       [0.46624494, 0.46459237, 0.23728196, 0.79139038],\n",
       "       [0.21759004, 0.57163976, 0.42385851, 0.65073718],\n",
       "       [0.09204545, 0.38137659, 0.62660248, 0.94279879],\n",
       "       [0.61185242, 0.63097488, 0.90182888, 0.3710499 ],\n",
       "       [0.96210252, 0.4800313 , 0.64773936, 0.5624031 ],\n",
       "       [0.50731967, 0.23897976, 0.23485603, 0.14623258],\n",
       "       [0.67566758, 0.2647693 , 0.17410971, 0.23769949],\n",
       "       [0.04869911, 0.05564786, 0.69584175, 0.19318762],\n",
       "       [0.42152847, 0.5022006 , 0.91859434, 0.41484034],\n",
       "       [0.92060846, 0.55624022, 0.06353342, 0.65706723],\n",
       "       [0.28772838, 0.64011649, 0.59146188, 0.93877273],\n",
       "       [0.52230649, 0.0235323 , 0.68124289, 0.04882831],\n",
       "       [0.22674123, 0.26505973, 0.62486189, 0.65482895],\n",
       "       [0.34495579, 0.7423391 , 0.2345526 , 0.12294852],\n",
       "       [0.90203638, 0.38497315, 0.73612427, 0.2231011 ],\n",
       "       [0.6075131 , 0.81510153, 0.38552862, 0.83488971],\n",
       "       [0.97735754, 0.08688235, 0.23601062, 0.31691546],\n",
       "       [0.95032162, 0.88687595, 0.04591548, 0.69180816],\n",
       "       [0.78987968, 0.26877099, 0.1685922 , 0.28814126],\n",
       "       [0.45209494, 0.07796531, 0.34586967, 0.69973594],\n",
       "       [0.726494  , 0.41661362, 0.55561379, 0.23168632],\n",
       "       [0.47134477, 0.10986531, 0.33469567, 0.6473715 ],\n",
       "       [0.90586381, 0.1766483 , 0.30333909, 0.26620673],\n",
       "       [0.41848488, 0.31641894, 0.40881911, 0.98581587],\n",
       "       [0.62345881, 0.01629725, 0.08824982, 0.7072147 ],\n",
       "       [0.74301282, 0.49722325, 0.67794294, 0.1830415 ],\n",
       "       [0.46777814, 0.04582012, 0.99398723, 0.30124671],\n",
       "       [0.59258706, 0.56746133, 0.96945192, 0.17862335],\n",
       "       [0.39697813, 0.49615679, 0.89524124, 0.65856935],\n",
       "       [0.01083752, 0.63319322, 0.34008062, 0.35449144],\n",
       "       [0.79326467, 0.03465344, 0.16234748, 0.55455962],\n",
       "       [0.96197312, 0.86779676, 0.55346144, 0.9422976 ],\n",
       "       [0.09558775, 0.28068519, 0.39821229, 0.88091847],\n",
       "       [0.17311909, 0.30406382, 0.75144607, 0.52914403],\n",
       "       [0.13092261, 0.40952993, 0.8833336 , 0.89966853],\n",
       "       [0.39177779, 0.71584598, 0.19230006, 0.603679  ],\n",
       "       [0.33212445, 0.43100059, 0.80455448, 0.32886097],\n",
       "       [0.85266777, 0.43821748, 0.7552209 , 0.3561497 ],\n",
       "       [0.22078823, 0.4472156 , 0.34542187, 0.88840018],\n",
       "       [0.2749831 , 0.58327737, 0.30663576, 0.78536875],\n",
       "       [0.39261069, 0.06083835, 0.0243229 , 0.93916388],\n",
       "       [0.80365962, 0.20260665, 0.53203565, 0.02557116],\n",
       "       [0.69282385, 0.37989539, 0.48522217, 0.03707415],\n",
       "       [0.17333677, 0.37033735, 0.78009586, 0.49413689],\n",
       "       [0.14784307, 0.09107557, 0.23515265, 0.1417448 ],\n",
       "       [0.53224368, 0.36702023, 0.081507  , 0.49129131],\n",
       "       [0.99578827, 0.89961755, 0.97758796, 0.89255557],\n",
       "       [0.92373375, 0.63069149, 0.06514423, 0.40310289],\n",
       "       [0.34281918, 0.34947373, 0.69581454, 0.70412337],\n",
       "       [0.6718026 , 0.34943394, 0.78608782, 0.58700307],\n",
       "       [0.06943329, 0.37365749, 0.62284297, 0.92515537],\n",
       "       [0.45903967, 0.52528654, 0.28520915, 0.95250677],\n",
       "       [0.40742681, 0.02558656, 0.70709166, 0.41988018],\n",
       "       [0.31964212, 0.14770843, 0.74404932, 0.07536431],\n",
       "       [0.66387915, 0.62685167, 0.41771104, 0.01280327],\n",
       "       [0.86646098, 0.29467542, 0.96573791, 0.89166179],\n",
       "       [0.56118498, 0.95435578, 0.46271508, 0.64443514],\n",
       "       [0.60191304, 0.91111587, 0.15271609, 0.01128184],\n",
       "       [0.27026884, 0.66033135, 0.05160459, 0.51288348],\n",
       "       [0.31465295, 0.49977883, 0.22230553, 0.63662092],\n",
       "       [0.48056202, 0.19629099, 0.49603319, 0.83131966]])"
      ]
     },
     "execution_count": 40,
     "metadata": {},
     "output_type": "execute_result"
    }
   ],
   "source": [
    "# 'rand' function in the np.random module\n",
    "# will create a random array\n",
    "# from the given dimention\n",
    "\n",
    "np.random.rand(100,4)\n",
    "\n",
    "# Input here should always be a dimention\n",
    "# It creates randon float valus btw 0 and 1"
   ]
  },
  {
   "cell_type": "code",
   "execution_count": null,
   "id": "54427d96",
   "metadata": {},
   "outputs": [],
   "source": [
    "\"\"\"\n",
    "rand Systax and Dockstring\n",
    "\n",
    "Docstring:\n",
    "rand(d0, d1, ..., dn)\n",
    "\n",
    "Random values in a given shape.\n",
    "\n",
    ".. note::\n",
    "    This is a convenience function for users porting code from Matlab,\n",
    "    and wraps `random_sample`. That function takes a\n",
    "    tuple to specify the size of the output, which is consistent with\n",
    "    other NumPy functions like `numpy.zeros` and `numpy.ones`.\n",
    "\n",
    "Create an array of the given shape and populate it with\n",
    "random samples from a uniform distribution\n",
    "over ``[0, 1)``.\n",
    "\n",
    "Parameters\n",
    "----------\n",
    "d0, d1, ..., dn : int, optional\n",
    "    The dimensions of the returned array, must be non-negative.\n",
    "    If no argument is given a single Python float is returned.\n",
    "\n",
    "Returns\n",
    "-------\n",
    "out : ndarray, shape ``(d0, d1, ..., dn)``\n",
    "    Random values.\n",
    "\"\"\""
   ]
  },
  {
   "cell_type": "code",
   "execution_count": 41,
   "id": "e2d4a51b",
   "metadata": {},
   "outputs": [
    {
     "data": {
      "text/plain": [
       "11"
      ]
     },
     "execution_count": 41,
     "metadata": {},
     "output_type": "execute_result"
    }
   ],
   "source": [
    "# 'randint' function will generate a random \n",
    "# int value btw the range given \n",
    "\n",
    "np.random.randint(4,50)"
   ]
  },
  {
   "cell_type": "code",
   "execution_count": null,
   "id": "f3f4a269",
   "metadata": {},
   "outputs": [],
   "source": [
    "\"\"\"\n",
    "Docstring:\n",
    "randint(low, high=None, size=None, dtype=int)\n",
    "\n",
    "Return random integers from `low` (inclusive) to `high` (exclusive).\n",
    "\n",
    "Return random integers from the \"discrete uniform\" distribution of\n",
    "the specified dtype in the \"half-open\" interval [`low`, `high`). If\n",
    "`high` is None (the default), then results are from [0, `low`).\n",
    "\n",
    ".. note::\n",
    "    New code should use the `~numpy.random.Generator.randint`\n",
    "    method of a `~numpy.random.Generator` instance instead;\n",
    "    please see the :ref:`random-quick-start`.\n",
    "\n",
    "Parameters\n",
    "----------\n",
    "low : int or array-like of ints\n",
    "    Lowest (signed) integers to be drawn from the distribution (unless\n",
    "    ``high=None``, in which case this parameter is one above the\n",
    "    *highest* such integer).\n",
    "high : int or array-like of ints, optional\n",
    "    If provided, one above the largest (signed) integer to be drawn\n",
    "    from the distribution (see above for behavior if ``high=None``).\n",
    "    If array-like, must contain integer values\n",
    "size : int or tuple of ints, optional\n",
    "    Output shape.  If the given shape is, e.g., ``(m, n, k)``, then\n",
    "    ``m * n * k`` samples are drawn.  Default is None, in which case a\n",
    "    single value is returned.\n",
    "dtype : dtype, optional\n",
    "    Desired dtype of the result. Byteorder must be native.\n",
    "    The default value is int.\n",
    "\n",
    "    .. versionadded:: 1.11.0\n",
    "\n",
    "Returns\n",
    "-------\n",
    "out : int or ndarray of ints\n",
    "    `size`-shaped array of random integers from the appropriate\n",
    "    distribution, or a single such random int if `size` not provided.\n",
    "\"\"\""
   ]
  },
  {
   "cell_type": "code",
   "execution_count": 42,
   "id": "b9c3e911",
   "metadata": {},
   "outputs": [
    {
     "data": {
      "text/plain": [
       "array([[ 0.23661481, -0.5142779 , -0.95902521,  0.54919565,  0.13336619],\n",
       "       [-0.20017484,  0.40025882, -0.27292579, -0.69917161,  0.57976419],\n",
       "       [-1.62448353, -0.01270054, -0.83364023,  1.50725097, -0.83391162],\n",
       "       [-1.64711802, -1.23983565,  0.84096193, -0.64125872, -1.00218837]])"
      ]
     },
     "execution_count": 42,
     "metadata": {},
     "output_type": "execute_result"
    }
   ],
   "source": [
    "# 'randn' function will \n",
    "\n",
    "np.random.randn(4,5)\n",
    "\n",
    "# It given a random array with 'normal distribution'\n",
    "# In case we find the average of these numbers it will be 0\n",
    "# and standrad distribution of these numbers will be 1\n",
    "\n",
    "# More details below"
   ]
  },
  {
   "cell_type": "code",
   "execution_count": null,
   "id": "c1b36cbe",
   "metadata": {},
   "outputs": [],
   "source": [
    "\"\"\"\n",
    "Docstring:\n",
    "randn(d0, d1, ..., dn)\n",
    "\n",
    "Return a sample (or samples) from the \"standard normal\" distribution.\n",
    "\n",
    ".. note::\n",
    "    This is a convenience function for users porting code from Matlab,\n",
    "    and wraps `standard_normal`. That function takes a\n",
    "    tuple to specify the size of the output, which is consistent with\n",
    "    other NumPy functions like `numpy.zeros` and `numpy.ones`.\n",
    "\n",
    ".. note::\n",
    "    New code should use the\n",
    "    `~numpy.random.Generator.standard_normal`\n",
    "    method of a `~numpy.random.Generator` instance instead;\n",
    "    please see the :ref:`random-quick-start`.\n",
    "\n",
    "If positive int_like arguments are provided, `randn` generates an array\n",
    "of shape ``(d0, d1, ..., dn)``, filled\n",
    "with random floats sampled from a univariate \"normal\" (Gaussian)\n",
    "distribution of mean 0 and variance 1. A single float randomly sampled\n",
    "from the distribution is returned if no argument is provided.\n",
    "\n",
    "Parameters\n",
    "----------\n",
    "d0, d1, ..., dn : int, optional\n",
    "    The dimensions of the returned array, must be non-negative.\n",
    "    If no argument is given a single Python float is returned.\n",
    "\n",
    "Returns\n",
    "-------\n",
    "Z : ndarray or float\n",
    "    A ``(d0, d1, ..., dn)``-shaped array of floating-point samples from\n",
    "    the standard normal distribution, or a single such float if\n",
    "    no parameters were supplied.\n",
    "\"\"\""
   ]
  },
  {
   "cell_type": "code",
   "execution_count": 43,
   "id": "230d1037",
   "metadata": {},
   "outputs": [
    {
     "data": {
      "text/html": [
       "<div>\n",
       "<style scoped>\n",
       "    .dataframe tbody tr th:only-of-type {\n",
       "        vertical-align: middle;\n",
       "    }\n",
       "\n",
       "    .dataframe tbody tr th {\n",
       "        vertical-align: top;\n",
       "    }\n",
       "\n",
       "    .dataframe thead th {\n",
       "        text-align: right;\n",
       "    }\n",
       "</style>\n",
       "<table border=\"1\" class=\"dataframe\">\n",
       "  <thead>\n",
       "    <tr style=\"text-align: right;\">\n",
       "      <th></th>\n",
       "      <th>0</th>\n",
       "      <th>1</th>\n",
       "      <th>2</th>\n",
       "      <th>3</th>\n",
       "      <th>4</th>\n",
       "    </tr>\n",
       "  </thead>\n",
       "  <tbody>\n",
       "    <tr>\n",
       "      <th>0</th>\n",
       "      <td>-1.456623</td>\n",
       "      <td>0.377527</td>\n",
       "      <td>-0.405312</td>\n",
       "      <td>-0.544471</td>\n",
       "      <td>-0.114527</td>\n",
       "    </tr>\n",
       "    <tr>\n",
       "      <th>1</th>\n",
       "      <td>0.359268</td>\n",
       "      <td>-0.796624</td>\n",
       "      <td>-1.767937</td>\n",
       "      <td>1.065213</td>\n",
       "      <td>-1.485569</td>\n",
       "    </tr>\n",
       "    <tr>\n",
       "      <th>2</th>\n",
       "      <td>-1.479832</td>\n",
       "      <td>-1.628115</td>\n",
       "      <td>1.189978</td>\n",
       "      <td>-1.137285</td>\n",
       "      <td>-2.777397</td>\n",
       "    </tr>\n",
       "    <tr>\n",
       "      <th>3</th>\n",
       "      <td>0.475536</td>\n",
       "      <td>1.219215</td>\n",
       "      <td>1.795479</td>\n",
       "      <td>0.139409</td>\n",
       "      <td>-1.132073</td>\n",
       "    </tr>\n",
       "  </tbody>\n",
       "</table>\n",
       "</div>"
      ],
      "text/plain": [
       "          0         1         2         3         4\n",
       "0 -1.456623  0.377527 -0.405312 -0.544471 -0.114527\n",
       "1  0.359268 -0.796624 -1.767937  1.065213 -1.485569\n",
       "2 -1.479832 -1.628115  1.189978 -1.137285 -2.777397\n",
       "3  0.475536  1.219215  1.795479  0.139409 -1.132073"
      ]
     },
     "execution_count": 43,
     "metadata": {},
     "output_type": "execute_result"
    }
   ],
   "source": [
    "# Now if we want to create a df\n",
    "pd.DataFrame(np.random.randn(4,5))"
   ]
  },
  {
   "cell_type": "code",
   "execution_count": null,
   "id": "ca0a76d2",
   "metadata": {},
   "outputs": [],
   "source": []
  },
  {
   "cell_type": "code",
   "execution_count": null,
   "id": "7dd3b1e1",
   "metadata": {},
   "outputs": [],
   "source": []
  },
  {
   "cell_type": "markdown",
   "id": "3fb92d5c",
   "metadata": {},
   "source": [
    "Reshaping the array"
   ]
  },
  {
   "cell_type": "code",
   "execution_count": 47,
   "id": "d6c79561",
   "metadata": {},
   "outputs": [
    {
     "data": {
      "text/plain": [
       "3"
      ]
     },
     "execution_count": 47,
     "metadata": {},
     "output_type": "execute_result"
    }
   ],
   "source": [
    "a3.ndim"
   ]
  },
  {
   "cell_type": "code",
   "execution_count": 48,
   "id": "5995a561",
   "metadata": {},
   "outputs": [
    {
     "data": {
      "text/plain": [
       "(4, 3, 2)"
      ]
     },
     "execution_count": 48,
     "metadata": {},
     "output_type": "execute_result"
    }
   ],
   "source": [
    "a3.shape"
   ]
  },
  {
   "cell_type": "code",
   "execution_count": 54,
   "id": "ff9d9d0f",
   "metadata": {},
   "outputs": [
    {
     "data": {
      "text/plain": [
       "24"
      ]
     },
     "execution_count": 54,
     "metadata": {},
     "output_type": "execute_result"
    }
   ],
   "source": [
    "a3.size"
   ]
  },
  {
   "cell_type": "code",
   "execution_count": 49,
   "id": "ba2cb05e",
   "metadata": {},
   "outputs": [
    {
     "ename": "ValueError",
     "evalue": "cannot reshape array of size 24 into shape (5,5)",
     "output_type": "error",
     "traceback": [
      "\u001b[1;31m---------------------------------------------------------------------------\u001b[0m",
      "\u001b[1;31mValueError\u001b[0m                                Traceback (most recent call last)",
      "Cell \u001b[1;32mIn[49], line 5\u001b[0m\n\u001b[0;32m      1\u001b[0m \u001b[38;5;66;03m# To reshape a array \u001b[39;00m\n\u001b[0;32m      2\u001b[0m \u001b[38;5;66;03m# we can use the 'reshape' function\u001b[39;00m\n\u001b[0;32m      3\u001b[0m \u001b[38;5;66;03m# Where we will provide the new dimentions inside '()'\u001b[39;00m\n\u001b[1;32m----> 5\u001b[0m \u001b[43ma3\u001b[49m\u001b[38;5;241;43m.\u001b[39;49m\u001b[43mreshape\u001b[49m\u001b[43m(\u001b[49m\u001b[38;5;241;43m5\u001b[39;49m\u001b[43m,\u001b[49m\u001b[38;5;241;43m5\u001b[39;49m\u001b[43m)\u001b[49m\n\u001b[0;32m      7\u001b[0m \u001b[38;5;66;03m# This reshape operation will not work \u001b[39;00m\n\u001b[0;32m      8\u001b[0m \u001b[38;5;66;03m# Because the new dimentions are 5 and 5 \u001b[39;00m\n\u001b[0;32m      9\u001b[0m \u001b[38;5;66;03m# Which are not related to earlier dimentions\u001b[39;00m\n",
      "\u001b[1;31mValueError\u001b[0m: cannot reshape array of size 24 into shape (5,5)"
     ]
    }
   ],
   "source": [
    "# To reshape a array \n",
    "# we can use the 'reshape' function\n",
    "# Where we will provide the new dimentions/shape inside '()'\n",
    "\n",
    "a3.reshape(5,5)\n",
    "\n",
    "# This reshape operation will not work \n",
    "# Because the new dimentions/shape are 5 and 5 \n",
    "# Which are not related to earlier dimentions/shape"
   ]
  },
  {
   "cell_type": "code",
   "execution_count": 50,
   "id": "a9c7c9b7",
   "metadata": {},
   "outputs": [
    {
     "data": {
      "text/plain": [
       "array([[0, 0],\n",
       "       [0, 0],\n",
       "       [0, 0],\n",
       "       [0, 0],\n",
       "       [0, 1],\n",
       "       [0, 2],\n",
       "       [0, 0],\n",
       "       [0, 2],\n",
       "       [0, 4],\n",
       "       [0, 0],\n",
       "       [0, 3],\n",
       "       [0, 6]])"
      ]
     },
     "execution_count": 50,
     "metadata": {},
     "output_type": "execute_result"
    }
   ],
   "source": [
    "# To fix this \n",
    "# we can try changing the dimention/shape as\n",
    "\n",
    "a3.reshape(12,2)\n",
    "\n",
    "# So we multiplied 4 and 3 \n",
    "# and set the new row value as 12\n",
    "\n",
    "# This only works if the new shape mentioned\n",
    "# is in factor of 24 (size of the array)"
   ]
  },
  {
   "cell_type": "code",
   "execution_count": 52,
   "id": "36828634",
   "metadata": {},
   "outputs": [
    {
     "data": {
      "text/plain": [
       "array([[0, 0, 0, 0],\n",
       "       [0, 0, 0, 0],\n",
       "       [0, 1, 0, 2],\n",
       "       [0, 0, 0, 2],\n",
       "       [0, 4, 0, 0],\n",
       "       [0, 3, 0, 6]])"
      ]
     },
     "execution_count": 52,
     "metadata": {},
     "output_type": "execute_result"
    }
   ],
   "source": [
    "# We can also set teh dimentions/shape like below\n",
    "\n",
    "a3.reshape(6,4)\n",
    "\n",
    "# Here we multiplied 3 and 2 \n",
    "# and kept the 4 as columns"
   ]
  },
  {
   "cell_type": "code",
   "execution_count": 53,
   "id": "d735e159",
   "metadata": {},
   "outputs": [
    {
     "data": {
      "text/plain": [
       "array([[0, 0, 0],\n",
       "       [0, 0, 0],\n",
       "       [0, 0, 0],\n",
       "       [1, 0, 2],\n",
       "       [0, 0, 0],\n",
       "       [2, 0, 4],\n",
       "       [0, 0, 0],\n",
       "       [3, 0, 6]])"
      ]
     },
     "execution_count": 53,
     "metadata": {},
     "output_type": "execute_result"
    }
   ],
   "source": [
    "# And\n",
    "\n",
    "a3.reshape(8,3)\n",
    "\n",
    "# This will work with combinations of\n",
    "# factors of 24 (which is the size of the array) "
   ]
  },
  {
   "cell_type": "code",
   "execution_count": 55,
   "id": "5afba202",
   "metadata": {},
   "outputs": [
    {
     "data": {
      "text/plain": [
       "array([[0, 0, 0, 0, 0, 0, 0, 0, 0, 1, 0, 2, 0, 0, 0, 2, 0, 4, 0, 0, 0, 3,\n",
       "        0, 6]])"
      ]
     },
     "execution_count": 55,
     "metadata": {},
     "output_type": "execute_result"
    }
   ],
   "source": [
    "# And\n",
    "\n",
    "a3.reshape(1,24)"
   ]
  },
  {
   "cell_type": "code",
   "execution_count": 56,
   "id": "74c1ffc5",
   "metadata": {},
   "outputs": [
    {
     "data": {
      "text/html": [
       "<div>\n",
       "<style scoped>\n",
       "    .dataframe tbody tr th:only-of-type {\n",
       "        vertical-align: middle;\n",
       "    }\n",
       "\n",
       "    .dataframe tbody tr th {\n",
       "        vertical-align: top;\n",
       "    }\n",
       "\n",
       "    .dataframe thead th {\n",
       "        text-align: right;\n",
       "    }\n",
       "</style>\n",
       "<table border=\"1\" class=\"dataframe\">\n",
       "  <thead>\n",
       "    <tr style=\"text-align: right;\">\n",
       "      <th></th>\n",
       "      <th>0</th>\n",
       "      <th>1</th>\n",
       "      <th>2</th>\n",
       "    </tr>\n",
       "  </thead>\n",
       "  <tbody>\n",
       "    <tr>\n",
       "      <th>0</th>\n",
       "      <td>0</td>\n",
       "      <td>0</td>\n",
       "      <td>0</td>\n",
       "    </tr>\n",
       "    <tr>\n",
       "      <th>1</th>\n",
       "      <td>0</td>\n",
       "      <td>0</td>\n",
       "      <td>0</td>\n",
       "    </tr>\n",
       "    <tr>\n",
       "      <th>2</th>\n",
       "      <td>0</td>\n",
       "      <td>0</td>\n",
       "      <td>0</td>\n",
       "    </tr>\n",
       "    <tr>\n",
       "      <th>3</th>\n",
       "      <td>1</td>\n",
       "      <td>0</td>\n",
       "      <td>2</td>\n",
       "    </tr>\n",
       "    <tr>\n",
       "      <th>4</th>\n",
       "      <td>0</td>\n",
       "      <td>0</td>\n",
       "      <td>0</td>\n",
       "    </tr>\n",
       "    <tr>\n",
       "      <th>5</th>\n",
       "      <td>2</td>\n",
       "      <td>0</td>\n",
       "      <td>4</td>\n",
       "    </tr>\n",
       "    <tr>\n",
       "      <th>6</th>\n",
       "      <td>0</td>\n",
       "      <td>0</td>\n",
       "      <td>0</td>\n",
       "    </tr>\n",
       "    <tr>\n",
       "      <th>7</th>\n",
       "      <td>3</td>\n",
       "      <td>0</td>\n",
       "      <td>6</td>\n",
       "    </tr>\n",
       "  </tbody>\n",
       "</table>\n",
       "</div>"
      ],
      "text/plain": [
       "   0  1  2\n",
       "0  0  0  0\n",
       "1  0  0  0\n",
       "2  0  0  0\n",
       "3  1  0  2\n",
       "4  0  0  0\n",
       "5  2  0  4\n",
       "6  0  0  0\n",
       "7  3  0  6"
      ]
     },
     "execution_count": 56,
     "metadata": {},
     "output_type": "execute_result"
    }
   ],
   "source": [
    "# After reshaping we can convert it into a df\n",
    "pd.DataFrame(a3.reshape(8,3))"
   ]
  },
  {
   "cell_type": "code",
   "execution_count": 58,
   "id": "bd270e1a",
   "metadata": {},
   "outputs": [
    {
     "data": {
      "text/plain": [
       "array([[[[[[0]],\n",
       "\n",
       "          [[0]],\n",
       "\n",
       "          [[0]]]],\n",
       "\n",
       "\n",
       "\n",
       "        [[[[0]],\n",
       "\n",
       "          [[0]],\n",
       "\n",
       "          [[0]]]]],\n",
       "\n",
       "\n",
       "\n",
       "\n",
       "       [[[[[0]],\n",
       "\n",
       "          [[0]],\n",
       "\n",
       "          [[0]]]],\n",
       "\n",
       "\n",
       "\n",
       "        [[[[1]],\n",
       "\n",
       "          [[0]],\n",
       "\n",
       "          [[2]]]]],\n",
       "\n",
       "\n",
       "\n",
       "\n",
       "       [[[[[0]],\n",
       "\n",
       "          [[0]],\n",
       "\n",
       "          [[0]]]],\n",
       "\n",
       "\n",
       "\n",
       "        [[[[2]],\n",
       "\n",
       "          [[0]],\n",
       "\n",
       "          [[4]]]]],\n",
       "\n",
       "\n",
       "\n",
       "\n",
       "       [[[[[0]],\n",
       "\n",
       "          [[0]],\n",
       "\n",
       "          [[0]]]],\n",
       "\n",
       "\n",
       "\n",
       "        [[[[3]],\n",
       "\n",
       "          [[0]],\n",
       "\n",
       "          [[6]]]]]])"
      ]
     },
     "execution_count": 58,
     "metadata": {},
     "output_type": "execute_result"
    }
   ],
   "source": [
    "# Simmilarly \n",
    "# reshaping can not only decrease the dimention\n",
    "# It can also increase the dimention\n",
    "# Provided the shape is still in the \n",
    "# Factors of the size of teh array\n",
    "\n",
    "a3.reshape(4,2,1,3,1,1)\n",
    "\n",
    "# Converted it into a 6D array"
   ]
  },
  {
   "cell_type": "code",
   "execution_count": 59,
   "id": "6d482bb1",
   "metadata": {},
   "outputs": [
    {
     "data": {
      "text/plain": [
       "6"
      ]
     },
     "execution_count": 59,
     "metadata": {},
     "output_type": "execute_result"
    }
   ],
   "source": [
    "a3.reshape(4,2,1,3,1,1).ndim"
   ]
  },
  {
   "cell_type": "code",
   "execution_count": 60,
   "id": "ad38c707",
   "metadata": {},
   "outputs": [
    {
     "data": {
      "text/plain": [
       "array([[0, 0, 0, 0, 0, 0],\n",
       "       [0, 0, 0, 1, 0, 2],\n",
       "       [0, 0, 0, 2, 0, 4],\n",
       "       [0, 0, 0, 3, 0, 6]])"
      ]
     },
     "execution_count": 60,
     "metadata": {},
     "output_type": "execute_result"
    }
   ],
   "source": [
    "# Now consde the example below\n",
    "\n",
    "a3.reshape(4,-1)\n",
    "\n",
    "# Here '-1' will represent default\n",
    "# which is rest of the factor of 24\n",
    "# and it will try to add that number in the shape\n",
    "# in the above example it added 6\n",
    "# so the array is now in shape of (4,6)"
   ]
  },
  {
   "cell_type": "code",
   "execution_count": 61,
   "id": "ef8544c7",
   "metadata": {},
   "outputs": [
    {
     "data": {
      "text/plain": [
       "array([[[0, 0, 0, 0],\n",
       "        [0, 0, 0, 0]],\n",
       "\n",
       "       [[0, 1, 0, 2],\n",
       "        [0, 0, 0, 2]],\n",
       "\n",
       "       [[0, 4, 0, 0],\n",
       "        [0, 3, 0, 6]]])"
      ]
     },
     "execution_count": 61,
     "metadata": {},
     "output_type": "execute_result"
    }
   ],
   "source": [
    "# We can also do it like this\n",
    "\n",
    "a3.reshape(3,2,-1)"
   ]
  },
  {
   "cell_type": "code",
   "execution_count": 62,
   "id": "b2804ebe",
   "metadata": {},
   "outputs": [
    {
     "data": {
      "text/plain": [
       "array([[[0, 0, 0, 0],\n",
       "        [0, 0, 0, 0]],\n",
       "\n",
       "       [[0, 1, 0, 2],\n",
       "        [0, 0, 0, 2]],\n",
       "\n",
       "       [[0, 4, 0, 0],\n",
       "        [0, 3, 0, 6]]])"
      ]
     },
     "execution_count": 62,
     "metadata": {},
     "output_type": "execute_result"
    }
   ],
   "source": [
    "a3.reshape(3,2,-2365234)\n",
    "\n",
    "# It works with anu '-' number\n",
    "# Not necessarly only -1"
   ]
  },
  {
   "cell_type": "code",
   "execution_count": null,
   "id": "30542feb",
   "metadata": {},
   "outputs": [],
   "source": []
  },
  {
   "cell_type": "code",
   "execution_count": null,
   "id": "981aca2f",
   "metadata": {},
   "outputs": [],
   "source": []
  },
  {
   "cell_type": "markdown",
   "id": "f52819ff",
   "metadata": {},
   "source": [
    "Range Function in numpy"
   ]
  },
  {
   "cell_type": "code",
   "execution_count": 64,
   "id": "8aeb1194",
   "metadata": {},
   "outputs": [
    {
     "data": {
      "text/plain": [
       "[4, 6, 8]"
      ]
     },
     "execution_count": 64,
     "metadata": {},
     "output_type": "execute_result"
    }
   ],
   "source": [
    "# Traditionally we have a range function\n",
    "# Which gibes a data set\n",
    "\n",
    "list(range(4,10,2))\n",
    "\n",
    "# So here we have set the 2 as the jump value"
   ]
  },
  {
   "cell_type": "code",
   "execution_count": 65,
   "id": "f8d2e33b",
   "metadata": {},
   "outputs": [
    {
     "ename": "TypeError",
     "evalue": "'float' object cannot be interpreted as an integer",
     "output_type": "error",
     "traceback": [
      "\u001b[1;31m---------------------------------------------------------------------------\u001b[0m",
      "\u001b[1;31mTypeError\u001b[0m                                 Traceback (most recent call last)",
      "Cell \u001b[1;32mIn[65], line 6\u001b[0m\n\u001b[0;32m      1\u001b[0m \u001b[38;5;66;03m# But from the above we can't keep the \u001b[39;00m\n\u001b[0;32m      2\u001b[0m \u001b[38;5;66;03m# jump value as 0.2 \u001b[39;00m\n\u001b[0;32m      3\u001b[0m \u001b[38;5;66;03m# because this range function will only take \u001b[39;00m\n\u001b[0;32m      4\u001b[0m \u001b[38;5;66;03m# integer as the jump values.\u001b[39;00m\n\u001b[1;32m----> 6\u001b[0m \u001b[38;5;28mlist\u001b[39m(\u001b[38;5;28;43mrange\u001b[39;49m\u001b[43m(\u001b[49m\u001b[38;5;241;43m4\u001b[39;49m\u001b[43m,\u001b[49m\u001b[38;5;241;43m10\u001b[39;49m\u001b[43m,\u001b[49m\u001b[38;5;241;43m0.2\u001b[39;49m\u001b[43m)\u001b[49m)\n",
      "\u001b[1;31mTypeError\u001b[0m: 'float' object cannot be interpreted as an integer"
     ]
    }
   ],
   "source": [
    "# But from the above we can't keep the \n",
    "# jump value as 0.2 \n",
    "# because this range function will only take \n",
    "# integer as the jump values.\n",
    "\n",
    "list(range(4,10,0.2))\n",
    "\n",
    "# This is why the error"
   ]
  },
  {
   "cell_type": "code",
   "execution_count": 66,
   "id": "90a51e99",
   "metadata": {},
   "outputs": [
    {
     "data": {
      "text/plain": [
       "array([4. , 4.2, 4.4, 4.6, 4.8, 5. , 5.2, 5.4, 5.6, 5.8, 6. , 6.2, 6.4,\n",
       "       6.6, 6.8, 7. , 7.2, 7.4, 7.6, 7.8, 8. , 8.2, 8.4, 8.6, 8.8, 9. ,\n",
       "       9.2, 9.4, 9.6, 9.8])"
      ]
     },
     "execution_count": 66,
     "metadata": {},
     "output_type": "execute_result"
    }
   ],
   "source": [
    "# In numpy \n",
    "# We have 'arange' function \n",
    "\n",
    "np.arange(4,10,0.2)\n",
    "\n",
    "# Here we are able to give the floting\n",
    "# value as the jump value"
   ]
  },
  {
   "cell_type": "code",
   "execution_count": 68,
   "id": "541762cb",
   "metadata": {},
   "outputs": [
    {
     "data": {
      "text/plain": [
       "array([ 4. ,  4.2,  4.4,  4.6,  4.8,  5. ,  5.2,  5.4,  5.6,  5.8,  6. ,\n",
       "        6.2,  6.4,  6.6,  6.8,  7. ,  7.2,  7.4,  7.6,  7.8,  8. ,  8.2,\n",
       "        8.4,  8.6,  8.8,  9. ,  9.2,  9.4,  9.6,  9.8, 10. , 10.2, 10.4])"
      ]
     },
     "execution_count": 68,
     "metadata": {},
     "output_type": "execute_result"
    }
   ],
   "source": [
    "# It also works like this\n",
    "\n",
    "np.arange(4,10.5,0.2)\n",
    "\n",
    "# In the 'arange' function \n",
    "# we can pass flot values as well"
   ]
  },
  {
   "cell_type": "code",
   "execution_count": null,
   "id": "8568705e",
   "metadata": {},
   "outputs": [],
   "source": []
  },
  {
   "cell_type": "code",
   "execution_count": null,
   "id": "8982d564",
   "metadata": {},
   "outputs": [],
   "source": []
  },
  {
   "cell_type": "markdown",
   "id": "7215949f",
   "metadata": {},
   "source": [
    "Data manupulation using numpy"
   ]
  },
  {
   "cell_type": "code",
   "execution_count": 70,
   "id": "b91a3c5b",
   "metadata": {},
   "outputs": [
    {
     "data": {
      "text/plain": [
       "array([4.2, 4.4, 4.6])"
      ]
     },
     "execution_count": 70,
     "metadata": {},
     "output_type": "execute_result"
    }
   ],
   "source": [
    "# Here as we have seen the slicing works \n",
    "# same as normal list slicing operations\n",
    "\n",
    "a5 = np.arange(4,10.5,0.2)\n",
    "\n",
    "a5[1:4]"
   ]
  },
  {
   "cell_type": "code",
   "execution_count": 72,
   "id": "bc9676f3",
   "metadata": {},
   "outputs": [
    {
     "data": {
      "text/plain": [
       "array([[0.65990096, 0.91398494, 0.53357758, 0.96295561, 0.13420941],\n",
       "       [0.52167701, 0.95400941, 0.751928  , 0.52738593, 0.51897101],\n",
       "       [0.86108214, 0.34441831, 0.26518617, 0.00974838, 0.60578455],\n",
       "       [0.22391485, 0.50928918, 0.15394794, 0.920348  , 0.02766666]])"
      ]
     },
     "execution_count": 72,
     "metadata": {},
     "output_type": "execute_result"
    }
   ],
   "source": [
    "arr = np.random.rand(4,5)\n",
    "arr"
   ]
  },
  {
   "cell_type": "code",
   "execution_count": 75,
   "id": "b40650fd",
   "metadata": {},
   "outputs": [
    {
     "data": {
      "text/plain": [
       "array([0.65990096, 0.91398494, 0.53357758, 0.96295561, 0.52167701,\n",
       "       0.95400941, 0.751928  , 0.52738593, 0.51897101, 0.86108214,\n",
       "       0.60578455, 0.50928918, 0.920348  ])"
      ]
     },
     "execution_count": 75,
     "metadata": {},
     "output_type": "execute_result"
    }
   ],
   "source": [
    "# Requirement:\n",
    "# to get all the values which are greater then 0.5\n",
    "\n",
    "arr[arr > 0.5]\n",
    "\n",
    "# Simillar to pandas slicing and Data manupulation"
   ]
  },
  {
   "cell_type": "code",
   "execution_count": 76,
   "id": "4972604f",
   "metadata": {},
   "outputs": [
    {
     "data": {
      "text/plain": [
       "array([0.751928  , 0.26518617])"
      ]
     },
     "execution_count": 76,
     "metadata": {},
     "output_type": "execute_result"
    }
   ],
   "source": [
    "# Simillarly to Iloc and loc function\n",
    "# We can extract the value. \n",
    "\n",
    "arr[[1,2],[2]]\n",
    "\n",
    "# Same [1,2] are the rows indexes \n",
    "# and [2] is the column index"
   ]
  },
  {
   "cell_type": "code",
   "execution_count": 77,
   "id": "bcee827c",
   "metadata": {},
   "outputs": [],
   "source": [
    "# TO use 'iloc' and 'loc' \n",
    "# we hae to convert it into a df"
   ]
  },
  {
   "cell_type": "code",
   "execution_count": 79,
   "id": "cc7404b4",
   "metadata": {},
   "outputs": [
    {
     "data": {
      "text/plain": [
       "array([[0.13655601, 0.49088335, 0.01055404, 0.62553327, 0.68778408],\n",
       "       [0.67483288, 0.42133251, 0.12223886, 0.14402038, 0.22633544],\n",
       "       [0.9740371 , 0.37632416, 0.15540196, 0.02788841, 0.41842265],\n",
       "       [0.20627645, 0.07312893, 0.72797774, 0.81483298, 0.6641901 ],\n",
       "       [0.90591137, 0.29128499, 0.95422658, 0.7163712 , 0.86248215],\n",
       "       [0.46812456, 0.76356711, 0.4026388 , 0.59783839, 0.65808809],\n",
       "       [0.49417301, 0.38351915, 0.00180407, 0.20338189, 0.9707932 ],\n",
       "       [0.21266294, 0.87637106, 0.5117774 , 0.29377184, 0.18935126]])"
      ]
     },
     "execution_count": 79,
     "metadata": {},
     "output_type": "execute_result"
    }
   ],
   "source": [
    "arr1 = np.random.rand(8,5)\n",
    "arr1"
   ]
  },
  {
   "cell_type": "code",
   "execution_count": 88,
   "id": "4ce02eb5",
   "metadata": {},
   "outputs": [
    {
     "data": {
      "text/plain": [
       "array([[0.67483288, 0.42133251, 0.12223886],\n",
       "       [0.9740371 , 0.37632416, 0.15540196],\n",
       "       [0.20627645, 0.07312893, 0.72797774],\n",
       "       [0.90591137, 0.29128499, 0.95422658],\n",
       "       [0.46812456, 0.76356711, 0.4026388 ],\n",
       "       [0.49417301, 0.38351915, 0.00180407],\n",
       "       [0.21266294, 0.87637106, 0.5117774 ]])"
      ]
     },
     "execution_count": 88,
     "metadata": {},
     "output_type": "execute_result"
    }
   ],
   "source": [
    "# Requirement:\n",
    "# to get data from row 2nd to last\n",
    "# and column 1st to 3rd\n",
    "\n",
    "arr2 = arr1[1:8, 0:3]\n",
    "arr2\n",
    "# Exactly same as \n",
    "# arr1[[1,2,3,4,5,6,7], [0,1,2]]\n",
    "\n",
    "# Here you dn't have to incase the indexs into []\n",
    "# because you are mentioning a range\n",
    "# In case you are mentioning certain index values only\n",
    "# then you have to pass it as a list\n",
    "\n",
    "# NOTE: \n",
    "# Make sure to remenber that the last one will ne n+1"
   ]
  },
  {
   "cell_type": "code",
   "execution_count": 90,
   "id": "11cdbe12",
   "metadata": {},
   "outputs": [
    {
     "data": {
      "text/plain": [
       "array([[1.00000000e+01, 4.21332506e-01, 1.22238861e-01],\n",
       "       [9.74037096e-01, 3.76324164e-01, 1.55401963e-01],\n",
       "       [2.06276446e-01, 7.31289339e-02, 7.27977743e-01],\n",
       "       [9.05911373e-01, 2.91284988e-01, 9.54226580e-01],\n",
       "       [4.68124557e-01, 7.63567107e-01, 4.02638800e-01],\n",
       "       [4.94173007e-01, 3.83519152e-01, 1.80406893e-03],\n",
       "       [2.12662938e-01, 8.76371065e-01, 5.11777402e-01]])"
      ]
     },
     "execution_count": 90,
     "metadata": {},
     "output_type": "execute_result"
    }
   ],
   "source": [
    "# If you want to change sertain value in that data\n",
    "# Same as list manupulatiom\n",
    "\n",
    "arr2[0][0]= 10\n",
    "arr2"
   ]
  },
  {
   "cell_type": "code",
   "execution_count": 97,
   "id": "30ce10b6",
   "metadata": {},
   "outputs": [],
   "source": [
    "# We can also perform element vise multiplication \n",
    "# with array multiplications\n",
    "\n",
    "m1 = np.array([[1,2], [3,4]])\n",
    "m2 = np.array([[2,3], [4,5]])"
   ]
  },
  {
   "cell_type": "code",
   "execution_count": 98,
   "id": "dab92045",
   "metadata": {},
   "outputs": [
    {
     "data": {
      "text/plain": [
       "array([[1, 2],\n",
       "       [3, 4]])"
      ]
     },
     "execution_count": 98,
     "metadata": {},
     "output_type": "execute_result"
    }
   ],
   "source": [
    "m1"
   ]
  },
  {
   "cell_type": "code",
   "execution_count": 99,
   "id": "2fb5e2ff",
   "metadata": {},
   "outputs": [
    {
     "data": {
      "text/plain": [
       "array([[2, 3],\n",
       "       [4, 5]])"
      ]
     },
     "execution_count": 99,
     "metadata": {},
     "output_type": "execute_result"
    }
   ],
   "source": [
    "m2"
   ]
  },
  {
   "cell_type": "code",
   "execution_count": 100,
   "id": "d47295fa",
   "metadata": {},
   "outputs": [
    {
     "data": {
      "text/plain": [
       "array([[ 2,  6],\n",
       "       [12, 20]])"
      ]
     },
     "execution_count": 100,
     "metadata": {},
     "output_type": "execute_result"
    }
   ],
   "source": [
    "# each element is multiplied with \n",
    "# the corresponding index element \n",
    "# form the other array\n",
    "\n",
    "m1*m2"
   ]
  },
  {
   "cell_type": "code",
   "execution_count": 101,
   "id": "228ab15f",
   "metadata": {},
   "outputs": [
    {
     "data": {
      "text/plain": [
       "array([[10, 13],\n",
       "       [22, 29]])"
      ]
     },
     "execution_count": 101,
     "metadata": {},
     "output_type": "execute_result"
    }
   ],
   "source": [
    "# In numpy we can perform mar multiplication\n",
    "# By using \"@\" symbol instred of \"*\"\n",
    "\n",
    "m1@m2"
   ]
  },
  {
   "cell_type": "code",
   "execution_count": 104,
   "id": "a83042ee",
   "metadata": {},
   "outputs": [
    {
     "data": {
      "text/plain": [
       "matrix([[10, 13],\n",
       "        [22, 29]])"
      ]
     },
     "execution_count": 104,
     "metadata": {},
     "output_type": "execute_result"
    }
   ],
   "source": [
    "# And Matrix multiplication \n",
    "# We can convert the array into matrixes\n",
    "\n",
    "m1 = np.matrix(m1)\n",
    "m2 = np.matrix(m2)\n",
    "m = m1*m2\n",
    "m\n",
    "\n",
    "# NOTE:\n",
    "\n",
    "# Same rules apply here as well \n",
    "# What we have studied in schools\n",
    "# That (column of mat1) = (row of mat2)"
   ]
  },
  {
   "cell_type": "code",
   "execution_count": 105,
   "id": "1879727f",
   "metadata": {},
   "outputs": [
    {
     "name": "stderr",
     "output_type": "stream",
     "text": [
      "C:\\Users\\win\\AppData\\Local\\Temp\\ipykernel_20648\\3791875896.py:1: RuntimeWarning: divide by zero encountered in divide\n",
      "  m/0\n"
     ]
    },
    {
     "data": {
      "text/plain": [
       "matrix([[inf, inf],\n",
       "        [inf, inf]])"
      ]
     },
     "execution_count": 105,
     "metadata": {},
     "output_type": "execute_result"
    }
   ],
   "source": [
    "m/0\n",
    "\n",
    "# Ideally this should give\n",
    "# DivisibleByZero Error\n",
    "# But in numpy the error does not come\n",
    "# It gives 'infinity'\n",
    "\n",
    "# \"inf\" is a keyword in numpy only nott in core Python"
   ]
  },
  {
   "cell_type": "code",
   "execution_count": null,
   "id": "9d085747",
   "metadata": {},
   "outputs": [],
   "source": []
  },
  {
   "cell_type": "code",
   "execution_count": null,
   "id": "27a6be51",
   "metadata": {},
   "outputs": [],
   "source": []
  },
  {
   "cell_type": "markdown",
   "id": "e8c7f68b",
   "metadata": {},
   "source": [
    "Zeros and Ones Function"
   ]
  },
  {
   "cell_type": "code",
   "execution_count": 1,
   "id": "cdc42510",
   "metadata": {},
   "outputs": [],
   "source": [
    "import numpy as np"
   ]
  },
  {
   "cell_type": "code",
   "execution_count": 2,
   "id": "eb2ef1c1",
   "metadata": {},
   "outputs": [],
   "source": [
    "l = [1,2,3,4,54]"
   ]
  },
  {
   "cell_type": "code",
   "execution_count": 3,
   "id": "df9c9343",
   "metadata": {},
   "outputs": [
    {
     "data": {
      "text/plain": [
       "array([ 1,  2,  3,  4, 54])"
      ]
     },
     "execution_count": 3,
     "metadata": {},
     "output_type": "execute_result"
    }
   ],
   "source": [
    "np.asarray(l)"
   ]
  },
  {
   "cell_type": "code",
   "execution_count": 4,
   "id": "1b41bbd9",
   "metadata": {},
   "outputs": [
    {
     "data": {
      "text/plain": [
       "array([0., 0., 0., 0., 0.])"
      ]
     },
     "execution_count": 4,
     "metadata": {},
     "output_type": "execute_result"
    }
   ],
   "source": [
    "np.zeros(5)\n",
    "\n",
    "# This will create a 1D array\n",
    "# which will have 5 zero elemnts"
   ]
  },
  {
   "cell_type": "code",
   "execution_count": 5,
   "id": "7f39ae02",
   "metadata": {},
   "outputs": [
    {
     "data": {
      "text/plain": [
       "array([[0., 0., 0., 0.],\n",
       "       [0., 0., 0., 0.],\n",
       "       [0., 0., 0., 0.]])"
      ]
     },
     "execution_count": 5,
     "metadata": {},
     "output_type": "execute_result"
    }
   ],
   "source": [
    "np.zeros((3,4))\n",
    "\n",
    "# This will create a 2D array \n",
    "# Of 3x4 row and columns"
   ]
  },
  {
   "cell_type": "code",
   "execution_count": 6,
   "id": "893847e0",
   "metadata": {},
   "outputs": [
    {
     "data": {
      "text/plain": [
       "array([[[0., 0., 0., 0., 0.],\n",
       "        [0., 0., 0., 0., 0.],\n",
       "        [0., 0., 0., 0., 0.],\n",
       "        [0., 0., 0., 0., 0.]],\n",
       "\n",
       "       [[0., 0., 0., 0., 0.],\n",
       "        [0., 0., 0., 0., 0.],\n",
       "        [0., 0., 0., 0., 0.],\n",
       "        [0., 0., 0., 0., 0.]],\n",
       "\n",
       "       [[0., 0., 0., 0., 0.],\n",
       "        [0., 0., 0., 0., 0.],\n",
       "        [0., 0., 0., 0., 0.],\n",
       "        [0., 0., 0., 0., 0.]]])"
      ]
     },
     "execution_count": 6,
     "metadata": {},
     "output_type": "execute_result"
    }
   ],
   "source": [
    "np.zeros((3,4,5))\n",
    "\n",
    "# This will creat a 3D array\n",
    "# with 3 2D arrays of 4x5 rows and columns\n",
    "\n",
    "# As we keep increasing the elements\n",
    "# inside the () the dimention  \n",
    "# will increase accordingly"
   ]
  },
  {
   "cell_type": "code",
   "execution_count": 7,
   "id": "d84ed78d",
   "metadata": {},
   "outputs": [
    {
     "data": {
      "text/plain": [
       "array([1., 1., 1., 1., 1., 1.])"
      ]
     },
     "execution_count": 7,
     "metadata": {},
     "output_type": "execute_result"
    }
   ],
   "source": [
    "# Simillarly we have ones() function\n",
    "\n",
    "np.ones(6)"
   ]
  },
  {
   "cell_type": "code",
   "execution_count": 8,
   "id": "1490f871",
   "metadata": {},
   "outputs": [
    {
     "data": {
      "text/plain": [
       "array([[[1., 1., 1., 1.],\n",
       "        [1., 1., 1., 1.],\n",
       "        [1., 1., 1., 1.],\n",
       "        [1., 1., 1., 1.],\n",
       "        [1., 1., 1., 1.],\n",
       "        [1., 1., 1., 1.]],\n",
       "\n",
       "       [[1., 1., 1., 1.],\n",
       "        [1., 1., 1., 1.],\n",
       "        [1., 1., 1., 1.],\n",
       "        [1., 1., 1., 1.],\n",
       "        [1., 1., 1., 1.],\n",
       "        [1., 1., 1., 1.]],\n",
       "\n",
       "       [[1., 1., 1., 1.],\n",
       "        [1., 1., 1., 1.],\n",
       "        [1., 1., 1., 1.],\n",
       "        [1., 1., 1., 1.],\n",
       "        [1., 1., 1., 1.],\n",
       "        [1., 1., 1., 1.]]])"
      ]
     },
     "execution_count": 8,
     "metadata": {},
     "output_type": "execute_result"
    }
   ],
   "source": [
    "np.ones((3,6,4))\n",
    "\n",
    "# Works exactly like the zeros() function \n",
    "# instred of zeros it will have \n",
    "# all elements has 1"
   ]
  },
  {
   "cell_type": "code",
   "execution_count": 9,
   "id": "c1f25107",
   "metadata": {},
   "outputs": [
    {
     "data": {
      "text/plain": [
       "array([[5., 5., 5., 5.],\n",
       "       [5., 5., 5., 5.],\n",
       "       [5., 5., 5., 5.]])"
      ]
     },
     "execution_count": 9,
     "metadata": {},
     "output_type": "execute_result"
    }
   ],
   "source": [
    "# Now to convert these zeros and ones array\n",
    "# Into another number array\n",
    "\n",
    "5 + np.zeros((3,4))"
   ]
  },
  {
   "cell_type": "code",
   "execution_count": null,
   "id": "77f7a41f",
   "metadata": {},
   "outputs": [],
   "source": []
  }
 ],
 "metadata": {
  "kernelspec": {
   "display_name": "Python 3 (ipykernel)",
   "language": "python",
   "name": "python3"
  },
  "language_info": {
   "codemirror_mode": {
    "name": "ipython",
    "version": 3
   },
   "file_extension": ".py",
   "mimetype": "text/x-python",
   "name": "python",
   "nbconvert_exporter": "python",
   "pygments_lexer": "ipython3",
   "version": "3.11.4"
  }
 },
 "nbformat": 4,
 "nbformat_minor": 5
}
